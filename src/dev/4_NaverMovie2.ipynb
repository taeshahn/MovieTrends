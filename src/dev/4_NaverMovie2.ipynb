{
 "cells": [
  {
   "cell_type": "markdown",
   "metadata": {},
   "source": [
    "# 네이버 영화 크롤링 2"
   ]
  },
  {
   "cell_type": "code",
   "execution_count": 2,
   "metadata": {},
   "outputs": [],
   "source": [
    "import requests\n",
    "from bs4 import BeautifulSoup"
   ]
  },
  {
   "cell_type": "code",
   "execution_count": 3,
   "metadata": {},
   "outputs": [
    {
     "name": "stdout",
     "output_type": "stream",
     "text": [
      "생각보다 존잼임, 집에 와서 따라하다가 엄마한테 쳐맞음 cher****2020.04.01 18:13신고\n",
      "관람객갓 엽문.. 견자단형님 존경합니다 엽문의 파이널 마지막시리즈를 영화관에서 배웅합니다 꼭보세요 상영관이 많지 않은게 아쉽네요 산(kiho****)2020.04.02 19:54신고\n",
      "박평식은 답이없다 걍 평론가는 개나소나하는듯 sake(insu****)2020.04.01 15:48신고\n",
      "영화가 이렇다 저렇다 말하고 싶지 않습니다. 단지 11년간 그의 여정을 지켜본 팬으로서 그의 액션을 마지막으로 한번 더 볼 수 있어서 마지막 여정을 함께할 수 있어 행복했습니다. 굿바이 나의 영웅. justdoit(gil0****)2020.04.02 00:36신고\n",
      "박평식 평론가 아침체조하듯 씩씩하게??말을참 x같이하네 체조라도 해보기도햇슈??저런체조도 수OO노력해야 가능한거야영화를 평론하는사람인지 조롱할라고글을적은건지..ㅉㅉ 부모인성이 보인다 나이값좀하고 글쓰세요 블랙야크(pjh8****)2020.04.03 00:38신고\n"
     ]
    }
   ],
   "source": [
    "req = requests.get(\"https://movie.naver.com/movie/bi/mi/pointWriteFormList.nhn?code=190568&type=after&isActualPointWriteExecute=false&isMileageSubscriptionAlready=false&isMileageSubscriptionReject=false&page=1\")\n",
    "html = req.text\n",
    "\n",
    "soup = BeautifulSoup(html, 'html.parser')\n",
    "\n",
    "for item, i in zip(soup.select(\".score_result .score_reple\"), range(1,6)):\n",
    "    result = item.text\n",
    "    result = result.replace('\\t','')\n",
    "    result = result.replace('\\r','')\n",
    "    result = result.replace('\\n','')\n",
    "    print(result)"
   ]
  }
 ],
 "metadata": {
  "kernelspec": {
   "display_name": "Python 3.7.3 (miniconda)",
   "language": "python",
   "name": "python3-mc"
  },
  "language_info": {
   "codemirror_mode": {
    "name": "ipython",
    "version": 3
   },
   "file_extension": ".py",
   "mimetype": "text/x-python",
   "name": "python",
   "nbconvert_exporter": "python",
   "pygments_lexer": "ipython3",
   "version": "3.7.6"
  }
 },
 "nbformat": 4,
 "nbformat_minor": 4
}

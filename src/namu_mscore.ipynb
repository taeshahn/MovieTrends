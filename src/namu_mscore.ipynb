{
  "nbformat": 4,
  "nbformat_minor": 0,
  "metadata": {
    "colab": {
      "name": "namu_mscore.ipynb",
      "provenance": [],
      "collapsed_sections": []
    },
    "kernelspec": {
      "name": "python3",
      "display_name": "Python 3"
    }
  },
  "cells": [
    {
      "cell_type": "markdown",
      "metadata": {
        "id": "kVdYqflEo_cd",
        "colab_type": "text"
      },
      "source": [
        "**일단 나무위키에서 남산의 부장들 페이지를 기준으로 크롤링 시작**\n",
        "\n",
        "[요기 클릭\n",
        "](https://namu.wiki/w/%EB%82%A8%EC%82%B0%EC%9D%98%20%EB%B6%80%EC%9E%A5%EB%93%A4)\n",
        "\n",
        "이중에 흥행에 해당하는 표만 발췌하여 리스트로 변환하는 크롤링"
      ]
    },
    {
      "cell_type": "markdown",
      "metadata": {
        "id": "MJXZhczIp1Kj",
        "colab_type": "text"
      },
      "source": [
        ""
      ]
    },
    {
      "cell_type": "code",
      "metadata": {
        "id": "6yhtWLVno-MR",
        "colab_type": "code",
        "colab": {}
      },
      "source": [
        "import requests\n",
        "from bs4 import BeautifulSoup\n",
        "import pandas as pd\n",
        "\n",
        "#URL 정상 여부 확인 func\n",
        "def get_html(url) :\n",
        "    html = \"\"\n",
        "    resp = requests.get(url)\n",
        "\n",
        "    if resp.status_code == 200 :\n",
        "        html = resp.text\n",
        "\n",
        "    return html\n",
        "\n",
        "# 우리가 찾고자하는 주소를 일단 hardcoding으로 넣어두고\n",
        "c = get_html('https://namu.wiki/w/%EB%82%A8%EC%82%B0%EC%9D%98%20%EB%B6%80%EC%9E%A5%EB%93%A4')\n",
        "soup = BeautifulSoup(c)\n",
        "\n",
        "#나무 위키 중 ID값이 흥행인 구역을 찾아 -> h2 tag 부모를 따라가고 -> 다음에 나올 div를 추적... 알아서 보세요;;\n",
        "score = soup.select_one('#흥행').find_parent('h2').find_next_sibling('div')\n",
        "\n",
        "s_table = score.find_all(\"table\")           # div tag에 종속된 모든 테이블들을 가져온다\n",
        "week_table = s_table[1]                     # 첫번째 테이블은 순위만 기록되어 있어 2번째 테이블이 우리가 원하는 흥행 정보\n",
        "\n",
        "\n",
        "trs = week_table.find_all('tr')             # tr에 해당하는 전체 추출\n",
        "\n",
        "data = []                                   # 데이터를 저장할 리스트 생성\n",
        "index = []                                  # 데이터가 뒤죽박죽이라 td 전용 리스트\n",
        "\n",
        "for idx, tr in enumerate(trs):              # tr 추출을 위한 loop\n",
        "        if idx > 0:\n",
        "            tds = list(tr.find_all('td'))           # td  전부 찾아서 넣어주고\n",
        "            for ix, td in enumerate(tds):           # td 추출을 위한 loop\n",
        "                text = tds[ix].get_text()           # 항목 하나씩 문자로 치환\n",
        "                index.append(tds[ix].get_text())    # 문자를 리스트 1개로 append 시키기\n",
        "            data.append(index)                      # 1개의 row 값 리스트를 데이터로 넣어주고\n",
        "            index = []                              # 1개의 row 값을 reset\n",
        "\n",
        "data\n"
      ],
      "execution_count": 0,
      "outputs": []
    }
  ]
}
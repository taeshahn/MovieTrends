{
 "cells": [
  {
   "cell_type": "code",
   "execution_count": 1,
   "metadata": {},
   "outputs": [
    {
     "name": "stdout",
     "output_type": "stream",
     "text": [
      "Collecting selenium\n",
      "  Downloading selenium-3.141.0-py2.py3-none-any.whl (904 kB)\n",
      "Requirement already satisfied: urllib3 in c:\\users\\administrator\\anaconda3\\lib\\site-packages (from selenium) (1.25.8)\n",
      "Installing collected packages: selenium\n",
      "Successfully installed selenium-3.141.0\n",
      "Note: you may need to restart the kernel to use updated packages.\n"
     ]
    }
   ],
   "source": [
    "pip install selenium"
   ]
  },
  {
   "cell_type": "code",
   "execution_count": 2,
   "metadata": {},
   "outputs": [
    {
     "name": "stdout",
     "output_type": "stream",
     "text": [
      "Collecting bs4\n",
      "  Downloading bs4-0.0.1.tar.gz (1.1 kB)\n",
      "Requirement already satisfied: beautifulsoup4 in c:\\users\\administrator\\anaconda3\\lib\\site-packages (from bs4) (4.8.2)\n",
      "Requirement already satisfied: soupsieve>=1.2 in c:\\users\\administrator\\anaconda3\\lib\\site-packages (from beautifulsoup4->bs4) (1.9.5)\n",
      "Building wheels for collected packages: bs4\n",
      "  Building wheel for bs4 (setup.py): started\n",
      "  Building wheel for bs4 (setup.py): finished with status 'done'\n",
      "  Created wheel for bs4: filename=bs4-0.0.1-py3-none-any.whl size=1279 sha256=33de25e7a9bee9ba2bce882b0062330c3f653447c1153f78c8ee65f72da2a20f\n",
      "  Stored in directory: c:\\users\\administrator\\appdata\\local\\pip\\cache\\wheels\\0a\\9e\\ba\\20e5bbc1afef3a491f0b3bb74d508f99403aabe76eda2167ca\n",
      "Successfully built bs4\n",
      "Installing collected packages: bs4\n",
      "Successfully installed bs4-0.0.1\n",
      "Note: you may need to restart the kernel to use updated packages.\n"
     ]
    }
   ],
   "source": [
    "pip install bs4"
   ]
  },
  {
   "cell_type": "code",
   "execution_count": 3,
   "metadata": {},
   "outputs": [
    {
     "name": "stdout",
     "output_type": "stream",
     "text": [
      "Collecting pyperclip\n",
      "  Downloading pyperclip-1.8.0.tar.gz (16 kB)\n",
      "Building wheels for collected packages: pyperclip\n",
      "  Building wheel for pyperclip (setup.py): started\n",
      "  Building wheel for pyperclip (setup.py): finished with status 'done'\n",
      "  Created wheel for pyperclip: filename=pyperclip-1.8.0-py3-none-any.whl size=8696 sha256=697482e0d9534230ab0dd7360cc60aa66abc3a974f68c5194e3098159a0cbe69\n",
      "  Stored in directory: c:\\users\\administrator\\appdata\\local\\pip\\cache\\wheels\\e5\\5e\\f7\\441179ddf6ac56f36cb1d84d94f35beedd5da15986ce3d321d\n",
      "Successfully built pyperclip\n",
      "Installing collected packages: pyperclip\n",
      "Successfully installed pyperclip-1.8.0\n",
      "Note: you may need to restart the kernel to use updated packages.\n"
     ]
    }
   ],
   "source": [
    "pip install pyperclip"
   ]
  },
  {
   "cell_type": "code",
   "execution_count": 4,
   "metadata": {},
   "outputs": [
    {
     "name": "stdout",
     "output_type": "stream",
     "text": [
      "Requirement already satisfied: requests in c:\\users\\administrator\\anaconda3\\lib\\site-packages (2.22.0)\n",
      "Requirement already satisfied: idna<2.9,>=2.5 in c:\\users\\administrator\\anaconda3\\lib\\site-packages (from requests) (2.8)\n",
      "Requirement already satisfied: urllib3!=1.25.0,!=1.25.1,<1.26,>=1.21.1 in c:\\users\\administrator\\anaconda3\\lib\\site-packages (from requests) (1.25.8)\n",
      "Requirement already satisfied: chardet<3.1.0,>=3.0.2 in c:\\users\\administrator\\anaconda3\\lib\\site-packages (from requests) (3.0.4)\n",
      "Requirement already satisfied: certifi>=2017.4.17 in c:\\users\\administrator\\anaconda3\\lib\\site-packages (from requests) (2019.11.28)\n",
      "Note: you may need to restart the kernel to use updated packages.\n"
     ]
    }
   ],
   "source": [
    "pip install requests"
   ]
  },
  {
   "cell_type": "code",
   "execution_count": 5,
   "metadata": {},
   "outputs": [],
   "source": [
    "import time\n",
    "import pandas as pd\n",
    "import os\n",
    "import pyperclip\n",
    "import requests"
   ]
  },
  {
   "cell_type": "code",
   "execution_count": 6,
   "metadata": {},
   "outputs": [],
   "source": [
    "from selenium import webdriver\n",
    "from selenium.webdriver.common.keys import Keys\n",
    "from bs4 import BeautifulSoup as bs"
   ]
  },
  {
   "cell_type": "code",
   "execution_count": 12,
   "metadata": {},
   "outputs": [
    {
     "data": {
      "text/plain": [
       "202713"
      ]
     },
     "execution_count": 12,
     "metadata": {},
     "output_type": "execute_result"
    }
   ],
   "source": [
    "driver=webdriver.Chrome('C:\\\\Users\\Administrator\\Documents\\Python\\chrome\\chromedriver.exe')\n",
    "driver.get(\"https://nid.naver.com/nidlogin.login?mode=form&url=https%3A%2F%2Fwww.naver.com\")\n",
    "\n",
    "# Login ID 입력\n",
    "login_id=driver.find_element_by_name(\"id\")\n",
    "login_id.clear()\n",
    "pyperclip.copy('kb976320')\n",
    "login_id.send_keys(Keys.CONTROL,'v')\n",
    "time.sleep(1)\n",
    "\n",
    "# Login pw 입력\n",
    "login_pw=driver.find_element_by_name(\"pw\")\n",
    "pyperclip.copy('Qwe73016035^^')\n",
    "login_pw.send_keys(Keys.CONTROL, 'v')\n",
    "time.sleep(1)\n",
    "\n",
    "# 로그인 버튼 클릭\n",
    "login_btn = driver.find_element_by_id('log.login')\n",
    "login_btn.click()\n",
    "time.sleep(6)\n",
    "\n",
    "# Naver 카페 이동\n",
    "driver.get(\"https://cafe.naver.com/movie02\")\n",
    "driver.implicitly_wait(5)\n",
    "\n",
    "#영화명 검색\n",
    "keyword = \"어벤져스 엔드게임\"\n",
    "driver.find_element_by_xpath('//*[@id=\"topLayerQueryInput\"]').send_keys(keyword)\n",
    "driver.find_element_by_xpath('//*[@id=\"cafe-search\"]/form/button').click()\n",
    "\n",
    "# 기간 적용\n",
    "#driver.find_element_by_xpath('//*[@id=\"currentSearchDate\"]').click\n",
    "#start_date = \"20190323\"\n",
    "#end_date = \"20190623\"\n",
    "#driver.find_element_by_xpath('//*[@id=\"input_1\"]').send_keys(start_date)\n",
    "#driver.find_element_by_xpath('//*[@id=\"input_2\"]').send_keys(end_date)\n",
    "#driver.find_element_by_xpath('//*[@id=\"btn_set\"]').click\n",
    "\n",
    "# iframe 전환\n",
    "driver.switch_to.frame(\"cafe_main\")\n",
    "time.sleep(10 )\n",
    "\n",
    "pageString=driver.page_source\n",
    "#soup = bs(html, 'html.parser')\n",
    "\n",
    "#reply_sort=soup.find_all('div', class_='fl reply_sort')\n",
    "\n",
    "# 파일 다운\n",
    "file=open(\"./nagongca.html\",\"w+\")\n",
    "file.write(pageString)\n",
    "#soup = bs(r, \"html.parser\")\n",
    "\n",
    "#title 추출 \n",
    "#title = soup.select(\"div.tit-box span.b\")\n",
    "#print(title[0].text)\n",
    "\n",
    "#para=soup.find_all(\"div\", class_=\"tbody m-tcol-c\")\n",
    "#print(para[0].text)\n",
    "\n",
    " \n",
    "\n"
   ]
  },
  {
   "cell_type": "code",
   "execution_count": null,
   "metadata": {},
   "outputs": [],
   "source": []
  },
  {
   "cell_type": "code",
   "execution_count": 11,
   "metadata": {},
   "outputs": [
    {
     "ename": "SyntaxError",
     "evalue": "unexpected EOF while parsing (<ipython-input-11-5df9de223431>, line 15)",
     "output_type": "error",
     "traceback": [
      "\u001b[1;36m  File \u001b[1;32m\"<ipython-input-11-5df9de223431>\"\u001b[1;36m, line \u001b[1;32m15\u001b[0m\n\u001b[1;33m    print(len(quest_urls))\u001b[0m\n\u001b[1;37m                          ^\u001b[0m\n\u001b[1;31mSyntaxError\u001b[0m\u001b[1;31m:\u001b[0m unexpected EOF while parsing\n"
     ]
    }
   ],
   "source": [
    "base_url = 'https://cafe.naver.com/ArticleSearchList.nhn?search.clubid=10000052'\n",
    "\n",
    "cnt = 0\n",
    "page = 0\n",
    "job_seq = 0\n",
    "start_dt = '2019-03-23'\n",
    "end_dt = '2019-06-23'\n",
    "\n",
    "while page < 15 :\n",
    " page = page + 1\n",
    " quest_urls = []\n",
    "try :\n",
    "    driver.get(base_url + '&search.searchdate'+ str(start_dt)+str(end_dt) +'&search.searchBy=1&search.query=') \n",
    "    driver.switch_to.frame('cafe_main') #iframe으로 프레임 전환 \n",
    "    quest_list = driver.find_elements_by_css_selector('div.inner_list > a.article') \n",
    "    quest_urls = [ i.get_attribute('href') for i in quest_list ] \n",
    "    print(len(quest_urls))\n",
    "    \n",
    "    for quest in quest_urls :\n"
   ]
  },
  {
   "cell_type": "code",
   "execution_count": null,
   "metadata": {},
   "outputs": [],
   "source": []
  },
  {
   "cell_type": "code",
   "execution_count": null,
   "metadata": {},
   "outputs": [],
   "source": []
  }
 ],
 "metadata": {
  "kernelspec": {
   "display_name": "Python 3",
   "language": "python",
   "name": "python3"
  },
  "language_info": {
   "codemirror_mode": {
    "name": "ipython",
    "version": 3
   },
   "file_extension": ".py",
   "mimetype": "text/x-python",
   "name": "python",
   "nbconvert_exporter": "python",
   "pygments_lexer": "ipython3",
   "version": "3.7.6"
  }
 },
 "nbformat": 4,
 "nbformat_minor": 4
}

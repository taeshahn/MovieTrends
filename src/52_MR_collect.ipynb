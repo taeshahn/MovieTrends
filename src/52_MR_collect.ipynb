{
 "cells": [
  {
   "cell_type": "markdown",
   "metadata": {},
   "source": [
    "# Naver Movie Review Crawling"
   ]
  },
  {
   "cell_type": "code",
   "execution_count": null,
   "metadata": {},
   "outputs": [],
   "source": [
    "%run 51_MR_define.ipynb"
   ]
  },
  {
   "cell_type": "code",
   "execution_count": null,
   "metadata": {},
   "outputs": [],
   "source": [
    "mv_std_info = pd.read_table(\"~/MovieTrends/data/mv_std_info.dat\", sep = \"|\", encoding = \"UTF-8\")\n",
    "mv_std_info.open_date = pd.Series([pd.Timestamp(datetime.strptime(i, '%Y%m%d')) for i in map(str, mv_std_info.open_date)])\n",
    "mv_std_info = mv_std_info[[\"mv_id\", \"title\", \"open_date\"]]\n",
    "mv_std_info = mv_std_info.set_index('mv_id')"
   ]
  },
  {
   "cell_type": "code",
   "execution_count": null,
   "metadata": {},
   "outputs": [],
   "source": [
    "%%time\n",
    "# 4 mins\n",
    "\n",
    "scores = pd.DataFrame()\n",
    "for mv in mv_std_info.title:\n",
    "#     print(list(mv_std_info.title).index(mv), \"|\", mv)\n",
    "    score = get_score(mv)\n",
    "    score_row = {'mv_id': mv_std_info[mv_std_info.title == mv].index[0],\n",
    "                 'title': mv,\n",
    "                 'watcher_score': score[0],\n",
    "                 'expert_score': score[1],\n",
    "                 'netizen_score': score[2]}\n",
    "    scores = scores.append(score_row, ignore_index = True)\n",
    "scores = scores[['mv_id', 'title', 'watcher_score', 'expert_score', 'netizen_score']]"
   ]
  },
  {
   "cell_type": "code",
   "execution_count": null,
   "metadata": {},
   "outputs": [],
   "source": [
    "scores"
   ]
  },
  {
   "cell_type": "code",
   "execution_count": null,
   "metadata": {},
   "outputs": [],
   "source": [
    "scores.to_csv('~/MovieTrends/output/ts_scores.dat', sep='|', index=False)"
   ]
  },
  {
   "cell_type": "code",
   "execution_count": null,
   "metadata": {},
   "outputs": [],
   "source": [
    "%%time\n",
    "# 3 mins\n",
    "\n",
    "reviews_cnt = pd.DataFrame()\n",
    "for movie_nm in mv_std_info.title:\n",
    "    review_url, num_pages = get_review_info(movie_nm)\n",
    "    cnt = {'mv_id': mv_std_info[mv_std_info.title == movie_nm].index[0],\n",
    "           'movie_nm': movie_nm,\n",
    "           'review_cnt': num_pages*10}\n",
    "    reviews_cnt = reviews_cnt.append(cnt, ignore_index = True)\n",
    "reviews_cnt = reviews_cnt.astype({'review_cnt': 'int'})[['mv_id', 'movie_nm', 'review_cnt']]"
   ]
  },
  {
   "cell_type": "code",
   "execution_count": null,
   "metadata": {},
   "outputs": [],
   "source": [
    "reviews_cnt.to_csv('~/MovieTrends/output/ts_reviews_cnt.dat', sep='|', index=False)"
   ]
  },
  {
   "cell_type": "code",
   "execution_count": null,
   "metadata": {},
   "outputs": [],
   "source": [
    "%%time\n",
    "# 9 Hours\n",
    "\n",
    "reviews_list = []\n",
    "for movie_nm in mv_std_info.title:\n",
    "    review_url, num_pages = get_review_info(movie_nm)\n",
    "    print(list(mv_std_info.title).index(movie_nm), \"|\", movie_nm, \"|\", num_pages, \"pages |\", review_url)\n",
    "    review = pd.DataFrame()\n",
    "    review_page_list = []\n",
    "    for i in range(1, num_pages+1): # 각 영화 모든 리뷰 수집\n",
    "#     for i in range(1, min(num_pages+1, 11)): # 각 영화 리뷰 최대 100개씩 수집\n",
    "#         print(i, \"/\", num_pages)\n",
    "        review_page = get_review_page(movie_nm, review_url + '&page=' + str(i))\n",
    "        review_page_list.append(review_page)\n",
    "    if len(review_page_list) != 0: reviews_list.append(pd.concat(review_page_list))\n",
    "reviews = pd.concat(reviews_list)\n",
    "reviews['mv_id'] = [mv_std_info[mv_std_info.title == mv].index[0] for mv in reviews.movie_nm]\n",
    "reviews = reviews[['mv_id', 'movie_nm', 'nickname', 'review', 'score', 'watch_movie', 'dislike', 'like', 'created_at']]"
   ]
  },
  {
   "cell_type": "code",
   "execution_count": null,
   "metadata": {},
   "outputs": [],
   "source": [
    "reviews1 = reviews[0:500000]\n",
    "reviews2 = reviews[500000:reviews.shape[0]]\n",
    "\n",
    "reviews1.to_csv(\"~/MovieTrends/output/ts_reviews1.dat\", sep='|', index=False)\n",
    "reviews2.to_csv(\"~/MovieTrends/output/ts_reviews2.dat\", sep='|', index=False)"
   ]
  },
  {
   "cell_type": "markdown",
   "metadata": {},
   "source": [
    "---"
   ]
  },
  {
   "cell_type": "code",
   "execution_count": null,
   "metadata": {},
   "outputs": [],
   "source": [
    "reviews1 = pd.read_table('~/MovieTrends/output/ts_reviews1.dat', sep='|')\n",
    "reviews2 = pd.read_table('~/MovieTrends/output/ts_reviews2.dat', sep='|')\n",
    "reviews = pd.concat([reviews1, reviews2])\n",
    "reviews_cmpl = reviews.dropna()"
   ]
  },
  {
   "cell_type": "code",
   "execution_count": null,
   "metadata": {},
   "outputs": [],
   "source": [
    "reviews_aggr_temp = reviews_cmpl.set_index('mv_id').join(mv_std_info['open_date']).reset_index()"
   ]
  },
  {
   "cell_type": "code",
   "execution_count": null,
   "metadata": {},
   "outputs": [],
   "source": [
    "created_at_sub = reviews_aggr_temp.created_at.str[0:10].str.replace('-', '')\n",
    "reviews_aggr_temp['created_date'] = pd.Series([pd.Timestamp(datetime.strptime(i, '%Y%m%d')) for i in created_at_sub])\n",
    "reviews_aggr_temp['D'] = [i.days for i in reviews_aggr_temp.created_date - reviews_aggr_temp.open_date]"
   ]
  },
  {
   "cell_type": "code",
   "execution_count": 21,
   "metadata": {},
   "outputs": [],
   "source": [
    "rng1, rng2, rng3 = [i for i in range(-30, 0)], [i for i in range(0, 30)], [i for i in range(30, 60)]\n",
    "rng = rng1 + rng2 + rng3\n",
    "\n",
    "reviews_aggr_temp['group_tf'] = pd.Series([_ in rng for _ in reviews_aggr_temp.D])\n",
    "reviews_aggr_temp['ogroup'] = pd.Series([1 if _ in rng1 else 2 if _ in rng2 else 3 if _ in rng3 else 0 for _ in reviews_aggr_temp.D])"
   ]
  },
  {
   "cell_type": "code",
   "execution_count": 22,
   "metadata": {},
   "outputs": [],
   "source": [
    "reviews_aggr_select = reviews_aggr_temp[reviews_aggr_temp.group_tf == True][[\"mv_id\", \"movie_nm\", \"ogroup\", \"like\", \"dislike\"]]\n",
    "reviews_aggr = reviews_aggr_select.groupby(['mv_id', 'movie_nm', 'ogroup']).agg({'like': ['mean', 'sum'],\n",
    "                                                                                 'dislike': ['mean', 'sum']})\n",
    "reviews_aggr.columns = ['like_mean', 'like_sum', 'dislike_mean', 'dislike_sum']\n",
    "reviews_aggr = reviews_aggr.reset_index()"
   ]
  },
  {
   "cell_type": "code",
   "execution_count": 65,
   "metadata": {},
   "outputs": [],
   "source": [
    "reviews_aggr_g2 = reviews_aggr[reviews_aggr.ogroup == 2][['mv_id', 'like_mean', 'like_sum', 'dislike_mean', 'dislike_sum']].set_index('mv_id')\n",
    "reviews_aggr_g3 = reviews_aggr[reviews_aggr.ogroup == 3][['mv_id', 'like_mean', 'like_sum', 'dislike_mean', 'dislike_sum']].set_index('mv_id')\n",
    "reviews_aggr_pv = mv_std_info[['title']].join(reviews_aggr_g2.join(reviews_aggr_g3, lsuffix = '_2', rsuffix = '_3')).reset_index()"
   ]
  },
  {
   "cell_type": "code",
   "execution_count": 86,
   "metadata": {},
   "outputs": [],
   "source": [
    "reviews_aggr_pv['like_sum_total'] = (reviews_aggr_pv.like_sum_2 + reviews_aggr_pv.like_sum_3).fillna(0).astype('int')\n",
    "reviews_aggr_pv['dislike_sum_total'] = (reviews_aggr_pv.dislike_sum_2 + reviews_aggr_pv.dislike_sum_3).fillna(0).astype('int')"
   ]
  },
  {
   "cell_type": "code",
   "execution_count": 87,
   "metadata": {},
   "outputs": [],
   "source": [
    "reviews_aggr.to_csv('~/MovieTrends/output/ts_reviews_aggr.dat', sep='|', index=False)\n",
    "reviews_aggr_pv.to_csv('~/MovieTrends/output/ts_reviews_aggr_pv.dat', sep='|', index=False)"
   ]
  }
 ],
 "metadata": {
  "kernelspec": {
   "display_name": "Python 3.7.3 (Global)",
   "language": "python",
   "name": "python3"
  },
  "language_info": {
   "codemirror_mode": {
    "name": "ipython",
    "version": 3
   },
   "file_extension": ".py",
   "mimetype": "text/x-python",
   "name": "python",
   "nbconvert_exporter": "python",
   "pygments_lexer": "ipython3",
   "version": "3.7.3"
  }
 },
 "nbformat": 4,
 "nbformat_minor": 4
}

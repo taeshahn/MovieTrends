{
 "cells": [
  {
   "cell_type": "code",
   "execution_count": 1,
   "metadata": {},
   "outputs": [],
   "source": [
    "import numpy as np\n",
    "import pandas as pd"
   ]
  },
  {
   "cell_type": "markdown",
   "metadata": {},
   "source": [
    "### 디렉토리 변경"
   ]
  },
  {
   "cell_type": "code",
   "execution_count": 15,
   "metadata": {},
   "outputs": [
    {
     "name": "stdout",
     "output_type": "stream",
     "text": [
      "/home/jupyter-lehup\n",
      "/home/jupyter-lehup\n"
     ]
    }
   ],
   "source": [
    "import os\n",
    "print(os.getcwd())\n",
    "os.chdir(\"/home/jupyter-lehup/\")\n",
    "print(os.getcwd())"
   ]
  },
  {
   "cell_type": "markdown",
   "metadata": {},
   "source": [
    "## 기준 정보 rawdata목록 불러오기 - eh_meta_basedata_200623_v0.1.csv"
   ]
  },
  {
   "cell_type": "code",
   "execution_count": 16,
   "metadata": {},
   "outputs": [
    {
     "name": "stdout",
     "output_type": "stream",
     "text": [
      "Index(['META_ID', 'META_TITLE', 'SUB_TITLE', 'ENGL_TITLE', 'OPEN_DY',\n",
      "       'DMST_SPCT_CNT', 'SRIS_NM', 'BTV_OPEN_DT', 'META_MANUF_CTRY_CD',\n",
      "       'META_MANUF_CTRY_NM', 'GNR_ID', 'META_GNR_NM', 'WAT_LVL_CD',\n",
      "       'WAT_LVL_NM', 'MANUFCO_NM', 'DSTBTCO_NM', 'SSTRY_CIN_YN', 'KIDS_YN'],\n",
      "      dtype='object')\n",
      "595\n",
      "        META_ID                 META_TITLE SUB_TITLE       ENGL_TITLE  \\\n",
      "0  MM1000234175                     0.0mhz       NaN           0.0MHz   \n",
      "1  MM1000334701                    1 더하기 3       NaN   Three Husbands   \n",
      "2  MM1000311677  100일동안 100가지로 100퍼센트 행복찾기       NaN       100 Things   \n",
      "3  MM1000337435                        10년       NaN  Ten Years Japan   \n",
      "4  MM1000191569                    12번째 솔저       NaN     The 12th Man   \n",
      "\n",
      "    OPEN_DY  DMST_SPCT_CNT                     SRIS_NM     BTV_OPEN_DT  \\\n",
      "0  20190529        59344.0                 0.0MHz[캐치온]  20190812090000   \n",
      "1  20191212            NaN                         1+3  20191212090000   \n",
      "2  20190912          707.0  100일 동안 100가지로 100퍼센트 행복찾기  20190930090000   \n",
      "3  20191212            NaN                         10년  20191224090000   \n",
      "4  20190411            NaN                     12번째 솔저  20190418090000   \n",
      "\n",
      "  META_MANUF_CTRY_CD META_MANUF_CTRY_NM                     GNR_ID  \\\n",
      "0                001               대한민국  MG0000000001|MG0000000004   \n",
      "1                006                 홍콩  MG0000000001|MG0000000011   \n",
      "2                013                 독일  MG0000000001|MG0000000010   \n",
      "3                003                 일본  MG0000000001|MG0000000014   \n",
      "4                053               노르웨이  MG0000000001|MG0000000009   \n",
      "\n",
      "  META_GNR_NM  WAT_LVL_CD WAT_LVL_NM             MANUFCO_NM DSTBTCO_NM  \\\n",
      "0  드라마|공포(호러)          15    15세 관람가  (주)제이엠컬쳐스 , (주)몬스터팩토리  (주)스마일이엔티   \n",
      "1  드라마|멜로/로맨스          19    19세 관람가                    NaN        NaN   \n",
      "2     드라마|코미디          15    15세 관람가                    NaN    영화사 진진    \n",
      "3      드라마|가족           0     전체 관람가                    NaN   (주)디오시네마   \n",
      "4      드라마|전쟁          12    12세 관람가                    NaN   (주)엣나인필름   \n",
      "\n",
      "  SSTRY_CIN_YN  KIDS_YN  \n",
      "0            N      NaN  \n",
      "1            N      NaN  \n",
      "2            N      NaN  \n",
      "3            N      NaN  \n",
      "4            N      NaN  \n"
     ]
    }
   ],
   "source": [
    "movie_list_basedata = pd.read_csv('raw/eh_meta_basedata_200623_v0.1.csv', encoding = 'UTF-8')\n",
    "print(movie_list_basedata.columns)\n",
    "print(movie_list_basedata.shape[0])\n",
    "print(movie_list_basedata.head())"
   ]
  },
  {
   "cell_type": "markdown",
   "metadata": {},
   "source": [
    "## 코드로 작성된 Vecotor 컬럼 삭제"
   ]
  },
  {
   "cell_type": "code",
   "execution_count": 17,
   "metadata": {},
   "outputs": [
    {
     "name": "stdout",
     "output_type": "stream",
     "text": [
      "Index(['META_ID', 'META_TITLE', 'SUB_TITLE', 'ENGL_TITLE', 'OPEN_DY',\n",
      "       'DMST_SPCT_CNT', 'SRIS_NM', 'BTV_OPEN_DT', 'META_MANUF_CTRY_NM',\n",
      "       'META_GNR_NM', 'WAT_LVL_NM', 'MANUFCO_NM', 'DSTBTCO_NM', 'SSTRY_CIN_YN',\n",
      "       'KIDS_YN'],\n",
      "      dtype='object')\n",
      "        META_ID                 META_TITLE SUB_TITLE       ENGL_TITLE  \\\n",
      "0  MM1000234175                     0.0mhz       NaN           0.0MHz   \n",
      "1  MM1000334701                    1 더하기 3       NaN   Three Husbands   \n",
      "2  MM1000311677  100일동안 100가지로 100퍼센트 행복찾기       NaN       100 Things   \n",
      "3  MM1000337435                        10년       NaN  Ten Years Japan   \n",
      "4  MM1000191569                    12번째 솔저       NaN     The 12th Man   \n",
      "\n",
      "    OPEN_DY  DMST_SPCT_CNT                     SRIS_NM     BTV_OPEN_DT  \\\n",
      "0  20190529        59344.0                 0.0MHz[캐치온]  20190812090000   \n",
      "1  20191212            NaN                         1+3  20191212090000   \n",
      "2  20190912          707.0  100일 동안 100가지로 100퍼센트 행복찾기  20190930090000   \n",
      "3  20191212            NaN                         10년  20191224090000   \n",
      "4  20190411            NaN                     12번째 솔저  20190418090000   \n",
      "\n",
      "  META_MANUF_CTRY_NM META_GNR_NM WAT_LVL_NM             MANUFCO_NM DSTBTCO_NM  \\\n",
      "0               대한민국  드라마|공포(호러)    15세 관람가  (주)제이엠컬쳐스 , (주)몬스터팩토리  (주)스마일이엔티   \n",
      "1                 홍콩  드라마|멜로/로맨스    19세 관람가                    NaN        NaN   \n",
      "2                 독일     드라마|코미디    15세 관람가                    NaN    영화사 진진    \n",
      "3                 일본      드라마|가족     전체 관람가                    NaN   (주)디오시네마   \n",
      "4               노르웨이      드라마|전쟁    12세 관람가                    NaN   (주)엣나인필름   \n",
      "\n",
      "  SSTRY_CIN_YN  KIDS_YN  \n",
      "0            N      NaN  \n",
      "1            N      NaN  \n",
      "2            N      NaN  \n",
      "3            N      NaN  \n",
      "4            N      NaN  \n"
     ]
    }
   ],
   "source": [
    "movie_list_basedata_v1 =  movie_list_basedata.drop(['META_MANUF_CTRY_CD', 'GNR_ID', 'WAT_LVL_CD'], axis= 1)\n",
    "print(movie_list_basedata_v1.columns)\n",
    "print(movie_list_basedata_v1.head())"
   ]
  },
  {
   "cell_type": "markdown",
   "metadata": {},
   "source": [
    "## 불필요한 컬럼 삭제"
   ]
  },
  {
   "cell_type": "code",
   "execution_count": 18,
   "metadata": {},
   "outputs": [
    {
     "name": "stdout",
     "output_type": "stream",
     "text": [
      "Index(['META_ID', 'META_TITLE', 'SUB_TITLE', 'ENGL_TITLE', 'OPEN_DY',\n",
      "       'DMST_SPCT_CNT', 'BTV_OPEN_DT', 'META_MANUF_CTRY_NM', 'META_GNR_NM',\n",
      "       'WAT_LVL_NM', 'MANUFCO_NM', 'DSTBTCO_NM', 'SSTRY_CIN_YN'],\n",
      "      dtype='object')\n"
     ]
    }
   ],
   "source": [
    "movie_list_basedata_v2 =  movie_list_basedata_v1.drop(['SRIS_NM', 'KIDS_YN'], axis= 1)\n",
    "print(movie_list_basedata_v2.columns)"
   ]
  },
  {
   "cell_type": "markdown",
   "metadata": {},
   "source": [
    "## 컬럼명 기준정보에 맞춰 변경"
   ]
  },
  {
   "cell_type": "code",
   "execution_count": 25,
   "metadata": {},
   "outputs": [
    {
     "name": "stdout",
     "output_type": "stream",
     "text": [
      "Index(['META_ID', 'META_TITLE', 'SUB_TITLE', 'ENGL_TITLE', 'CIN_OPEN_DT',\n",
      "       'DMST_SPCT_CNT', 'BTV_OPEN_DT', 'CTRY_CD', 'GNR_ID', 'WAT_LVL_CD',\n",
      "       'MANUFCO_NM', 'DSTBTCO_NM', 'SSTRY_CIN_YN'],\n",
      "      dtype='object')\n"
     ]
    }
   ],
   "source": [
    "movie_list_basedata_v2_1 = movie_list_basedata_v2\n",
    "\n",
    "movie_list_basedata_v2_1.rename(columns = {'OPEN_DY' : 'CIN_OPEN_DT', \n",
    "                                           'META_MANUF_CTRY_NM' : 'CTRY_CD', \n",
    "                                           'META_GNR_NM' : 'GNR_ID',\n",
    "                                           'WAT_LVL_NM' : 'WAT_LVL_CD'\n",
    "                                         }, inplace = True)\n",
    "\n",
    "print(movie_list_basedata_v2_1.columns)\n",
    "\n",
    "movie_list_basedata_v2 = movie_list_basedata_v2_1"
   ]
  },
  {
   "cell_type": "markdown",
   "metadata": {},
   "source": [
    "# '|' 구분자로 된 데이터 신규 컬럼으로 병렬 처리"
   ]
  },
  {
   "cell_type": "markdown",
   "metadata": {},
   "source": [
    "##  제작국가(META_MANUF_CTRY_NM) 병렬 처리"
   ]
  },
  {
   "cell_type": "code",
   "execution_count": 26,
   "metadata": {},
   "outputs": [],
   "source": [
    "i1 = 1\n",
    "for i1 in range(1,100):\n",
    "    movie_list_basedata_v2['CTRY_CD_' + str(i1)] = movie_list_basedata_v2.CTRY_CD.str.split(\"|\").str[i1-1]\n",
    "    if any(pd.notnull(movie_list_basedata_v2['CTRY_CD_' + str(i1)]) == True) == False :\n",
    "        movie_list_basedata_v2.drop(['CTRY_CD_' + str(i1)], axis= 1, inplace = True)\n",
    "        break\n",
    "    i1 = i1 + 1"
   ]
  },
  {
   "cell_type": "code",
   "execution_count": 27,
   "metadata": {},
   "outputs": [
    {
     "name": "stdout",
     "output_type": "stream",
     "text": [
      "Index(['META_ID', 'META_TITLE', 'SUB_TITLE', 'ENGL_TITLE', 'CIN_OPEN_DT',\n",
      "       'DMST_SPCT_CNT', 'BTV_OPEN_DT', 'CTRY_CD', 'GNR_ID', 'WAT_LVL_CD',\n",
      "       'MANUFCO_NM', 'DSTBTCO_NM', 'SSTRY_CIN_YN', 'CTRY_CD_1', 'CTRY_CD_2',\n",
      "       'CTRY_CD_3', 'CTRY_CD_4', 'CTRY_CD_5'],\n",
      "      dtype='object')\n",
      "        META_ID                 META_TITLE SUB_TITLE       ENGL_TITLE  \\\n",
      "0  MM1000234175                     0.0mhz       NaN           0.0MHz   \n",
      "1  MM1000334701                    1 더하기 3       NaN   Three Husbands   \n",
      "2  MM1000311677  100일동안 100가지로 100퍼센트 행복찾기       NaN       100 Things   \n",
      "3  MM1000337435                        10년       NaN  Ten Years Japan   \n",
      "4  MM1000191569                    12번째 솔저       NaN     The 12th Man   \n",
      "\n",
      "   CIN_OPEN_DT  DMST_SPCT_CNT     BTV_OPEN_DT CTRY_CD      GNR_ID WAT_LVL_CD  \\\n",
      "0     20190529        59344.0  20190812090000    대한민국  드라마|공포(호러)    15세 관람가   \n",
      "1     20191212            NaN  20191212090000      홍콩  드라마|멜로/로맨스    19세 관람가   \n",
      "2     20190912          707.0  20190930090000      독일     드라마|코미디    15세 관람가   \n",
      "3     20191212            NaN  20191224090000      일본      드라마|가족     전체 관람가   \n",
      "4     20190411            NaN  20190418090000    노르웨이      드라마|전쟁    12세 관람가   \n",
      "\n",
      "              MANUFCO_NM DSTBTCO_NM SSTRY_CIN_YN CTRY_CD_1 CTRY_CD_2  \\\n",
      "0  (주)제이엠컬쳐스 , (주)몬스터팩토리  (주)스마일이엔티            N      대한민국       NaN   \n",
      "1                    NaN        NaN            N        홍콩       NaN   \n",
      "2                    NaN    영화사 진진             N        독일       NaN   \n",
      "3                    NaN   (주)디오시네마            N        일본       NaN   \n",
      "4                    NaN   (주)엣나인필름            N      노르웨이       NaN   \n",
      "\n",
      "  CTRY_CD_3 CTRY_CD_4 CTRY_CD_5  \n",
      "0       NaN       NaN       NaN  \n",
      "1       NaN       NaN       NaN  \n",
      "2       NaN       NaN       NaN  \n",
      "3       NaN       NaN       NaN  \n",
      "4       NaN       NaN       NaN  \n"
     ]
    }
   ],
   "source": [
    "print(movie_list_basedata_v2.columns)\n",
    "print(movie_list_basedata_v2.head())"
   ]
  },
  {
   "cell_type": "markdown",
   "metadata": {},
   "source": [
    "## 제작국가(META_MANUF_CTRY_NM) 컬럼 삭제"
   ]
  },
  {
   "cell_type": "code",
   "execution_count": 28,
   "metadata": {},
   "outputs": [
    {
     "name": "stdout",
     "output_type": "stream",
     "text": [
      "Index(['META_ID', 'META_TITLE', 'SUB_TITLE', 'ENGL_TITLE', 'CIN_OPEN_DT',\n",
      "       'DMST_SPCT_CNT', 'BTV_OPEN_DT', 'GNR_ID', 'WAT_LVL_CD', 'MANUFCO_NM',\n",
      "       'DSTBTCO_NM', 'SSTRY_CIN_YN', 'CTRY_CD_1', 'CTRY_CD_2', 'CTRY_CD_3',\n",
      "       'CTRY_CD_4', 'CTRY_CD_5'],\n",
      "      dtype='object')\n"
     ]
    }
   ],
   "source": [
    "movie_list_basedata_v3 =  movie_list_basedata_v2.drop(['CTRY_CD'], axis= 1)\n",
    "print(movie_list_basedata_v3.columns)"
   ]
  },
  {
   "cell_type": "markdown",
   "metadata": {},
   "source": [
    "## 장르(META_GNR_NM) 병렬 처리"
   ]
  },
  {
   "cell_type": "code",
   "execution_count": 29,
   "metadata": {},
   "outputs": [],
   "source": [
    "i2 = 1\n",
    "for i2 in range(1,100):\n",
    "    movie_list_basedata_v3['GNR_ID_' + str(i2)] = movie_list_basedata_v3.GNR_ID.str.split(\"|\").str[i2-1]\n",
    "    if any(pd.notnull(movie_list_basedata_v3['GNR_ID_' + str(i2)]) == True) == False :\n",
    "        movie_list_basedata_v3.drop(['GNR_ID_' + str(i2)], axis= 1, inplace = True)\n",
    "        break\n",
    "    i2 = i2 + 1"
   ]
  },
  {
   "cell_type": "code",
   "execution_count": 30,
   "metadata": {},
   "outputs": [
    {
     "name": "stdout",
     "output_type": "stream",
     "text": [
      "Index(['META_ID', 'META_TITLE', 'SUB_TITLE', 'ENGL_TITLE', 'CIN_OPEN_DT',\n",
      "       'DMST_SPCT_CNT', 'BTV_OPEN_DT', 'GNR_ID', 'WAT_LVL_CD', 'MANUFCO_NM',\n",
      "       'DSTBTCO_NM', 'SSTRY_CIN_YN', 'CTRY_CD_1', 'CTRY_CD_2', 'CTRY_CD_3',\n",
      "       'CTRY_CD_4', 'CTRY_CD_5', 'GNR_ID_1', 'GNR_ID_2', 'GNR_ID_3',\n",
      "       'GNR_ID_4', 'GNR_ID_5', 'GNR_ID_6'],\n",
      "      dtype='object')\n",
      "        META_ID                 META_TITLE SUB_TITLE       ENGL_TITLE  \\\n",
      "0  MM1000234175                     0.0mhz       NaN           0.0MHz   \n",
      "1  MM1000334701                    1 더하기 3       NaN   Three Husbands   \n",
      "2  MM1000311677  100일동안 100가지로 100퍼센트 행복찾기       NaN       100 Things   \n",
      "3  MM1000337435                        10년       NaN  Ten Years Japan   \n",
      "4  MM1000191569                    12번째 솔저       NaN     The 12th Man   \n",
      "\n",
      "   CIN_OPEN_DT  DMST_SPCT_CNT     BTV_OPEN_DT      GNR_ID WAT_LVL_CD  \\\n",
      "0     20190529        59344.0  20190812090000  드라마|공포(호러)    15세 관람가   \n",
      "1     20191212            NaN  20191212090000  드라마|멜로/로맨스    19세 관람가   \n",
      "2     20190912          707.0  20190930090000     드라마|코미디    15세 관람가   \n",
      "3     20191212            NaN  20191224090000      드라마|가족     전체 관람가   \n",
      "4     20190411            NaN  20190418090000      드라마|전쟁    12세 관람가   \n",
      "\n",
      "              MANUFCO_NM  ... CTRY_CD_2 CTRY_CD_3 CTRY_CD_4 CTRY_CD_5  \\\n",
      "0  (주)제이엠컬쳐스 , (주)몬스터팩토리  ...       NaN       NaN       NaN       NaN   \n",
      "1                    NaN  ...       NaN       NaN       NaN       NaN   \n",
      "2                    NaN  ...       NaN       NaN       NaN       NaN   \n",
      "3                    NaN  ...       NaN       NaN       NaN       NaN   \n",
      "4                    NaN  ...       NaN       NaN       NaN       NaN   \n",
      "\n",
      "  GNR_ID_1 GNR_ID_2 GNR_ID_3 GNR_ID_4 GNR_ID_5 GNR_ID_6  \n",
      "0      드라마   공포(호러)      NaN      NaN      NaN      NaN  \n",
      "1      드라마   멜로/로맨스      NaN      NaN      NaN      NaN  \n",
      "2      드라마      코미디      NaN      NaN      NaN      NaN  \n",
      "3      드라마       가족      NaN      NaN      NaN      NaN  \n",
      "4      드라마       전쟁      NaN      NaN      NaN      NaN  \n",
      "\n",
      "[5 rows x 23 columns]\n"
     ]
    }
   ],
   "source": [
    "print(movie_list_basedata_v3.columns)\n",
    "print(movie_list_basedata_v3.head())"
   ]
  },
  {
   "cell_type": "markdown",
   "metadata": {},
   "source": [
    "## 장르 (META_GNR_NM) 컬럼 삭제"
   ]
  },
  {
   "cell_type": "code",
   "execution_count": 31,
   "metadata": {},
   "outputs": [
    {
     "name": "stdout",
     "output_type": "stream",
     "text": [
      "Index(['META_ID', 'META_TITLE', 'SUB_TITLE', 'ENGL_TITLE', 'CIN_OPEN_DT',\n",
      "       'DMST_SPCT_CNT', 'BTV_OPEN_DT', 'WAT_LVL_CD', 'MANUFCO_NM',\n",
      "       'DSTBTCO_NM', 'SSTRY_CIN_YN', 'CTRY_CD_1', 'CTRY_CD_2', 'CTRY_CD_3',\n",
      "       'CTRY_CD_4', 'CTRY_CD_5', 'GNR_ID_1', 'GNR_ID_2', 'GNR_ID_3',\n",
      "       'GNR_ID_4', 'GNR_ID_5', 'GNR_ID_6'],\n",
      "      dtype='object')\n",
      "        META_ID                 META_TITLE SUB_TITLE       ENGL_TITLE  \\\n",
      "0  MM1000234175                     0.0mhz       NaN           0.0MHz   \n",
      "1  MM1000334701                    1 더하기 3       NaN   Three Husbands   \n",
      "2  MM1000311677  100일동안 100가지로 100퍼센트 행복찾기       NaN       100 Things   \n",
      "3  MM1000337435                        10년       NaN  Ten Years Japan   \n",
      "4  MM1000191569                    12번째 솔저       NaN     The 12th Man   \n",
      "\n",
      "   CIN_OPEN_DT  DMST_SPCT_CNT     BTV_OPEN_DT WAT_LVL_CD  \\\n",
      "0     20190529        59344.0  20190812090000    15세 관람가   \n",
      "1     20191212            NaN  20191212090000    19세 관람가   \n",
      "2     20190912          707.0  20190930090000    15세 관람가   \n",
      "3     20191212            NaN  20191224090000     전체 관람가   \n",
      "4     20190411            NaN  20190418090000    12세 관람가   \n",
      "\n",
      "              MANUFCO_NM DSTBTCO_NM  ... CTRY_CD_2 CTRY_CD_3 CTRY_CD_4  \\\n",
      "0  (주)제이엠컬쳐스 , (주)몬스터팩토리  (주)스마일이엔티  ...       NaN       NaN       NaN   \n",
      "1                    NaN        NaN  ...       NaN       NaN       NaN   \n",
      "2                    NaN    영화사 진진   ...       NaN       NaN       NaN   \n",
      "3                    NaN   (주)디오시네마  ...       NaN       NaN       NaN   \n",
      "4                    NaN   (주)엣나인필름  ...       NaN       NaN       NaN   \n",
      "\n",
      "  CTRY_CD_5 GNR_ID_1 GNR_ID_2 GNR_ID_3 GNR_ID_4 GNR_ID_5 GNR_ID_6  \n",
      "0       NaN      드라마   공포(호러)      NaN      NaN      NaN      NaN  \n",
      "1       NaN      드라마   멜로/로맨스      NaN      NaN      NaN      NaN  \n",
      "2       NaN      드라마      코미디      NaN      NaN      NaN      NaN  \n",
      "3       NaN      드라마       가족      NaN      NaN      NaN      NaN  \n",
      "4       NaN      드라마       전쟁      NaN      NaN      NaN      NaN  \n",
      "\n",
      "[5 rows x 22 columns]\n"
     ]
    }
   ],
   "source": [
    "movie_list_basedata_v4 =  movie_list_basedata_v3.drop(['GNR_ID'], axis= 1)\n",
    "print(movie_list_basedata_v4.columns)\n",
    "print(movie_list_basedata_v4.head())"
   ]
  },
  {
   "cell_type": "markdown",
   "metadata": {},
   "source": [
    "## 제작사(MANUFCO_NM) 병렬 처리"
   ]
  },
  {
   "cell_type": "code",
   "execution_count": 32,
   "metadata": {},
   "outputs": [],
   "source": [
    "i3 = 1\n",
    "for i3 in range(1,100):\n",
    "    movie_list_basedata_v4['MANUFCO_NM_' + str(i3)] = movie_list_basedata_v4.MANUFCO_NM.str.split(\",\").str[i3-1]\n",
    "    if any(pd.notnull(movie_list_basedata_v4['MANUFCO_NM_' + str(i3)]) == True) == False :\n",
    "        movie_list_basedata_v4.drop(['MANUFCO_NM_' + str(i3)], axis= 1, inplace = True)\n",
    "        break\n",
    "    i3 = i3 + 1"
   ]
  },
  {
   "cell_type": "code",
   "execution_count": 33,
   "metadata": {},
   "outputs": [
    {
     "name": "stdout",
     "output_type": "stream",
     "text": [
      "Index(['META_ID', 'META_TITLE', 'SUB_TITLE', 'ENGL_TITLE', 'CIN_OPEN_DT',\n",
      "       'DMST_SPCT_CNT', 'BTV_OPEN_DT', 'WAT_LVL_CD', 'MANUFCO_NM',\n",
      "       'DSTBTCO_NM', 'SSTRY_CIN_YN', 'CTRY_CD_1', 'CTRY_CD_2', 'CTRY_CD_3',\n",
      "       'CTRY_CD_4', 'CTRY_CD_5', 'GNR_ID_1', 'GNR_ID_2', 'GNR_ID_3',\n",
      "       'GNR_ID_4', 'GNR_ID_5', 'GNR_ID_6', 'MANUFCO_NM_1', 'MANUFCO_NM_2',\n",
      "       'MANUFCO_NM_3'],\n",
      "      dtype='object')\n",
      "        META_ID                 META_TITLE SUB_TITLE       ENGL_TITLE  \\\n",
      "0  MM1000234175                     0.0mhz       NaN           0.0MHz   \n",
      "1  MM1000334701                    1 더하기 3       NaN   Three Husbands   \n",
      "2  MM1000311677  100일동안 100가지로 100퍼센트 행복찾기       NaN       100 Things   \n",
      "3  MM1000337435                        10년       NaN  Ten Years Japan   \n",
      "4  MM1000191569                    12번째 솔저       NaN     The 12th Man   \n",
      "\n",
      "   CIN_OPEN_DT  DMST_SPCT_CNT     BTV_OPEN_DT WAT_LVL_CD  \\\n",
      "0     20190529        59344.0  20190812090000    15세 관람가   \n",
      "1     20191212            NaN  20191212090000    19세 관람가   \n",
      "2     20190912          707.0  20190930090000    15세 관람가   \n",
      "3     20191212            NaN  20191224090000     전체 관람가   \n",
      "4     20190411            NaN  20190418090000    12세 관람가   \n",
      "\n",
      "              MANUFCO_NM DSTBTCO_NM  ... CTRY_CD_5 GNR_ID_1 GNR_ID_2 GNR_ID_3  \\\n",
      "0  (주)제이엠컬쳐스 , (주)몬스터팩토리  (주)스마일이엔티  ...       NaN      드라마   공포(호러)      NaN   \n",
      "1                    NaN        NaN  ...       NaN      드라마   멜로/로맨스      NaN   \n",
      "2                    NaN    영화사 진진   ...       NaN      드라마      코미디      NaN   \n",
      "3                    NaN   (주)디오시네마  ...       NaN      드라마       가족      NaN   \n",
      "4                    NaN   (주)엣나인필름  ...       NaN      드라마       전쟁      NaN   \n",
      "\n",
      "  GNR_ID_4 GNR_ID_5 GNR_ID_6 MANUFCO_NM_1 MANUFCO_NM_2 MANUFCO_NM_3  \n",
      "0      NaN      NaN      NaN   (주)제이엠컬쳐스     (주)몬스터팩토리          NaN  \n",
      "1      NaN      NaN      NaN          NaN          NaN          NaN  \n",
      "2      NaN      NaN      NaN          NaN          NaN          NaN  \n",
      "3      NaN      NaN      NaN          NaN          NaN          NaN  \n",
      "4      NaN      NaN      NaN          NaN          NaN          NaN  \n",
      "\n",
      "[5 rows x 25 columns]\n"
     ]
    }
   ],
   "source": [
    "print(movie_list_basedata_v4.columns)\n",
    "print(movie_list_basedata_v4.head())"
   ]
  },
  {
   "cell_type": "markdown",
   "metadata": {},
   "source": [
    "## 제작사 (MANUFCO_NM) 컬럼 삭제"
   ]
  },
  {
   "cell_type": "code",
   "execution_count": 35,
   "metadata": {},
   "outputs": [
    {
     "name": "stdout",
     "output_type": "stream",
     "text": [
      "Index(['META_ID', 'META_TITLE', 'SUB_TITLE', 'ENGL_TITLE', 'CIN_OPEN_DT',\n",
      "       'DMST_SPCT_CNT', 'BTV_OPEN_DT', 'WAT_LVL_CD', 'DSTBTCO_NM',\n",
      "       'SSTRY_CIN_YN', 'CTRY_CD_1', 'CTRY_CD_2', 'CTRY_CD_3', 'CTRY_CD_4',\n",
      "       'CTRY_CD_5', 'GNR_ID_1', 'GNR_ID_2', 'GNR_ID_3', 'GNR_ID_4', 'GNR_ID_5',\n",
      "       'GNR_ID_6', 'MANUFCO_NM_1', 'MANUFCO_NM_2', 'MANUFCO_NM_3'],\n",
      "      dtype='object')\n"
     ]
    }
   ],
   "source": [
    "movie_list_basedata_v5 =  movie_list_basedata_v4.drop(['MANUFCO_NM'], axis= 1)\n",
    "print(movie_list_basedata_v5.columns)"
   ]
  },
  {
   "cell_type": "markdown",
   "metadata": {},
   "source": [
    "## 배급사(DSTBTCO_NM) 병렬 처리"
   ]
  },
  {
   "cell_type": "code",
   "execution_count": 36,
   "metadata": {},
   "outputs": [],
   "source": [
    "i4 = 1\n",
    "for i4 in range(1,100):\n",
    "    movie_list_basedata_v5['DSTBTCO_NM_' + str(i4)] = movie_list_basedata_v5.DSTBTCO_NM.str.split(\",\").str[i4-1]\n",
    "    if any(pd.notnull(movie_list_basedata_v5['DSTBTCO_NM_' + str(i4)]) == True) == False :\n",
    "        movie_list_basedata_v5.drop(['DSTBTCO_NM_' + str(i4)], axis= 1, inplace = True)\n",
    "        break\n",
    "    i4 = i4 + 1"
   ]
  },
  {
   "cell_type": "code",
   "execution_count": 37,
   "metadata": {},
   "outputs": [
    {
     "name": "stdout",
     "output_type": "stream",
     "text": [
      "Index(['META_ID', 'META_TITLE', 'SUB_TITLE', 'ENGL_TITLE', 'CIN_OPEN_DT',\n",
      "       'DMST_SPCT_CNT', 'BTV_OPEN_DT', 'WAT_LVL_CD', 'DSTBTCO_NM',\n",
      "       'SSTRY_CIN_YN', 'CTRY_CD_1', 'CTRY_CD_2', 'CTRY_CD_3', 'CTRY_CD_4',\n",
      "       'CTRY_CD_5', 'GNR_ID_1', 'GNR_ID_2', 'GNR_ID_3', 'GNR_ID_4', 'GNR_ID_5',\n",
      "       'GNR_ID_6', 'MANUFCO_NM_1', 'MANUFCO_NM_2', 'MANUFCO_NM_3',\n",
      "       'DSTBTCO_NM_1', 'DSTBTCO_NM_2', 'DSTBTCO_NM_3'],\n",
      "      dtype='object')\n",
      "        META_ID                 META_TITLE SUB_TITLE       ENGL_TITLE  \\\n",
      "0  MM1000234175                     0.0mhz       NaN           0.0MHz   \n",
      "1  MM1000334701                    1 더하기 3       NaN   Three Husbands   \n",
      "2  MM1000311677  100일동안 100가지로 100퍼센트 행복찾기       NaN       100 Things   \n",
      "3  MM1000337435                        10년       NaN  Ten Years Japan   \n",
      "4  MM1000191569                    12번째 솔저       NaN     The 12th Man   \n",
      "\n",
      "   CIN_OPEN_DT  DMST_SPCT_CNT     BTV_OPEN_DT WAT_LVL_CD DSTBTCO_NM  \\\n",
      "0     20190529        59344.0  20190812090000    15세 관람가  (주)스마일이엔티   \n",
      "1     20191212            NaN  20191212090000    19세 관람가        NaN   \n",
      "2     20190912          707.0  20190930090000    15세 관람가    영화사 진진    \n",
      "3     20191212            NaN  20191224090000     전체 관람가   (주)디오시네마   \n",
      "4     20190411            NaN  20190418090000    12세 관람가   (주)엣나인필름   \n",
      "\n",
      "  SSTRY_CIN_YN  ... GNR_ID_3 GNR_ID_4 GNR_ID_5 GNR_ID_6 MANUFCO_NM_1  \\\n",
      "0            N  ...      NaN      NaN      NaN      NaN   (주)제이엠컬쳐스    \n",
      "1            N  ...      NaN      NaN      NaN      NaN          NaN   \n",
      "2            N  ...      NaN      NaN      NaN      NaN          NaN   \n",
      "3            N  ...      NaN      NaN      NaN      NaN          NaN   \n",
      "4            N  ...      NaN      NaN      NaN      NaN          NaN   \n",
      "\n",
      "  MANUFCO_NM_2 MANUFCO_NM_3 DSTBTCO_NM_1 DSTBTCO_NM_2 DSTBTCO_NM_3  \n",
      "0    (주)몬스터팩토리          NaN    (주)스마일이엔티          NaN          NaN  \n",
      "1          NaN          NaN          NaN          NaN          NaN  \n",
      "2          NaN          NaN      영화사 진진           NaN          NaN  \n",
      "3          NaN          NaN     (주)디오시네마          NaN          NaN  \n",
      "4          NaN          NaN     (주)엣나인필름          NaN          NaN  \n",
      "\n",
      "[5 rows x 27 columns]\n"
     ]
    }
   ],
   "source": [
    "print(movie_list_basedata_v5.columns)\n",
    "print(movie_list_basedata_v5.head())"
   ]
  },
  {
   "cell_type": "markdown",
   "metadata": {},
   "source": [
    "## 배급사(DSTBTCO_NM) 컬럼 삭제"
   ]
  },
  {
   "cell_type": "code",
   "execution_count": 38,
   "metadata": {},
   "outputs": [
    {
     "name": "stdout",
     "output_type": "stream",
     "text": [
      "Index(['META_ID', 'META_TITLE', 'SUB_TITLE', 'ENGL_TITLE', 'CIN_OPEN_DT',\n",
      "       'DMST_SPCT_CNT', 'BTV_OPEN_DT', 'WAT_LVL_CD', 'SSTRY_CIN_YN',\n",
      "       'CTRY_CD_1', 'CTRY_CD_2', 'CTRY_CD_3', 'CTRY_CD_4', 'CTRY_CD_5',\n",
      "       'GNR_ID_1', 'GNR_ID_2', 'GNR_ID_3', 'GNR_ID_4', 'GNR_ID_5', 'GNR_ID_6',\n",
      "       'MANUFCO_NM_1', 'MANUFCO_NM_2', 'MANUFCO_NM_3', 'DSTBTCO_NM_1',\n",
      "       'DSTBTCO_NM_2', 'DSTBTCO_NM_3'],\n",
      "      dtype='object')\n"
     ]
    }
   ],
   "source": [
    "movie_list_basedata_v6 =  movie_list_basedata_v5.drop(['DSTBTCO_NM'], axis= 1)\n",
    "print(movie_list_basedata_v6.columns)"
   ]
  },
  {
   "cell_type": "markdown",
   "metadata": {},
   "source": [
    "### 최종 전처리 Dataframe -  movie_list_basedata_v6"
   ]
  },
  {
   "cell_type": "code",
   "execution_count": 39,
   "metadata": {},
   "outputs": [],
   "source": [
    "import datetime as dt\n",
    "nowDate = dt.datetime.now()\n",
    "movie_list_basedata_v6.to_csv(\"data/movie_list_basedata_preprocessing\" + \".csv\", mode='w', header=True, index=False, encoding='UTF-8')"
   ]
  },
  {
   "cell_type": "markdown",
   "metadata": {},
   "source": [
    "## "
   ]
  },
  {
   "cell_type": "markdown",
   "metadata": {},
   "source": [
    "## "
   ]
  },
  {
   "cell_type": "markdown",
   "metadata": {},
   "source": [
    "## 감독 정보 rawdata목록 불러오기 - eh_meta_basedata_200623_v0.1.csv"
   ]
  },
  {
   "cell_type": "code",
   "execution_count": 235,
   "metadata": {},
   "outputs": [
    {
     "name": "stdout",
     "output_type": "stream",
     "text": [
      "Index(['META_ID', 'PRS_ID', 'PRS_NM', 'PRS_ROLE_NM', 'FILMOGRAPHY'], dtype='object')\n",
      "595\n",
      "        META_ID        PRS_ID     PRS_NM PRS_ROLE_NM  \\\n",
      "0  MM1000103011  MP0000052678  크리스티앙 알바트      감독(연출)   \n",
      "1  MM1000109497  MP0000052678  크리스티앙 알바트      감독(연출)   \n",
      "2  MM1000114876  MP1000003556        금패진      감독(연출)   \n",
      "3  MM1000115034  MP0000112474    마크 로테문트      감독(연출)   \n",
      "4  MM1000115408  MP0000005457   파올로 타비아니      감독(연출)   \n",
      "\n",
      "                                         FILMOGRAPHY  \n",
      "0  돈 겟 아웃!|미션 이스탄불 5: 더 파이널|미션 이스탄불 4: 익스트림 데이|미션...  \n",
      "1  돈 겟 아웃!|미션 이스탄불 5: 더 파이널|미션 이스탄불 4: 익스트림 데이|미션...  \n",
      "2                                         완벽한 그녀의 비밀  \n",
      "3                                         디스 크레이지 하트  \n",
      "4                                        레인보우: 나의 사랑  \n"
     ]
    }
   ],
   "source": [
    "movie_list_directordata = pd.read_csv('raw/eh_meta_directordata_200623_v0.1.csv', encoding = 'UTF-8')\n",
    "print(movie_list_directordata.columns)\n",
    "print(movie_list_directordata.shape[0])\n",
    "print(movie_list_directordata.head())"
   ]
  },
  {
   "cell_type": "markdown",
   "metadata": {},
   "source": [
    "## 중복컬럼명 변경"
   ]
  },
  {
   "cell_type": "code",
   "execution_count": 236,
   "metadata": {},
   "outputs": [
    {
     "name": "stdout",
     "output_type": "stream",
     "text": [
      "Index(['META_ID', 'PD_ID', 'PD_NM', 'PD_PRS_ROLE_NM', 'FILMOGRAPHY'], dtype='object')\n"
     ]
    }
   ],
   "source": [
    "movie_list_directordata_v1 = movie_list_directordata\n",
    "\n",
    "movie_list_directordata_v1.rename(columns = {'PRS_ID' : 'PD_ID', \n",
    "                                             'PRS_NM' : 'PD_NM', \n",
    "                                             'PRS_ROLE_NM' : 'PD_PRS_ROLE_NM'\n",
    "                                         }, inplace = True)\n",
    "\n",
    "print(movie_list_directordata_v1.columns)"
   ]
  },
  {
   "cell_type": "markdown",
   "metadata": {},
   "source": [
    "## 연출작(FILMOGRAPHY) 병렬 처리"
   ]
  },
  {
   "cell_type": "code",
   "execution_count": 237,
   "metadata": {},
   "outputs": [],
   "source": [
    "d1 = 1\n",
    "for d1 in range(1,100):\n",
    "    movie_list_directordata_v1['PD_PWR_' + str(d1)] = movie_list_directordata_v1.FILMOGRAPHY.str.split(\"|\").str[d1-1]\n",
    "    if any(pd.notnull(movie_list_directordata_v1['PD_PWR_' + str(d1)]) == True) == False :\n",
    "        movie_list_directordata_v1.drop(['PD_PWR_' + str(d1)], axis= 1, inplace = True)\n",
    "        break\n",
    "    d1 = d1 + 1"
   ]
  },
  {
   "cell_type": "code",
   "execution_count": 238,
   "metadata": {},
   "outputs": [
    {
     "name": "stdout",
     "output_type": "stream",
     "text": [
      "Index(['META_ID', 'PD_ID', 'PD_NM', 'PD_PRS_ROLE_NM', 'FILMOGRAPHY',\n",
      "       'PD_PWR_1', 'PD_PWR_2', 'PD_PWR_3', 'PD_PWR_4', 'PD_PWR_5', 'PD_PWR_6'],\n",
      "      dtype='object')\n",
      "        META_ID         PD_ID      PD_NM PD_PRS_ROLE_NM  \\\n",
      "0  MM1000103011  MP0000052678  크리스티앙 알바트         감독(연출)   \n",
      "1  MM1000109497  MP0000052678  크리스티앙 알바트         감독(연출)   \n",
      "2  MM1000114876  MP1000003556        금패진         감독(연출)   \n",
      "3  MM1000115034  MP0000112474    마크 로테문트         감독(연출)   \n",
      "4  MM1000115408  MP0000005457   파올로 타비아니         감독(연출)   \n",
      "\n",
      "                                         FILMOGRAPHY     PD_PWR_1  \\\n",
      "0  돈 겟 아웃!|미션 이스탄불 5: 더 파이널|미션 이스탄불 4: 익스트림 데이|미션...      돈 겟 아웃!   \n",
      "1  돈 겟 아웃!|미션 이스탄불 5: 더 파이널|미션 이스탄불 4: 익스트림 데이|미션...      돈 겟 아웃!   \n",
      "2                                         완벽한 그녀의 비밀   완벽한 그녀의 비밀   \n",
      "3                                         디스 크레이지 하트   디스 크레이지 하트   \n",
      "4                                        레인보우: 나의 사랑  레인보우: 나의 사랑   \n",
      "\n",
      "           PD_PWR_2            PD_PWR_3          PD_PWR_4 PD_PWR_5 PD_PWR_6  \n",
      "0  미션 이스탄불 5: 더 파이널  미션 이스탄불 4: 익스트림 데이  미션 이스탄불 3: 더 리벤지  미션 이스탄불      NaN  \n",
      "1  미션 이스탄불 5: 더 파이널  미션 이스탄불 4: 익스트림 데이  미션 이스탄불 3: 더 리벤지  미션 이스탄불      NaN  \n",
      "2               NaN                 NaN               NaN      NaN      NaN  \n",
      "3               NaN                 NaN               NaN      NaN      NaN  \n",
      "4               NaN                 NaN               NaN      NaN      NaN  \n"
     ]
    }
   ],
   "source": [
    "print(movie_list_directordata_v1.columns)\n",
    "print(movie_list_directordata_v1.head())"
   ]
  },
  {
   "cell_type": "markdown",
   "metadata": {},
   "source": [
    "print(movie_list_directordata_v1.columns)\n",
    "print(movie_list_directordata_v1.head())"
   ]
  },
  {
   "cell_type": "markdown",
   "metadata": {},
   "source": [
    "## FILMOGRAPHY 컬럼 삭제"
   ]
  },
  {
   "cell_type": "code",
   "execution_count": 239,
   "metadata": {},
   "outputs": [
    {
     "name": "stdout",
     "output_type": "stream",
     "text": [
      "Index(['META_ID', 'PD_ID', 'PD_NM', 'PD_PRS_ROLE_NM', 'PD_PWR_1', 'PD_PWR_2',\n",
      "       'PD_PWR_3', 'PD_PWR_4', 'PD_PWR_5', 'PD_PWR_6'],\n",
      "      dtype='object')\n"
     ]
    }
   ],
   "source": [
    "movie_list_directordata_v2 =  movie_list_directordata_v1.drop(['FILMOGRAPHY'], axis= 1)\n",
    "print(movie_list_directordata_v2.columns)"
   ]
  },
  {
   "cell_type": "markdown",
   "metadata": {},
   "source": [
    "### 최종 전처리 Dataframe - movie_list_directordata_v2"
   ]
  },
  {
   "cell_type": "code",
   "execution_count": 48,
   "metadata": {},
   "outputs": [],
   "source": [
    "import datetime as dt\n",
    "nowDate = dt.datetime.now()\n",
    "movie_list_directordata_v2.to_csv(\"data/movie_list_directordata_preprocessing\" + \".csv\", mode='w', header=True, index=False, encoding='UTF-8')"
   ]
  },
  {
   "cell_type": "markdown",
   "metadata": {},
   "source": [
    "## "
   ]
  },
  {
   "cell_type": "markdown",
   "metadata": {},
   "source": [
    "## "
   ]
  },
  {
   "cell_type": "markdown",
   "metadata": {},
   "source": [
    "## 출연자 정보 rawdata목록 불러오기 - eh_meta_actordata_200623_v0.1.csv"
   ]
  },
  {
   "cell_type": "code",
   "execution_count": 240,
   "metadata": {},
   "outputs": [
    {
     "name": "stdout",
     "output_type": "stream",
     "text": [
      "Index(['META_ID', 'PRS_ID', 'PRS_NM', 'PRS_ROLE_NM', 'FILMOGRAPHY'], dtype='object')\n",
      "2200\n",
      "        META_ID        PRS_ID    PRS_NM PRS_ROLE_NM  \\\n",
      "0  MM1000103011  MP0000064883  보탄 빌케 모링          주연   \n",
      "1  MM1000103011  MP0000154188     노라 허츠          주연   \n",
      "2  MM1000103011           NaN       NaN         NaN   \n",
      "3  MM1000109497  MP0000001592    틸 슈바이거          주연   \n",
      "4  MM1000109497  MP0000146403   루나 슈바이거          주연   \n",
      "\n",
      "                                         FILMOGRAPHY  \n",
      "0                                            돈 겟 아웃!  \n",
      "1                                            돈 겟 아웃!  \n",
      "2                                                NaN  \n",
      "3  미션 이스탄불 5: 더 파이널|미션 이스탄불 4: 익스트림 데이|미션 이스탄불 3:...  \n",
      "4        미션 이스탄불 5: 더 파이널|미션 이스탄불 4: 익스트림 데이|미션 이스탄불  \n"
     ]
    }
   ],
   "source": [
    "movie_list_actordata = pd.read_csv('raw/eh_meta_actordata_200623_v0.1.csv', encoding = 'UTF-8')\n",
    "print(movie_list_actordata.columns)\n",
    "print(movie_list_actordata.shape[0])\n",
    "print(movie_list_actordata.head())"
   ]
  },
  {
   "cell_type": "markdown",
   "metadata": {},
   "source": [
    "## 중복 컬럼명 변경"
   ]
  },
  {
   "cell_type": "code",
   "execution_count": 241,
   "metadata": {},
   "outputs": [
    {
     "name": "stdout",
     "output_type": "stream",
     "text": [
      "Index(['META_ID', 'REP_ACT_ID', 'REP_ACT_NM', 'REP_ACT_PRS_ROLE_NM',\n",
      "       'REP_ACT_PWR'],\n",
      "      dtype='object')\n"
     ]
    }
   ],
   "source": [
    "movie_list_actordata.rename(columns = {'PRS_ID' : 'REP_ACT_ID', \n",
    "                                       'PRS_NM' : 'REP_ACT_NM', \n",
    "                                       'PRS_ROLE_NM' : 'REP_ACT_PRS_ROLE_NM',\n",
    "                                       'FILMOGRAPHY' : 'REP_ACT_PWR'\n",
    "                                         }, inplace = True)\n",
    "\n",
    "print(movie_list_actordata.columns)"
   ]
  },
  {
   "cell_type": "markdown",
   "metadata": {},
   "source": [
    "## PRS_ID가 Null인 row 삭제"
   ]
  },
  {
   "cell_type": "code",
   "execution_count": 242,
   "metadata": {},
   "outputs": [
    {
     "name": "stdout",
     "output_type": "stream",
     "text": [
      "Index(['META_ID', 'REP_ACT_ID', 'REP_ACT_NM', 'REP_ACT_PRS_ROLE_NM',\n",
      "       'REP_ACT_PWR'],\n",
      "      dtype='object')\n"
     ]
    }
   ],
   "source": [
    "movie_list_actordata_v1 = movie_list_actordata.dropna(subset = ['REP_ACT_ID'])\n",
    "print(movie_list_actordata_v1.columns)"
   ]
  },
  {
   "cell_type": "markdown",
   "metadata": {},
   "source": [
    "## 메타아이디 기준으로 Join처리"
   ]
  },
  {
   "cell_type": "code",
   "execution_count": 243,
   "metadata": {},
   "outputs": [
    {
     "name": "stdout",
     "output_type": "stream",
     "text": [
      "        META_ID                              REP_ACT_ID  \\\n",
      "0  MM1000103011               MP0000064883>MP0000154188   \n",
      "1  MM1000109497  MP0000001592>MP0000146403>MP0000158516   \n",
      "2  MM1000114876  MP0000139219>MP0000153716>MP1000003794   \n",
      "3  MM1000115034  MP0000146343>MP1000003562>MP1000003563   \n",
      "4  MM1000115408  MP0000166422>MP1000003573>MP1000003574   \n",
      "\n",
      "                 REP_ACT_NM REP_ACT_PRS_ROLE_NM  \\\n",
      "0            보탄 빌케 모링>노라 허츠               주연>주연   \n",
      "1     틸 슈바이거>루나 슈바이거>파리 야르딤            주연>주연>주연   \n",
      "2               이육분>장예가>양가용            주연>주연>조연   \n",
      "3  엘리아스 므바렉>필립 슈바르츠>우베 프레우스            주연>주연>주연   \n",
      "4   루카 마리넬리>발렌티나 벨레>로렌조 리첼미            주연>주연>주연   \n",
      "\n",
      "                                         REP_ACT_PWR  \n",
      "0                                    돈 겟 아웃!>돈 겟 아웃!  \n",
      "1  미션 이스탄불 5: 더 파이널|미션 이스탄불 4: 익스트림 데이|미션 이스탄불 3:...  \n",
      "2                   완벽한 그녀의 비밀>완벽한 그녀의 비밀>완벽한 그녀의 비밀  \n",
      "3                   디스 크레이지 하트>디스 크레이지 하트>디스 크레이지 하트  \n",
      "4        레인보우: 나의 사랑>레인보우: 나의 사랑>레인보우: 나의 사랑|안개 속 소녀  \n"
     ]
    }
   ],
   "source": [
    "movie_list_actordata_v2 = movie_list_actordata_v1.groupby('META_ID').agg({'REP_ACT_ID': '>'.join, \n",
    "                                                                            'REP_ACT_NM': '>'.join, \n",
    "                                                                            'REP_ACT_PRS_ROLE_NM': '>'.join,\n",
    "                                                                            'REP_ACT_PWR': '>'.join                                                                                  \n",
    "}).reset_index()\n",
    "\n",
    "print(movie_list_actordata_v2.head())"
   ]
  },
  {
   "cell_type": "markdown",
   "metadata": {},
   "source": [
    "## Join된 컬럼기준으로 병렬처리"
   ]
  },
  {
   "cell_type": "code",
   "execution_count": 244,
   "metadata": {},
   "outputs": [
    {
     "name": "stdout",
     "output_type": "stream",
     "text": [
      "Index(['META_ID', 'REP_ACT_ID', 'REP_ACT_NM', 'REP_ACT_PRS_ROLE_NM',\n",
      "       'REP_ACT_PWR', 'REP_ACT_ID_1', 'REP_ACT_NM_1', 'REP_ACT_PRS_ROLE_NM_1',\n",
      "       'REP_ACT_PWR_1', 'REP_ACT_ID_2', 'REP_ACT_NM_2',\n",
      "       'REP_ACT_PRS_ROLE_NM_2', 'REP_ACT_PWR_2', 'REP_ACT_ID_3',\n",
      "       'REP_ACT_NM_3', 'REP_ACT_PRS_ROLE_NM_3', 'REP_ACT_PWR_3',\n",
      "       'REP_ACT_ID_4', 'REP_ACT_NM_4', 'REP_ACT_PRS_ROLE_NM_4',\n",
      "       'REP_ACT_PWR_4', 'REP_ACT_ID_5', 'REP_ACT_NM_5',\n",
      "       'REP_ACT_PRS_ROLE_NM_5', 'REP_ACT_PWR_5', 'REP_ACT_ID_6',\n",
      "       'REP_ACT_NM_6', 'REP_ACT_PRS_ROLE_NM_6', 'REP_ACT_PWR_6'],\n",
      "      dtype='object')\n",
      "        META_ID                              REP_ACT_ID  \\\n",
      "0  MM1000103011               MP0000064883>MP0000154188   \n",
      "1  MM1000109497  MP0000001592>MP0000146403>MP0000158516   \n",
      "2  MM1000114876  MP0000139219>MP0000153716>MP1000003794   \n",
      "3  MM1000115034  MP0000146343>MP1000003562>MP1000003563   \n",
      "4  MM1000115408  MP0000166422>MP1000003573>MP1000003574   \n",
      "\n",
      "                 REP_ACT_NM REP_ACT_PRS_ROLE_NM  \\\n",
      "0            보탄 빌케 모링>노라 허츠               주연>주연   \n",
      "1     틸 슈바이거>루나 슈바이거>파리 야르딤            주연>주연>주연   \n",
      "2               이육분>장예가>양가용            주연>주연>조연   \n",
      "3  엘리아스 므바렉>필립 슈바르츠>우베 프레우스            주연>주연>주연   \n",
      "4   루카 마리넬리>발렌티나 벨레>로렌조 리첼미            주연>주연>주연   \n",
      "\n",
      "                                         REP_ACT_PWR  REP_ACT_ID_1  \\\n",
      "0                                    돈 겟 아웃!>돈 겟 아웃!  MP0000064883   \n",
      "1  미션 이스탄불 5: 더 파이널|미션 이스탄불 4: 익스트림 데이|미션 이스탄불 3:...  MP0000001592   \n",
      "2                   완벽한 그녀의 비밀>완벽한 그녀의 비밀>완벽한 그녀의 비밀  MP0000139219   \n",
      "3                   디스 크레이지 하트>디스 크레이지 하트>디스 크레이지 하트  MP0000146343   \n",
      "4        레인보우: 나의 사랑>레인보우: 나의 사랑>레인보우: 나의 사랑|안개 속 소녀  MP0000166422   \n",
      "\n",
      "  REP_ACT_NM_1 REP_ACT_PRS_ROLE_NM_1  \\\n",
      "0     보탄 빌케 모링                    주연   \n",
      "1       틸 슈바이거                    주연   \n",
      "2          이육분                    주연   \n",
      "3     엘리아스 므바렉                    주연   \n",
      "4      루카 마리넬리                    주연   \n",
      "\n",
      "                                       REP_ACT_PWR_1  REP_ACT_ID_2  ...  \\\n",
      "0                                            돈 겟 아웃!  MP0000154188  ...   \n",
      "1  미션 이스탄불 5: 더 파이널|미션 이스탄불 4: 익스트림 데이|미션 이스탄불 3:...  MP0000146403  ...   \n",
      "2                                         완벽한 그녀의 비밀  MP0000153716  ...   \n",
      "3                                         디스 크레이지 하트  MP1000003562  ...   \n",
      "4                                        레인보우: 나의 사랑  MP1000003573  ...   \n",
      "\n",
      "  REP_ACT_PRS_ROLE_NM_4 REP_ACT_PWR_4 REP_ACT_ID_5 REP_ACT_NM_5  \\\n",
      "0                   NaN           NaN          NaN          NaN   \n",
      "1                   NaN           NaN          NaN          NaN   \n",
      "2                   NaN           NaN          NaN          NaN   \n",
      "3                   NaN           NaN          NaN          NaN   \n",
      "4                   NaN           NaN          NaN          NaN   \n",
      "\n",
      "  REP_ACT_PRS_ROLE_NM_5 REP_ACT_PWR_5 REP_ACT_ID_6 REP_ACT_NM_6  \\\n",
      "0                   NaN           NaN          NaN          NaN   \n",
      "1                   NaN           NaN          NaN          NaN   \n",
      "2                   NaN           NaN          NaN          NaN   \n",
      "3                   NaN           NaN          NaN          NaN   \n",
      "4                   NaN           NaN          NaN          NaN   \n",
      "\n",
      "  REP_ACT_PRS_ROLE_NM_6 REP_ACT_PWR_6  \n",
      "0                   NaN           NaN  \n",
      "1                   NaN           NaN  \n",
      "2                   NaN           NaN  \n",
      "3                   NaN           NaN  \n",
      "4                   NaN           NaN  \n",
      "\n",
      "[5 rows x 29 columns]\n"
     ]
    }
   ],
   "source": [
    "a1 = 1\n",
    "for a1 in range(1,100):\n",
    "    \n",
    "    movie_list_actordata_v2['REP_ACT_ID_' + str(a1)] = movie_list_actordata_v2.REP_ACT_ID.str.split(\">\").str[a1-1]\n",
    "    movie_list_actordata_v2['REP_ACT_NM_' + str(a1)] = movie_list_actordata_v2.REP_ACT_NM.str.split(\">\").str[a1-1]\n",
    "    movie_list_actordata_v2['REP_ACT_PRS_ROLE_NM_' + str(a1)] = movie_list_actordata_v2.REP_ACT_PRS_ROLE_NM.str.split(\">\").str[a1-1]\n",
    "    movie_list_actordata_v2['REP_ACT_PWR_' + str(a1)] = movie_list_actordata_v2.REP_ACT_PWR.str.split(\">\").str[a1-1]\n",
    "    \n",
    "    if any(pd.notnull(movie_list_actordata_v2['REP_ACT_ID_' + str(a1)]) == True) == False :\n",
    "        if any(pd.notnull(movie_list_actordata_v2['REP_ACT_NM_' + str(a1)]) == True) == False :\n",
    "            if any(pd.notnull(movie_list_actordata_v2['REP_ACT_PRS_ROLE_NM_' + str(a1)]) == True) == False :\n",
    "                if any(pd.notnull(movie_list_actordata_v2['REP_ACT_PWR_' + str(a1)]) == True) == False :\n",
    "                    movie_list_actordata_v2.drop(['REP_ACT_PWR_' + str(a1)], axis= 1, inplace = True)\n",
    "                movie_list_actordata_v2.drop(['REP_ACT_PRS_ROLE_NM_' + str(a1)], axis= 1, inplace = True)\n",
    "            movie_list_actordata_v2.drop(['REP_ACT_NM_' + str(a1)], axis= 1, inplace = True)\n",
    "        movie_list_actordata_v2.drop(['REP_ACT_ID_' + str(a1)], axis= 1, inplace = True)\n",
    "        break   \n",
    "    a1 = a1 + 1\n",
    "    \n",
    "print(movie_list_actordata_v2.columns)\n",
    "print(movie_list_actordata_v2.head())"
   ]
  },
  {
   "cell_type": "markdown",
   "metadata": {},
   "source": [
    "## Join 처리된 컬럼 삭제"
   ]
  },
  {
   "cell_type": "code",
   "execution_count": 246,
   "metadata": {},
   "outputs": [
    {
     "name": "stdout",
     "output_type": "stream",
     "text": [
      "Index(['META_ID', 'REP_ACT_ID_1', 'REP_ACT_NM_1', 'REP_ACT_PRS_ROLE_NM_1',\n",
      "       'REP_ACT_PWR_1', 'REP_ACT_ID_2', 'REP_ACT_NM_2',\n",
      "       'REP_ACT_PRS_ROLE_NM_2', 'REP_ACT_PWR_2', 'REP_ACT_ID_3',\n",
      "       'REP_ACT_NM_3', 'REP_ACT_PRS_ROLE_NM_3', 'REP_ACT_PWR_3',\n",
      "       'REP_ACT_ID_4', 'REP_ACT_NM_4', 'REP_ACT_PRS_ROLE_NM_4',\n",
      "       'REP_ACT_PWR_4', 'REP_ACT_ID_5', 'REP_ACT_NM_5',\n",
      "       'REP_ACT_PRS_ROLE_NM_5', 'REP_ACT_PWR_5', 'REP_ACT_ID_6',\n",
      "       'REP_ACT_NM_6', 'REP_ACT_PRS_ROLE_NM_6', 'REP_ACT_PWR_6'],\n",
      "      dtype='object')\n"
     ]
    }
   ],
   "source": [
    "movie_list_actordata_v3 =  movie_list_actordata_v2.drop(['REP_ACT_ID', 'REP_ACT_NM', 'REP_ACT_PRS_ROLE_NM','REP_ACT_PWR'], axis= 1)\n",
    "print(movie_list_actordata_v3.columns)"
   ]
  },
  {
   "cell_type": "markdown",
   "metadata": {},
   "source": [
    "## 출연작(FILMOGRAPHY) 병렬 처리"
   ]
  },
  {
   "cell_type": "code",
   "execution_count": 247,
   "metadata": {},
   "outputs": [
    {
     "name": "stdout",
     "output_type": "stream",
     "text": [
      "Index(['META_ID', 'REP_ACT_ID_1', 'REP_ACT_NM_1', 'REP_ACT_PRS_ROLE_NM_1',\n",
      "       'REP_ACT_PWR_1', 'REP_ACT_ID_2', 'REP_ACT_NM_2',\n",
      "       'REP_ACT_PRS_ROLE_NM_2', 'REP_ACT_PWR_2', 'REP_ACT_ID_3',\n",
      "       'REP_ACT_NM_3', 'REP_ACT_PRS_ROLE_NM_3', 'REP_ACT_PWR_3',\n",
      "       'REP_ACT_ID_4', 'REP_ACT_NM_4', 'REP_ACT_PRS_ROLE_NM_4',\n",
      "       'REP_ACT_PWR_4', 'REP_ACT_ID_5', 'REP_ACT_NM_5',\n",
      "       'REP_ACT_PRS_ROLE_NM_5', 'REP_ACT_PWR_5', 'REP_ACT_ID_6',\n",
      "       'REP_ACT_NM_6', 'REP_ACT_PRS_ROLE_NM_6', 'REP_ACT_PWR_6',\n",
      "       'REP_ACT_PWR_1_1', 'REP_ACT_PWR_1_2', 'REP_ACT_PWR_1_3',\n",
      "       'REP_ACT_PWR_1_4', 'REP_ACT_PWR_1_5', 'REP_ACT_PWR_1_6',\n",
      "       'REP_ACT_PWR_1_7', 'REP_ACT_PWR_1_8', 'REP_ACT_PWR_1_9',\n",
      "       'REP_ACT_PWR_1_10', 'REP_ACT_PWR_1_11', 'REP_ACT_PWR_1_12',\n",
      "       'REP_ACT_PWR_1_13', 'REP_ACT_PWR_1_14', 'REP_ACT_PWR_1_15',\n",
      "       'REP_ACT_PWR_1_16', 'REP_ACT_PWR_1_17', 'REP_ACT_PWR_1_18',\n",
      "       'REP_ACT_PWR_1_19', 'REP_ACT_PWR_1_20', 'REP_ACT_PWR_1_21'],\n",
      "      dtype='object')\n"
     ]
    }
   ],
   "source": [
    "## 1번 인물 출연작 추출\n",
    "\n",
    "a1 = 1\n",
    "for a1 in range(1,100):\n",
    "    movie_list_actordata_v3['REP_ACT_PWR_1_' + str(a1)] = movie_list_actordata_v3.REP_ACT_PWR_1.str.split(\"|\").str[a1-1]\n",
    "    if any(pd.notnull(movie_list_actordata_v3['REP_ACT_PWR_1_' + str(a1)]) == True) == False :\n",
    "        movie_list_actordata_v3.drop(['REP_ACT_PWR_1_' + str(a1)], axis= 1, inplace = True)\n",
    "        break\n",
    "    a1 = a1 + 1\n",
    "    \n",
    "print(movie_list_actordata_v3.columns)\n",
    "movie_list_actordata_v4 = movie_list_actordata_v3"
   ]
  },
  {
   "cell_type": "code",
   "execution_count": 248,
   "metadata": {},
   "outputs": [
    {
     "name": "stdout",
     "output_type": "stream",
     "text": [
      "Index(['META_ID', 'REP_ACT_ID_1', 'REP_ACT_NM_1', 'REP_ACT_PRS_ROLE_NM_1',\n",
      "       'REP_ACT_PWR_1', 'REP_ACT_ID_2', 'REP_ACT_NM_2',\n",
      "       'REP_ACT_PRS_ROLE_NM_2', 'REP_ACT_PWR_2', 'REP_ACT_ID_3',\n",
      "       'REP_ACT_NM_3', 'REP_ACT_PRS_ROLE_NM_3', 'REP_ACT_PWR_3',\n",
      "       'REP_ACT_ID_4', 'REP_ACT_NM_4', 'REP_ACT_PRS_ROLE_NM_4',\n",
      "       'REP_ACT_PWR_4', 'REP_ACT_ID_5', 'REP_ACT_NM_5',\n",
      "       'REP_ACT_PRS_ROLE_NM_5', 'REP_ACT_PWR_5', 'REP_ACT_ID_6',\n",
      "       'REP_ACT_NM_6', 'REP_ACT_PRS_ROLE_NM_6', 'REP_ACT_PWR_6',\n",
      "       'REP_ACT_PWR_1_1', 'REP_ACT_PWR_1_2', 'REP_ACT_PWR_1_3',\n",
      "       'REP_ACT_PWR_1_4', 'REP_ACT_PWR_1_5', 'REP_ACT_PWR_1_6',\n",
      "       'REP_ACT_PWR_1_7', 'REP_ACT_PWR_1_8', 'REP_ACT_PWR_1_9',\n",
      "       'REP_ACT_PWR_1_10', 'REP_ACT_PWR_1_11', 'REP_ACT_PWR_1_12',\n",
      "       'REP_ACT_PWR_1_13', 'REP_ACT_PWR_1_14', 'REP_ACT_PWR_1_15',\n",
      "       'REP_ACT_PWR_1_16', 'REP_ACT_PWR_1_17', 'REP_ACT_PWR_1_18',\n",
      "       'REP_ACT_PWR_1_19', 'REP_ACT_PWR_1_20', 'REP_ACT_PWR_1_21',\n",
      "       'REP_ACT_PWR_2_1', 'REP_ACT_PWR_2_2', 'REP_ACT_PWR_2_3',\n",
      "       'REP_ACT_PWR_2_4', 'REP_ACT_PWR_2_5', 'REP_ACT_PWR_2_6',\n",
      "       'REP_ACT_PWR_2_7', 'REP_ACT_PWR_2_8', 'REP_ACT_PWR_2_9',\n",
      "       'REP_ACT_PWR_2_10', 'REP_ACT_PWR_2_11', 'REP_ACT_PWR_2_12',\n",
      "       'REP_ACT_PWR_2_13', 'REP_ACT_PWR_2_14', 'REP_ACT_PWR_2_15',\n",
      "       'REP_ACT_PWR_2_16', 'REP_ACT_PWR_2_17', 'REP_ACT_PWR_2_18',\n",
      "       'REP_ACT_PWR_2_19', 'REP_ACT_PWR_2_20', 'REP_ACT_PWR_2_21'],\n",
      "      dtype='object')\n"
     ]
    }
   ],
   "source": [
    "## 2번 인물 출연작 추출\n",
    "\n",
    "b1 = 1\n",
    "for a1 in range(1,100):\n",
    "    movie_list_actordata_v4['REP_ACT_PWR_2_' + str(b1)] = movie_list_actordata_v4.REP_ACT_PWR_2.str.split(\"|\").str[b1-1]\n",
    "    if any(pd.notnull(movie_list_actordata_v4['REP_ACT_PWR_2_' + str(b1)]) == True) == False :\n",
    "        movie_list_actordata_v4.drop(['REP_ACT_PWR_2_' + str(b1)], axis= 1, inplace = True)\n",
    "        break\n",
    "    b1 = b1 + 1\n",
    "\n",
    "print(movie_list_actordata_v4.columns)\n",
    "movie_list_actordata_v5 = movie_list_actordata_v4"
   ]
  },
  {
   "cell_type": "code",
   "execution_count": 249,
   "metadata": {},
   "outputs": [
    {
     "name": "stdout",
     "output_type": "stream",
     "text": [
      "Index(['META_ID', 'REP_ACT_ID_1', 'REP_ACT_NM_1', 'REP_ACT_PRS_ROLE_NM_1',\n",
      "       'REP_ACT_PWR_1', 'REP_ACT_ID_2', 'REP_ACT_NM_2',\n",
      "       'REP_ACT_PRS_ROLE_NM_2', 'REP_ACT_PWR_2', 'REP_ACT_ID_3',\n",
      "       'REP_ACT_NM_3', 'REP_ACT_PRS_ROLE_NM_3', 'REP_ACT_PWR_3',\n",
      "       'REP_ACT_ID_4', 'REP_ACT_NM_4', 'REP_ACT_PRS_ROLE_NM_4',\n",
      "       'REP_ACT_PWR_4', 'REP_ACT_ID_5', 'REP_ACT_NM_5',\n",
      "       'REP_ACT_PRS_ROLE_NM_5', 'REP_ACT_PWR_5', 'REP_ACT_ID_6',\n",
      "       'REP_ACT_NM_6', 'REP_ACT_PRS_ROLE_NM_6', 'REP_ACT_PWR_6',\n",
      "       'REP_ACT_PWR_1_1', 'REP_ACT_PWR_1_2', 'REP_ACT_PWR_1_3',\n",
      "       'REP_ACT_PWR_1_4', 'REP_ACT_PWR_1_5', 'REP_ACT_PWR_1_6',\n",
      "       'REP_ACT_PWR_1_7', 'REP_ACT_PWR_1_8', 'REP_ACT_PWR_1_9',\n",
      "       'REP_ACT_PWR_1_10', 'REP_ACT_PWR_1_11', 'REP_ACT_PWR_1_12',\n",
      "       'REP_ACT_PWR_1_13', 'REP_ACT_PWR_1_14', 'REP_ACT_PWR_1_15',\n",
      "       'REP_ACT_PWR_1_16', 'REP_ACT_PWR_1_17', 'REP_ACT_PWR_1_18',\n",
      "       'REP_ACT_PWR_1_19', 'REP_ACT_PWR_1_20', 'REP_ACT_PWR_1_21',\n",
      "       'REP_ACT_PWR_2_1', 'REP_ACT_PWR_2_2', 'REP_ACT_PWR_2_3',\n",
      "       'REP_ACT_PWR_2_4', 'REP_ACT_PWR_2_5', 'REP_ACT_PWR_2_6',\n",
      "       'REP_ACT_PWR_2_7', 'REP_ACT_PWR_2_8', 'REP_ACT_PWR_2_9',\n",
      "       'REP_ACT_PWR_2_10', 'REP_ACT_PWR_2_11', 'REP_ACT_PWR_2_12',\n",
      "       'REP_ACT_PWR_2_13', 'REP_ACT_PWR_2_14', 'REP_ACT_PWR_2_15',\n",
      "       'REP_ACT_PWR_2_16', 'REP_ACT_PWR_2_17', 'REP_ACT_PWR_2_18',\n",
      "       'REP_ACT_PWR_2_19', 'REP_ACT_PWR_2_20', 'REP_ACT_PWR_2_21',\n",
      "       'REP_ACT_PWR_3_1', 'REP_ACT_PWR_3_2', 'REP_ACT_PWR_3_3',\n",
      "       'REP_ACT_PWR_3_4', 'REP_ACT_PWR_3_5', 'REP_ACT_PWR_3_6',\n",
      "       'REP_ACT_PWR_3_7', 'REP_ACT_PWR_3_8', 'REP_ACT_PWR_3_9',\n",
      "       'REP_ACT_PWR_3_10', 'REP_ACT_PWR_3_11', 'REP_ACT_PWR_3_12',\n",
      "       'REP_ACT_PWR_3_13', 'REP_ACT_PWR_3_14', 'REP_ACT_PWR_3_15',\n",
      "       'REP_ACT_PWR_3_16', 'REP_ACT_PWR_3_17', 'REP_ACT_PWR_3_18'],\n",
      "      dtype='object')\n"
     ]
    }
   ],
   "source": [
    "## 3번 인물 출연작 추출\n",
    "\n",
    "c1 = 1\n",
    "for a1 in range(1,100):\n",
    "    movie_list_actordata_v5['REP_ACT_PWR_3_' + str(c1)] = movie_list_actordata_v5.REP_ACT_PWR_3.str.split(\"|\").str[c1-1]\n",
    "    if any(pd.notnull(movie_list_actordata_v5['REP_ACT_PWR_3_' + str(c1)]) == True) == False :\n",
    "        movie_list_actordata_v5.drop(['REP_ACT_PWR_3_' + str(c1)], axis= 1, inplace = True)\n",
    "        break\n",
    "    c1 = c1 + 1\n",
    "\n",
    "print(movie_list_actordata_v5.columns)\n",
    "movie_list_actordata_v6 = movie_list_actordata_v5"
   ]
  },
  {
   "cell_type": "code",
   "execution_count": 250,
   "metadata": {},
   "outputs": [
    {
     "name": "stdout",
     "output_type": "stream",
     "text": [
      "Index(['META_ID', 'REP_ACT_ID_1', 'REP_ACT_NM_1', 'REP_ACT_PRS_ROLE_NM_1',\n",
      "       'REP_ACT_PWR_1', 'REP_ACT_ID_2', 'REP_ACT_NM_2',\n",
      "       'REP_ACT_PRS_ROLE_NM_2', 'REP_ACT_PWR_2', 'REP_ACT_ID_3',\n",
      "       'REP_ACT_NM_3', 'REP_ACT_PRS_ROLE_NM_3', 'REP_ACT_PWR_3',\n",
      "       'REP_ACT_ID_4', 'REP_ACT_NM_4', 'REP_ACT_PRS_ROLE_NM_4',\n",
      "       'REP_ACT_PWR_4', 'REP_ACT_ID_5', 'REP_ACT_NM_5',\n",
      "       'REP_ACT_PRS_ROLE_NM_5', 'REP_ACT_PWR_5', 'REP_ACT_ID_6',\n",
      "       'REP_ACT_NM_6', 'REP_ACT_PRS_ROLE_NM_6', 'REP_ACT_PWR_6',\n",
      "       'REP_ACT_PWR_1_1', 'REP_ACT_PWR_1_2', 'REP_ACT_PWR_1_3',\n",
      "       'REP_ACT_PWR_1_4', 'REP_ACT_PWR_1_5', 'REP_ACT_PWR_1_6',\n",
      "       'REP_ACT_PWR_1_7', 'REP_ACT_PWR_1_8', 'REP_ACT_PWR_1_9',\n",
      "       'REP_ACT_PWR_1_10', 'REP_ACT_PWR_1_11', 'REP_ACT_PWR_1_12',\n",
      "       'REP_ACT_PWR_1_13', 'REP_ACT_PWR_1_14', 'REP_ACT_PWR_1_15',\n",
      "       'REP_ACT_PWR_1_16', 'REP_ACT_PWR_1_17', 'REP_ACT_PWR_1_18',\n",
      "       'REP_ACT_PWR_1_19', 'REP_ACT_PWR_1_20', 'REP_ACT_PWR_1_21',\n",
      "       'REP_ACT_PWR_2_1', 'REP_ACT_PWR_2_2', 'REP_ACT_PWR_2_3',\n",
      "       'REP_ACT_PWR_2_4', 'REP_ACT_PWR_2_5', 'REP_ACT_PWR_2_6',\n",
      "       'REP_ACT_PWR_2_7', 'REP_ACT_PWR_2_8', 'REP_ACT_PWR_2_9',\n",
      "       'REP_ACT_PWR_2_10', 'REP_ACT_PWR_2_11', 'REP_ACT_PWR_2_12',\n",
      "       'REP_ACT_PWR_2_13', 'REP_ACT_PWR_2_14', 'REP_ACT_PWR_2_15',\n",
      "       'REP_ACT_PWR_2_16', 'REP_ACT_PWR_2_17', 'REP_ACT_PWR_2_18',\n",
      "       'REP_ACT_PWR_2_19', 'REP_ACT_PWR_2_20', 'REP_ACT_PWR_2_21',\n",
      "       'REP_ACT_PWR_3_1', 'REP_ACT_PWR_3_2', 'REP_ACT_PWR_3_3',\n",
      "       'REP_ACT_PWR_3_4', 'REP_ACT_PWR_3_5', 'REP_ACT_PWR_3_6',\n",
      "       'REP_ACT_PWR_3_7', 'REP_ACT_PWR_3_8', 'REP_ACT_PWR_3_9',\n",
      "       'REP_ACT_PWR_3_10', 'REP_ACT_PWR_3_11', 'REP_ACT_PWR_3_12',\n",
      "       'REP_ACT_PWR_3_13', 'REP_ACT_PWR_3_14', 'REP_ACT_PWR_3_15',\n",
      "       'REP_ACT_PWR_3_16', 'REP_ACT_PWR_3_17', 'REP_ACT_PWR_3_18',\n",
      "       'REP_ACT_PWR_4_1', 'REP_ACT_PWR_4_2', 'REP_ACT_PWR_4_3',\n",
      "       'REP_ACT_PWR_4_4', 'REP_ACT_PWR_4_5', 'REP_ACT_PWR_4_6',\n",
      "       'REP_ACT_PWR_4_7', 'REP_ACT_PWR_4_8', 'REP_ACT_PWR_4_9',\n",
      "       'REP_ACT_PWR_4_10', 'REP_ACT_PWR_4_11', 'REP_ACT_PWR_4_12',\n",
      "       'REP_ACT_PWR_4_13'],\n",
      "      dtype='object')\n"
     ]
    }
   ],
   "source": [
    "## 4번 인물 출연작 추출\n",
    "\n",
    "d1 = 1\n",
    "for a1 in range(1,100):\n",
    "    movie_list_actordata_v6['REP_ACT_PWR_4_' + str(d1)] = movie_list_actordata_v6.REP_ACT_PWR_4.str.split(\"|\").str[d1-1]\n",
    "    if any(pd.notnull(movie_list_actordata_v6['REP_ACT_PWR_4_' + str(d1)]) == True) == False :\n",
    "        movie_list_actordata_v6.drop(['REP_ACT_PWR_4_' + str(d1)], axis= 1, inplace = True)\n",
    "        break\n",
    "    d1 = d1 + 1\n",
    "\n",
    "print(movie_list_actordata_v6.columns)\n",
    "movie_list_actordata_v7 = movie_list_actordata_v6"
   ]
  },
  {
   "cell_type": "code",
   "execution_count": 251,
   "metadata": {},
   "outputs": [
    {
     "name": "stdout",
     "output_type": "stream",
     "text": [
      "Index(['META_ID', 'REP_ACT_ID_1', 'REP_ACT_NM_1', 'REP_ACT_PRS_ROLE_NM_1',\n",
      "       'REP_ACT_PWR_1', 'REP_ACT_ID_2', 'REP_ACT_NM_2',\n",
      "       'REP_ACT_PRS_ROLE_NM_2', 'REP_ACT_PWR_2', 'REP_ACT_ID_3',\n",
      "       ...\n",
      "       'REP_ACT_PWR_5_5', 'REP_ACT_PWR_5_6', 'REP_ACT_PWR_5_7',\n",
      "       'REP_ACT_PWR_5_8', 'REP_ACT_PWR_5_9', 'REP_ACT_PWR_5_10',\n",
      "       'REP_ACT_PWR_5_11', 'REP_ACT_PWR_5_12', 'REP_ACT_PWR_5_13',\n",
      "       'REP_ACT_PWR_5_14'],\n",
      "      dtype='object', length=112)\n"
     ]
    }
   ],
   "source": [
    "## 5번 인물 출연작 추출\n",
    "\n",
    "e1 = 1\n",
    "for a1 in range(1,100):\n",
    "    movie_list_actordata_v7['REP_ACT_PWR_5_' + str(e1)] = movie_list_actordata_v7.REP_ACT_PWR_5.str.split(\"|\").str[e1-1]\n",
    "    if any(pd.notnull(movie_list_actordata_v7['REP_ACT_PWR_5_' + str(e1)]) == True) == False :\n",
    "        movie_list_actordata_v7.drop(['REP_ACT_PWR_5_' + str(e1)], axis= 1, inplace = True)\n",
    "        break\n",
    "    e1 = e1 + 1\n",
    "\n",
    "print(movie_list_actordata_v7.columns)\n",
    "movie_list_actordata_v8 = movie_list_actordata_v7"
   ]
  },
  {
   "cell_type": "code",
   "execution_count": 253,
   "metadata": {},
   "outputs": [
    {
     "name": "stdout",
     "output_type": "stream",
     "text": [
      "Index(['META_ID', 'REP_ACT_ID_1', 'REP_ACT_NM_1', 'REP_ACT_PRS_ROLE_NM_1',\n",
      "       'REP_ACT_PWR_1', 'REP_ACT_ID_2', 'REP_ACT_NM_2',\n",
      "       'REP_ACT_PRS_ROLE_NM_2', 'REP_ACT_PWR_2', 'REP_ACT_ID_3',\n",
      "       ...\n",
      "       'REP_ACT_PWR_5_10', 'REP_ACT_PWR_5_11', 'REP_ACT_PWR_5_12',\n",
      "       'REP_ACT_PWR_5_13', 'REP_ACT_PWR_5_14', 'REP_ACT_PWR_6_1',\n",
      "       'REP_ACT_PWR_6_2', 'REP_ACT_PWR_6_3', 'REP_ACT_PWR_6_4',\n",
      "       'REP_ACT_PWR_6_5'],\n",
      "      dtype='object', length=117)\n"
     ]
    }
   ],
   "source": [
    "print(movie_list_actordata_v7.columns)"
   ]
  },
  {
   "cell_type": "code",
   "execution_count": 252,
   "metadata": {},
   "outputs": [
    {
     "name": "stdout",
     "output_type": "stream",
     "text": [
      "Index(['META_ID', 'REP_ACT_ID_1', 'REP_ACT_NM_1', 'REP_ACT_PRS_ROLE_NM_1',\n",
      "       'REP_ACT_PWR_1', 'REP_ACT_ID_2', 'REP_ACT_NM_2',\n",
      "       'REP_ACT_PRS_ROLE_NM_2', 'REP_ACT_PWR_2', 'REP_ACT_ID_3',\n",
      "       ...\n",
      "       'REP_ACT_PWR_5_10', 'REP_ACT_PWR_5_11', 'REP_ACT_PWR_5_12',\n",
      "       'REP_ACT_PWR_5_13', 'REP_ACT_PWR_5_14', 'REP_ACT_PWR_6_1',\n",
      "       'REP_ACT_PWR_6_2', 'REP_ACT_PWR_6_3', 'REP_ACT_PWR_6_4',\n",
      "       'REP_ACT_PWR_6_5'],\n",
      "      dtype='object', length=117)\n"
     ]
    }
   ],
   "source": [
    "## 6번 인물 출연작 추출\n",
    "\n",
    "f1 = 1\n",
    "for a1 in range(1,100):\n",
    "    movie_list_actordata_v8['REP_ACT_PWR_6_' + str(f1)] = movie_list_actordata_v8.REP_ACT_PWR_6.str.split(\"|\").str[f1-1]\n",
    "    if any(pd.notnull(movie_list_actordata_v8['REP_ACT_PWR_6_' + str(f1)]) == True) == False :\n",
    "        movie_list_actordata_v8.drop(['REP_ACT_PWR_6_' + str(f1)], axis= 1, inplace = True)\n",
    "        break\n",
    "    f1 = f1 + 1\n",
    "\n",
    "print(movie_list_actordata_v8.columns)\n",
    "movie_list_actordata_v9 = movie_list_actordata_v8"
   ]
  },
  {
   "cell_type": "markdown",
   "metadata": {},
   "source": [
    "## 컬럼 위치 변경"
   ]
  },
  {
   "cell_type": "code",
   "execution_count": 256,
   "metadata": {},
   "outputs": [],
   "source": [
    "movie_list_actordata_v9 = movie_list_actordata_v9[[\n",
    "       'META_ID', 'REP_ACT_ID_1', 'REP_ACT_NM_1', 'REP_ACT_PRS_ROLE_NM_1',\n",
    "       'REP_ACT_PWR_1','REP_ACT_PWR_1_1', 'REP_ACT_PWR_1_2', 'REP_ACT_PWR_1_3',\n",
    "       'REP_ACT_PWR_1_4', 'REP_ACT_PWR_1_5', 'REP_ACT_PWR_1_6',\n",
    "       'REP_ACT_PWR_1_7', 'REP_ACT_PWR_1_8', 'REP_ACT_PWR_1_9',\n",
    "       'REP_ACT_PWR_1_10', 'REP_ACT_PWR_1_11', 'REP_ACT_PWR_1_12',\n",
    "       'REP_ACT_PWR_1_13', 'REP_ACT_PWR_1_14', 'REP_ACT_PWR_1_15',\n",
    "       'REP_ACT_PWR_1_16', 'REP_ACT_PWR_1_17', 'REP_ACT_PWR_1_18',\n",
    "       'REP_ACT_PWR_1_19', 'REP_ACT_PWR_1_20', 'REP_ACT_PWR_1_21',\n",
    "       'REP_ACT_ID_2', 'REP_ACT_NM_2',\n",
    "       'REP_ACT_PRS_ROLE_NM_2', 'REP_ACT_PWR_2','REP_ACT_PWR_2_1', 'REP_ACT_PWR_2_2', 'REP_ACT_PWR_2_3',\n",
    "       'REP_ACT_PWR_2_4', 'REP_ACT_PWR_2_5', 'REP_ACT_PWR_2_6',\n",
    "       'REP_ACT_PWR_2_7', 'REP_ACT_PWR_2_8', 'REP_ACT_PWR_2_9',\n",
    "       'REP_ACT_PWR_2_10', 'REP_ACT_PWR_2_11', 'REP_ACT_PWR_2_12',\n",
    "       'REP_ACT_PWR_2_13', 'REP_ACT_PWR_2_14', 'REP_ACT_PWR_2_15',\n",
    "       'REP_ACT_PWR_2_16', 'REP_ACT_PWR_2_17', 'REP_ACT_PWR_2_18',\n",
    "       'REP_ACT_PWR_2_19', 'REP_ACT_PWR_2_20', 'REP_ACT_PWR_2_21', \n",
    "        'REP_ACT_ID_3',\n",
    "       'REP_ACT_NM_3', 'REP_ACT_PRS_ROLE_NM_3', 'REP_ACT_PWR_3',\n",
    "         'REP_ACT_PWR_3_1', 'REP_ACT_PWR_3_2', 'REP_ACT_PWR_3_3',\n",
    "       'REP_ACT_PWR_3_4', 'REP_ACT_PWR_3_5', 'REP_ACT_PWR_3_6',\n",
    "       'REP_ACT_PWR_3_7', 'REP_ACT_PWR_3_8', 'REP_ACT_PWR_3_9',\n",
    "       'REP_ACT_PWR_3_10', 'REP_ACT_PWR_3_11', 'REP_ACT_PWR_3_12',\n",
    "       'REP_ACT_PWR_3_13', 'REP_ACT_PWR_3_14', 'REP_ACT_PWR_3_15',\n",
    "       'REP_ACT_PWR_3_16', 'REP_ACT_PWR_3_17', 'REP_ACT_PWR_3_18',\n",
    "       'REP_ACT_ID_4', 'REP_ACT_NM_4', 'REP_ACT_PRS_ROLE_NM_4',\n",
    "       'REP_ACT_PWR_4', 'REP_ACT_PWR_4_1', 'REP_ACT_PWR_4_2', 'REP_ACT_PWR_4_3',\n",
    "       'REP_ACT_PWR_4_4', 'REP_ACT_PWR_4_5', 'REP_ACT_PWR_4_6',\n",
    "       'REP_ACT_PWR_4_7', 'REP_ACT_PWR_4_8', 'REP_ACT_PWR_4_9',\n",
    "       'REP_ACT_PWR_4_10', 'REP_ACT_PWR_4_11', 'REP_ACT_PWR_4_12',\n",
    "       'REP_ACT_PWR_4_13',\n",
    "       'REP_ACT_ID_5', 'REP_ACT_NM_5',\n",
    "       'REP_ACT_PRS_ROLE_NM_5', 'REP_ACT_PWR_5','REP_ACT_PWR_5_1', 'REP_ACT_PWR_5_2', 'REP_ACT_PWR_5_3',\n",
    "       'REP_ACT_PWR_5_4', 'REP_ACT_PWR_5_5', 'REP_ACT_PWR_5_6', 'REP_ACT_PWR_5_7',\n",
    "       'REP_ACT_PWR_5_8', 'REP_ACT_PWR_5_9', 'REP_ACT_PWR_5_10',\n",
    "       'REP_ACT_PWR_5_11', 'REP_ACT_PWR_5_12', 'REP_ACT_PWR_5_13',\n",
    "       'REP_ACT_PWR_5_14',             \n",
    "       'REP_ACT_ID_6',\n",
    "       'REP_ACT_NM_6', 'REP_ACT_PRS_ROLE_NM_6', 'REP_ACT_PWR_6','REP_ACT_PWR_6_1',\n",
    "       'REP_ACT_PWR_6_2', 'REP_ACT_PWR_6_3', 'REP_ACT_PWR_6_4',\n",
    "       'REP_ACT_PWR_6_5'   \n",
    "]]"
   ]
  },
  {
   "cell_type": "markdown",
   "metadata": {},
   "source": [
    "## 병렬 처리 된 컬럼 삭제"
   ]
  },
  {
   "cell_type": "code",
   "execution_count": 258,
   "metadata": {},
   "outputs": [
    {
     "name": "stdout",
     "output_type": "stream",
     "text": [
      "Index(['META_ID', 'REP_ACT_ID_1', 'REP_ACT_NM_1', 'REP_ACT_PRS_ROLE_NM_1',\n",
      "       'REP_ACT_PWR_1_1', 'REP_ACT_PWR_1_2', 'REP_ACT_PWR_1_3',\n",
      "       'REP_ACT_PWR_1_4', 'REP_ACT_PWR_1_5', 'REP_ACT_PWR_1_6',\n",
      "       ...\n",
      "       'REP_ACT_PWR_5_13', 'REP_ACT_PWR_5_14', 'REP_ACT_ID_6', 'REP_ACT_NM_6',\n",
      "       'REP_ACT_PRS_ROLE_NM_6', 'REP_ACT_PWR_6_1', 'REP_ACT_PWR_6_2',\n",
      "       'REP_ACT_PWR_6_3', 'REP_ACT_PWR_6_4', 'REP_ACT_PWR_6_5'],\n",
      "      dtype='object', length=111)\n"
     ]
    }
   ],
   "source": [
    "movie_list_actordata_v10 =  movie_list_actordata_v9.drop(['REP_ACT_PWR_1','REP_ACT_PWR_2','REP_ACT_PWR_3','REP_ACT_PWR_4','REP_ACT_PWR_5','REP_ACT_PWR_6'], axis= 1)\n",
    "print(movie_list_actordata_v10.columns)"
   ]
  },
  {
   "cell_type": "markdown",
   "metadata": {},
   "source": [
    "### 최종 전처리 Dataframe - movie_list_actordata_v2"
   ]
  },
  {
   "cell_type": "code",
   "execution_count": 259,
   "metadata": {},
   "outputs": [],
   "source": [
    "import datetime as dt\n",
    "nowDate = dt.datetime.now()\n",
    "movie_list_actordata_v10.to_csv(\"data/movie_list_acctordata_preprocessing\" + \".csv\", mode='w', header=True, index=False, encoding='UTF-8')"
   ]
  },
  {
   "cell_type": "markdown",
   "metadata": {},
   "source": [
    "## "
   ]
  },
  {
   "cell_type": "markdown",
   "metadata": {},
   "source": [
    "## "
   ]
  },
  {
   "cell_type": "markdown",
   "metadata": {},
   "source": [
    "## 수상내역 rawdata목록 불러오기 - eh_meta_prizedata_200623_v0.1"
   ]
  },
  {
   "cell_type": "code",
   "execution_count": 260,
   "metadata": {},
   "outputs": [
    {
     "name": "stdout",
     "output_type": "stream",
     "text": [
      "Index(['META_ID', 'PRIZE_YN', 'PRIZE_CNT'], dtype='object')\n",
      "595\n",
      "        META_ID PRIZE_YN  PRIZE_CNT\n",
      "0  MM1000340018        Y          3\n",
      "1  MM1000329732        Y          1\n",
      "2  MM1000227591        Y          1\n",
      "3  MM1000167934        Y          4\n",
      "4  MM1000142829        Y          2\n"
     ]
    }
   ],
   "source": [
    "movie_list_prizedata = pd.read_csv('raw/eh_meta_prizedata_200623_v0.1.csv', encoding = 'UTF-8')\n",
    "print(movie_list_prizedata.columns)\n",
    "print(movie_list_prizedata.shape[0])\n",
    "print(movie_list_prizedata.head())"
   ]
  },
  {
   "cell_type": "markdown",
   "metadata": {},
   "source": [
    "### 최종 전처리 Dataframe - movie_list_prizedata"
   ]
  },
  {
   "cell_type": "code",
   "execution_count": 261,
   "metadata": {},
   "outputs": [],
   "source": [
    "import datetime as dt\n",
    "nowDate = dt.datetime.now()\n",
    "movie_list_prizedata.to_csv(\"data/movie_list_prizedata_preprocessing\" + \".csv\", mode='w', header=True, index=False, encoding='UTF-8')"
   ]
  },
  {
   "cell_type": "markdown",
   "metadata": {},
   "source": [
    "## "
   ]
  },
  {
   "cell_type": "markdown",
   "metadata": {},
   "source": [
    "## "
   ]
  },
  {
   "cell_type": "markdown",
   "metadata": {},
   "source": [
    "## 평점내역 rawdata목록 불러오기 - eh_meta_pointdata_200623_v0.1"
   ]
  },
  {
   "cell_type": "code",
   "execution_count": 262,
   "metadata": {},
   "outputs": [
    {
     "name": "stdout",
     "output_type": "stream",
     "text": [
      "Index(['META_ID', 'BTV_LIKE_NCNT', 'BTV_NGOOD_NCNT', 'BTV_PNT',\n",
      "       'WATCHA_EVAL_NCNT', 'WATCHA_RVW_PNT', 'CINE21_EVAL_NCNT',\n",
      "       'CINE21_NTNZ_PNT', 'CINE21_CRTC_PNT'],\n",
      "      dtype='object')\n",
      "595\n",
      "        META_ID  BTV_LIKE_NCNT  BTV_NGOOD_NCNT  BTV_PNT  WATCHA_EVAL_NCNT  \\\n",
      "0  MM1000131615        34540.0          1025.0      NaN           54616.0   \n",
      "1  MM1000143771            NaN             NaN      NaN            2017.0   \n",
      "2  MM1000160235           20.0             8.0      NaN             433.0   \n",
      "3  MM1000167168        15929.0          2911.0      NaN           78479.0   \n",
      "4  MM1000180060          326.0            64.0      NaN            5850.0   \n",
      "\n",
      "   WATCHA_RVW_PNT  CINE21_EVAL_NCNT  CINE21_NTNZ_PNT  CINE21_CRTC_PNT  \n",
      "0            3.62               4.0             7.33              8.0  \n",
      "1            3.25               2.0             6.00              6.0  \n",
      "2            2.79               1.0              NaN              6.0  \n",
      "3            3.25               9.0             5.75              6.8  \n",
      "4            3.45               6.0             6.50              7.0  \n"
     ]
    }
   ],
   "source": [
    "movie_list_pointdata = pd.read_csv('raw/eh_meta_pointdata_200623_v0.1.csv', encoding = 'UTF-8')\n",
    "print(movie_list_pointdata.columns)\n",
    "print(movie_list_pointdata.shape[0])\n",
    "print(movie_list_pointdata.head())"
   ]
  },
  {
   "cell_type": "markdown",
   "metadata": {},
   "source": [
    "## 불필요한 컬럼 삭제"
   ]
  },
  {
   "cell_type": "code",
   "execution_count": 263,
   "metadata": {},
   "outputs": [
    {
     "name": "stdout",
     "output_type": "stream",
     "text": [
      "Index(['META_ID', 'BTV_LIKE_NCNT', 'BTV_NGOOD_NCNT', 'WATCHA_EVAL_NCNT',\n",
      "       'WATCHA_RVW_PNT', 'CINE21_EVAL_NCNT', 'CINE21_NTNZ_PNT',\n",
      "       'CINE21_CRTC_PNT'],\n",
      "      dtype='object')\n",
      "        META_ID  BTV_LIKE_NCNT  BTV_NGOOD_NCNT  WATCHA_EVAL_NCNT  \\\n",
      "0  MM1000131615        34540.0          1025.0           54616.0   \n",
      "1  MM1000143771            NaN             NaN            2017.0   \n",
      "2  MM1000160235           20.0             8.0             433.0   \n",
      "3  MM1000167168        15929.0          2911.0           78479.0   \n",
      "4  MM1000180060          326.0            64.0            5850.0   \n",
      "\n",
      "   WATCHA_RVW_PNT  CINE21_EVAL_NCNT  CINE21_NTNZ_PNT  CINE21_CRTC_PNT  \n",
      "0            3.62               4.0             7.33              8.0  \n",
      "1            3.25               2.0             6.00              6.0  \n",
      "2            2.79               1.0              NaN              6.0  \n",
      "3            3.25               9.0             5.75              6.8  \n",
      "4            3.45               6.0             6.50              7.0  \n"
     ]
    }
   ],
   "source": [
    "movie_list_pointdata_v1 =  movie_list_pointdata.drop(['BTV_PNT'], axis= 1)\n",
    "print(movie_list_pointdata_v1.columns)\n",
    "print(movie_list_pointdata_v1.head())"
   ]
  },
  {
   "cell_type": "markdown",
   "metadata": {},
   "source": [
    "### 최종 전처리 Dataframe - movie_list_pointdata_v1"
   ]
  },
  {
   "cell_type": "code",
   "execution_count": 264,
   "metadata": {},
   "outputs": [],
   "source": [
    "import datetime as dt\n",
    "nowDate = dt.datetime.now()\n",
    "movie_list_pointdata_v1.to_csv(\"data/movie_list_pointdata_preprocessing\" + \".csv\", mode='w', header=True, index=False, encoding='UTF-8')"
   ]
  },
  {
   "cell_type": "markdown",
   "metadata": {},
   "source": [
    "## "
   ]
  },
  {
   "cell_type": "markdown",
   "metadata": {},
   "source": [
    "## "
   ]
  },
  {
   "cell_type": "markdown",
   "metadata": {},
   "source": [
    "## 리뷰내역 rawdata목록 불러오기 - eh_meta_rvwdata_200623_v0.1"
   ]
  },
  {
   "cell_type": "code",
   "execution_count": 265,
   "metadata": {},
   "outputs": [
    {
     "name": "stdout",
     "output_type": "stream",
     "text": [
      "Index(['META_ID', 'META_TITLE', 'SUB_TITLE', 'ENGL_TITLE', 'SNSS_CTS',\n",
      "       'CINE21_CTSC_NM', 'CINE21_COMT_CTSC'],\n",
      "      dtype='object')\n",
      "595\n",
      "        META_ID        META_TITLE SUB_TITLE             ENGL_TITLE  \\\n",
      "0  MM1000103011           돈 겟 아웃!       NaN         Don't Get Out!   \n",
      "1  MM1000109497  미션 이스탄불 5: 더 파이널       NaN              Fegefeuer   \n",
      "2  MM1000114876        완벽한 그녀의 비밀       NaN       The Perfect Girl   \n",
      "3  MM1000115034        디스 크레이지 하트       NaN       This Crazy Heart   \n",
      "4  MM1000115408       레인보우: 나의 사랑       NaN  Una questione privata   \n",
      "\n",
      "                                            SNSS_CTS CINE21_CTSC_NM  \\\n",
      "0  폭탄이 설치된 차량, 가족을 구해야 한다.\\r\\n결혼기념일을 맞이하여 집에 돌아온 ...            NaN   \n",
      "1  무장한 테러범들이 방송국을 급습하는 사건이 온 도시를 발칵 뒤집고 피랫의 석방을 요...        김현수|박평식   \n",
      "2  아름다운 여대생 ‘예신’은 멋진 남자친구 ‘미아오’와 연애중이다.\\r\\n어느 날 폭...            NaN   \n",
      "3                         불치병 소년과 바람둥이 청년의 우정을 그린 영화            NaN   \n",
      "4  모든 사람이 꿈꾸어 왔던 소설\\r\\n20세기 이탈리안들이 가슴에 품은 단 하나의 러...            이주현   \n",
      "\n",
      "            CINE21_COMT_CTSC  \n",
      "0                        NaN  \n",
      "1  뭉그적뭉그적 미션|제철 지난 독일판 <테이큰>  \n",
      "2                        NaN  \n",
      "3                        NaN  \n",
      "4    스크린 너머로는 전해지지 않는 사랑의 열병  \n"
     ]
    }
   ],
   "source": [
    "movie_list_rvwdata = pd.read_csv('raw/eh_meta_rvwdata_200623_v0.1.csv', encoding = 'UTF-8')\n",
    "print(movie_list_rvwdata.columns)\n",
    "print(movie_list_rvwdata.shape[0])\n",
    "print(movie_list_rvwdata.head())"
   ]
  },
  {
   "cell_type": "markdown",
   "metadata": {},
   "source": [
    "## 불필요한 컬럼 삭제"
   ]
  },
  {
   "cell_type": "code",
   "execution_count": 266,
   "metadata": {},
   "outputs": [
    {
     "name": "stdout",
     "output_type": "stream",
     "text": [
      "Index(['META_ID', 'SNSS_CTS', 'CINE21_COMT_CTSC'], dtype='object')\n",
      "        META_ID                                           SNSS_CTS  \\\n",
      "0  MM1000103011  폭탄이 설치된 차량, 가족을 구해야 한다.\\r\\n결혼기념일을 맞이하여 집에 돌아온 ...   \n",
      "1  MM1000109497  무장한 테러범들이 방송국을 급습하는 사건이 온 도시를 발칵 뒤집고 피랫의 석방을 요...   \n",
      "2  MM1000114876  아름다운 여대생 ‘예신’은 멋진 남자친구 ‘미아오’와 연애중이다.\\r\\n어느 날 폭...   \n",
      "3  MM1000115034                         불치병 소년과 바람둥이 청년의 우정을 그린 영화   \n",
      "4  MM1000115408  모든 사람이 꿈꾸어 왔던 소설\\r\\n20세기 이탈리안들이 가슴에 품은 단 하나의 러...   \n",
      "\n",
      "            CINE21_COMT_CTSC  \n",
      "0                        NaN  \n",
      "1  뭉그적뭉그적 미션|제철 지난 독일판 <테이큰>  \n",
      "2                        NaN  \n",
      "3                        NaN  \n",
      "4    스크린 너머로는 전해지지 않는 사랑의 열병  \n"
     ]
    }
   ],
   "source": [
    "movie_list_rvwdata_v1 =  movie_list_rvwdata.drop(['META_TITLE','SUB_TITLE','ENGL_TITLE','CINE21_CTSC_NM'], axis= 1)\n",
    "print(movie_list_rvwdata_v1.columns)\n",
    "print(movie_list_rvwdata_v1.head())"
   ]
  },
  {
   "cell_type": "markdown",
   "metadata": {},
   "source": [
    "## 씨네21전문가리뷰 (CINE21_COMT_CTSC) 병렬 처리"
   ]
  },
  {
   "cell_type": "code",
   "execution_count": 267,
   "metadata": {},
   "outputs": [
    {
     "name": "stdout",
     "output_type": "stream",
     "text": [
      "Index(['META_ID', 'SNSS_CTS', 'CINE21_COMT_CTSC', 'CINE21_COMT_CTSC_1',\n",
      "       'CINE21_COMT_CTSC_2', 'CINE21_COMT_CTSC_3', 'CINE21_COMT_CTSC_4',\n",
      "       'CINE21_COMT_CTSC_5', 'CINE21_COMT_CTSC_6', 'CINE21_COMT_CTSC_7',\n",
      "       'CINE21_COMT_CTSC_8', 'CINE21_COMT_CTSC_9', 'CINE21_COMT_CTSC_10',\n",
      "       'CINE21_COMT_CTSC_11'],\n",
      "      dtype='object')\n",
      "        META_ID                                           SNSS_CTS  \\\n",
      "0  MM1000103011  폭탄이 설치된 차량, 가족을 구해야 한다.\\r\\n결혼기념일을 맞이하여 집에 돌아온 ...   \n",
      "1  MM1000109497  무장한 테러범들이 방송국을 급습하는 사건이 온 도시를 발칵 뒤집고 피랫의 석방을 요...   \n",
      "2  MM1000114876  아름다운 여대생 ‘예신’은 멋진 남자친구 ‘미아오’와 연애중이다.\\r\\n어느 날 폭...   \n",
      "3  MM1000115034                         불치병 소년과 바람둥이 청년의 우정을 그린 영화   \n",
      "4  MM1000115408  모든 사람이 꿈꾸어 왔던 소설\\r\\n20세기 이탈리안들이 가슴에 품은 단 하나의 러...   \n",
      "\n",
      "            CINE21_COMT_CTSC       CINE21_COMT_CTSC_1 CINE21_COMT_CTSC_2  \\\n",
      "0                        NaN                      NaN                NaN   \n",
      "1  뭉그적뭉그적 미션|제철 지난 독일판 <테이큰>                뭉그적뭉그적 미션    제철 지난 독일판 <테이큰>   \n",
      "2                        NaN                      NaN                NaN   \n",
      "3                        NaN                      NaN                NaN   \n",
      "4    스크린 너머로는 전해지지 않는 사랑의 열병  스크린 너머로는 전해지지 않는 사랑의 열병                NaN   \n",
      "\n",
      "  CINE21_COMT_CTSC_3 CINE21_COMT_CTSC_4 CINE21_COMT_CTSC_5 CINE21_COMT_CTSC_6  \\\n",
      "0                NaN                NaN                NaN                NaN   \n",
      "1                NaN                NaN                NaN                NaN   \n",
      "2                NaN                NaN                NaN                NaN   \n",
      "3                NaN                NaN                NaN                NaN   \n",
      "4                NaN                NaN                NaN                NaN   \n",
      "\n",
      "  CINE21_COMT_CTSC_7 CINE21_COMT_CTSC_8 CINE21_COMT_CTSC_9  \\\n",
      "0                NaN                NaN                NaN   \n",
      "1                NaN                NaN                NaN   \n",
      "2                NaN                NaN                NaN   \n",
      "3                NaN                NaN                NaN   \n",
      "4                NaN                NaN                NaN   \n",
      "\n",
      "  CINE21_COMT_CTSC_10 CINE21_COMT_CTSC_11  \n",
      "0                 NaN                 NaN  \n",
      "1                 NaN                 NaN  \n",
      "2                 NaN                 NaN  \n",
      "3                 NaN                 NaN  \n",
      "4                 NaN                 NaN  \n"
     ]
    }
   ],
   "source": [
    "r1 = 1\n",
    "for i1 in range(1,100):\n",
    "    movie_list_rvwdata_v1['CINE21_COMT_CTSC_' + str(r1)] = movie_list_rvwdata_v1.CINE21_COMT_CTSC.str.split(\"|\").str[r1-1]\n",
    "    if any(pd.notnull(movie_list_rvwdata_v1['CINE21_COMT_CTSC_' + str(r1)]) == True) == False :\n",
    "        movie_list_rvwdata_v1.drop(['CINE21_COMT_CTSC_' + str(r1)], axis= 1, inplace = True)\n",
    "        break\n",
    "    r1 = r1 + 1\n",
    "    \n",
    "print(movie_list_rvwdata_v1.columns)\n",
    "print(movie_list_rvwdata_v1.head())"
   ]
  },
  {
   "cell_type": "markdown",
   "metadata": {},
   "source": [
    "## 씨네21전문가리뷰 (CINE21_COMT_CTSC) 컬럼 삭제"
   ]
  },
  {
   "cell_type": "code",
   "execution_count": 268,
   "metadata": {},
   "outputs": [
    {
     "name": "stdout",
     "output_type": "stream",
     "text": [
      "Index(['META_ID', 'SNSS_CTS', 'CINE21_COMT_CTSC_1', 'CINE21_COMT_CTSC_2',\n",
      "       'CINE21_COMT_CTSC_3', 'CINE21_COMT_CTSC_4', 'CINE21_COMT_CTSC_5',\n",
      "       'CINE21_COMT_CTSC_6', 'CINE21_COMT_CTSC_7', 'CINE21_COMT_CTSC_8',\n",
      "       'CINE21_COMT_CTSC_9', 'CINE21_COMT_CTSC_10', 'CINE21_COMT_CTSC_11'],\n",
      "      dtype='object')\n"
     ]
    }
   ],
   "source": [
    "movie_list_rvwdata_v2 =  movie_list_rvwdata_v1.drop(['CINE21_COMT_CTSC'], axis= 1)\n",
    "print(movie_list_rvwdata_v2.columns)"
   ]
  },
  {
   "cell_type": "markdown",
   "metadata": {},
   "source": [
    "### 최종 전처리 Dataframe - movie_list_rvwdata_v2"
   ]
  },
  {
   "cell_type": "code",
   "execution_count": 269,
   "metadata": {},
   "outputs": [],
   "source": [
    "import datetime as dt\n",
    "nowDate = dt.datetime.now()\n",
    "movie_list_rvwdata_v2.to_csv(\"data/movie_list_rvwdata_preprocessing\" + \".csv\", mode='w', header=True, index=False, encoding='UTF-8')"
   ]
  },
  {
   "cell_type": "markdown",
   "metadata": {},
   "source": [
    "## "
   ]
  },
  {
   "cell_type": "markdown",
   "metadata": {},
   "source": [
    "## "
   ]
  }
 ],
 "metadata": {
  "kernelspec": {
   "display_name": "Python 3.7.3 (Global)",
   "language": "python",
   "name": "python3"
  },
  "language_info": {
   "codemirror_mode": {
    "name": "ipython",
    "version": 3
   },
   "file_extension": ".py",
   "mimetype": "text/x-python",
   "name": "python",
   "nbconvert_exporter": "python",
   "pygments_lexer": "ipython3",
   "version": "3.7.3"
  }
 },
 "nbformat": 4,
 "nbformat_minor": 4
}

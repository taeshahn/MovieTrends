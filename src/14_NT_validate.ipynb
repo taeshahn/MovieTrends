{
 "cells": [
  {
   "cell_type": "markdown",
   "metadata": {},
   "source": [
    "# NAVER TRENDS CRAWLING"
   ]
  },
  {
   "cell_type": "code",
   "execution_count": null,
   "metadata": {},
   "outputs": [],
   "source": [
    "%run ./MovieTrends/src/11_NT_define.ipynb"
   ]
  },
  {
   "cell_type": "code",
   "execution_count": null,
   "metadata": {},
   "outputs": [],
   "source": [
    "api_info = {\n",
    "    \"client_id\": \"fe5kOiBVrMopPhGmaeeh\",\n",
    "    \"client_secret\": \"zauzLV_BPn\",\n",
    "    \"url\": \"https://openapi.naver.com/v1/datalab/search\"\n",
    "}"
   ]
  },
  {
   "cell_type": "code",
   "execution_count": null,
   "metadata": {},
   "outputs": [],
   "source": [
    "api_info = {\n",
    "    \"client_id\": \"6GPEYsepjIil0OCSMnU5\",\n",
    "    \"client_secret\": \"QUd5qt5QU9\",\n",
    "    \"url\": \"https://openapi.naver.com/v1/datalab/search\"\n",
    "}"
   ]
  },
  {
   "cell_type": "code",
   "execution_count": null,
   "metadata": {},
   "outputs": [],
   "source": [
    "mv2019 = pd.read_table(\"~/MovieTrends/data/movie_list_200602.csv\", sep = \",\", encoding = \"EUC-KR\", header=0, names = [\"Title\", \"Subtitle\", \"TitleEn\", \"OpenDate\", \"Count\"])\n",
    "mv2019.OpenDate = pd.Series([pd.Timestamp(datetime.strptime(i, '%Y%m%d')) for i in map(str, mv2019.OpenDate)])\n",
    "mv2019 = mv2019[[\"Title\", \"OpenDate\"]]"
   ]
  },
  {
   "cell_type": "code",
   "execution_count": null,
   "metadata": {},
   "outputs": [],
   "source": [
    "NT = NaverTrend()\n",
    "NT.set_api_info(api_info)\n",
    "NT.load_data(mv2019)"
   ]
  },
  {
   "cell_type": "markdown",
   "metadata": {},
   "source": [
    "### Check Scaling Method: MaxAbsScaling"
   ]
  },
  {
   "cell_type": "code",
   "execution_count": null,
   "metadata": {},
   "outputs": [],
   "source": [
    "result_minmax = NT.get_trend([\"백두산\", \"말모이\", \"시동\", \"82년생 김지영\", \"감쪽같은 그녀\"])\n",
    "result_min = NT.get_trend([\"감쪽같은 그녀\", \"말모이\", \"시동\", \"82년생 김지영\"])\n",
    "result_max = NT.get_trend([\"백두산\", \"말모이\", \"시동\", \"82년생 김지영\"])\n",
    "result_1 = NT.get_trend([\"백두산\", \"말모이\"])\n",
    "result_2 = NT.get_trend([\"백두산\", \"시동\"])\n",
    "result_3 = NT.get_trend([\"백두산\", \"82년생 김지영\"])"
   ]
  },
  {
   "cell_type": "code",
   "execution_count": null,
   "metadata": {},
   "outputs": [],
   "source": [
    "cknx1 = result_minmax[result_minmax.Keyword == \"말모이\"].merge(result_1, how=\"left\", left_on=[\"Keyword\", \"Time\"], right_on=[\"Keyword\", \"Time\"])\n",
    "cknx2 = result_minmax[result_minmax.Keyword == \"시동\"].merge(result_2, how=\"left\", left_on=[\"Keyword\", \"Time\"], right_on=[\"Keyword\", \"Time\"])\n",
    "cknx3 = result_minmax[result_minmax.Keyword == \"82년생 김지영\"].merge(result_3, how=\"left\", left_on=[\"Keyword\", \"Time\"], right_on=[\"Keyword\", \"Time\"])\n",
    "print(sum(cknx1[\"TrendIndex_x\"] != cknx1[\"TrendIndex_y\"]))\n",
    "print(sum(cknx2[\"TrendIndex_x\"] != cknx2[\"TrendIndex_y\"]))\n",
    "print(sum(cknx3[\"TrendIndex_x\"] != cknx3[\"TrendIndex_y\"]))"
   ]
  },
  {
   "cell_type": "code",
   "execution_count": null,
   "metadata": {},
   "outputs": [],
   "source": [
    "ckx1 = result_max[result_max.Keyword == \"말모이\"].merge(result_1, how=\"left\", left_on=[\"Keyword\", \"Time\"], right_on=[\"Keyword\", \"Time\"])\n",
    "ckx2 = result_max[result_max.Keyword == \"시동\"].merge(result_2, how=\"left\", left_on=[\"Keyword\", \"Time\"], right_on=[\"Keyword\", \"Time\"])\n",
    "ckx3 = result_max[result_max.Keyword == \"82년생 김지영\"].merge(result_3, how=\"left\", left_on=[\"Keyword\", \"Time\"], right_on=[\"Keyword\", \"Time\"])\n",
    "print(sum(ckx1[\"TrendIndex_x\"] != ckx1[\"TrendIndex_y\"]))\n",
    "print(sum(ckx2[\"TrendIndex_x\"] != ckx2[\"TrendIndex_y\"]))\n",
    "print(sum(ckx3[\"TrendIndex_x\"] != ckx3[\"TrendIndex_y\"]))"
   ]
  },
  {
   "cell_type": "code",
   "execution_count": null,
   "metadata": {},
   "outputs": [],
   "source": [
    "ckn1 = result_min[result_min.Keyword == \"말모이\"].merge(result_1, how=\"left\", left_on=[\"Keyword\", \"Time\"], right_on=[\"Keyword\", \"Time\"])\n",
    "ckn2 = result_min[result_min.Keyword == \"시동\"].merge(result_2, how=\"left\", left_on=[\"Keyword\", \"Time\"], right_on=[\"Keyword\", \"Time\"])\n",
    "ckn3 = result_min[result_min.Keyword == \"82년생 김지영\"].merge(result_3, how=\"left\", left_on=[\"Keyword\", \"Time\"], right_on=[\"Keyword\", \"Time\"])\n",
    "print(sum(ckn1[\"TrendIndex_x\"] != ckn1[\"TrendIndex_y\"]))\n",
    "print(sum(ckn2[\"TrendIndex_x\"] != ckn2[\"TrendIndex_y\"]))\n",
    "print(sum(ckn3[\"TrendIndex_x\"] != ckn3[\"TrendIndex_y\"]))"
   ]
  },
  {
   "cell_type": "markdown",
   "metadata": {},
   "source": [
    "### The number of API Calls Needed to Find max_movie"
   ]
  },
  {
   "cell_type": "markdown",
   "metadata": {},
   "source": [
    "#### Exact Number"
   ]
  },
  {
   "cell_type": "code",
   "execution_count": null,
   "metadata": {},
   "outputs": [],
   "source": [
    "import math\n",
    "def n_call(n_item, cnt = 0):\n",
    "    temp = math.ceil(n_item/5)\n",
    "    cnt = cnt + temp\n",
    "    if temp == 1:\n",
    "        return(cnt)\n",
    "    else:\n",
    "        return(n_call(temp, cnt))"
   ]
  },
  {
   "cell_type": "code",
   "execution_count": null,
   "metadata": {},
   "outputs": [],
   "source": [
    "n_call(len(NT.movie_list_full))"
   ]
  },
  {
   "cell_type": "markdown",
   "metadata": {},
   "source": [
    "#### Diff between the exact number of calls needed and approximation"
   ]
  },
  {
   "cell_type": "code",
   "execution_count": null,
   "metadata": {},
   "outputs": [],
   "source": [
    "import random\n",
    "d = [random.randint(100000000, 1000000000) for _ in range(10000)]\n",
    "x = [n_call(i) for i in d]\n",
    "y = [i/4 for i in d]\n",
    "\n",
    "diff = [abs(i-j) for i, j in zip(x, y)]\n",
    "sum(diff)/len(diff)"
   ]
  }
 ],
 "metadata": {
  "kernelspec": {
   "display_name": "Python 3.7.3 (miniconda)",
   "language": "python",
   "name": "python3-mc"
  },
  "language_info": {
   "codemirror_mode": {
    "name": "ipython",
    "version": 3
   },
   "file_extension": ".py",
   "mimetype": "text/x-python",
   "name": "python",
   "nbconvert_exporter": "python",
   "pygments_lexer": "ipython3",
   "version": "3.7.6-final"
  }
 },
 "nbformat": 4,
 "nbformat_minor": 4
}
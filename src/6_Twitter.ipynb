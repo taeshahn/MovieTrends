{
 "cells": [
  {
   "cell_type": "markdown",
   "metadata": {},
   "source": [
    "# TWITTER CRAWLING"
   ]
  },
  {
   "cell_type": "markdown",
   "metadata": {},
   "source": [
    "* 공식 API Tweepy 제공\n",
    "* 무료 requests 검색 기간 제한 (최근 7일)\n",
    "* 유료 $149 for 500 requests / 99$ for 100 requests"
   ]
  },
  {
   "cell_type": "code",
   "execution_count": 17,
   "metadata": {},
   "outputs": [],
   "source": [
    "try:\n",
    "    import GetOldTweets3 as got\n",
    "except:\n",
    "    !conda install GetOldTweets3\n",
    "    import GetOldTweets3 as got"
   ]
  },
  {
   "cell_type": "code",
   "execution_count": 2,
   "metadata": {},
   "outputs": [],
   "source": [
    "try:\n",
    "    from bs4 import BeautifulSoup\n",
    "except:\n",
    "    !conda install bs4\n",
    "    from bs4 import BeautifulSoup"
   ]
  },
  {
   "cell_type": "code",
   "execution_count": 5,
   "metadata": {},
   "outputs": [
    {
     "name": "stdout",
     "output_type": "stream",
     "text": [
      "=== 설정된 트윗 수집 기간은 2019-04-21 에서 2019-04-21 까지 입니다 ===\n",
      "=== 총 1일 간의 데이터 수집 ===\n"
     ]
    }
   ],
   "source": [
    "import datetime\n",
    "\n",
    "days_range = []\n",
    "\n",
    "start = datetime.datetime.strptime(\"2019-04-21\", \"%Y-%m-%d\")\n",
    "end = datetime.datetime.strptime(\"2019-04-22\", \"%Y-%m-%d\")\n",
    "date_generated = [start + datetime.timedelta(days=x) for x in range(0, (end-start).days)]\n",
    "\n",
    "for date in date_generated:\n",
    "    days_range.append(date.strftime(\"%Y-%m-%d\"))\n",
    "\n",
    "print(\"=== 설정된 트윗 수집 기간은 {} 에서 {} 까지 입니다 ===\".format(days_range[0], days_range[-1]))\n",
    "print(\"=== 총 {}일 간의 데이터 수집 ===\".format(len(days_range)))"
   ]
  },
  {
   "cell_type": "code",
   "execution_count": 6,
   "metadata": {},
   "outputs": [
    {
     "name": "stdout",
     "output_type": "stream",
     "text": [
      "Collecting data start.. from 2019-04-21 to 2019-04-21\n",
      "Collecting data end.. 1.46 Minutes\n",
      "=== Total num of tweets is 2034 ===\n"
     ]
    }
   ],
   "source": [
    "import time\n",
    "\n",
    "# 수집 기간 맞추기\n",
    "start_date = days_range[0]\n",
    "end_date = (datetime.datetime.strptime(days_range[-1], \"%Y-%m-%d\") \n",
    "            + datetime.timedelta(days=1)).strftime(\"%Y-%m-%d\") # setUntil이 끝을 포함하지 않으므로, day + 1\n",
    "\n",
    "# 트윗 수집 기준 정의\n",
    "tweetCriteria = got.manager.TweetCriteria().setQuerySearch('어벤져스 OR 스포')\\\n",
    "                                           .setSince(start_date)\\\n",
    "                                           .setUntil(end_date)\\\n",
    "                                           .setMaxTweets(-1)\n",
    "\n",
    "# 수집 with GetOldTweet3\n",
    "print(\"Collecting data start.. from {} to {}\".format(days_range[0], days_range[-1]))\n",
    "start_time = time.time()\n",
    "\n",
    "tweet = got.manager.TweetManager.getTweets(tweetCriteria)\n",
    "\n",
    "print(\"Collecting data end.. {0:0.2f} Minutes\".format((time.time() - start_time)/60))\n",
    "print(\"=== Total num of tweets is {} ===\".format(len(tweet)))"
   ]
  },
  {
   "cell_type": "code",
   "execution_count": 8,
   "metadata": {},
   "outputs": [
    {
     "name": "stderr",
     "output_type": "stream",
     "text": [
      "/home/jupyter-tshahn2020/miniconda3/lib/python3.7/site-packages/ipykernel_launcher.py:9: TqdmDeprecationWarning: This function will be removed in tqdm==5.0.0\n",
      "Please use `tqdm.notebook.tqdm` instead of `tqdm.tqdm_notebook`\n",
      "  if __name__ == '__main__':\n"
     ]
    },
    {
     "data": {
      "application/vnd.jupyter.widget-view+json": {
       "model_id": "2812fdcbe4044f49b1c4964f8536c66b",
       "version_major": 2,
       "version_minor": 0
      },
      "text/plain": [
       "HBox(children=(FloatProgress(value=0.0, max=2034.0), HTML(value='')))"
      ]
     },
     "metadata": {},
     "output_type": "display_data"
    },
    {
     "name": "stdout",
     "output_type": "stream",
     "text": [
      "\n"
     ]
    }
   ],
   "source": [
    "# 원하는 변수 골라서 저장하기\n",
    "\n",
    "from random import uniform\n",
    "from tqdm import tqdm_notebook\n",
    "\n",
    "# initialize\n",
    "tweet_list = []\n",
    "\n",
    "for index in tqdm_notebook(tweet):\n",
    "    \n",
    "    # 메타데이터 목록 \n",
    "    username = index.username\n",
    "    link = index.permalink \n",
    "    content = index.text\n",
    "    tweet_date = index.date.strftime(\"%Y-%m-%d\")\n",
    "    tweet_time = index.date.strftime(\"%H:%M:%S\")\n",
    "    retweets = index.retweets\n",
    "    favorites = index.favorites\n",
    "    \n",
    "    # === 유저 정보 수집 시작 ===\n",
    "#     try:\n",
    "#         personal_link = 'https://twitter.com/' + username\n",
    "#         bs_obj = get_bs_obj(personal_link)\n",
    "#         uls = bs_obj.find(\"ul\", {\"class\": \"ProfileNav-list\"}).find_all(\"li\")\n",
    "#         div = bs_obj.find(\"div\", {\"class\": \"ProfileHeaderCard-joinDate\"}).find_all(\"span\")[1][\"title\"]\n",
    "\n",
    "\n",
    "#         # 가입일, 전체 트윗 수, 팔로잉 수, 팔로워 수\n",
    "#         joined_date = div.split('-')[1].strip()\n",
    "#         num_tweets = uls[0].find(\"span\", {\"class\": \"ProfileNav-value\"}).text.strip()\n",
    "#         num_following = uls[1].find(\"span\", {\"class\": \"ProfileNav-value\"}).text.strip()\n",
    "#         num_follower = uls[2].find(\"span\", {\"class\": \"ProfileNav-value\"}).text.strip()\n",
    "    \n",
    "#     except AttributeError:\n",
    "#         print(\"=== Attribute error occurs at {} ===\".format(link))\n",
    "#         print(\"link : {}\".format(personal_link))   \n",
    "#         pass\n",
    "     \n",
    "    # 결과 합치기\n",
    "    info_list = [tweet_date, tweet_time, username, content, link, retweets, favorites]\n",
    "#     info_list = [tweet_date, tweet_time, username, content, link, retweets, favorites,\n",
    "#                  joined_date, num_tweets, num_following, num_follower]\n",
    "    tweet_list.append(info_list)\n",
    "    \n",
    "    # 휴식 \n",
    "    time.sleep(uniform(1,2))"
   ]
  },
  {
   "cell_type": "code",
   "execution_count": 9,
   "metadata": {},
   "outputs": [],
   "source": [
    "import pandas as pd\n",
    "\n",
    "twitter_df = pd.DataFrame(tweet_list, \n",
    "                          columns = [\"date\", \"time\", \"user_name\", \"text\", \"link\", \"retweet_counts\", \"favorite_counts\"])\n",
    "#                           columns = [\"date\", \"time\", \"user_name\", \"text\", \"link\", \"retweet_counts\", \"favorite_counts\",\n",
    "#                                     \"user_created\", \"user_tweets\", \"user_followings\", \"user_followers\"])"
   ]
  },
  {
   "cell_type": "code",
   "execution_count": 19,
   "metadata": {},
   "outputs": [
    {
     "data": {
      "text/html": [
       "<div>\n",
       "<style scoped>\n",
       "    .dataframe tbody tr th:only-of-type {\n",
       "        vertical-align: middle;\n",
       "    }\n",
       "\n",
       "    .dataframe tbody tr th {\n",
       "        vertical-align: top;\n",
       "    }\n",
       "\n",
       "    .dataframe thead th {\n",
       "        text-align: right;\n",
       "    }\n",
       "</style>\n",
       "<table border=\"1\" class=\"dataframe\">\n",
       "  <thead>\n",
       "    <tr style=\"text-align: right;\">\n",
       "      <th></th>\n",
       "      <th>date</th>\n",
       "      <th>time</th>\n",
       "      <th>user_name</th>\n",
       "      <th>text</th>\n",
       "      <th>link</th>\n",
       "      <th>retweet_counts</th>\n",
       "      <th>favorite_counts</th>\n",
       "    </tr>\n",
       "  </thead>\n",
       "  <tbody>\n",
       "    <tr>\n",
       "      <th>0</th>\n",
       "      <td>2019-04-21</td>\n",
       "      <td>23:59:32</td>\n",
       "      <td>Ethics_ru</td>\n",
       "      <td>아늬 스포ㅡ츠 속옷 업는데 내가 굳이 결핵검사 하겟다고 그걸 사야하나</td>\n",
       "      <td>https://twitter.com/Ethics_ru/status/112011487...</td>\n",
       "      <td>0</td>\n",
       "      <td>0</td>\n",
       "    </tr>\n",
       "    <tr>\n",
       "      <th>1</th>\n",
       "      <td>2019-04-21</td>\n",
       "      <td>23:56:31</td>\n",
       "      <td>happyand___</td>\n",
       "      <td>가서 스포해달라고하니까 스포요? 하고 망설이길래 아직 안하나싶어서 연습아직 안하냐고...</td>\n",
       "      <td>https://twitter.com/happyand___/status/1120114...</td>\n",
       "      <td>0</td>\n",
       "      <td>0</td>\n",
       "    </tr>\n",
       "    <tr>\n",
       "      <th>2</th>\n",
       "      <td>2019-04-21</td>\n",
       "      <td>23:54:05</td>\n",
       "      <td>namsang_2</td>\n",
       "      <td>ㅠㅠㅠㅠ 저도 최신본 내용 알고 싶은데 내용은 모른 채로 그림만 보는 것도 어쩐지 ...</td>\n",
       "      <td>https://twitter.com/namsang_2/status/112011350...</td>\n",
       "      <td>0</td>\n",
       "      <td>0</td>\n",
       "    </tr>\n",
       "    <tr>\n",
       "      <th>3</th>\n",
       "      <td>2019-04-21</td>\n",
       "      <td>23:52:03</td>\n",
       "      <td>VenusAraT</td>\n",
       "      <td>요즘 가장 기대중인 것 1. 4/24 어벤져스: 엔드게임 2. 4/24 4주차 샤세...</td>\n",
       "      <td>https://twitter.com/VenusAraT/status/112011299...</td>\n",
       "      <td>0</td>\n",
       "      <td>0</td>\n",
       "    </tr>\n",
       "    <tr>\n",
       "      <th>4</th>\n",
       "      <td>2019-04-21</td>\n",
       "      <td>23:50:32</td>\n",
       "      <td>Lineops1</td>\n",
       "      <td>어벤져스 는 아이맥스 로 봐야죠.</td>\n",
       "      <td>https://twitter.com/Lineops1/status/1120112613...</td>\n",
       "      <td>0</td>\n",
       "      <td>1</td>\n",
       "    </tr>\n",
       "    <tr>\n",
       "      <th>...</th>\n",
       "      <td>...</td>\n",
       "      <td>...</td>\n",
       "      <td>...</td>\n",
       "      <td>...</td>\n",
       "      <td>...</td>\n",
       "      <td>...</td>\n",
       "      <td>...</td>\n",
       "    </tr>\n",
       "    <tr>\n",
       "      <th>95</th>\n",
       "      <td>2019-04-21</td>\n",
       "      <td>19:04:25</td>\n",
       "      <td>sleepball0</td>\n",
       "      <td>이런 스포 ㅋㅋㅋㅋ</td>\n",
       "      <td>https://twitter.com/sleepball0/status/11200406...</td>\n",
       "      <td>0</td>\n",
       "      <td>0</td>\n",
       "    </tr>\n",
       "    <tr>\n",
       "      <th>96</th>\n",
       "      <td>2019-04-21</td>\n",
       "      <td>19:04:10</td>\n",
       "      <td>my_sloth</td>\n",
       "      <td>촙채에서 제발 스포하지말았으면</td>\n",
       "      <td>https://twitter.com/my_sloth/status/1120040548...</td>\n",
       "      <td>0</td>\n",
       "      <td>0</td>\n",
       "    </tr>\n",
       "    <tr>\n",
       "      <th>97</th>\n",
       "      <td>2019-04-21</td>\n",
       "      <td>19:03:25</td>\n",
       "      <td>Ho_N_Guri</td>\n",
       "      <td>이거 사실 뒤에 신라시대 화랑 이야기랑 섞을건데요...((스포대마왕 좀 길어질 것 ...</td>\n",
       "      <td>https://twitter.com/Ho_N_Guri/status/112004035...</td>\n",
       "      <td>0</td>\n",
       "      <td>2</td>\n",
       "    </tr>\n",
       "    <tr>\n",
       "      <th>98</th>\n",
       "      <td>2019-04-21</td>\n",
       "      <td>19:01:10</td>\n",
       "      <td>Baekfor_D</td>\n",
       "      <td>잠안와서 어벤져스 예약햇다... 개봉날에 자리 겁내 앞자리밖에 안 남라잇어서 ......</td>\n",
       "      <td>https://twitter.com/Baekfor_D/status/112003979...</td>\n",
       "      <td>0</td>\n",
       "      <td>1</td>\n",
       "    </tr>\n",
       "    <tr>\n",
       "      <th>99</th>\n",
       "      <td>2019-04-21</td>\n",
       "      <td>18:59:38</td>\n",
       "      <td>harne_</td>\n",
       "      <td>10시 반에 용산 가서 11:15 영화 보러 가기 전에 밥 먹어야 되는데, 7시대 ...</td>\n",
       "      <td>https://twitter.com/harne_/status/112003940786...</td>\n",
       "      <td>0</td>\n",
       "      <td>0</td>\n",
       "    </tr>\n",
       "  </tbody>\n",
       "</table>\n",
       "<p>100 rows × 7 columns</p>\n",
       "</div>"
      ],
      "text/plain": [
       "          date      time    user_name  \\\n",
       "0   2019-04-21  23:59:32    Ethics_ru   \n",
       "1   2019-04-21  23:56:31  happyand___   \n",
       "2   2019-04-21  23:54:05    namsang_2   \n",
       "3   2019-04-21  23:52:03    VenusAraT   \n",
       "4   2019-04-21  23:50:32     Lineops1   \n",
       "..         ...       ...          ...   \n",
       "95  2019-04-21  19:04:25   sleepball0   \n",
       "96  2019-04-21  19:04:10     my_sloth   \n",
       "97  2019-04-21  19:03:25    Ho_N_Guri   \n",
       "98  2019-04-21  19:01:10    Baekfor_D   \n",
       "99  2019-04-21  18:59:38       harne_   \n",
       "\n",
       "                                                 text  \\\n",
       "0              아늬 스포ㅡ츠 속옷 업는데 내가 굳이 결핵검사 하겟다고 그걸 사야하나   \n",
       "1   가서 스포해달라고하니까 스포요? 하고 망설이길래 아직 안하나싶어서 연습아직 안하냐고...   \n",
       "2   ㅠㅠㅠㅠ 저도 최신본 내용 알고 싶은데 내용은 모른 채로 그림만 보는 것도 어쩐지 ...   \n",
       "3   요즘 가장 기대중인 것 1. 4/24 어벤져스: 엔드게임 2. 4/24 4주차 샤세...   \n",
       "4                                  어벤져스 는 아이맥스 로 봐야죠.   \n",
       "..                                                ...   \n",
       "95                                         이런 스포 ㅋㅋㅋㅋ   \n",
       "96                                   촙채에서 제발 스포하지말았으면   \n",
       "97  이거 사실 뒤에 신라시대 화랑 이야기랑 섞을건데요...((스포대마왕 좀 길어질 것 ...   \n",
       "98  잠안와서 어벤져스 예약햇다... 개봉날에 자리 겁내 앞자리밖에 안 남라잇어서 ......   \n",
       "99  10시 반에 용산 가서 11:15 영화 보러 가기 전에 밥 먹어야 되는데, 7시대 ...   \n",
       "\n",
       "                                                 link  retweet_counts  \\\n",
       "0   https://twitter.com/Ethics_ru/status/112011487...               0   \n",
       "1   https://twitter.com/happyand___/status/1120114...               0   \n",
       "2   https://twitter.com/namsang_2/status/112011350...               0   \n",
       "3   https://twitter.com/VenusAraT/status/112011299...               0   \n",
       "4   https://twitter.com/Lineops1/status/1120112613...               0   \n",
       "..                                                ...             ...   \n",
       "95  https://twitter.com/sleepball0/status/11200406...               0   \n",
       "96  https://twitter.com/my_sloth/status/1120040548...               0   \n",
       "97  https://twitter.com/Ho_N_Guri/status/112004035...               0   \n",
       "98  https://twitter.com/Baekfor_D/status/112003979...               0   \n",
       "99  https://twitter.com/harne_/status/112003940786...               0   \n",
       "\n",
       "    favorite_counts  \n",
       "0                 0  \n",
       "1                 0  \n",
       "2                 0  \n",
       "3                 0  \n",
       "4                 1  \n",
       "..              ...  \n",
       "95                0  \n",
       "96                0  \n",
       "97                2  \n",
       "98                1  \n",
       "99                0  \n",
       "\n",
       "[100 rows x 7 columns]"
      ]
     },
     "execution_count": 19,
     "metadata": {},
     "output_type": "execute_result"
    }
   ],
   "source": [
    "twitter_df.head(100)"
   ]
  },
  {
   "cell_type": "code",
   "execution_count": 13,
   "metadata": {},
   "outputs": [
    {
     "data": {
      "text/plain": [
       "(2034, 7)"
      ]
     },
     "execution_count": 13,
     "metadata": {},
     "output_type": "execute_result"
    }
   ],
   "source": [
    "twitter_df.shape"
   ]
  }
 ],
 "metadata": {
  "kernelspec": {
   "display_name": "Python 3.7.3 (miniconda)",
   "language": "python",
   "name": "python3-mc"
  },
  "language_info": {
   "codemirror_mode": {
    "name": "ipython",
    "version": 3
   },
   "file_extension": ".py",
   "mimetype": "text/x-python",
   "name": "python",
   "nbconvert_exporter": "python",
   "pygments_lexer": "ipython3",
   "version": "3.7.6"
  }
 },
 "nbformat": 4,
 "nbformat_minor": 4
}

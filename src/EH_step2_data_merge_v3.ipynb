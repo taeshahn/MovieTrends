{
 "cells": [
  {
   "cell_type": "code",
   "execution_count": 1,
   "metadata": {},
   "outputs": [],
   "source": [
    "import numpy as np\n",
    "import pandas as pd"
   ]
  },
  {
   "cell_type": "markdown",
   "metadata": {},
   "source": [
    "### 디렉토리 변경"
   ]
  },
  {
   "cell_type": "code",
   "execution_count": 2,
   "metadata": {},
   "outputs": [
    {
     "name": "stdout",
     "output_type": "stream",
     "text": [
      "/home/jupyter-lehup/src\n",
      "/home/jupyter-lehup\n"
     ]
    }
   ],
   "source": [
    "import os\n",
    "print(os.getcwd())\n",
    "os.chdir(\"/home/jupyter-lehup/\")\n",
    "print(os.getcwd())"
   ]
  },
  {
   "cell_type": "code",
   "execution_count": 3,
   "metadata": {},
   "outputs": [
    {
     "name": "stdout",
     "output_type": "stream",
     "text": [
      "Index(['공식명칭', '카페/블로그 키워드', '키워드 1', '키워드 2', '키워드 3', '비고'], dtype='object')\n",
      "641\n",
      "               공식명칭  카페/블로그 키워드          키워드 1      키워드 2 키워드 3        비고\n",
      "0                언니       영화 언니             언니        NaN   NaN       NaN\n",
      "1        데드풀 2: 순한맛       데드풀 2            데드풀       데드풀2   NaN       NaN\n",
      "2       레인보우: 나의 사랑  레인보우 나의 사랑        영화 레인보우  레인보우 나의사랑   NaN       NaN\n",
      "3                레토       영화 레토            NaN        NaN   NaN  사람이름, 상품\n",
      "4  미션 이스탄불 5: 더 파이널   미션 이스탄불 5  미션 이스탄불 더 파이널   미션 이스탄불5   NaN       NaN\n"
     ]
    }
   ],
   "source": [
    "movie_list = pd.read_csv('raw/BaselineData_200618.csv', encoding = 'UTF-8')\n",
    "print(movie_list.columns)\n",
    "print(movie_list.shape[0])\n",
    "print(movie_list.head())"
   ]
  },
  {
   "cell_type": "code",
   "execution_count": 4,
   "metadata": {},
   "outputs": [],
   "source": [
    "movie_list = pd.DataFrame(movie_list)"
   ]
  },
  {
   "cell_type": "code",
   "execution_count": null,
   "metadata": {},
   "outputs": [],
   "source": [
    "## 불필요한 컬럼 삭제"
   ]
  },
  {
   "cell_type": "code",
   "execution_count": 6,
   "metadata": {},
   "outputs": [
    {
     "name": "stdout",
     "output_type": "stream",
     "text": [
      "Index(['공식명칭', '카페/블로그 키워드', '키워드 1', '키워드 2', '키워드 3'], dtype='object')\n",
      "               공식명칭  카페/블로그 키워드          키워드 1      키워드 2 키워드 3\n",
      "0                언니       영화 언니             언니        NaN   NaN\n",
      "1        데드풀 2: 순한맛       데드풀 2            데드풀       데드풀2   NaN\n",
      "2       레인보우: 나의 사랑  레인보우 나의 사랑        영화 레인보우  레인보우 나의사랑   NaN\n",
      "3                레토       영화 레토            NaN        NaN   NaN\n",
      "4  미션 이스탄불 5: 더 파이널   미션 이스탄불 5  미션 이스탄불 더 파이널   미션 이스탄불5   NaN\n"
     ]
    }
   ],
   "source": [
    "movie_list_v1 =  movie_list.drop(['비고'], axis= 1)\n",
    "print(movie_list_v1.columns)\n",
    "print(movie_list_v1.head())"
   ]
  },
  {
   "cell_type": "code",
   "execution_count": null,
   "metadata": {},
   "outputs": [],
   "source": [
    "## 컬럼명 변경"
   ]
  },
  {
   "cell_type": "code",
   "execution_count": 7,
   "metadata": {},
   "outputs": [
    {
     "name": "stdout",
     "output_type": "stream",
     "text": [
      "Index(['META_TITLE', 'BLOG_CAFE_CIN_KWD', 'TRD_KWD1', 'TRD_KWD2', 'TRD_KWD3'], dtype='object')\n"
     ]
    }
   ],
   "source": [
    "movie_list_v1.rename(columns = {'공식명칭' : 'META_TITLE',\n",
    "                             '카페/블로그 키워드' : 'BLOG_CAFE_CIN_KWD',\n",
    "                             '키워드 1' : 'TRD_KWD1',\n",
    "                             '키워드 2' : 'TRD_KWD2',\n",
    "                             '키워드 3' : 'TRD_KWD3'\n",
    "                            }, inplace = True)\n",
    "\n",
    "#movie_list.columns[['META_TITLE','카페/블로그 키워드', '키워드 1', '키워드 2', '키워드 3', '비고']]\n",
    "print(movie_list_v1.columns)"
   ]
  },
  {
   "cell_type": "markdown",
   "metadata": {},
   "source": [
    "# 전처리된 RawData불러오기"
   ]
  },
  {
   "cell_type": "code",
   "execution_count": 8,
   "metadata": {},
   "outputs": [
    {
     "name": "stdout",
     "output_type": "stream",
     "text": [
      "Index(['META_ID', 'META_TITLE', 'SUB_TITLE', 'ENGL_TITLE', 'CIN_OPEN_DT',\n",
      "       'DMST_SPCT_CNT', 'BTV_OPEN_DT', 'WAT_LVL_CD', 'SSTRY_CIN_YN',\n",
      "       'CTRY_CD_1', 'CTRY_CD_2', 'CTRY_CD_3', 'CTRY_CD_4', 'CTRY_CD_5',\n",
      "       'GNR_ID_1', 'GNR_ID_2', 'GNR_ID_3', 'GNR_ID_4', 'GNR_ID_5', 'GNR_ID_6',\n",
      "       'MANUFCO_NM_1', 'MANUFCO_NM_2', 'MANUFCO_NM_3', 'DSTBTCO_NM_1',\n",
      "       'DSTBTCO_NM_2', 'DSTBTCO_NM_3'],\n",
      "      dtype='object')\n",
      "595\n",
      "        META_ID                 META_TITLE SUB_TITLE       ENGL_TITLE  \\\n",
      "0  MM1000234175                     0.0mhz       NaN           0.0MHz   \n",
      "1  MM1000334701                    1 더하기 3       NaN   Three Husbands   \n",
      "2  MM1000311677  100일동안 100가지로 100퍼센트 행복찾기       NaN       100 Things   \n",
      "3  MM1000337435                        10년       NaN  Ten Years Japan   \n",
      "4  MM1000191569                    12번째 솔저       NaN     The 12th Man   \n",
      "\n",
      "   CIN_OPEN_DT  DMST_SPCT_CNT     BTV_OPEN_DT WAT_LVL_CD SSTRY_CIN_YN  \\\n",
      "0     20190529        59344.0  20190812090000    15세 관람가            N   \n",
      "1     20191212            NaN  20191212090000    19세 관람가            N   \n",
      "2     20190912          707.0  20190930090000    15세 관람가            N   \n",
      "3     20191212            NaN  20191224090000     전체 관람가            N   \n",
      "4     20190411            NaN  20190418090000    12세 관람가            N   \n",
      "\n",
      "  CTRY_CD_1  ... GNR_ID_3 GNR_ID_4 GNR_ID_5 GNR_ID_6 MANUFCO_NM_1  \\\n",
      "0      대한민국  ...      NaN      NaN      NaN      NaN   (주)제이엠컬쳐스    \n",
      "1        홍콩  ...      NaN      NaN      NaN      NaN          NaN   \n",
      "2        독일  ...      NaN      NaN      NaN      NaN          NaN   \n",
      "3        일본  ...      NaN      NaN      NaN      NaN          NaN   \n",
      "4      노르웨이  ...      NaN      NaN      NaN      NaN          NaN   \n",
      "\n",
      "  MANUFCO_NM_2 MANUFCO_NM_3 DSTBTCO_NM_1 DSTBTCO_NM_2 DSTBTCO_NM_3  \n",
      "0    (주)몬스터팩토리          NaN    (주)스마일이엔티          NaN          NaN  \n",
      "1          NaN          NaN          NaN          NaN          NaN  \n",
      "2          NaN          NaN      영화사 진진           NaN          NaN  \n",
      "3          NaN          NaN     (주)디오시네마          NaN          NaN  \n",
      "4          NaN          NaN     (주)엣나인필름          NaN          NaN  \n",
      "\n",
      "[5 rows x 26 columns]\n"
     ]
    }
   ],
   "source": [
    "movie_list_basedata_preprocessing = pd.read_csv('data/movie_list_basedata_preprocessing.csv', encoding = 'UTF-8')\n",
    "print(movie_list_basedata_preprocessing.columns)\n",
    "print(movie_list_basedata_preprocessing.shape[0])\n",
    "print(movie_list_basedata_preprocessing.head())"
   ]
  },
  {
   "cell_type": "code",
   "execution_count": 9,
   "metadata": {},
   "outputs": [
    {
     "name": "stdout",
     "output_type": "stream",
     "text": [
      "Index(['META_ID', 'PD_ID', 'PD_NM', 'PD_PRS_ROLE_NM', 'PD_PWR_1', 'PD_PWR_2',\n",
      "       'PD_PWR_3', 'PD_PWR_4', 'PD_PWR_5', 'PD_PWR_6'],\n",
      "      dtype='object')\n",
      "595\n",
      "        META_ID         PD_ID      PD_NM PD_PRS_ROLE_NM     PD_PWR_1  \\\n",
      "0  MM1000103011  MP0000052678  크리스티앙 알바트         감독(연출)      돈 겟 아웃!   \n",
      "1  MM1000109497  MP0000052678  크리스티앙 알바트         감독(연출)      돈 겟 아웃!   \n",
      "2  MM1000114876  MP1000003556        금패진         감독(연출)   완벽한 그녀의 비밀   \n",
      "3  MM1000115034  MP0000112474    마크 로테문트         감독(연출)   디스 크레이지 하트   \n",
      "4  MM1000115408  MP0000005457   파올로 타비아니         감독(연출)  레인보우: 나의 사랑   \n",
      "\n",
      "           PD_PWR_2            PD_PWR_3          PD_PWR_4 PD_PWR_5 PD_PWR_6  \n",
      "0  미션 이스탄불 5: 더 파이널  미션 이스탄불 4: 익스트림 데이  미션 이스탄불 3: 더 리벤지  미션 이스탄불      NaN  \n",
      "1  미션 이스탄불 5: 더 파이널  미션 이스탄불 4: 익스트림 데이  미션 이스탄불 3: 더 리벤지  미션 이스탄불      NaN  \n",
      "2               NaN                 NaN               NaN      NaN      NaN  \n",
      "3               NaN                 NaN               NaN      NaN      NaN  \n",
      "4               NaN                 NaN               NaN      NaN      NaN  \n"
     ]
    }
   ],
   "source": [
    "movie_list_directordata_preprocessing = pd.read_csv('data/movie_list_directordata_preprocessing.csv', encoding = 'UTF-8')\n",
    "print(movie_list_directordata_preprocessing.columns)\n",
    "print(movie_list_directordata_preprocessing.shape[0])\n",
    "print(movie_list_directordata_preprocessing.head())"
   ]
  },
  {
   "cell_type": "code",
   "execution_count": 10,
   "metadata": {},
   "outputs": [
    {
     "name": "stdout",
     "output_type": "stream",
     "text": [
      "Index(['META_ID', 'REP_ACT_ID_1', 'REP_ACT_NM_1', 'REP_ACT_PRS_ROLE_NM_1',\n",
      "       'REP_ACT_PWR_1_1', 'REP_ACT_PWR_1_2', 'REP_ACT_PWR_1_3',\n",
      "       'REP_ACT_PWR_1_4', 'REP_ACT_PWR_1_5', 'REP_ACT_PWR_1_6',\n",
      "       ...\n",
      "       'REP_ACT_PWR_5_13', 'REP_ACT_PWR_5_14', 'REP_ACT_ID_6', 'REP_ACT_NM_6',\n",
      "       'REP_ACT_PRS_ROLE_NM_6', 'REP_ACT_PWR_6_1', 'REP_ACT_PWR_6_2',\n",
      "       'REP_ACT_PWR_6_3', 'REP_ACT_PWR_6_4', 'REP_ACT_PWR_6_5'],\n",
      "      dtype='object', length=111)\n",
      "554\n",
      "        META_ID  REP_ACT_ID_1 REP_ACT_NM_1 REP_ACT_PRS_ROLE_NM_1  \\\n",
      "0  MM1000103011  MP0000064883     보탄 빌케 모링                    주연   \n",
      "1  MM1000109497  MP0000001592       틸 슈바이거                    주연   \n",
      "2  MM1000114876  MP0000139219          이육분                    주연   \n",
      "3  MM1000115034  MP0000146343     엘리아스 므바렉                    주연   \n",
      "4  MM1000115408  MP0000166422      루카 마리넬리                    주연   \n",
      "\n",
      "    REP_ACT_PWR_1_1     REP_ACT_PWR_1_2   REP_ACT_PWR_1_3 REP_ACT_PWR_1_4  \\\n",
      "0           돈 겟 아웃!                 NaN               NaN             NaN   \n",
      "1  미션 이스탄불 5: 더 파이널  미션 이스탄불 4: 익스트림 데이  미션 이스탄불 3: 더 리벤지         스페셜 스쿼드   \n",
      "2        완벽한 그녀의 비밀                 NaN               NaN             NaN   \n",
      "3        디스 크레이지 하트                 NaN               NaN             NaN   \n",
      "4       레인보우: 나의 사랑                 NaN               NaN             NaN   \n",
      "\n",
      "  REP_ACT_PWR_1_5 REP_ACT_PWR_1_6  ... REP_ACT_PWR_5_13 REP_ACT_PWR_5_14  \\\n",
      "0             NaN             NaN  ...              NaN              NaN   \n",
      "1         아토믹 블론드         미션 이스탄불  ...              NaN              NaN   \n",
      "2             NaN             NaN  ...              NaN              NaN   \n",
      "3             NaN             NaN  ...              NaN              NaN   \n",
      "4             NaN             NaN  ...              NaN              NaN   \n",
      "\n",
      "  REP_ACT_ID_6 REP_ACT_NM_6 REP_ACT_PRS_ROLE_NM_6 REP_ACT_PWR_6_1  \\\n",
      "0          NaN          NaN                   NaN             NaN   \n",
      "1          NaN          NaN                   NaN             NaN   \n",
      "2          NaN          NaN                   NaN             NaN   \n",
      "3          NaN          NaN                   NaN             NaN   \n",
      "4          NaN          NaN                   NaN             NaN   \n",
      "\n",
      "  REP_ACT_PWR_6_2 REP_ACT_PWR_6_3 REP_ACT_PWR_6_4 REP_ACT_PWR_6_5  \n",
      "0             NaN             NaN             NaN             NaN  \n",
      "1             NaN             NaN             NaN             NaN  \n",
      "2             NaN             NaN             NaN             NaN  \n",
      "3             NaN             NaN             NaN             NaN  \n",
      "4             NaN             NaN             NaN             NaN  \n",
      "\n",
      "[5 rows x 111 columns]\n"
     ]
    }
   ],
   "source": [
    "movie_list_actordata_preprocessing = pd.read_csv('data/movie_list_acctordata_preprocessing.csv', encoding = 'UTF-8')\n",
    "print(movie_list_actordata_preprocessing.columns)\n",
    "print(movie_list_actordata_preprocessing.shape[0])\n",
    "print(movie_list_actordata_preprocessing.head())"
   ]
  },
  {
   "cell_type": "code",
   "execution_count": 11,
   "metadata": {},
   "outputs": [
    {
     "name": "stdout",
     "output_type": "stream",
     "text": [
      "Index(['META_ID', 'PRIZE_YN', 'PRIZE_CNT'], dtype='object')\n",
      "595\n",
      "        META_ID PRIZE_YN  PRIZE_CNT\n",
      "0  MM1000340018        Y          3\n",
      "1  MM1000329732        Y          1\n",
      "2  MM1000227591        Y          1\n",
      "3  MM1000167934        Y          4\n",
      "4  MM1000142829        Y          2\n"
     ]
    }
   ],
   "source": [
    "movie_list_prizedata_preprocessing = pd.read_csv('data/movie_list_prizedata_preprocessing.csv', encoding = 'UTF-8')\n",
    "print(movie_list_prizedata_preprocessing.columns)\n",
    "print(movie_list_prizedata_preprocessing.shape[0])\n",
    "print(movie_list_prizedata_preprocessing.head())"
   ]
  },
  {
   "cell_type": "code",
   "execution_count": 12,
   "metadata": {},
   "outputs": [
    {
     "name": "stdout",
     "output_type": "stream",
     "text": [
      "Index(['META_ID', 'BTV_LIKE_NCNT', 'BTV_NGOOD_NCNT', 'WATCHA_EVAL_NCNT',\n",
      "       'WATCHA_RVW_PNT', 'CINE21_EVAL_NCNT', 'CINE21_NTNZ_PNT',\n",
      "       'CINE21_CRTC_PNT'],\n",
      "      dtype='object')\n",
      "595\n",
      "        META_ID  BTV_LIKE_NCNT  BTV_NGOOD_NCNT  WATCHA_EVAL_NCNT  \\\n",
      "0  MM1000131615        34540.0          1025.0           54616.0   \n",
      "1  MM1000143771            NaN             NaN            2017.0   \n",
      "2  MM1000160235           20.0             8.0             433.0   \n",
      "3  MM1000167168        15929.0          2911.0           78479.0   \n",
      "4  MM1000180060          326.0            64.0            5850.0   \n",
      "\n",
      "   WATCHA_RVW_PNT  CINE21_EVAL_NCNT  CINE21_NTNZ_PNT  CINE21_CRTC_PNT  \n",
      "0            3.62               4.0             7.33              8.0  \n",
      "1            3.25               2.0             6.00              6.0  \n",
      "2            2.79               1.0              NaN              6.0  \n",
      "3            3.25               9.0             5.75              6.8  \n",
      "4            3.45               6.0             6.50              7.0  \n"
     ]
    }
   ],
   "source": [
    "movie_list_pointdata_preprocessing = pd.read_csv('data/movie_list_pointdata_preprocessing.csv', encoding = 'UTF-8')\n",
    "print(movie_list_pointdata_preprocessing.columns)\n",
    "print(movie_list_pointdata_preprocessing.shape[0])\n",
    "print(movie_list_pointdata_preprocessing.head())"
   ]
  },
  {
   "cell_type": "code",
   "execution_count": 13,
   "metadata": {},
   "outputs": [
    {
     "name": "stdout",
     "output_type": "stream",
     "text": [
      "Index(['META_ID', 'SNSS_CTS', 'CINE21_COMT_CTSC_1', 'CINE21_COMT_CTSC_2',\n",
      "       'CINE21_COMT_CTSC_3', 'CINE21_COMT_CTSC_4', 'CINE21_COMT_CTSC_5',\n",
      "       'CINE21_COMT_CTSC_6', 'CINE21_COMT_CTSC_7', 'CINE21_COMT_CTSC_8',\n",
      "       'CINE21_COMT_CTSC_9', 'CINE21_COMT_CTSC_10', 'CINE21_COMT_CTSC_11'],\n",
      "      dtype='object')\n",
      "595\n",
      "        META_ID                                           SNSS_CTS  \\\n",
      "0  MM1000103011  폭탄이 설치된 차량, 가족을 구해야 한다.\\r\\n결혼기념일을 맞이하여 집에 돌아온 ...   \n",
      "1  MM1000109497  무장한 테러범들이 방송국을 급습하는 사건이 온 도시를 발칵 뒤집고 피랫의 석방을 요...   \n",
      "2  MM1000114876  아름다운 여대생 ‘예신’은 멋진 남자친구 ‘미아오’와 연애중이다.\\r\\n어느 날 폭...   \n",
      "3  MM1000115034                         불치병 소년과 바람둥이 청년의 우정을 그린 영화   \n",
      "4  MM1000115408  모든 사람이 꿈꾸어 왔던 소설\\r\\n20세기 이탈리안들이 가슴에 품은 단 하나의 러...   \n",
      "\n",
      "        CINE21_COMT_CTSC_1 CINE21_COMT_CTSC_2 CINE21_COMT_CTSC_3  \\\n",
      "0                      NaN                NaN                NaN   \n",
      "1                뭉그적뭉그적 미션    제철 지난 독일판 <테이큰>                NaN   \n",
      "2                      NaN                NaN                NaN   \n",
      "3                      NaN                NaN                NaN   \n",
      "4  스크린 너머로는 전해지지 않는 사랑의 열병                NaN                NaN   \n",
      "\n",
      "  CINE21_COMT_CTSC_4 CINE21_COMT_CTSC_5 CINE21_COMT_CTSC_6 CINE21_COMT_CTSC_7  \\\n",
      "0                NaN                NaN                NaN                NaN   \n",
      "1                NaN                NaN                NaN                NaN   \n",
      "2                NaN                NaN                NaN                NaN   \n",
      "3                NaN                NaN                NaN                NaN   \n",
      "4                NaN                NaN                NaN                NaN   \n",
      "\n",
      "  CINE21_COMT_CTSC_8 CINE21_COMT_CTSC_9 CINE21_COMT_CTSC_10  \\\n",
      "0                NaN                NaN                 NaN   \n",
      "1                NaN                NaN                 NaN   \n",
      "2                NaN                NaN                 NaN   \n",
      "3                NaN                NaN                 NaN   \n",
      "4                NaN                NaN                 NaN   \n",
      "\n",
      "  CINE21_COMT_CTSC_11  \n",
      "0                 NaN  \n",
      "1                 NaN  \n",
      "2                 NaN  \n",
      "3                 NaN  \n",
      "4                 NaN  \n"
     ]
    }
   ],
   "source": [
    "movie_list_rvwdata_preprocessing = pd.read_csv('data/movie_list_rvwdata_preprocessing.csv', encoding = 'UTF-8')\n",
    "print(movie_list_rvwdata_preprocessing.columns)\n",
    "print(movie_list_rvwdata_preprocessing.shape[0])\n",
    "print(movie_list_rvwdata_preprocessing.head())"
   ]
  },
  {
   "cell_type": "markdown",
   "metadata": {},
   "source": [
    "# 데이터 Merge"
   ]
  },
  {
   "cell_type": "markdown",
   "metadata": {},
   "source": [
    "## movie_list + movie_list_basedata_preprocessing = movie_list_v1"
   ]
  },
  {
   "cell_type": "code",
   "execution_count": 14,
   "metadata": {},
   "outputs": [],
   "source": [
    "movie_list_v1 = pd.merge(movie_list_v1,movie_list_basedata_preprocessing, how = 'outer', on = 'META_TITLE')"
   ]
  },
  {
   "cell_type": "code",
   "execution_count": 15,
   "metadata": {},
   "outputs": [
    {
     "name": "stdout",
     "output_type": "stream",
     "text": [
      "Index(['META_TITLE', 'BLOG_CAFE_CIN_KWD', 'TRD_KWD1', 'TRD_KWD2', 'TRD_KWD3',\n",
      "       'META_ID', 'SUB_TITLE', 'ENGL_TITLE', 'CIN_OPEN_DT', 'DMST_SPCT_CNT',\n",
      "       'BTV_OPEN_DT', 'WAT_LVL_CD', 'SSTRY_CIN_YN', 'CTRY_CD_1', 'CTRY_CD_2',\n",
      "       'CTRY_CD_3', 'CTRY_CD_4', 'CTRY_CD_5', 'GNR_ID_1', 'GNR_ID_2',\n",
      "       'GNR_ID_3', 'GNR_ID_4', 'GNR_ID_5', 'GNR_ID_6', 'MANUFCO_NM_1',\n",
      "       'MANUFCO_NM_2', 'MANUFCO_NM_3', 'DSTBTCO_NM_1', 'DSTBTCO_NM_2',\n",
      "       'DSTBTCO_NM_3'],\n",
      "      dtype='object')\n",
      "653\n",
      "         META_TITLE BLOG_CAFE_CIN_KWD       TRD_KWD1   TRD_KWD2 TRD_KWD3  \\\n",
      "0                언니             영화 언니             언니        NaN      NaN   \n",
      "1        데드풀 2: 순한맛             데드풀 2            데드풀       데드풀2      NaN   \n",
      "2       레인보우: 나의 사랑        레인보우 나의 사랑        영화 레인보우  레인보우 나의사랑      NaN   \n",
      "3                레토             영화 레토            NaN        NaN      NaN   \n",
      "4  미션 이스탄불 5: 더 파이널         미션 이스탄불 5  미션 이스탄불 더 파이널   미션 이스탄불5      NaN   \n",
      "\n",
      "        META_ID SUB_TITLE             ENGL_TITLE  CIN_OPEN_DT  DMST_SPCT_CNT  \\\n",
      "0  MM1000117095       NaN               No Mercy   20190101.0         1243.0   \n",
      "1  MM1000118454       NaN   ONCE UPON A DEADPOOL   20190103.0            NaN   \n",
      "2  MM1000115408       NaN  Una questione privata   20190103.0          252.0   \n",
      "3  MM1000128263       NaN                 Summer   20190103.0         2107.0   \n",
      "4  MM1000109497       NaN              Fegefeuer   20190103.0            NaN   \n",
      "\n",
      "   ...  GNR_ID_3 GNR_ID_4 GNR_ID_5 GNR_ID_6 MANUFCO_NM_1 MANUFCO_NM_2  \\\n",
      "0  ...       NaN      NaN      NaN      NaN     필름에이픽쳐스           NaN   \n",
      "1  ...      어드벤처       SF      NaN      NaN          NaN          NaN   \n",
      "2  ...       NaN      NaN      NaN      NaN          NaN          NaN   \n",
      "3  ...       NaN      NaN      NaN      NaN          NaN          NaN   \n",
      "4  ...       NaN      NaN      NaN      NaN          NaN          NaN   \n",
      "\n",
      "  MANUFCO_NM_3   DSTBTCO_NM_1   DSTBTCO_NM_2 DSTBTCO_NM_3  \n",
      "0          NaN  (주)제이앤씨미디어그룹    TCO(주)더콘텐츠온           NaN  \n",
      "1          NaN   이십세기폭스코리아(주)            NaN          NaN  \n",
      "2          NaN    (주)마노엔터테인먼트            NaN          NaN  \n",
      "3          NaN       (주)엣나인필름      플레이리스트(주)          NaN  \n",
      "4          NaN     (주)시네마리퍼블릭            NaN          NaN  \n",
      "\n",
      "[5 rows x 30 columns]\n"
     ]
    }
   ],
   "source": [
    "print(movie_list_v1.columns)\n",
    "print(movie_list_v1.shape[0])\n",
    "print(movie_list_v1.head())"
   ]
  },
  {
   "cell_type": "markdown",
   "metadata": {},
   "source": [
    "## movie_list_v1 + movie_list_directordata_preprocessing = movie_list_v1"
   ]
  },
  {
   "cell_type": "code",
   "execution_count": 16,
   "metadata": {},
   "outputs": [],
   "source": [
    "movie_list_v2 = pd.merge(movie_list_v1,movie_list_directordata_preprocessing, how = 'outer',on = 'META_ID')"
   ]
  },
  {
   "cell_type": "code",
   "execution_count": 17,
   "metadata": {},
   "outputs": [
    {
     "name": "stdout",
     "output_type": "stream",
     "text": [
      "Index(['META_TITLE', 'BLOG_CAFE_CIN_KWD', 'TRD_KWD1', 'TRD_KWD2', 'TRD_KWD3',\n",
      "       'META_ID', 'SUB_TITLE', 'ENGL_TITLE', 'CIN_OPEN_DT', 'DMST_SPCT_CNT',\n",
      "       'BTV_OPEN_DT', 'WAT_LVL_CD', 'SSTRY_CIN_YN', 'CTRY_CD_1', 'CTRY_CD_2',\n",
      "       'CTRY_CD_3', 'CTRY_CD_4', 'CTRY_CD_5', 'GNR_ID_1', 'GNR_ID_2',\n",
      "       'GNR_ID_3', 'GNR_ID_4', 'GNR_ID_5', 'GNR_ID_6', 'MANUFCO_NM_1',\n",
      "       'MANUFCO_NM_2', 'MANUFCO_NM_3', 'DSTBTCO_NM_1', 'DSTBTCO_NM_2',\n",
      "       'DSTBTCO_NM_3', 'PD_ID', 'PD_NM', 'PD_PRS_ROLE_NM', 'PD_PWR_1',\n",
      "       'PD_PWR_2', 'PD_PWR_3', 'PD_PWR_4', 'PD_PWR_5', 'PD_PWR_6'],\n",
      "      dtype='object')\n",
      "653\n",
      "         META_TITLE BLOG_CAFE_CIN_KWD       TRD_KWD1   TRD_KWD2 TRD_KWD3  \\\n",
      "0                언니             영화 언니             언니        NaN      NaN   \n",
      "1        데드풀 2: 순한맛             데드풀 2            데드풀       데드풀2      NaN   \n",
      "2       레인보우: 나의 사랑        레인보우 나의 사랑        영화 레인보우  레인보우 나의사랑      NaN   \n",
      "3                레토             영화 레토            NaN        NaN      NaN   \n",
      "4  미션 이스탄불 5: 더 파이널         미션 이스탄불 5  미션 이스탄불 더 파이널   미션 이스탄불5      NaN   \n",
      "\n",
      "        META_ID SUB_TITLE             ENGL_TITLE  CIN_OPEN_DT  DMST_SPCT_CNT  \\\n",
      "0  MM1000117095       NaN               No Mercy   20190101.0         1243.0   \n",
      "1  MM1000118454       NaN   ONCE UPON A DEADPOOL   20190103.0            NaN   \n",
      "2  MM1000115408       NaN  Una questione privata   20190103.0          252.0   \n",
      "3  MM1000128263       NaN                 Summer   20190103.0         2107.0   \n",
      "4  MM1000109497       NaN              Fegefeuer   20190103.0            NaN   \n",
      "\n",
      "   ...  DSTBTCO_NM_3         PD_ID       PD_NM PD_PRS_ROLE_NM      PD_PWR_1  \\\n",
      "0  ...           NaN  MP0000045990         임경택         감독(연출)            언니   \n",
      "1  ...           NaN  MP0000147075     데이빗 레이치         감독(연출)  분노의 질주: 홉스&쇼   \n",
      "2  ...           NaN  MP0000005457    파올로 타비아니         감독(연출)   레인보우: 나의 사랑   \n",
      "3  ...           NaN  MP0000158720  키릴 세레브렌니코프         감독(연출)            레토   \n",
      "4  ...           NaN  MP0000052678   크리스티앙 알바트         감독(연출)       돈 겟 아웃!   \n",
      "\n",
      "           PD_PWR_2            PD_PWR_3          PD_PWR_4 PD_PWR_5 PD_PWR_6  \n",
      "0               NaN                 NaN               NaN      NaN      NaN  \n",
      "1        데드풀 2: 순한맛               데드풀 2             데드풀 2  아토믹 블론드      NaN  \n",
      "2               NaN                 NaN               NaN      NaN      NaN  \n",
      "3               NaN                 NaN               NaN      NaN      NaN  \n",
      "4  미션 이스탄불 5: 더 파이널  미션 이스탄불 4: 익스트림 데이  미션 이스탄불 3: 더 리벤지  미션 이스탄불      NaN  \n",
      "\n",
      "[5 rows x 39 columns]\n"
     ]
    }
   ],
   "source": [
    "print(movie_list_v2.columns)\n",
    "print(movie_list_v2.shape[0])\n",
    "print(movie_list_v2.head())"
   ]
  },
  {
   "cell_type": "markdown",
   "metadata": {},
   "source": [
    "## movie_list_v2 + movie_list_actordata_preprocessing = movie_list_v2"
   ]
  },
  {
   "cell_type": "code",
   "execution_count": 18,
   "metadata": {},
   "outputs": [],
   "source": [
    "movie_list_v3 = pd.merge(movie_list_v2,movie_list_actordata_preprocessing, how = 'outer', on = 'META_ID')"
   ]
  },
  {
   "cell_type": "code",
   "execution_count": 19,
   "metadata": {},
   "outputs": [
    {
     "name": "stdout",
     "output_type": "stream",
     "text": [
      "Index(['META_TITLE', 'BLOG_CAFE_CIN_KWD', 'TRD_KWD1', 'TRD_KWD2', 'TRD_KWD3',\n",
      "       'META_ID', 'SUB_TITLE', 'ENGL_TITLE', 'CIN_OPEN_DT', 'DMST_SPCT_CNT',\n",
      "       ...\n",
      "       'REP_ACT_PWR_5_13', 'REP_ACT_PWR_5_14', 'REP_ACT_ID_6', 'REP_ACT_NM_6',\n",
      "       'REP_ACT_PRS_ROLE_NM_6', 'REP_ACT_PWR_6_1', 'REP_ACT_PWR_6_2',\n",
      "       'REP_ACT_PWR_6_3', 'REP_ACT_PWR_6_4', 'REP_ACT_PWR_6_5'],\n",
      "      dtype='object', length=149)\n",
      "653\n",
      "         META_TITLE BLOG_CAFE_CIN_KWD       TRD_KWD1   TRD_KWD2 TRD_KWD3  \\\n",
      "0                언니             영화 언니             언니        NaN      NaN   \n",
      "1        데드풀 2: 순한맛             데드풀 2            데드풀       데드풀2      NaN   \n",
      "2       레인보우: 나의 사랑        레인보우 나의 사랑        영화 레인보우  레인보우 나의사랑      NaN   \n",
      "3                레토             영화 레토            NaN        NaN      NaN   \n",
      "4  미션 이스탄불 5: 더 파이널         미션 이스탄불 5  미션 이스탄불 더 파이널   미션 이스탄불5      NaN   \n",
      "\n",
      "        META_ID SUB_TITLE             ENGL_TITLE  CIN_OPEN_DT  DMST_SPCT_CNT  \\\n",
      "0  MM1000117095       NaN               No Mercy   20190101.0         1243.0   \n",
      "1  MM1000118454       NaN   ONCE UPON A DEADPOOL   20190103.0            NaN   \n",
      "2  MM1000115408       NaN  Una questione privata   20190103.0          252.0   \n",
      "3  MM1000128263       NaN                 Summer   20190103.0         2107.0   \n",
      "4  MM1000109497       NaN              Fegefeuer   20190103.0            NaN   \n",
      "\n",
      "   ...  REP_ACT_PWR_5_13 REP_ACT_PWR_5_14 REP_ACT_ID_6 REP_ACT_NM_6  \\\n",
      "0  ...               NaN              NaN          NaN          NaN   \n",
      "1  ...               NaN              NaN          NaN          NaN   \n",
      "2  ...               NaN              NaN          NaN          NaN   \n",
      "3  ...               NaN              NaN          NaN          NaN   \n",
      "4  ...               NaN              NaN          NaN          NaN   \n",
      "\n",
      "  REP_ACT_PRS_ROLE_NM_6 REP_ACT_PWR_6_1 REP_ACT_PWR_6_2 REP_ACT_PWR_6_3  \\\n",
      "0                   NaN             NaN             NaN             NaN   \n",
      "1                   NaN             NaN             NaN             NaN   \n",
      "2                   NaN             NaN             NaN             NaN   \n",
      "3                   NaN             NaN             NaN             NaN   \n",
      "4                   NaN             NaN             NaN             NaN   \n",
      "\n",
      "  REP_ACT_PWR_6_4 REP_ACT_PWR_6_5  \n",
      "0             NaN             NaN  \n",
      "1             NaN             NaN  \n",
      "2             NaN             NaN  \n",
      "3             NaN             NaN  \n",
      "4             NaN             NaN  \n",
      "\n",
      "[5 rows x 149 columns]\n"
     ]
    }
   ],
   "source": [
    "print(movie_list_v3.columns)\n",
    "print(movie_list_v3.shape[0])\n",
    "print(movie_list_v3.head())"
   ]
  },
  {
   "cell_type": "markdown",
   "metadata": {},
   "source": [
    "## movie_list_v3 + movie_list_prizedata_preprocessing = movie_list_v4"
   ]
  },
  {
   "cell_type": "code",
   "execution_count": 20,
   "metadata": {},
   "outputs": [],
   "source": [
    "movie_list_v4 = pd.merge(movie_list_v3,movie_list_prizedata_preprocessing, how = 'outer', on = 'META_ID')"
   ]
  },
  {
   "cell_type": "code",
   "execution_count": 21,
   "metadata": {},
   "outputs": [
    {
     "name": "stdout",
     "output_type": "stream",
     "text": [
      "Index(['META_TITLE', 'BLOG_CAFE_CIN_KWD', 'TRD_KWD1', 'TRD_KWD2', 'TRD_KWD3',\n",
      "       'META_ID', 'SUB_TITLE', 'ENGL_TITLE', 'CIN_OPEN_DT', 'DMST_SPCT_CNT',\n",
      "       ...\n",
      "       'REP_ACT_ID_6', 'REP_ACT_NM_6', 'REP_ACT_PRS_ROLE_NM_6',\n",
      "       'REP_ACT_PWR_6_1', 'REP_ACT_PWR_6_2', 'REP_ACT_PWR_6_3',\n",
      "       'REP_ACT_PWR_6_4', 'REP_ACT_PWR_6_5', 'PRIZE_YN', 'PRIZE_CNT'],\n",
      "      dtype='object', length=151)\n",
      "653\n",
      "         META_TITLE BLOG_CAFE_CIN_KWD       TRD_KWD1   TRD_KWD2 TRD_KWD3  \\\n",
      "0                언니             영화 언니             언니        NaN      NaN   \n",
      "1        데드풀 2: 순한맛             데드풀 2            데드풀       데드풀2      NaN   \n",
      "2       레인보우: 나의 사랑        레인보우 나의 사랑        영화 레인보우  레인보우 나의사랑      NaN   \n",
      "3                레토             영화 레토            NaN        NaN      NaN   \n",
      "4  미션 이스탄불 5: 더 파이널         미션 이스탄불 5  미션 이스탄불 더 파이널   미션 이스탄불5      NaN   \n",
      "\n",
      "        META_ID SUB_TITLE             ENGL_TITLE  CIN_OPEN_DT  DMST_SPCT_CNT  \\\n",
      "0  MM1000117095       NaN               No Mercy   20190101.0         1243.0   \n",
      "1  MM1000118454       NaN   ONCE UPON A DEADPOOL   20190103.0            NaN   \n",
      "2  MM1000115408       NaN  Una questione privata   20190103.0          252.0   \n",
      "3  MM1000128263       NaN                 Summer   20190103.0         2107.0   \n",
      "4  MM1000109497       NaN              Fegefeuer   20190103.0            NaN   \n",
      "\n",
      "   ...  REP_ACT_ID_6 REP_ACT_NM_6 REP_ACT_PRS_ROLE_NM_6 REP_ACT_PWR_6_1  \\\n",
      "0  ...           NaN          NaN                   NaN             NaN   \n",
      "1  ...           NaN          NaN                   NaN             NaN   \n",
      "2  ...           NaN          NaN                   NaN             NaN   \n",
      "3  ...           NaN          NaN                   NaN             NaN   \n",
      "4  ...           NaN          NaN                   NaN             NaN   \n",
      "\n",
      "  REP_ACT_PWR_6_2 REP_ACT_PWR_6_3 REP_ACT_PWR_6_4 REP_ACT_PWR_6_5 PRIZE_YN  \\\n",
      "0             NaN             NaN             NaN             NaN        N   \n",
      "1             NaN             NaN             NaN             NaN        N   \n",
      "2             NaN             NaN             NaN             NaN        N   \n",
      "3             NaN             NaN             NaN             NaN        Y   \n",
      "4             NaN             NaN             NaN             NaN        N   \n",
      "\n",
      "  PRIZE_CNT  \n",
      "0       0.0  \n",
      "1       0.0  \n",
      "2       0.0  \n",
      "3       1.0  \n",
      "4       0.0  \n",
      "\n",
      "[5 rows x 151 columns]\n"
     ]
    }
   ],
   "source": [
    "print(movie_list_v4.columns)\n",
    "print(movie_list_v4.shape[0])\n",
    "print(movie_list_v4.head())"
   ]
  },
  {
   "cell_type": "markdown",
   "metadata": {},
   "source": [
    "## movie_list_v4 + movie_list_pointdata_preprocessing = movie_list_v5"
   ]
  },
  {
   "cell_type": "code",
   "execution_count": 22,
   "metadata": {},
   "outputs": [],
   "source": [
    "movie_list_v5 = pd.merge(movie_list_v4,movie_list_pointdata_preprocessing, how = 'outer', on = 'META_ID')"
   ]
  },
  {
   "cell_type": "code",
   "execution_count": 23,
   "metadata": {},
   "outputs": [
    {
     "name": "stdout",
     "output_type": "stream",
     "text": [
      "Index(['META_TITLE', 'BLOG_CAFE_CIN_KWD', 'TRD_KWD1', 'TRD_KWD2', 'TRD_KWD3',\n",
      "       'META_ID', 'SUB_TITLE', 'ENGL_TITLE', 'CIN_OPEN_DT', 'DMST_SPCT_CNT',\n",
      "       ...\n",
      "       'REP_ACT_PWR_6_5', 'PRIZE_YN', 'PRIZE_CNT', 'BTV_LIKE_NCNT',\n",
      "       'BTV_NGOOD_NCNT', 'WATCHA_EVAL_NCNT', 'WATCHA_RVW_PNT',\n",
      "       'CINE21_EVAL_NCNT', 'CINE21_NTNZ_PNT', 'CINE21_CRTC_PNT'],\n",
      "      dtype='object', length=158)\n",
      "653\n",
      "         META_TITLE BLOG_CAFE_CIN_KWD       TRD_KWD1   TRD_KWD2 TRD_KWD3  \\\n",
      "0                언니             영화 언니             언니        NaN      NaN   \n",
      "1        데드풀 2: 순한맛             데드풀 2            데드풀       데드풀2      NaN   \n",
      "2       레인보우: 나의 사랑        레인보우 나의 사랑        영화 레인보우  레인보우 나의사랑      NaN   \n",
      "3                레토             영화 레토            NaN        NaN      NaN   \n",
      "4  미션 이스탄불 5: 더 파이널         미션 이스탄불 5  미션 이스탄불 더 파이널   미션 이스탄불5      NaN   \n",
      "\n",
      "        META_ID SUB_TITLE             ENGL_TITLE  CIN_OPEN_DT  DMST_SPCT_CNT  \\\n",
      "0  MM1000117095       NaN               No Mercy   20190101.0         1243.0   \n",
      "1  MM1000118454       NaN   ONCE UPON A DEADPOOL   20190103.0            NaN   \n",
      "2  MM1000115408       NaN  Una questione privata   20190103.0          252.0   \n",
      "3  MM1000128263       NaN                 Summer   20190103.0         2107.0   \n",
      "4  MM1000109497       NaN              Fegefeuer   20190103.0            NaN   \n",
      "\n",
      "   ...  REP_ACT_PWR_6_5 PRIZE_YN PRIZE_CNT BTV_LIKE_NCNT BTV_NGOOD_NCNT  \\\n",
      "0  ...              NaN        N       0.0        7809.0         2680.0   \n",
      "1  ...              NaN        N       0.0         673.0           24.0   \n",
      "2  ...              NaN        N       0.0          30.0           19.0   \n",
      "3  ...              NaN        Y       1.0          96.0            9.0   \n",
      "4  ...              NaN        N       0.0           3.0            2.0   \n",
      "\n",
      "  WATCHA_EVAL_NCNT WATCHA_RVW_PNT CINE21_EVAL_NCNT CINE21_NTNZ_PNT  \\\n",
      "0           7081.0           2.25              4.0            4.33   \n",
      "1         138820.0           3.69              NaN             NaN   \n",
      "2            214.0           2.96              1.0             NaN   \n",
      "3           7217.0           3.69              5.0            6.00   \n",
      "4              7.0           1.71              2.0             NaN   \n",
      "\n",
      "  CINE21_CRTC_PNT  \n",
      "0            3.00  \n",
      "1             NaN  \n",
      "2            5.00  \n",
      "3            7.25  \n",
      "4            4.50  \n",
      "\n",
      "[5 rows x 158 columns]\n"
     ]
    }
   ],
   "source": [
    "print(movie_list_v5.columns)\n",
    "print(movie_list_v5.shape[0])\n",
    "print(movie_list_v5.head())"
   ]
  },
  {
   "cell_type": "markdown",
   "metadata": {},
   "source": [
    "## movie_list_v5 + movie_list_rvwdata_preprocessing = movie_list_v6"
   ]
  },
  {
   "cell_type": "code",
   "execution_count": 24,
   "metadata": {},
   "outputs": [],
   "source": [
    "movie_list_v6 = pd.merge(movie_list_v5,movie_list_rvwdata_preprocessing, how = 'outer', on = 'META_ID')"
   ]
  },
  {
   "cell_type": "code",
   "execution_count": 25,
   "metadata": {},
   "outputs": [
    {
     "name": "stdout",
     "output_type": "stream",
     "text": [
      "Index(['META_TITLE', 'BLOG_CAFE_CIN_KWD', 'TRD_KWD1', 'TRD_KWD2', 'TRD_KWD3',\n",
      "       'META_ID', 'SUB_TITLE', 'ENGL_TITLE', 'CIN_OPEN_DT', 'DMST_SPCT_CNT',\n",
      "       ...\n",
      "       'CINE21_COMT_CTSC_2', 'CINE21_COMT_CTSC_3', 'CINE21_COMT_CTSC_4',\n",
      "       'CINE21_COMT_CTSC_5', 'CINE21_COMT_CTSC_6', 'CINE21_COMT_CTSC_7',\n",
      "       'CINE21_COMT_CTSC_8', 'CINE21_COMT_CTSC_9', 'CINE21_COMT_CTSC_10',\n",
      "       'CINE21_COMT_CTSC_11'],\n",
      "      dtype='object', length=170)\n",
      "653\n",
      "         META_TITLE BLOG_CAFE_CIN_KWD       TRD_KWD1   TRD_KWD2 TRD_KWD3  \\\n",
      "0                언니             영화 언니             언니        NaN      NaN   \n",
      "1        데드풀 2: 순한맛             데드풀 2            데드풀       데드풀2      NaN   \n",
      "2       레인보우: 나의 사랑        레인보우 나의 사랑        영화 레인보우  레인보우 나의사랑      NaN   \n",
      "3                레토             영화 레토            NaN        NaN      NaN   \n",
      "4  미션 이스탄불 5: 더 파이널         미션 이스탄불 5  미션 이스탄불 더 파이널   미션 이스탄불5      NaN   \n",
      "\n",
      "        META_ID SUB_TITLE             ENGL_TITLE  CIN_OPEN_DT  DMST_SPCT_CNT  \\\n",
      "0  MM1000117095       NaN               No Mercy   20190101.0         1243.0   \n",
      "1  MM1000118454       NaN   ONCE UPON A DEADPOOL   20190103.0            NaN   \n",
      "2  MM1000115408       NaN  Una questione privata   20190103.0          252.0   \n",
      "3  MM1000128263       NaN                 Summer   20190103.0         2107.0   \n",
      "4  MM1000109497       NaN              Fegefeuer   20190103.0            NaN   \n",
      "\n",
      "   ...        CINE21_COMT_CTSC_2                  CINE21_COMT_CTSC_3  \\\n",
      "0  ...                       NaN                                 NaN   \n",
      "1  ...                       NaN                                 NaN   \n",
      "2  ...                       NaN                                 NaN   \n",
      "3  ...  억압만큼 거셌던, 지나간 시절의 음악과 사랑  이념이 발목 잡아도 청춘은 바통을 넘겨 쥐며 음악처럼 질주한다   \n",
      "4  ...           제철 지난 독일판 <테이큰>                                 NaN   \n",
      "\n",
      "                          CINE21_COMT_CTSC_4 CINE21_COMT_CTSC_5  \\\n",
      "0                                        NaN                NaN   \n",
      "1                                        NaN                NaN   \n",
      "2                                        NaN                NaN   \n",
      "3  현재의 청춘이 과거의 청춘을 향해 보내는 무한정 리스펙트. 애틋하고 귀엽다                NaN   \n",
      "4                                        NaN                NaN   \n",
      "\n",
      "  CINE21_COMT_CTSC_6 CINE21_COMT_CTSC_7 CINE21_COMT_CTSC_8 CINE21_COMT_CTSC_9  \\\n",
      "0                NaN                NaN                NaN                NaN   \n",
      "1                NaN                NaN                NaN                NaN   \n",
      "2                NaN                NaN                NaN                NaN   \n",
      "3                NaN                NaN                NaN                NaN   \n",
      "4                NaN                NaN                NaN                NaN   \n",
      "\n",
      "  CINE21_COMT_CTSC_10 CINE21_COMT_CTSC_11  \n",
      "0                 NaN                 NaN  \n",
      "1                 NaN                 NaN  \n",
      "2                 NaN                 NaN  \n",
      "3                 NaN                 NaN  \n",
      "4                 NaN                 NaN  \n",
      "\n",
      "[5 rows x 170 columns]\n"
     ]
    }
   ],
   "source": [
    "print(movie_list_v6.columns)\n",
    "print(movie_list_v6.shape[0])\n",
    "print(movie_list_v6.head())"
   ]
  },
  {
   "cell_type": "code",
   "execution_count": 26,
   "metadata": {},
   "outputs": [
    {
     "name": "stdout",
     "output_type": "stream",
     "text": [
      "Index(['META_TITLE', 'BLOG_CAFE_CIN_KWD', 'TRD_KWD1', 'TRD_KWD2', 'TRD_KWD3',\n",
      "       'META_ID', 'SUB_TITLE', 'ENGL_TITLE', 'CIN_OPEN_DT', 'DMST_SPCT_CNT',\n",
      "       ...\n",
      "       'CINE21_COMT_CTSC_2', 'CINE21_COMT_CTSC_3', 'CINE21_COMT_CTSC_4',\n",
      "       'CINE21_COMT_CTSC_5', 'CINE21_COMT_CTSC_6', 'CINE21_COMT_CTSC_7',\n",
      "       'CINE21_COMT_CTSC_8', 'CINE21_COMT_CTSC_9', 'CINE21_COMT_CTSC_10',\n",
      "       'CINE21_COMT_CTSC_11'],\n",
      "      dtype='object', length=170)\n"
     ]
    }
   ],
   "source": [
    "print(movie_list_v6.columns)"
   ]
  },
  {
   "cell_type": "code",
   "execution_count": null,
   "metadata": {},
   "outputs": [],
   "source": [
    "## Meta_Title이 Null인 데이터 삭제"
   ]
  },
  {
   "cell_type": "code",
   "execution_count": 75,
   "metadata": {},
   "outputs": [
    {
     "name": "stdout",
     "output_type": "stream",
     "text": [
      "646\n"
     ]
    }
   ],
   "source": [
    "movie_list_v7 = movie_list_v6.dropna(subset = ['BLOG_CAFE_CIN_KWD'])\n",
    "print(movie_list_v7.shape[0])"
   ]
  },
  {
   "cell_type": "markdown",
   "metadata": {},
   "source": [
    "## 중복 데이터 찾기 & 제거 (부제목 - 감독판, 캐치온, 다국어자막 등)"
   ]
  },
  {
   "cell_type": "code",
   "execution_count": 76,
   "metadata": {},
   "outputs": [
    {
     "name": "stdout",
     "output_type": "stream",
     "text": [
      "641\n"
     ]
    }
   ],
   "source": [
    "#print(movie_list_v7[(movie_list_v7.duplicated(['META_TITLE']) == True)])\n",
    "a = movie_list_v7[(movie_list_v7.duplicated(['META_TITLE'], keep = 'first') == True)].META_ID\n",
    "b = movie_list_v7[(movie_list_v7.duplicated(['META_TITLE'], keep = 'last') == True)].META_ID\n",
    "\n",
    "\n",
    "\n",
    "#movie_list_v8 = movie_list_v7[pd.notnull.movie_list_v7.SUB_TITLE == TRUE ]\n",
    "\n",
    "#movie_list_actordata_v1 = movie_list_actordata.dropna(subset = ['REP_ACT_ID'])\n",
    "#print(movie_list_actordata_v1.columns)\n",
    "\n",
    "movie_list_v8 = movie_list_v7.drop(movie_list_v7[(movie_list_v7.duplicated(['META_TITLE'], keep = 'first') == True) \n",
    "                                                 & (movie_list_v7['SUB_TITLE'].isnull() == False )].index)\n",
    "\n",
    "movie_list_v9 = movie_list_v8.drop(movie_list_v8[(movie_list_v8.duplicated(['META_TITLE'], keep = 'last') == True) \n",
    "                                                 & (movie_list_v8['SUB_TITLE'].isnull() == False )].index)\n",
    "\n",
    "print(movie_list_v9.shape[0])\n",
    "\n",
    "#movie_list.drop_duplicates(['meta_title'], keep ='first', inplace = True)\n",
    "#print(np.where(movie_list.duplicated(['meta_title'], keep ='first') == True))\n",
    "#print(movie_list.shape[0])"
   ]
  },
  {
   "cell_type": "code",
   "execution_count": null,
   "metadata": {},
   "outputs": [],
   "source": [
    "## 최종 컬럼명 변경"
   ]
  },
  {
   "cell_type": "code",
   "execution_count": 77,
   "metadata": {},
   "outputs": [],
   "source": [
    "movie_list_v9.rename(columns = {'META_TITLE' : 'STRD_CIN_NAME',\n",
    "                                'META_ID' : 'CIN_ID'}, inplace = True)\n",
    "\n",
    "#movie_list.columns[['META_TITLE','카페/블로그 키워드', '키워드 1', '키워드 2', '키워드 3', '비고']]\n",
    "\n",
    "\n",
    "\n"
   ]
  },
  {
   "cell_type": "code",
   "execution_count": 79,
   "metadata": {},
   "outputs": [
    {
     "name": "stdout",
     "output_type": "stream",
     "text": [
      "Index(['STRD_CIN_NAME', 'BLOG_CAFE_CIN_KWD', 'TRD_KWD1', 'TRD_KWD2',\n",
      "       'TRD_KWD3', 'CIN_ID', 'SUB_TITLE', 'ENGL_TITLE', 'CIN_OPEN_DT',\n",
      "       'DMST_SPCT_CNT',\n",
      "       ...\n",
      "       'CINE21_COMT_CTSC_2', 'CINE21_COMT_CTSC_3', 'CINE21_COMT_CTSC_4',\n",
      "       'CINE21_COMT_CTSC_5', 'CINE21_COMT_CTSC_6', 'CINE21_COMT_CTSC_7',\n",
      "       'CINE21_COMT_CTSC_8', 'CINE21_COMT_CTSC_9', 'CINE21_COMT_CTSC_10',\n",
      "       'CINE21_COMT_CTSC_11'],\n",
      "      dtype='object', length=170)\n"
     ]
    }
   ],
   "source": [
    "print(movie_list_v9.columns)"
   ]
  },
  {
   "cell_type": "markdown",
   "metadata": {},
   "source": [
    "### 최종 전처리 Data완료"
   ]
  },
  {
   "cell_type": "code",
   "execution_count": 80,
   "metadata": {},
   "outputs": [],
   "source": [
    "import datetime as dt\n",
    "nowDate = dt.datetime.now()\n",
    "movie_list_v9.to_csv(\"data/movie_list_\" + nowDate.strftime(\"%Y%m%d%H%M%S\") + \".csv\", mode='w', header=True, index=False, encoding='UTF-8')"
   ]
  },
  {
   "cell_type": "code",
   "execution_count": 81,
   "metadata": {},
   "outputs": [
    {
     "name": "stdout",
     "output_type": "stream",
     "text": [
      "/home/jupyter-lehup\n",
      "/home/share\n"
     ]
    }
   ],
   "source": [
    "import os\n",
    "print(os.getcwd())\n",
    "os.chdir(\"/home/share/\")\n",
    "print(os.getcwd())"
   ]
  },
  {
   "cell_type": "code",
   "execution_count": 82,
   "metadata": {},
   "outputs": [],
   "source": [
    "import datetime as dt\n",
    "nowDate = dt.datetime.now()\n",
    "movie_list_v9.to_csv(\"/home/share/output/EH_movie_list_v3_\" + nowDate.strftime(\"%Y%m%d%H%M%S\") + \".csv\", mode='w', header=True, index=False, encoding='UTF-8')"
   ]
  }
 ],
 "metadata": {
  "kernelspec": {
   "display_name": "Python 3.7.3 (Global)",
   "language": "python",
   "name": "python3"
  },
  "language_info": {
   "codemirror_mode": {
    "name": "ipython",
    "version": 3
   },
   "file_extension": ".py",
   "mimetype": "text/x-python",
   "name": "python",
   "nbconvert_exporter": "python",
   "pygments_lexer": "ipython3",
   "version": "3.7.3"
  }
 },
 "nbformat": 4,
 "nbformat_minor": 4
}

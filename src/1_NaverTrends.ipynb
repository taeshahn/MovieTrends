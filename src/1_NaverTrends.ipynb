{
 "cells": [
  {
   "cell_type": "markdown",
   "metadata": {},
   "source": [
    "# NAVER TRENDS CRAWLING"
   ]
  },
  {
   "cell_type": "markdown",
   "metadata": {},
   "source": [
    "* 공식 API 제공 (ID/SECRET 발급)\n",
    "* 각 영화마다 키워드 설정하여 트랜드 조회 가능\n",
    "* 기간별, 성별, 연령별, 채널별 조회 가능\n",
    "* 동시 조회 가능 검색어 5개\n",
    "\n",
    "[Reference](https://brunch.co.kr/@sukhyun9673/13)"
   ]
  },
  {
   "cell_type": "markdown",
   "metadata": {},
   "source": [
    "#### DEFINE FUNCTIONS"
   ]
  },
  {
   "cell_type": "code",
   "execution_count": 5,
   "metadata": {},
   "outputs": [],
   "source": [
    "class NaverTrend:    \n",
    "    def __init__(self, api_info, movie_data_full):\n",
    "        \"\"\"\n",
    "        NaverTrend Class\n",
    "        \"\"\"\n",
    "        self.client_id = api_info[\"client_id\"]\n",
    "        self.client_secret = api_info[\"client_secret\"]\n",
    "        self.url = api_info[\"url\"]\n",
    "        self.movie_data_full = movie_data_full\n",
    "        self.min_movie = None\n",
    "        self.max_movie = None\n",
    "\n",
    "    def define_body(self, movie_list):\n",
    "        \"\"\"\n",
    "        TREND 조회 요청에 필요한 Body 파트를 정의한다.\n",
    "        \"\"\"\n",
    "        keywords_list = [\"{\\\"groupName\\\": \\\"\" + movie + \"\\\", \\\"keywords\\\": [\\\"\" + movie + \"\\\"]}\"  for movie in movie_list]\n",
    "        body =\"{\\\"startDate\\\":\\\"2018-12-01\\\", \\\"endDate\\\":\\\"2019-12-30\\\", \\\"timeUnit\\\":\\\"date\\\", \\\"keywordGroups\\\":\" + \"[\" + \", \".join(keywords_list) + \"]}\"\n",
    "        return(body)\n",
    "\n",
    "    def get_response_body(self, body):\n",
    "        \"\"\"\n",
    "        Naver API로부터 트렌드 조회 결과를 받아온다.\n",
    "        \"\"\"\n",
    "        request = urllib.request.Request(self.url)\n",
    "        request.add_header(\"X-Naver-Client-Id\", self.client_id)\n",
    "        request.add_header(\"X-Naver-Client-Secret\", self.client_secret)\n",
    "        request.add_header(\"Content-Type\", \"application/json\")\n",
    "        response = urllib.request.urlopen(request, data = body.encode(\"utf-8\"))\n",
    "        rescode = response.getcode()\n",
    "        if(rescode==200):\n",
    "            response_body_str = response.read().decode(\"utf-8\") # repsonse body string\n",
    "            response_body_dict = json.loads(response_body_str) # response body dict\n",
    "            return(response_body_dict)\n",
    "        else:\n",
    "            print(\"Error Code:\" + rescode)\n",
    "    \n",
    "    def response_to_df(self, response_dict): # OLD NAME: get_trends\n",
    "        \"\"\"\n",
    "        response_body_dict를 DataFrame으로 변환한다.\n",
    "        \"\"\"\n",
    "        response = pd.DataFrame()\n",
    "        for i in range(len(response_dict[\"results\"])): # Need to find for loop alternatives.\n",
    "            ttl = response_dict[\"results\"][i][\"title\"]\n",
    "            data = response_dict[\"results\"][i][\"data\"]\n",
    "            \n",
    "            time = np.array([datetime.strptime(i[\"period\"], \"%Y-%m-%d\") for i in data])\n",
    "            value = np.array([j[\"ratio\"] for j in data])\n",
    "            title = np.repeat(ttl, len(value), axis=0)\n",
    "            \n",
    "            trend = pd.DataFrame({\"Keyword\": title, \"Time\": time, \"Trend_index\": value})\n",
    "            response = pd.concat([response, trend])\n",
    "        response = response.reset_index().drop([\"index\"], axis=1)\n",
    "        return(response)\n",
    "    \n",
    "    def recursive_min_max_search(self, init_cand):\n",
    "        \"\"\"\n",
    "        전체 리스트 중 검색 횟수가 최대, 최소인 영화를 찾을 때까지 5개씩 TREND를 요청한다.\n",
    "        \"\"\"\n",
    "        def min_max_search(cand):\n",
    "            n_movie = len(cand)\n",
    "            rng = range(1, n_movie, 5)\n",
    "\n",
    "            min_cand_subset, max_cand_subset = [], []\n",
    "            for i, idx in zip(rng, range(len(rng))):\n",
    "                movie_subset = [row[\"title\"] for idx, row in cand.iloc[i:i+5].iterrows()]\n",
    "                body = self.define_body(movie_subset)\n",
    "                response_dict_subset = self.get_response_body(body)\n",
    "                response_subset = self.response_to_df(response_dict_subset)\n",
    "                \n",
    "                min_in_five = response_subset.iloc[response_subset['Trend_index'].idxmin()][\"Keyword\"]\n",
    "                max_in_five = response_subset.iloc[response_subset['Trend_index'].idxmax()][\"Keyword\"]\n",
    "                min_cand_subset.append(min_in_five)\n",
    "                max_cand_subset.append(max_in_five)\n",
    "                print(min_in_five, \"|\", max_in_five)\n",
    "            return(min_cand_subset, max_cand_subset)\n",
    "\n",
    "        min_cand, max_cand = min_max_search(init_cand)\n",
    "        if len(min_cand) != 1 or len(max_cand) != 1:\n",
    "            print(\"================================================\")\n",
    "            return(self.recursive_min_max_search(init_cand[init_cand.title.isin(set([*min_cand, *max_cand]))]))\n",
    "        else:\n",
    "            return(min_cand, max_cand)\n",
    "\n",
    "    def set_min_max_movie(self, min_max_movie = None):\n",
    "        if min_max_movie == None:\n",
    "            self.min_movie, self.max_movie = self.recursive_min_max_search(self.movie_data_full)\n",
    "        else:\n",
    "            self.min_movie, self.max_movie = [min_max_movie[0]], [min_max_movie[1]]\n",
    "        return\n",
    "    \n",
    "    def get_trend_with_minmax(self, target):\n",
    "        \"\"\"\n",
    "        MIN, MAX와 함께 특정 영화의 TREND를 조회한다.\n",
    "        \"\"\"\n",
    "        body = self.define_body(set([*target, *self.min_movie, *self.max_movie]))\n",
    "        response_dict_subset = self.get_response_body(body)\n",
    "        response_subset = self.response_to_df(response_dict_subset)\n",
    "        target_trend = response_subset[response_subset.Keyword.isin(target)]\n",
    "        return(target_trend)"
   ]
  },
  {
   "cell_type": "code",
   "execution_count": null,
   "metadata": {},
   "outputs": [],
   "source": [
    "def get_response_body(body):\n",
    "    \"\"\"\n",
    "    \"\"\"\n",
    "    request = urllib.request.Request(url)\n",
    "    request.add_header(\"X-Naver-Client-Id\", client_id)\n",
    "    request.add_header(\"X-Naver-Client-Secret\", client_secret)\n",
    "    request.add_header(\"Content-Type\",\"application/json\")\n",
    "    response = urllib.request.urlopen(request, data=body.encode(\"utf-8\"))\n",
    "    rescode = response.getcode()\n",
    "    if(rescode==200):\n",
    "        response_body_str = response.read().decode(\"utf-8\") # repsonse body string\n",
    "        response_body = json.loads(response_body_str) # response body dict\n",
    "        return(response_body)\n",
    "    else:\n",
    "        print(\"Error Code:\" + rescode)"
   ]
  },
  {
   "cell_type": "code",
   "execution_count": null,
   "metadata": {},
   "outputs": [],
   "source": [
    "def get_trends(result):\n",
    "    out = pd.DataFrame()\n",
    "    for i in range(len(result[\"results\"])):\n",
    "        ttl = result[\"results\"][i][\"title\"]\n",
    "        data = result[\"results\"][i][\"data\"]\n",
    "        time = np.array([datetime.strptime(i[\"period\"], \"%Y-%m-%d\") for i in data])\n",
    "        value = np.array([j[\"ratio\"] for j in data])\n",
    "        title = np.repeat(ttl, len(value), axis=0)\n",
    "        trend = pd.DataFrame({\"Keyword\": title, \"Time\": time, \"Trend_index\": value})\n",
    "    return(out.reset_index())"
   ]
  },
  {
   "cell_type": "code",
   "execution_count": null,
   "metadata": {},
   "outputs": [],
   "source": [
    "def recursive_min_max_search(init_data):\n",
    "    def min_max_search(dat):\n",
    "        n_movie = len(dat)\n",
    "        rng = range(1, n_movie, 5)\n",
    "\n",
    "        max_cand_out, min_cand_out = [] ,[]\n",
    "        for i, idx in zip(rng, range(len(rng))):\n",
    "            movie_subset = [\"{\\\"groupName\\\": \\\"\" + row[\"title\"] + \"\\\", \\\"keywords\\\": [\\\"\" + row[\"title\"] + \"\\\"]}\"  for idx, row in dat.iloc[i:i+5].iterrows()]\n",
    "            body = \"\"\"\n",
    "            {\\\"startDate\\\":\\\"2018-12-01\\\", \n",
    "            \\\"endDate\\\":\\\"2019-12-30\\\",\n",
    "            \\\"timeUnit\\\":\\\"date\\\",\n",
    "            \\\"keywordGroups\\\":\n",
    "            \"\"\" + \"[\" + \", \".join(movie_subset) + \"]}\"\n",
    "            response_body = get_response_body(body)\n",
    "            result = json.loads(response_body)\n",
    "            trends_subset = get_trends(result)\n",
    "            max, min = trends_subset.iloc[trends_subset['Trend_index'].idxmax()][\"Keyword\"], trends_subset.iloc[trends_subset['Trend_index'].idxmin()][\"Keyword\"]\n",
    "            max_cand_out.append(max)\n",
    "            min_cand_out.append(min)\n",
    "            print(max, \"|\", min)\n",
    "        return(max_cand_out, min_cand_out)\n",
    "\n",
    "    x, y = min_max_search(init_data)\n",
    "    if len(x) != 1 or len(y) != 1:\n",
    "        print(\"================================================\")\n",
    "        return(recursive_min_max_search(init_data[init_data.title.isin(set([*x, *y]))]))\n",
    "    else:\n",
    "        return(x, y)"
   ]
  },
  {
   "cell_type": "code",
   "execution_count": null,
   "metadata": {},
   "outputs": [],
   "source": [
    "def get_trend_with_minmax(target_movie, min_movie, max_movie):\n",
    "    movie_subset = [\"{\\\"groupName\\\": \\\"\" + movie_nm + \"\\\", \\\"keywords\\\": [\\\"\" + movie_nm + \"\\\"]}\" for movie_nm in set([target_movie, *min_movie, *max_movie])]\n",
    "    body = \"\"\"\n",
    "    {\\\"startDate\\\":\\\"2018-12-01\\\", \n",
    "    \\\"endDate\\\":\\\"2019-12-30\\\",\n",
    "    \\\"timeUnit\\\":\\\"date\\\",\n",
    "    \\\"keywordGroups\\\":\n",
    "    \"\"\" + \"[\" + \", \".join(movie_subset) + \"]}\"\n",
    "    response_body = get_response_body(body)\n",
    "    result = json.loads(response_body)\n",
    "    trends_subset = get_trends(result)\n",
    "    out = trends_subset[trends_subset.Keyword == target_movie]\n",
    "    return(out)"
   ]
  },
  {
   "cell_type": "markdown",
   "metadata": {},
   "source": [
    "---"
   ]
  },
  {
   "cell_type": "markdown",
   "metadata": {},
   "source": [
    "#### EXEUCTION"
   ]
  },
  {
   "cell_type": "code",
   "execution_count": null,
   "metadata": {},
   "outputs": [],
   "source": [
    "client_id = \"6GPEYsepjIil0OCSMnU5\"\n",
    "client_secret = \"QUd5qt5QU9\"\n",
    "url = \"https://openapi.naver.com/v1/datalab/search\";"
   ]
  },
  {
   "cell_type": "code",
   "execution_count": null,
   "metadata": {},
   "outputs": [],
   "source": [
    "client_id = \"fe5kOiBVrMopPhGmaeeh\"\n",
    "client_secret = \"zauzLV_BPn\"\n",
    "url = \"https://openapi.naver.com/v1/datalab/search\";"
   ]
  },
  {
   "cell_type": "code",
   "execution_count": null,
   "metadata": {},
   "outputs": [],
   "source": [
    "movie_list = pd.read_table(\"~/crawling/data/movie2019.dat\",\n",
    "                           sep = \"|\",\n",
    "                           header=None,\n",
    "                           names = [\"title\", \"year\", \"month\", \"day\"])\n",
    "\n",
    "open_date = movie_list.year.str.replace(\"년\", \"\") + \"-\" + movie_list.month.str.replace(\"월\", \"\").str.zfill(2) + \"-\" +movie_list.day.str.replace(\"일\", \"\").str.zfill(2)\n",
    "movie_list[\"open_date\"] = [datetime.strptime(i, \"%Y-%m-%d\") for i in open_date]\n",
    "movie_list = movie_list.drop(['year', 'month', 'day'], axis=1)"
   ]
  },
  {
   "cell_type": "code",
   "execution_count": null,
   "metadata": {},
   "outputs": [],
   "source": [
    "min_movie, max_movie = recursive_min_max_search(movie_list)"
   ]
  },
  {
   "cell_type": "code",
   "execution_count": null,
   "metadata": {},
   "outputs": [],
   "source": [
    "result_list = [get_trend_with_minmax(target_movie, min_movie, max_movie) for target_movie in [*movie_list.title]]\n",
    "\n",
    "result_full = pd.concat(result_list).drop(\"index\", axis=1)\n",
    "\n",
    "result_merged = result_full.merge(movie_list, how=\"left\", left_on=\"Keyword\", right_on=\"title\").drop(\"title\", 1)\n",
    "\n",
    "result_merged[\"d_date\"] = result_merged.Time - result_merged.open_date\n",
    "\n",
    "result_merged\n",
    "\n",
    "result_final.to_csv(\"~/crawling/data/result_final.csv\")"
   ]
  },
  {
   "cell_type": "markdown",
   "metadata": {},
   "source": [
    "---"
   ]
  },
  {
   "cell_type": "markdown",
   "metadata": {},
   "source": [
    "#### EXECUTION 2"
   ]
  },
  {
   "cell_type": "markdown",
   "metadata": {},
   "source": [
    "#### IMPORT PACKAGE"
   ]
  },
  {
   "cell_type": "code",
   "execution_count": 1,
   "metadata": {},
   "outputs": [],
   "source": [
    "import pandas as pd\n",
    "import numpy as np\n",
    "from datetime import datetime\n",
    "import urllib.request\n",
    "import json"
   ]
  },
  {
   "cell_type": "code",
   "execution_count": 2,
   "metadata": {},
   "outputs": [],
   "source": [
    "api_info = {\n",
    "    \"client_id\": \"fe5kOiBVrMopPhGmaeeh\",\n",
    "    \"client_secret\": \"zauzLV_BPn\",\n",
    "    \"url\": \"https://openapi.naver.com/v1/datalab/search\"\n",
    "}"
   ]
  },
  {
   "cell_type": "code",
   "execution_count": 3,
   "metadata": {},
   "outputs": [],
   "source": [
    "movie_list = pd.read_table(\"~/crawling/data/movie2019.dat\",\n",
    "                           sep = \"|\",\n",
    "                           header=None,\n",
    "                           names = [\"title\", \"year\", \"month\", \"day\"])\n",
    "\n",
    "open_date = movie_list.year.str.replace(\"년\", \"\") + \"-\" + movie_list.month.str.replace(\"월\", \"\").str.zfill(2) + \"-\" +movie_list.day.str.replace(\"일\", \"\").str.zfill(2)\n",
    "movie_list[\"open_date\"] = [datetime.strptime(i, \"%Y-%m-%d\") for i in open_date]\n",
    "movie_list = movie_list.drop(['year', 'month', 'day'], axis=1)"
   ]
  },
  {
   "cell_type": "code",
   "execution_count": 6,
   "metadata": {},
   "outputs": [],
   "source": [
    "NT = NaverTrend(api_info, movie_list)"
   ]
  },
  {
   "cell_type": "code",
   "execution_count": 7,
   "metadata": {},
   "outputs": [],
   "source": [
    "NT.set_min_max_movie([\"감쪽같은 그녀\", \"백두산\"])"
   ]
  },
  {
   "cell_type": "code",
   "execution_count": 10,
   "metadata": {},
   "outputs": [],
   "source": [
    "result = NT.get_trend_with_minmax([\"백두산\", \"말모이\", \"시동\"])"
   ]
  },
  {
   "cell_type": "code",
   "execution_count": 47,
   "metadata": {},
   "outputs": [],
   "source": [
    "result_list = [NT.get_trend_with_minmax([target_movie]) for target_movie in [*movie_list.title]]"
   ]
  },
  {
   "cell_type": "code",
   "execution_count": 52,
   "metadata": {},
   "outputs": [],
   "source": [
    "result_full = pd.concat(result_list)"
   ]
  },
  {
   "cell_type": "code",
   "execution_count": 58,
   "metadata": {},
   "outputs": [],
   "source": [
    "result_merged = result_full.merge(NT.movie_data_full, how=\"left\", left_on=\"Keyword\", right_on=\"title\").drop(\"title\", 1)"
   ]
  },
  {
   "cell_type": "code",
   "execution_count": 59,
   "metadata": {},
   "outputs": [],
   "source": [
    "result_merged[\"d_date\"] = result_merged.Time - result_merged.open_date"
   ]
  },
  {
   "cell_type": "code",
   "execution_count": 60,
   "metadata": {
    "collapsed": true,
    "jupyter": {
     "outputs_hidden": true
    }
   },
   "outputs": [
    {
     "data": {
      "text/html": [
       "<div>\n",
       "<style scoped>\n",
       "    .dataframe tbody tr th:only-of-type {\n",
       "        vertical-align: middle;\n",
       "    }\n",
       "\n",
       "    .dataframe tbody tr th {\n",
       "        vertical-align: top;\n",
       "    }\n",
       "\n",
       "    .dataframe thead th {\n",
       "        text-align: right;\n",
       "    }\n",
       "</style>\n",
       "<table border=\"1\" class=\"dataframe\">\n",
       "  <thead>\n",
       "    <tr style=\"text-align: right;\">\n",
       "      <th></th>\n",
       "      <th>Keyword</th>\n",
       "      <th>Time</th>\n",
       "      <th>Trend_index</th>\n",
       "      <th>open_date</th>\n",
       "      <th>d_date</th>\n",
       "    </tr>\n",
       "  </thead>\n",
       "  <tbody>\n",
       "    <tr>\n",
       "      <th>0</th>\n",
       "      <td>언니</td>\n",
       "      <td>2018-12-01</td>\n",
       "      <td>0.10144</td>\n",
       "      <td>2019-01-01</td>\n",
       "      <td>-31 days</td>\n",
       "    </tr>\n",
       "    <tr>\n",
       "      <th>1</th>\n",
       "      <td>언니</td>\n",
       "      <td>2018-12-02</td>\n",
       "      <td>0.08461</td>\n",
       "      <td>2019-01-01</td>\n",
       "      <td>-30 days</td>\n",
       "    </tr>\n",
       "    <tr>\n",
       "      <th>2</th>\n",
       "      <td>언니</td>\n",
       "      <td>2018-12-03</td>\n",
       "      <td>2.77561</td>\n",
       "      <td>2019-01-01</td>\n",
       "      <td>-29 days</td>\n",
       "    </tr>\n",
       "    <tr>\n",
       "      <th>3</th>\n",
       "      <td>언니</td>\n",
       "      <td>2018-12-04</td>\n",
       "      <td>0.20092</td>\n",
       "      <td>2019-01-01</td>\n",
       "      <td>-28 days</td>\n",
       "    </tr>\n",
       "    <tr>\n",
       "      <th>4</th>\n",
       "      <td>언니</td>\n",
       "      <td>2018-12-05</td>\n",
       "      <td>0.17483</td>\n",
       "      <td>2019-01-01</td>\n",
       "      <td>-27 days</td>\n",
       "    </tr>\n",
       "    <tr>\n",
       "      <th>...</th>\n",
       "      <td>...</td>\n",
       "      <td>...</td>\n",
       "      <td>...</td>\n",
       "      <td>...</td>\n",
       "      <td>...</td>\n",
       "    </tr>\n",
       "    <tr>\n",
       "      <th>39125</th>\n",
       "      <td>천문: 하늘에 묻는다</td>\n",
       "      <td>2019-12-26</td>\n",
       "      <td>0.72234</td>\n",
       "      <td>2019-12-26</td>\n",
       "      <td>0 days</td>\n",
       "    </tr>\n",
       "    <tr>\n",
       "      <th>39126</th>\n",
       "      <td>천문: 하늘에 묻는다</td>\n",
       "      <td>2019-12-27</td>\n",
       "      <td>4.44656</td>\n",
       "      <td>2019-12-26</td>\n",
       "      <td>1 days</td>\n",
       "    </tr>\n",
       "    <tr>\n",
       "      <th>39127</th>\n",
       "      <td>천문: 하늘에 묻는다</td>\n",
       "      <td>2019-12-28</td>\n",
       "      <td>4.09427</td>\n",
       "      <td>2019-12-26</td>\n",
       "      <td>2 days</td>\n",
       "    </tr>\n",
       "    <tr>\n",
       "      <th>39128</th>\n",
       "      <td>천문: 하늘에 묻는다</td>\n",
       "      <td>2019-12-29</td>\n",
       "      <td>4.27360</td>\n",
       "      <td>2019-12-26</td>\n",
       "      <td>3 days</td>\n",
       "    </tr>\n",
       "    <tr>\n",
       "      <th>39129</th>\n",
       "      <td>천문: 하늘에 묻는다</td>\n",
       "      <td>2019-12-30</td>\n",
       "      <td>4.41487</td>\n",
       "      <td>2019-12-26</td>\n",
       "      <td>4 days</td>\n",
       "    </tr>\n",
       "  </tbody>\n",
       "</table>\n",
       "<p>39130 rows × 5 columns</p>\n",
       "</div>"
      ],
      "text/plain": [
       "           Keyword       Time  Trend_index  open_date   d_date\n",
       "0               언니 2018-12-01      0.10144 2019-01-01 -31 days\n",
       "1               언니 2018-12-02      0.08461 2019-01-01 -30 days\n",
       "2               언니 2018-12-03      2.77561 2019-01-01 -29 days\n",
       "3               언니 2018-12-04      0.20092 2019-01-01 -28 days\n",
       "4               언니 2018-12-05      0.17483 2019-01-01 -27 days\n",
       "...            ...        ...          ...        ...      ...\n",
       "39125  천문: 하늘에 묻는다 2019-12-26      0.72234 2019-12-26   0 days\n",
       "39126  천문: 하늘에 묻는다 2019-12-27      4.44656 2019-12-26   1 days\n",
       "39127  천문: 하늘에 묻는다 2019-12-28      4.09427 2019-12-26   2 days\n",
       "39128  천문: 하늘에 묻는다 2019-12-29      4.27360 2019-12-26   3 days\n",
       "39129  천문: 하늘에 묻는다 2019-12-30      4.41487 2019-12-26   4 days\n",
       "\n",
       "[39130 rows x 5 columns]"
      ]
     },
     "execution_count": 60,
     "metadata": {},
     "output_type": "execute_result"
    }
   ],
   "source": [
    "result_merged"
   ]
  },
  {
   "cell_type": "code",
   "execution_count": 11,
   "metadata": {
    "collapsed": true,
    "jupyter": {
     "outputs_hidden": true
    }
   },
   "outputs": [
    {
     "data": {
      "text/html": [
       "<div>\n",
       "<style scoped>\n",
       "    .dataframe tbody tr th:only-of-type {\n",
       "        vertical-align: middle;\n",
       "    }\n",
       "\n",
       "    .dataframe tbody tr th {\n",
       "        vertical-align: top;\n",
       "    }\n",
       "\n",
       "    .dataframe thead th {\n",
       "        text-align: right;\n",
       "    }\n",
       "</style>\n",
       "<table border=\"1\" class=\"dataframe\">\n",
       "  <thead>\n",
       "    <tr style=\"text-align: right;\">\n",
       "      <th></th>\n",
       "      <th>Keyword</th>\n",
       "      <th>Time</th>\n",
       "      <th>Trend_index</th>\n",
       "    </tr>\n",
       "  </thead>\n",
       "  <tbody>\n",
       "    <tr>\n",
       "      <th>0</th>\n",
       "      <td>말모이</td>\n",
       "      <td>2018-12-01</td>\n",
       "      <td>0.21419</td>\n",
       "    </tr>\n",
       "    <tr>\n",
       "      <th>1</th>\n",
       "      <td>말모이</td>\n",
       "      <td>2018-12-02</td>\n",
       "      <td>0.13052</td>\n",
       "    </tr>\n",
       "    <tr>\n",
       "      <th>2</th>\n",
       "      <td>말모이</td>\n",
       "      <td>2018-12-03</td>\n",
       "      <td>7.50304</td>\n",
       "    </tr>\n",
       "    <tr>\n",
       "      <th>3</th>\n",
       "      <td>말모이</td>\n",
       "      <td>2018-12-04</td>\n",
       "      <td>0.56518</td>\n",
       "    </tr>\n",
       "    <tr>\n",
       "      <th>4</th>\n",
       "      <td>말모이</td>\n",
       "      <td>2018-12-05</td>\n",
       "      <td>0.20541</td>\n",
       "    </tr>\n",
       "    <tr>\n",
       "      <th>...</th>\n",
       "      <td>...</td>\n",
       "      <td>...</td>\n",
       "      <td>...</td>\n",
       "    </tr>\n",
       "    <tr>\n",
       "      <th>1180</th>\n",
       "      <td>시동</td>\n",
       "      <td>2019-12-26</td>\n",
       "      <td>11.97438</td>\n",
       "    </tr>\n",
       "    <tr>\n",
       "      <th>1181</th>\n",
       "      <td>시동</td>\n",
       "      <td>2019-12-27</td>\n",
       "      <td>9.13772</td>\n",
       "    </tr>\n",
       "    <tr>\n",
       "      <th>1182</th>\n",
       "      <td>시동</td>\n",
       "      <td>2019-12-28</td>\n",
       "      <td>11.13778</td>\n",
       "    </tr>\n",
       "    <tr>\n",
       "      <th>1183</th>\n",
       "      <td>시동</td>\n",
       "      <td>2019-12-29</td>\n",
       "      <td>10.60981</td>\n",
       "    </tr>\n",
       "    <tr>\n",
       "      <th>1184</th>\n",
       "      <td>시동</td>\n",
       "      <td>2019-12-30</td>\n",
       "      <td>8.39461</td>\n",
       "    </tr>\n",
       "  </tbody>\n",
       "</table>\n",
       "<p>1185 rows × 3 columns</p>\n",
       "</div>"
      ],
      "text/plain": [
       "     Keyword       Time  Trend_index\n",
       "0        말모이 2018-12-01      0.21419\n",
       "1        말모이 2018-12-02      0.13052\n",
       "2        말모이 2018-12-03      7.50304\n",
       "3        말모이 2018-12-04      0.56518\n",
       "4        말모이 2018-12-05      0.20541\n",
       "...      ...        ...          ...\n",
       "1180      시동 2019-12-26     11.97438\n",
       "1181      시동 2019-12-27      9.13772\n",
       "1182      시동 2019-12-28     11.13778\n",
       "1183      시동 2019-12-29     10.60981\n",
       "1184      시동 2019-12-30      8.39461\n",
       "\n",
       "[1185 rows x 3 columns]"
      ]
     },
     "execution_count": 11,
     "metadata": {},
     "output_type": "execute_result"
    }
   ],
   "source": [
    "result_final.to_csv(\"~/crawling/data/result_final.csv\")"
   ]
  },
  {
   "cell_type": "markdown",
   "metadata": {},
   "source": [
    "---"
   ]
  },
  {
   "cell_type": "code",
   "execution_count": 22,
   "metadata": {},
   "outputs": [],
   "source": [
    "import matplotlib as mpl\n",
    "import matplotlib.pyplot as plt\n",
    "import seaborn as sns"
   ]
  },
  {
   "cell_type": "code",
   "execution_count": 63,
   "metadata": {},
   "outputs": [
    {
     "name": "stderr",
     "output_type": "stream",
     "text": [
      "No handles with labels found to put in legend.\n"
     ]
    },
    {
     "data": {
      "image/png": "[encoded data removed]",
      "text/plain": [
       "<Figure size 1080x720 with 1 Axes>"
      ]
     },
     "metadata": {},
     "output_type": "display_data"
    }
   ],
   "source": [
    "mpl.rc('font', family='NanumGothic')\n",
    "mpl.rc('figure', figsize=(15,10))\n",
    "mpl.rc('axes', unicode_minus=False)\n",
    "\n",
    "# ax = sns.lineplot(x='Time', y='Trend_index', hue='Keyword', data=result)\n",
    "ax = sns.lineplot(x='d_date', y='Trend_index', hue='Keyword', data=result_merged, legend=False)\n",
    "\n",
    "plt.title('Line Graph by seaborn', fontsize=20)\n",
    "plt.ylabel('Trend', fontsize=14)\n",
    "plt.xlabel('Date', fontsize=14)\n",
    "plt.legend(fontsize=12, loc='best')\n",
    "plt.show()"
   ]
  },
  {
   "cell_type": "markdown",
   "metadata": {},
   "source": [
    "---"
   ]
  },
  {
   "cell_type": "markdown",
   "metadata": {},
   "source": [
    "### 한글 폰트 문제 해결"
   ]
  },
  {
   "cell_type": "code",
   "execution_count": 17,
   "metadata": {
    "collapsed": true,
    "jupyter": {
     "outputs_hidden": true
    }
   },
   "outputs": [
    {
     "data": {
      "text/plain": [
       "['/usr/share/fonts/truetype/nanum/NanumSquareL.ttf',\n",
       " '/usr/share/fonts/opentype/urw-base35/P052-Roman.otf',\n",
       " '/usr/share/texmf/fonts/opentype/public/lm/lmsansdemicond10-oblique.otf',\n",
       " '/usr/share/texmf/fonts/opentype/public/lm/lmmono9-regular.otf',\n",
       " '/usr/share/fonts/opentype/urw-base35/NimbusSansNarrow-Regular.otf',\n",
       " '/usr/share/fonts/opentype/urw-base35/Z003-MediumItalic.otf',\n",
       " '/usr/share/texmf/fonts/opentype/public/lm/lmroman7-italic.otf',\n",
       " '/usr/share/fonts/truetype/droid/DroidSansFallbackFull.ttf',\n",
       " '/usr/share/fonts/opentype/urw-base35/P052-Bold.otf',\n",
       " '/usr/share/fonts/opentype/urw-base35/NimbusSansNarrow-Oblique.otf',\n",
       " '/usr/share/fonts/truetype/lato/Lato-BoldItalic.ttf',\n",
       " '/usr/share/fonts/opentype/urw-base35/URWGothic-Demi.otf',\n",
       " '/usr/share/texmf/fonts/opentype/public/tex-gyre-math/texgyrepagella-math.otf',\n",
       " '/usr/share/fonts/truetype/nanum/NanumMyeongjo.ttf',\n",
       " '/usr/share/fonts/truetype/lato/Lato-Heavy.ttf',\n",
       " '/usr/share/texmf/fonts/opentype/public/tex-gyre/texgyreheroscn-regular.otf',\n",
       " '/usr/share/texmf/fonts/opentype/public/tex-gyre/texgyreheros-bold.otf',\n",
       " '/usr/share/fonts/truetype/nanum/NanumSquareRoundR.ttf',\n",
       " '/usr/share/texmf/fonts/opentype/public/lm/lmmonocaps10-oblique.otf',\n",
       " '/usr/share/texmf/fonts/opentype/public/lm/lmsans12-oblique.otf',\n",
       " '/usr/share/texmf/fonts/opentype/public/lm/lmromandemi10-regular.otf',\n",
       " '/usr/share/texmf/fonts/opentype/public/tex-gyre/texgyrepagella-bolditalic.otf',\n",
       " '/usr/share/fonts/opentype/urw-base35/URWGothic-DemiOblique.otf',\n",
       " '/usr/share/fonts/truetype/noto/NotoMono-Regular.ttf',\n",
       " '/usr/share/fonts/opentype/urw-base35/NimbusMonoPS-BoldItalic.otf',\n",
       " '/usr/share/fonts/truetype/liberation/LiberationMono-BoldItalic.ttf',\n",
       " '/usr/share/texmf/fonts/opentype/public/lm/lmsans12-regular.otf',\n",
       " '/usr/share/fonts/truetype/dejavu/DejaVuSans-Bold.ttf',\n",
       " '/usr/share/texmf/fonts/opentype/public/lm/lmromandunh10-oblique.otf',\n",
       " '/usr/share/texmf/fonts/opentype/public/tex-gyre/texgyrecursor-bolditalic.otf',\n",
       " '/usr/share/texmf/fonts/opentype/public/lm/lmmono10-italic.otf',\n",
       " '/usr/share/fonts/truetype/nanum/NanumSquareRoundB.ttf',\n",
       " '/usr/share/texmf/fonts/opentype/public/lm/lmroman8-bold.otf',\n",
       " '/usr/share/texmf/fonts/opentype/public/tex-gyre/texgyreschola-bold.otf',\n",
       " '/usr/share/fonts/truetype/liberation/LiberationSans-BoldItalic.ttf',\n",
       " '/usr/share/fonts/opentype/urw-base35/NimbusSans-Bold.otf',\n",
       " '/usr/share/fonts/truetype/nanum/NanumSquareR.ttf',\n",
       " '/usr/share/texmf/fonts/opentype/public/lm/lmsans8-oblique.otf',\n",
       " '/usr/share/texmf/fonts/opentype/public/lm/lmromanslant10-regular.otf',\n",
       " '/usr/share/texmf/fonts/opentype/public/lm/lmsans10-boldoblique.otf',\n",
       " '/usr/share/texmf/fonts/opentype/public/tex-gyre/texgyrecursor-regular.otf',\n",
       " '/usr/share/fonts/truetype/nanum/NanumMyeongjoBold.ttf',\n",
       " '/usr/share/texmf/fonts/opentype/public/lm/lmmono12-regular.otf',\n",
       " '/usr/share/fonts/opentype/urw-base35/NimbusSansNarrow-Bold.otf',\n",
       " '/usr/share/texmf/fonts/opentype/public/lm/lmroman6-bold.otf',\n",
       " '/usr/share/texmf/fonts/opentype/public/lm/lmromandunh10-regular.otf',\n",
       " '/usr/share/texmf/fonts/opentype/public/lm/lmromancaps10-oblique.otf',\n",
       " '/usr/share/fonts/truetype/liberation/LiberationSans-Bold.ttf',\n",
       " '/usr/share/texmf/fonts/opentype/public/lm/lmroman8-regular.otf',\n",
       " '/usr/share/fonts/opentype/urw-base35/NimbusRoman-Bold.otf',\n",
       " '/usr/share/texmf/fonts/opentype/public/lm/lmmonoproplt10-regular.otf',\n",
       " '/usr/share/texmf/fonts/opentype/public/lm/lmroman10-italic.otf',\n",
       " '/usr/share/texmf/fonts/opentype/public/lm/lmroman12-italic.otf',\n",
       " '/usr/share/texmf/fonts/opentype/public/lm/lmmonoprop10-oblique.otf',\n",
       " '/usr/share/texmf/fonts/opentype/public/tex-gyre/texgyrepagella-regular.otf',\n",
       " '/usr/share/texmf/fonts/opentype/public/lm-math/latinmodern-math.otf',\n",
       " '/usr/share/texmf/fonts/opentype/public/tex-gyre/texgyreadventor-bolditalic.otf',\n",
       " '/usr/share/texmf/fonts/opentype/public/tex-gyre/texgyreschola-bolditalic.otf',\n",
       " '/usr/share/texmf/fonts/opentype/public/lm/lmmonolt10-regular.otf',\n",
       " '/usr/share/texmf/fonts/opentype/public/lm/lmmonoproplt10-oblique.otf',\n",
       " '/usr/share/fonts/opentype/urw-base35/NimbusSans-Regular.otf',\n",
       " '/usr/share/fonts/truetype/nanum/NanumBarunGothicBold.ttf',\n",
       " '/usr/share/texmf/fonts/opentype/public/lm/lmroman12-regular.otf',\n",
       " '/usr/share/texmf/fonts/opentype/public/tex-gyre-math/texgyreschola-math.otf',\n",
       " '/usr/share/texmf/fonts/opentype/public/lm/lmsans8-regular.otf',\n",
       " '/usr/share/texmf/fonts/opentype/public/tex-gyre/texgyretermes-italic.otf',\n",
       " '/usr/share/fonts/truetype/liberation/LiberationSansNarrow-Regular.ttf',\n",
       " '/usr/share/texmf/fonts/opentype/public/lm/lmsansquot8-regular.otf',\n",
       " '/usr/share/fonts/truetype/nanum/NanumGothicCoding.ttf',\n",
       " '/usr/share/texmf/fonts/opentype/public/tex-gyre/texgyreheros-bolditalic.otf',\n",
       " '/usr/share/fonts/truetype/liberation/LiberationSerif-BoldItalic.ttf',\n",
       " '/usr/share/texmf/fonts/opentype/public/lm/lmsans10-oblique.otf',\n",
       " '/usr/share/fonts/truetype/lato/Lato-BlackItalic.ttf',\n",
       " '/usr/share/texmf/fonts/opentype/public/lm/lmroman10-bold.otf',\n",
       " '/usr/share/fonts/truetype/nanum/NanumBarunpenR.ttf',\n",
       " '/usr/share/fonts/opentype/urw-base35/StandardSymbolsPS.otf',\n",
       " '/usr/share/texmf/fonts/opentype/public/tex-gyre/texgyreheroscn-bolditalic.otf',\n",
       " '/usr/share/texmf/fonts/opentype/public/tex-gyre/texgyretermes-bolditalic.otf',\n",
       " '/usr/share/texmf/fonts/opentype/public/lm/lmsansdemicond10-regular.otf',\n",
       " '/usr/share/texmf/fonts/opentype/public/lm/lmsans17-oblique.otf',\n",
       " '/usr/share/texmf/fonts/opentype/public/tex-gyre/texgyreadventor-bold.otf',\n",
       " '/usr/share/fonts/truetype/dejavu/DejaVuSans.ttf',\n",
       " '/usr/share/fonts/truetype/nanum/NanumBarunGothicUltraLight.ttf',\n",
       " '/usr/share/fonts/truetype/lato/Lato-Hairline.ttf',\n",
       " '/usr/share/texmf/fonts/opentype/public/tex-gyre/texgyreheroscn-bold.otf',\n",
       " '/usr/share/texmf/fonts/opentype/public/tex-gyre/texgyrepagella-bold.otf',\n",
       " '/usr/share/texmf/fonts/opentype/public/lm/lmroman17-regular.otf',\n",
       " '/usr/share/texmf/fonts/opentype/public/lm/lmroman8-italic.otf',\n",
       " '/usr/share/texmf/fonts/opentype/public/tex-gyre/texgyrebonum-bold.otf',\n",
       " '/usr/share/texmf/fonts/opentype/public/lm/lmmonoproplt10-boldoblique.otf',\n",
       " '/usr/share/texmf/fonts/opentype/public/tex-gyre-math/texgyredejavu-math.otf',\n",
       " '/usr/share/fonts/truetype/lato/Lato-Light.ttf',\n",
       " '/usr/share/fonts/truetype/nanum/NanumSquareB.ttf',\n",
       " '/usr/share/texmf/fonts/opentype/public/tex-gyre/texgyreschola-regular.otf',\n",
       " '/usr/share/texmf/fonts/opentype/public/tex-gyre/texgyrechorus-mediumitalic.otf',\n",
       " '/usr/share/fonts/truetype/lato/Lato-Italic.ttf',\n",
       " '/usr/share/fonts/truetype/nanum/NanumGothic.ttf',\n",
       " '/usr/share/texmf/fonts/opentype/public/lm/lmroman10-bolditalic.otf',\n",
       " '/usr/share/texmf/fonts/opentype/public/lm/lmroman7-regular.otf',\n",
       " '/usr/share/fonts/opentype/urw-base35/URWBookman-LightItalic.otf',\n",
       " '/usr/share/texmf/fonts/opentype/public/lm/lmromanunsl10-regular.otf',\n",
       " '/usr/share/texmf/fonts/opentype/public/tex-gyre/texgyretermes-bold.otf',\n",
       " '/usr/share/fonts/truetype/nanum/NanumBrush.ttf',\n",
       " '/usr/share/fonts/truetype/lato/Lato-Regular.ttf',\n",
       " '/usr/share/fonts/opentype/urw-base35/URWBookman-Demi.otf',\n",
       " '/usr/share/texmf/fonts/opentype/public/tex-gyre/texgyrebonum-regular.otf',\n",
       " '/usr/share/fonts/opentype/urw-base35/C059-BdIta.otf',\n",
       " '/usr/share/texmf/fonts/opentype/public/tex-gyre/texgyretermes-regular.otf',\n",
       " '/usr/share/texmf/fonts/opentype/public/lm/lmsansquot8-bold.otf',\n",
       " '/usr/share/fonts/truetype/liberation/LiberationSerif-Regular.ttf',\n",
       " '/usr/share/fonts/truetype/liberation/LiberationSerif-Italic.ttf',\n",
       " '/usr/share/texmf/fonts/opentype/public/lm/lmmonolt10-oblique.otf',\n",
       " '/usr/share/texmf/fonts/opentype/public/lm/lmroman5-bold.otf',\n",
       " '/usr/share/texmf/fonts/opentype/public/tex-gyre/texgyreheros-regular.otf',\n",
       " '/usr/share/fonts/opentype/urw-base35/NimbusSans-BoldItalic.otf',\n",
       " '/usr/share/texmf/fonts/opentype/public/lm/lmsans17-regular.otf',\n",
       " '/usr/share/texmf/fonts/opentype/public/lm/lmromanslant10-bold.otf',\n",
       " '/usr/share/texmf/fonts/opentype/public/lm/lmroman9-bold.otf',\n",
       " '/usr/share/texmf/fonts/opentype/public/lm/lmroman10-regular.otf',\n",
       " '/usr/share/fonts/opentype/urw-base35/NimbusRoman-Italic.otf',\n",
       " '/usr/share/fonts/truetype/nanum/NanumSquareEB.ttf',\n",
       " '/usr/share/fonts/truetype/lato/Lato-LightItalic.ttf',\n",
       " '/usr/share/fonts/truetype/liberation/LiberationSerif-Bold.ttf',\n",
       " '/usr/share/texmf/fonts/opentype/public/tex-gyre/texgyreadventor-italic.otf',\n",
       " '/usr/share/texmf/fonts/opentype/public/lm/lmroman6-regular.otf',\n",
       " '/usr/share/fonts/truetype/dejavu/DejaVuSerif.ttf',\n",
       " '/usr/share/fonts/truetype/lato/Lato-Thin.ttf',\n",
       " '/usr/share/fonts/opentype/urw-base35/NimbusSansNarrow-BoldOblique.otf',\n",
       " '/usr/share/fonts/truetype/liberation/LiberationSans-Italic.ttf',\n",
       " '/usr/share/fonts/opentype/urw-base35/P052-BoldItalic.otf',\n",
       " '/usr/share/texmf/fonts/opentype/public/lm/lmsans9-oblique.otf',\n",
       " '/usr/share/texmf/fonts/opentype/public/lm/lmromanslant12-regular.otf',\n",
       " '/usr/share/fonts/opentype/urw-base35/NimbusRoman-Regular.otf',\n",
       " '/usr/share/fonts/truetype/lato/Lato-Semibold.ttf',\n",
       " '/usr/share/texmf/fonts/opentype/public/lm/lmroman9-regular.otf',\n",
       " '/usr/share/fonts/opentype/urw-base35/C059-Italic.otf',\n",
       " '/usr/share/fonts/truetype/nanum/NanumBarunpenB.ttf',\n",
       " '/usr/share/texmf/fonts/opentype/public/tex-gyre-math/texgyretermes-math.otf',\n",
       " '/usr/share/texmf/fonts/opentype/public/lm/lmsans9-regular.otf',\n",
       " '/usr/share/texmf/fonts/opentype/public/lm/lmmono8-regular.otf',\n",
       " '/usr/share/fonts/opentype/urw-base35/NimbusMonoPS-Italic.otf',\n",
       " '/usr/share/fonts/truetype/lato/Lato-MediumItalic.ttf',\n",
       " '/usr/share/texmf/fonts/opentype/public/tex-gyre/texgyrebonum-bolditalic.otf',\n",
       " '/usr/share/texmf/fonts/opentype/public/tex-gyre/texgyrebonum-italic.otf',\n",
       " '/usr/share/texmf/fonts/opentype/public/tex-gyre/texgyreschola-italic.otf',\n",
       " '/usr/share/fonts/opentype/urw-base35/URWGothic-BookOblique.otf',\n",
       " '/usr/share/fonts/truetype/lato/Lato-Medium.ttf',\n",
       " '/usr/share/texmf/fonts/opentype/public/lm/lmmono10-regular.otf',\n",
       " '/usr/share/fonts/truetype/nanum/NanumSquareRoundEB.ttf',\n",
       " '/usr/share/texmf/fonts/opentype/public/lm/lmmonoltcond10-oblique.otf',\n",
       " '/usr/share/fonts/truetype/dejavu/DejaVuSerif-Bold.ttf',\n",
       " '/usr/share/fonts/truetype/nanum/NanumPen.ttf',\n",
       " '/usr/share/fonts/opentype/urw-base35/URWBookman-DemiItalic.otf',\n",
       " '/usr/share/texmf/fonts/opentype/public/lm/lmromanslant8-regular.otf',\n",
       " '/usr/share/fonts/truetype/liberation/LiberationSans-Regular.ttf',\n",
       " '/usr/share/fonts/truetype/lato/Lato-Black.ttf',\n",
       " '/usr/share/fonts/truetype/lato/Lato-HairlineItalic.ttf',\n",
       " '/usr/share/fonts/truetype/nanum/NanumGothicBold.ttf',\n",
       " '/usr/share/fonts/opentype/urw-base35/P052-Italic.otf',\n",
       " '/usr/share/texmf/fonts/opentype/public/tex-gyre/texgyrecursor-bold.otf',\n",
       " '/usr/share/fonts/truetype/lato/Lato-HeavyItalic.ttf',\n",
       " '/usr/share/texmf/fonts/opentype/public/lm/lmmonoltcond10-regular.otf',\n",
       " '/usr/share/fonts/truetype/liberation/LiberationMono-Bold.ttf',\n",
       " '/usr/share/fonts/truetype/liberation/LiberationSansNarrow-Italic.ttf',\n",
       " '/usr/share/fonts/truetype/nanum/NanumBarunGothic.ttf',\n",
       " '/usr/share/fonts/opentype/urw-base35/NimbusMonoPS-Regular.otf',\n",
       " '/usr/share/texmf/fonts/opentype/public/lm/lmsansquot8-oblique.otf',\n",
       " '/usr/share/texmf/fonts/opentype/public/lm/lmroman9-italic.otf',\n",
       " '/usr/share/texmf/fonts/opentype/public/tex-gyre/texgyreadventor-regular.otf',\n",
       " '/usr/share/texmf/fonts/opentype/public/lm/lmmonolt10-boldoblique.otf',\n",
       " '/usr/share/texmf/fonts/opentype/public/lm/lmromanslant9-regular.otf',\n",
       " '/usr/share/texmf/fonts/opentype/public/tex-gyre/texgyreheroscn-italic.otf',\n",
       " '/usr/share/texmf/fonts/opentype/public/tex-gyre/texgyrepagella-italic.otf',\n",
       " '/usr/share/fonts/opentype/urw-base35/D050000L.otf',\n",
       " '/usr/share/fonts/truetype/lato/Lato-ThinItalic.ttf',\n",
       " '/usr/share/fonts/truetype/liberation/LiberationSansNarrow-BoldItalic.ttf',\n",
       " '/usr/share/fonts/truetype/dejavu/DejaVuSansMono-Bold.ttf',\n",
       " '/usr/share/fonts/truetype/liberation/LiberationSansNarrow-Bold.ttf',\n",
       " '/usr/share/texmf/fonts/opentype/public/lm/lmsans10-bold.otf',\n",
       " '/usr/share/fonts/opentype/urw-base35/NimbusSans-Italic.otf',\n",
       " '/usr/share/fonts/truetype/liberation/LiberationMono-Italic.ttf',\n",
       " '/usr/share/fonts/opentype/urw-base35/C059-Roman.otf',\n",
       " '/usr/share/fonts/truetype/nanum/NanumGothicExtraBold.ttf',\n",
       " '/usr/share/texmf/fonts/opentype/public/lm/lmmonolt10-bold.otf',\n",
       " '/usr/share/texmf/fonts/opentype/public/lm/lmsansquot8-boldoblique.otf',\n",
       " '/usr/share/texmf/fonts/opentype/public/lm/lmroman7-bold.otf',\n",
       " '/usr/share/texmf/fonts/opentype/public/lm/lmroman5-regular.otf',\n",
       " '/usr/share/fonts/truetype/nanum/NanumBarunGothicLight.ttf',\n",
       " '/usr/share/fonts/truetype/nanum/NanumSquareRoundL.ttf',\n",
       " '/usr/share/texmf/fonts/opentype/public/lm/lmmonoprop10-regular.otf',\n",
       " '/usr/share/fonts/opentype/urw-base35/URWGothic-Book.otf',\n",
       " '/usr/share/texmf/fonts/opentype/public/lm/lmmonoproplt10-bold.otf',\n",
       " '/usr/share/fonts/truetype/nanum/NanumGothicLight.ttf',\n",
       " '/usr/share/texmf/fonts/opentype/public/lm/lmmonoslant10-regular.otf',\n",
       " '/usr/share/texmf/fonts/opentype/public/lm/lmromancaps10-regular.otf',\n",
       " '/usr/share/fonts/truetype/nanum/NanumGothicCoding-Bold.ttf',\n",
       " '/usr/share/fonts/truetype/lato/Lato-SemiboldItalic.ttf',\n",
       " '/usr/share/texmf/fonts/opentype/public/lm/lmsans10-regular.otf',\n",
       " '/usr/share/texmf/fonts/opentype/public/lm/lmmonocaps10-regular.otf',\n",
       " '/usr/share/fonts/opentype/urw-base35/URWBookman-Light.otf',\n",
       " '/usr/share/fonts/truetype/lato/Lato-Bold.ttf',\n",
       " '/usr/share/texmf/fonts/opentype/public/tex-gyre/texgyreheros-italic.otf',\n",
       " '/usr/share/fonts/truetype/liberation/LiberationMono-Regular.ttf',\n",
       " '/usr/share/fonts/opentype/urw-base35/NimbusRoman-BoldItalic.otf',\n",
       " '/usr/share/texmf/fonts/opentype/public/lm/lmroman12-bold.otf',\n",
       " '/usr/share/texmf/fonts/opentype/public/tex-gyre/texgyrecursor-italic.otf',\n",
       " '/usr/share/texmf/fonts/opentype/public/tex-gyre-math/texgyrebonum-math.otf',\n",
       " '/usr/share/fonts/opentype/urw-base35/NimbusMonoPS-Bold.otf',\n",
       " '/usr/share/fonts/truetype/dejavu/DejaVuSansMono.ttf',\n",
       " '/usr/share/texmf/fonts/opentype/public/lm/lmromandemi10-oblique.otf',\n",
       " '/usr/share/fonts/truetype/nanum/NanumMyeongjoExtraBold.ttf',\n",
       " '/usr/share/texmf/fonts/opentype/public/lm/lmromanslant17-regular.otf',\n",
       " '/usr/share/fonts/opentype/urw-base35/C059-Bold.otf']"
      ]
     },
     "execution_count": 17,
     "metadata": {},
     "output_type": "execute_result"
    }
   ],
   "source": [
    "import matplotlib.font_manager as fm\n",
    "font_list = fm.findSystemFonts(fontpaths=None, fontext='ttf')\n",
    "font_list"
   ]
  },
  {
   "cell_type": "code",
   "execution_count": 26,
   "metadata": {},
   "outputs": [
    {
     "name": "stdout",
     "output_type": "stream",
     "text": [
      "NanumSquare /usr/share/fonts/truetype/nanum/NanumSquareL.ttf\n",
      "NanumMyeongjo /usr/share/fonts/truetype/nanum/NanumMyeongjo.ttf\n",
      "NanumSquareRound /usr/share/fonts/truetype/nanum/NanumSquareRoundR.ttf\n",
      "NanumSquareRound /usr/share/fonts/truetype/nanum/NanumSquareRoundB.ttf\n",
      "NanumSquare /usr/share/fonts/truetype/nanum/NanumSquareR.ttf\n",
      "NanumMyeongjo /usr/share/fonts/truetype/nanum/NanumMyeongjoBold.ttf\n",
      "NanumBarunGothic /usr/share/fonts/truetype/nanum/NanumBarunGothicBold.ttf\n",
      "NanumGothicCoding /usr/share/fonts/truetype/nanum/NanumGothicCoding.ttf\n",
      "NanumBarunpen /usr/share/fonts/truetype/nanum/NanumBarunpenR.ttf\n",
      "NanumBarunGothic /usr/share/fonts/truetype/nanum/NanumBarunGothicUltraLight.ttf\n",
      "NanumSquare /usr/share/fonts/truetype/nanum/NanumSquareB.ttf\n",
      "NanumGothic /usr/share/fonts/truetype/nanum/NanumGothic.ttf\n",
      "Nanum Brush Script /usr/share/fonts/truetype/nanum/NanumBrush.ttf\n",
      "NanumSquare /usr/share/fonts/truetype/nanum/NanumSquareEB.ttf\n",
      "NanumBarunpen /usr/share/fonts/truetype/nanum/NanumBarunpenB.ttf\n",
      "NanumSquareRound /usr/share/fonts/truetype/nanum/NanumSquareRoundEB.ttf\n",
      "Nanum Pen Script /usr/share/fonts/truetype/nanum/NanumPen.ttf\n",
      "NanumGothic /usr/share/fonts/truetype/nanum/NanumGothicBold.ttf\n",
      "NanumBarunGothic /usr/share/fonts/truetype/nanum/NanumBarunGothic.ttf\n",
      "NanumGothic /usr/share/fonts/truetype/nanum/NanumGothicExtraBold.ttf\n",
      "NanumBarunGothic /usr/share/fonts/truetype/nanum/NanumBarunGothicLight.ttf\n",
      "NanumSquareRound /usr/share/fonts/truetype/nanum/NanumSquareRoundL.ttf\n",
      "NanumGothic /usr/share/fonts/truetype/nanum/NanumGothicLight.ttf\n",
      "NanumGothicCoding /usr/share/fonts/truetype/nanum/NanumGothicCoding-Bold.ttf\n",
      "NanumMyeongjo /usr/share/fonts/truetype/nanum/NanumMyeongjoExtraBold.ttf\n"
     ]
    }
   ],
   "source": [
    "for font in fm.fontManager.ttflist:\n",
    "    if 'Nanum' in font.name:\n",
    "        print(font.name, font.fname)"
   ]
  },
  {
   "cell_type": "code",
   "execution_count": 18,
   "metadata": {},
   "outputs": [
    {
     "data": {
      "text/plain": [
       "'Lato'"
      ]
     },
     "execution_count": 18,
     "metadata": {},
     "output_type": "execute_result"
    }
   ],
   "source": [
    "fm.FontProperties(fname=font_list[10]).get_name()"
   ]
  },
  {
   "cell_type": "code",
   "execution_count": 19,
   "metadata": {},
   "outputs": [
    {
     "data": {
      "text/plain": [
       "'/home/jupyter-tshahn2020/.cache/matplotlib'"
      ]
     },
     "execution_count": 19,
     "metadata": {},
     "output_type": "execute_result"
    }
   ],
   "source": [
    "mpl.get_cachedir()"
   ]
  },
  {
   "cell_type": "code",
   "execution_count": null,
   "metadata": {},
   "outputs": [],
   "source": [
    "!rm '/home/jupyter-tshahn2020/.cache/matplotlib/fontlist-v310.json'"
   ]
  },
  {
   "cell_type": "markdown",
   "metadata": {},
   "source": [
    "---"
   ]
  },
  {
   "cell_type": "markdown",
   "metadata": {},
   "source": [
    "#### TEMPORARY CODE"
   ]
  },
  {
   "cell_type": "code",
   "execution_count": null,
   "metadata": {},
   "outputs": [],
   "source": [
    "n_movie = len(movie_list)\n",
    "for i in [*range(1, n_movie, 5)]:\n",
    "    print(movie_list.iloc[i:i+5])\n",
    "    print(\"==============================================\")"
   ]
  },
  {
   "cell_type": "code",
   "execution_count": null,
   "metadata": {},
   "outputs": [],
   "source": [
    "n_movie = len(movie_list)\n",
    "for i in [*range(1, n_movie, 5)]:\n",
    "    movie_subset = [\"{\\\"groupName\\\": \\\"\" + row[\"title\"] + \"\\\", \\\"keywords\\\": [\\\"\" + row[\"title\"] + \"\\\"]}\"  for idx, row in movie_list.iloc[i:i+5].iterrows()]"
   ]
  },
  {
   "cell_type": "code",
   "execution_count": null,
   "metadata": {},
   "outputs": [],
   "source": [
    "print(j)"
   ]
  },
  {
   "cell_type": "code",
   "execution_count": null,
   "metadata": {},
   "outputs": [],
   "source": [
    "client_id = \"6GPEYsepjIil0OCSMnU5\"\n",
    "client_secret = \"QUd5qt5QU9\"\n",
    "url = \"https://openapi.naver.com/v1/datalab/search\";"
   ]
  },
  {
   "cell_type": "code",
   "execution_count": null,
   "metadata": {},
   "outputs": [],
   "source": [
    "response_body = get_response_body(body)\n",
    "result = json.loads(response_body)\n",
    "trends = get_trends(result)"
   ]
  },
  {
   "cell_type": "code",
   "execution_count": null,
   "metadata": {},
   "outputs": [],
   "source": [
    "trends"
   ]
  },
  {
   "cell_type": "code",
   "execution_count": null,
   "metadata": {},
   "outputs": [],
   "source": [
    "# OLD BODY\n",
    "body =\"\"\"\n",
    "{\\\"startDate\\\":\\\"2018-12-01\\\", \n",
    "\\\"endDate\\\":\\\"2019-12-30\\\",\n",
    "\\\"timeUnit\\\":\\\"date\\\",\n",
    "\\\"keywordGroups\\\":\n",
    "\"\"\" + \"[\" + \", \".join(movie_subset) + \"],\" + \"\"\"\n",
    "\\\"device\\\":\\\"pc\\\",\n",
    "\\\"ages\\\":[\\\"1\\\",\\\"2\\\"],\n",
    "\\\"gender\\\":\\\"f\\\"}\n",
    "\"\"\";"
   ]
  },
  {
   "cell_type": "code",
   "execution_count": null,
   "metadata": {},
   "outputs": [],
   "source": [
    "client_id = \"fe5kOiBVrMopPhGmaeeh\"\n",
    "client_secret = \"zauzLV_BPn\"\n",
    "url = \"https://openapi.naver.com/v1/datalab/search\";\n",
    "\n",
    "movie_list = pd.read_table(\"~/crawling/data/movie2019.dat\",\n",
    "                           sep = \"|\",\n",
    "                           header=None,\n",
    "                           names = [\"title\", \"year\", \"month\", \"day\"])\n",
    "\n",
    "open_date = movie_list.year.str.replace(\"년\", \"\") + \"-\" + movie_list.month.str.replace(\"월\", \"\").str.zfill(2) + \"-\" +movie_list.day.str.replace(\"일\", \"\").str.zfill(2)\n",
    "movie_list[\"open_date\"] = [datetime.strptime(i, \"%Y-%m-%d\") for i in open_date]\n",
    "movie_list = movie_list.drop(['year', 'month', 'day'], axis=1)\n",
    "\n",
    "i = 1\n",
    "dat = movie_list\n",
    "\n",
    "movie_subset = [\"{\\\"groupName\\\": \\\"\" + row[\"title\"] + \"\\\", \\\"keywords\\\": [\\\"\" + row[\"title\"] + \"\\\"]}\"  for idx, row in dat.iloc[i:i+5].iterrows()]\n",
    "body = \"\"\"\n",
    "{\\\"startDate\\\":\\\"2018-12-01\\\", \n",
    "\\\"endDate\\\":\\\"2019-12-30\\\",\n",
    "\\\"timeUnit\\\":\\\"date\\\",\n",
    "\\\"keywordGroups\\\":\n",
    "\"\"\" + \"[\" + \", \".join(movie_subset) + \"]}\"\n",
    "\n",
    "\n",
    "request = urllib.request.Request(url)\n",
    "request.add_header(\"X-Naver-Client-Id\", client_id)\n",
    "request.add_header(\"X-Naver-Client-Secret\", client_secret)\n",
    "request.add_header(\"Content-Type\",\"application/json\")\n",
    "response = urllib.request.urlopen(request, data=body.encode(\"utf-8\"))\n",
    "rescode = response.getcode()\n",
    "if(rescode==200):\n",
    "    out = response.read().decode(\"utf-8\")\n",
    "else:\n",
    "    print(\"Error Code:\" + rescode)"
   ]
  },
  {
   "cell_type": "code",
   "execution_count": null,
   "metadata": {},
   "outputs": [],
   "source": []
  },
  {
   "cell_type": "markdown",
   "metadata": {},
   "source": [
    "---"
   ]
  }
 ],
 "metadata": {
  "kernelspec": {
   "display_name": "Python 3.7.3 (miniconda)",
   "language": "python",
   "name": "python3-mc"
  },
  "language_info": {
   "codemirror_mode": {
    "name": "ipython",
    "version": 3
   },
   "file_extension": ".py",
   "mimetype": "text/x-python",
   "name": "python",
   "nbconvert_exporter": "python",
   "pygments_lexer": "ipython3",
   "version": "3.7.6"
  }
 },
 "nbformat": 4,
 "nbformat_minor": 4
}

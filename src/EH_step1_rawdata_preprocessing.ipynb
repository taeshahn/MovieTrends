{
 "cells": [
  {
   "cell_type": "code",
   "execution_count": 319,
   "metadata": {},
   "outputs": [],
   "source": [
    "import numpy as np\n",
    "import pandas as pd"
   ]
  },
  {
   "cell_type": "markdown",
   "metadata": {},
   "source": [
    "### 디렉토리 변경"
   ]
  },
  {
   "cell_type": "code",
   "execution_count": 320,
   "metadata": {},
   "outputs": [
    {
     "name": "stdout",
     "output_type": "stream",
     "text": [
      "/home/jupyter-lehup\n",
      "/home/jupyter-lehup\n"
     ]
    }
   ],
   "source": [
    "import os\n",
    "print(os.getcwd())\n",
    "os.chdir(\"/home/jupyter-lehup/\")\n",
    "print(os.getcwd())"
   ]
  },
  {
   "cell_type": "markdown",
   "metadata": {},
   "source": [
    "## movie_list.csv 파일 불러오기"
   ]
  },
  {
   "cell_type": "code",
   "execution_count": 321,
   "metadata": {},
   "outputs": [
    {
     "name": "stdout",
     "output_type": "stream",
     "text": [
      "Index(['공식명칭', '카페/블로그 키워드', '키워드 1', '키워드 2', '키워드 3', '비고'], dtype='object')\n",
      "641\n",
      "               공식명칭  카페/블로그 키워드          키워드 1      키워드 2 키워드 3        비고\n",
      "0                언니       영화 언니             언니        NaN   NaN       NaN\n",
      "1        데드풀 2: 순한맛       데드풀 2            데드풀       데드풀2   NaN       NaN\n",
      "2       레인보우: 나의 사랑  레인보우 나의 사랑        영화 레인보우  레인보우 나의사랑   NaN       NaN\n",
      "3                레토       영화 레토            NaN        NaN   NaN  사람이름, 상품\n",
      "4  미션 이스탄불 5: 더 파이널   미션 이스탄불 5  미션 이스탄불 더 파이널   미션 이스탄불5   NaN       NaN\n"
     ]
    }
   ],
   "source": [
    "movie_list = pd.read_csv('raw/BaselineData_200618.csv', encoding = 'UTF-8')\n",
    "print(movie_list.columns)\n",
    "print(movie_list.shape[0])\n",
    "print(movie_list.head())"
   ]
  },
  {
   "cell_type": "markdown",
   "metadata": {},
   "source": [
    "## 기준 정보 rawdata목록 불러오기 - eh_meta_basedata_200623_v0.1.csv"
   ]
  },
  {
   "cell_type": "code",
   "execution_count": 328,
   "metadata": {},
   "outputs": [
    {
     "name": "stdout",
     "output_type": "stream",
     "text": [
      "Index(['META_ID', 'META_TITLE', 'SUB_TITLE', 'ENGL_TITLE', 'OPEN_DY',\n",
      "       'DMST_SPCT_CNT', 'SRIS_NM', 'BTV_OPEN_DT', 'META_MANUF_CTRY_CD',\n",
      "       'META_MANUF_CTRY_NM', 'GNR_ID', 'META_GNR_NM', 'WAT_LVL_CD',\n",
      "       'WAT_LVL_NM', 'MANUFCO_NM', 'DSTBTCO_NM', 'SSTRY_CIN_YN', 'KIDS_YN'],\n",
      "      dtype='object')\n",
      "595\n",
      "        META_ID                 META_TITLE SUB_TITLE       ENGL_TITLE  \\\n",
      "0  MM1000234175                     0.0mhz       NaN           0.0MHz   \n",
      "1  MM1000334701                    1 더하기 3       NaN   Three Husbands   \n",
      "2  MM1000311677  100일동안 100가지로 100퍼센트 행복찾기       NaN       100 Things   \n",
      "3  MM1000337435                        10년       NaN  Ten Years Japan   \n",
      "4  MM1000191569                    12번째 솔저       NaN     The 12th Man   \n",
      "\n",
      "    OPEN_DY  DMST_SPCT_CNT                     SRIS_NM     BTV_OPEN_DT  \\\n",
      "0  20190529        59344.0                 0.0MHz[캐치온]  20190812090000   \n",
      "1  20191212            NaN                         1+3  20191212090000   \n",
      "2  20190912          707.0  100일 동안 100가지로 100퍼센트 행복찾기  20190930090000   \n",
      "3  20191212            NaN                         10년  20191224090000   \n",
      "4  20190411            NaN                     12번째 솔저  20190418090000   \n",
      "\n",
      "  META_MANUF_CTRY_CD META_MANUF_CTRY_NM                     GNR_ID  \\\n",
      "0                001               대한민국  MG0000000001|MG0000000004   \n",
      "1                006                 홍콩  MG0000000001|MG0000000011   \n",
      "2                013                 독일  MG0000000001|MG0000000010   \n",
      "3                003                 일본  MG0000000001|MG0000000014   \n",
      "4                053               노르웨이  MG0000000001|MG0000000009   \n",
      "\n",
      "  META_GNR_NM  WAT_LVL_CD WAT_LVL_NM             MANUFCO_NM DSTBTCO_NM  \\\n",
      "0  드라마|공포(호러)          15    15세 관람가  (주)제이엠컬쳐스 , (주)몬스터팩토리  (주)스마일이엔티   \n",
      "1  드라마|멜로/로맨스          19    19세 관람가                    NaN        NaN   \n",
      "2     드라마|코미디          15    15세 관람가                    NaN    영화사 진진    \n",
      "3      드라마|가족           0     전체 관람가                    NaN   (주)디오시네마   \n",
      "4      드라마|전쟁          12    12세 관람가                    NaN   (주)엣나인필름   \n",
      "\n",
      "  SSTRY_CIN_YN  KIDS_YN  \n",
      "0            N      NaN  \n",
      "1            N      NaN  \n",
      "2            N      NaN  \n",
      "3            N      NaN  \n",
      "4            N      NaN  \n"
     ]
    }
   ],
   "source": [
    "movie_list_basedata = pd.read_csv('raw/eh_meta_basedata_200623_v0.1.csv', encoding = 'UTF-8')\n",
    "print(movie_list_basedata.columns)\n",
    "print(movie_list_basedata.shape[0])\n",
    "print(movie_list_basedata.head())"
   ]
  },
  {
   "cell_type": "markdown",
   "metadata": {},
   "source": [
    "## 코드로 작성된 Vecotor 컬럼 삭제"
   ]
  },
  {
   "cell_type": "code",
   "execution_count": 329,
   "metadata": {},
   "outputs": [
    {
     "name": "stdout",
     "output_type": "stream",
     "text": [
      "Index(['META_ID', 'META_TITLE', 'SUB_TITLE', 'ENGL_TITLE', 'OPEN_DY',\n",
      "       'DMST_SPCT_CNT', 'SRIS_NM', 'BTV_OPEN_DT', 'META_MANUF_CTRY_NM',\n",
      "       'META_GNR_NM', 'WAT_LVL_NM', 'MANUFCO_NM', 'DSTBTCO_NM', 'SSTRY_CIN_YN',\n",
      "       'KIDS_YN'],\n",
      "      dtype='object')\n",
      "        META_ID                 META_TITLE SUB_TITLE       ENGL_TITLE  \\\n",
      "0  MM1000234175                     0.0mhz       NaN           0.0MHz   \n",
      "1  MM1000334701                    1 더하기 3       NaN   Three Husbands   \n",
      "2  MM1000311677  100일동안 100가지로 100퍼센트 행복찾기       NaN       100 Things   \n",
      "3  MM1000337435                        10년       NaN  Ten Years Japan   \n",
      "4  MM1000191569                    12번째 솔저       NaN     The 12th Man   \n",
      "\n",
      "    OPEN_DY  DMST_SPCT_CNT                     SRIS_NM     BTV_OPEN_DT  \\\n",
      "0  20190529        59344.0                 0.0MHz[캐치온]  20190812090000   \n",
      "1  20191212            NaN                         1+3  20191212090000   \n",
      "2  20190912          707.0  100일 동안 100가지로 100퍼센트 행복찾기  20190930090000   \n",
      "3  20191212            NaN                         10년  20191224090000   \n",
      "4  20190411            NaN                     12번째 솔저  20190418090000   \n",
      "\n",
      "  META_MANUF_CTRY_NM META_GNR_NM WAT_LVL_NM             MANUFCO_NM DSTBTCO_NM  \\\n",
      "0               대한민국  드라마|공포(호러)    15세 관람가  (주)제이엠컬쳐스 , (주)몬스터팩토리  (주)스마일이엔티   \n",
      "1                 홍콩  드라마|멜로/로맨스    19세 관람가                    NaN        NaN   \n",
      "2                 독일     드라마|코미디    15세 관람가                    NaN    영화사 진진    \n",
      "3                 일본      드라마|가족     전체 관람가                    NaN   (주)디오시네마   \n",
      "4               노르웨이      드라마|전쟁    12세 관람가                    NaN   (주)엣나인필름   \n",
      "\n",
      "  SSTRY_CIN_YN  KIDS_YN  \n",
      "0            N      NaN  \n",
      "1            N      NaN  \n",
      "2            N      NaN  \n",
      "3            N      NaN  \n",
      "4            N      NaN  \n"
     ]
    }
   ],
   "source": [
    "movie_list_basedata_v1 =  movie_list_basedata.drop(['META_MANUF_CTRY_CD', 'GNR_ID', 'WAT_LVL_CD'], axis= 1)\n",
    "print(movie_list_basedata_v1.columns)\n",
    "print(movie_list_basedata_v1.head())"
   ]
  },
  {
   "cell_type": "markdown",
   "metadata": {},
   "source": [
    "## 불필요한 컬럼 삭제"
   ]
  },
  {
   "cell_type": "code",
   "execution_count": 330,
   "metadata": {},
   "outputs": [
    {
     "name": "stdout",
     "output_type": "stream",
     "text": [
      "Index(['META_ID', 'META_TITLE', 'SUB_TITLE', 'ENGL_TITLE', 'OPEN_DY',\n",
      "       'DMST_SPCT_CNT', 'BTV_OPEN_DT', 'META_MANUF_CTRY_NM', 'META_GNR_NM',\n",
      "       'WAT_LVL_NM', 'MANUFCO_NM', 'DSTBTCO_NM', 'SSTRY_CIN_YN'],\n",
      "      dtype='object')\n",
      "        META_ID                 META_TITLE SUB_TITLE       ENGL_TITLE  \\\n",
      "0  MM1000234175                     0.0mhz       NaN           0.0MHz   \n",
      "1  MM1000334701                    1 더하기 3       NaN   Three Husbands   \n",
      "2  MM1000311677  100일동안 100가지로 100퍼센트 행복찾기       NaN       100 Things   \n",
      "3  MM1000337435                        10년       NaN  Ten Years Japan   \n",
      "4  MM1000191569                    12번째 솔저       NaN     The 12th Man   \n",
      "\n",
      "    OPEN_DY  DMST_SPCT_CNT     BTV_OPEN_DT META_MANUF_CTRY_NM META_GNR_NM  \\\n",
      "0  20190529        59344.0  20190812090000               대한민국  드라마|공포(호러)   \n",
      "1  20191212            NaN  20191212090000                 홍콩  드라마|멜로/로맨스   \n",
      "2  20190912          707.0  20190930090000                 독일     드라마|코미디   \n",
      "3  20191212            NaN  20191224090000                 일본      드라마|가족   \n",
      "4  20190411            NaN  20190418090000               노르웨이      드라마|전쟁   \n",
      "\n",
      "  WAT_LVL_NM             MANUFCO_NM DSTBTCO_NM SSTRY_CIN_YN  \n",
      "0    15세 관람가  (주)제이엠컬쳐스 , (주)몬스터팩토리  (주)스마일이엔티            N  \n",
      "1    19세 관람가                    NaN        NaN            N  \n",
      "2    15세 관람가                    NaN    영화사 진진             N  \n",
      "3     전체 관람가                    NaN   (주)디오시네마            N  \n",
      "4    12세 관람가                    NaN   (주)엣나인필름            N  \n"
     ]
    }
   ],
   "source": [
    "movie_list_basedata_v2 =  movie_list_basedata_v1.drop(['SRIS_NM', 'KIDS_YN'], axis= 1)\n",
    "print(movie_list_basedata_v2.columns)\n",
    "print(movie_list_basedata_v2.head())"
   ]
  },
  {
   "cell_type": "markdown",
   "metadata": {},
   "source": [
    "# '|' 구분자로 된 데이터 신규 컬럼으로 병렬 처리"
   ]
  },
  {
   "cell_type": "markdown",
   "metadata": {},
   "source": [
    "##  제작국가(META_MANUF_CTRY_NM) 병렬 처리"
   ]
  },
  {
   "cell_type": "code",
   "execution_count": 331,
   "metadata": {},
   "outputs": [],
   "source": [
    "i1 = 1\n",
    "for i1 in range(1,100):\n",
    "    movie_list_basedata_v2['META_MANUF_CTRY_NM_' + str(i1)] = movie_list_basedata_v2.META_MANUF_CTRY_NM.str.split(\"|\").str[i1-1]\n",
    "    if any(pd.notnull(movie_list_basedata_v2['META_MANUF_CTRY_NM_' + str(i1)]) == True) == False :\n",
    "        movie_list_basedata_v2.drop(['META_MANUF_CTRY_NM_' + str(i1)], axis= 1, inplace = True)\n",
    "        break\n",
    "    i1 = i1 + 1"
   ]
  },
  {
   "cell_type": "code",
   "execution_count": 332,
   "metadata": {},
   "outputs": [
    {
     "name": "stdout",
     "output_type": "stream",
     "text": [
      "Index(['META_ID', 'META_TITLE', 'SUB_TITLE', 'ENGL_TITLE', 'OPEN_DY',\n",
      "       'DMST_SPCT_CNT', 'BTV_OPEN_DT', 'META_MANUF_CTRY_NM', 'META_GNR_NM',\n",
      "       'WAT_LVL_NM', 'MANUFCO_NM', 'DSTBTCO_NM', 'SSTRY_CIN_YN',\n",
      "       'META_MANUF_CTRY_NM_1', 'META_MANUF_CTRY_NM_2', 'META_MANUF_CTRY_NM_3',\n",
      "       'META_MANUF_CTRY_NM_4', 'META_MANUF_CTRY_NM_5'],\n",
      "      dtype='object')\n",
      "        META_ID                 META_TITLE SUB_TITLE       ENGL_TITLE  \\\n",
      "0  MM1000234175                     0.0mhz       NaN           0.0MHz   \n",
      "1  MM1000334701                    1 더하기 3       NaN   Three Husbands   \n",
      "2  MM1000311677  100일동안 100가지로 100퍼센트 행복찾기       NaN       100 Things   \n",
      "3  MM1000337435                        10년       NaN  Ten Years Japan   \n",
      "4  MM1000191569                    12번째 솔저       NaN     The 12th Man   \n",
      "\n",
      "    OPEN_DY  DMST_SPCT_CNT     BTV_OPEN_DT META_MANUF_CTRY_NM META_GNR_NM  \\\n",
      "0  20190529        59344.0  20190812090000               대한민국  드라마|공포(호러)   \n",
      "1  20191212            NaN  20191212090000                 홍콩  드라마|멜로/로맨스   \n",
      "2  20190912          707.0  20190930090000                 독일     드라마|코미디   \n",
      "3  20191212            NaN  20191224090000                 일본      드라마|가족   \n",
      "4  20190411            NaN  20190418090000               노르웨이      드라마|전쟁   \n",
      "\n",
      "  WAT_LVL_NM             MANUFCO_NM DSTBTCO_NM SSTRY_CIN_YN  \\\n",
      "0    15세 관람가  (주)제이엠컬쳐스 , (주)몬스터팩토리  (주)스마일이엔티            N   \n",
      "1    19세 관람가                    NaN        NaN            N   \n",
      "2    15세 관람가                    NaN    영화사 진진             N   \n",
      "3     전체 관람가                    NaN   (주)디오시네마            N   \n",
      "4    12세 관람가                    NaN   (주)엣나인필름            N   \n",
      "\n",
      "  META_MANUF_CTRY_NM_1 META_MANUF_CTRY_NM_2 META_MANUF_CTRY_NM_3  \\\n",
      "0                 대한민국                  NaN                  NaN   \n",
      "1                   홍콩                  NaN                  NaN   \n",
      "2                   독일                  NaN                  NaN   \n",
      "3                   일본                  NaN                  NaN   \n",
      "4                 노르웨이                  NaN                  NaN   \n",
      "\n",
      "  META_MANUF_CTRY_NM_4 META_MANUF_CTRY_NM_5  \n",
      "0                  NaN                  NaN  \n",
      "1                  NaN                  NaN  \n",
      "2                  NaN                  NaN  \n",
      "3                  NaN                  NaN  \n",
      "4                  NaN                  NaN  \n"
     ]
    }
   ],
   "source": [
    "print(movie_list_basedata_v2.columns)\n",
    "print(movie_list_basedata_v2.head())"
   ]
  },
  {
   "cell_type": "markdown",
   "metadata": {},
   "source": [
    "## 제작국가(META_MANUF_CTRY_NM) 컬럼 삭제"
   ]
  },
  {
   "cell_type": "code",
   "execution_count": 333,
   "metadata": {},
   "outputs": [
    {
     "name": "stdout",
     "output_type": "stream",
     "text": [
      "Index(['META_ID', 'META_TITLE', 'SUB_TITLE', 'ENGL_TITLE', 'OPEN_DY',\n",
      "       'DMST_SPCT_CNT', 'BTV_OPEN_DT', 'META_GNR_NM', 'WAT_LVL_NM',\n",
      "       'MANUFCO_NM', 'DSTBTCO_NM', 'SSTRY_CIN_YN', 'META_MANUF_CTRY_NM_1',\n",
      "       'META_MANUF_CTRY_NM_2', 'META_MANUF_CTRY_NM_3', 'META_MANUF_CTRY_NM_4',\n",
      "       'META_MANUF_CTRY_NM_5'],\n",
      "      dtype='object')\n"
     ]
    }
   ],
   "source": [
    "movie_list_basedata_v3 =  movie_list_basedata_v2.drop(['META_MANUF_CTRY_NM'], axis= 1)\n",
    "print(movie_list_basedata_v3.columns)"
   ]
  },
  {
   "cell_type": "markdown",
   "metadata": {},
   "source": [
    "## 장르(META_GNR_NM) 병렬 처리"
   ]
  },
  {
   "cell_type": "code",
   "execution_count": 334,
   "metadata": {},
   "outputs": [],
   "source": [
    "i2 = 1\n",
    "for i2 in range(1,100):\n",
    "    movie_list_basedata_v3['META_GNR_NM_' + str(i2)] = movie_list_basedata_v3.META_GNR_NM.str.split(\"|\").str[i2-1]\n",
    "    if any(pd.notnull(movie_list_basedata_v3['META_GNR_NM_' + str(i2)]) == True) == False :\n",
    "        movie_list_basedata_v3.drop(['META_GNR_NM_' + str(i2)], axis= 1, inplace = True)\n",
    "        break\n",
    "    i2 = i2 + 1"
   ]
  },
  {
   "cell_type": "code",
   "execution_count": 335,
   "metadata": {},
   "outputs": [
    {
     "name": "stdout",
     "output_type": "stream",
     "text": [
      "Index(['META_ID', 'META_TITLE', 'SUB_TITLE', 'ENGL_TITLE', 'OPEN_DY',\n",
      "       'DMST_SPCT_CNT', 'BTV_OPEN_DT', 'META_GNR_NM', 'WAT_LVL_NM',\n",
      "       'MANUFCO_NM', 'DSTBTCO_NM', 'SSTRY_CIN_YN', 'META_MANUF_CTRY_NM_1',\n",
      "       'META_MANUF_CTRY_NM_2', 'META_MANUF_CTRY_NM_3', 'META_MANUF_CTRY_NM_4',\n",
      "       'META_MANUF_CTRY_NM_5', 'META_GNR_NM_1', 'META_GNR_NM_2',\n",
      "       'META_GNR_NM_3', 'META_GNR_NM_4', 'META_GNR_NM_5', 'META_GNR_NM_6'],\n",
      "      dtype='object')\n",
      "        META_ID                 META_TITLE SUB_TITLE       ENGL_TITLE  \\\n",
      "0  MM1000234175                     0.0mhz       NaN           0.0MHz   \n",
      "1  MM1000334701                    1 더하기 3       NaN   Three Husbands   \n",
      "2  MM1000311677  100일동안 100가지로 100퍼센트 행복찾기       NaN       100 Things   \n",
      "3  MM1000337435                        10년       NaN  Ten Years Japan   \n",
      "4  MM1000191569                    12번째 솔저       NaN     The 12th Man   \n",
      "\n",
      "    OPEN_DY  DMST_SPCT_CNT     BTV_OPEN_DT META_GNR_NM WAT_LVL_NM  \\\n",
      "0  20190529        59344.0  20190812090000  드라마|공포(호러)    15세 관람가   \n",
      "1  20191212            NaN  20191212090000  드라마|멜로/로맨스    19세 관람가   \n",
      "2  20190912          707.0  20190930090000     드라마|코미디    15세 관람가   \n",
      "3  20191212            NaN  20191224090000      드라마|가족     전체 관람가   \n",
      "4  20190411            NaN  20190418090000      드라마|전쟁    12세 관람가   \n",
      "\n",
      "              MANUFCO_NM  ... META_MANUF_CTRY_NM_2 META_MANUF_CTRY_NM_3  \\\n",
      "0  (주)제이엠컬쳐스 , (주)몬스터팩토리  ...                  NaN                  NaN   \n",
      "1                    NaN  ...                  NaN                  NaN   \n",
      "2                    NaN  ...                  NaN                  NaN   \n",
      "3                    NaN  ...                  NaN                  NaN   \n",
      "4                    NaN  ...                  NaN                  NaN   \n",
      "\n",
      "  META_MANUF_CTRY_NM_4 META_MANUF_CTRY_NM_5 META_GNR_NM_1 META_GNR_NM_2  \\\n",
      "0                  NaN                  NaN           드라마        공포(호러)   \n",
      "1                  NaN                  NaN           드라마        멜로/로맨스   \n",
      "2                  NaN                  NaN           드라마           코미디   \n",
      "3                  NaN                  NaN           드라마            가족   \n",
      "4                  NaN                  NaN           드라마            전쟁   \n",
      "\n",
      "  META_GNR_NM_3 META_GNR_NM_4 META_GNR_NM_5 META_GNR_NM_6  \n",
      "0           NaN           NaN           NaN           NaN  \n",
      "1           NaN           NaN           NaN           NaN  \n",
      "2           NaN           NaN           NaN           NaN  \n",
      "3           NaN           NaN           NaN           NaN  \n",
      "4           NaN           NaN           NaN           NaN  \n",
      "\n",
      "[5 rows x 23 columns]\n"
     ]
    }
   ],
   "source": [
    "print(movie_list_basedata_v3.columns)\n",
    "print(movie_list_basedata_v3.head())"
   ]
  },
  {
   "cell_type": "markdown",
   "metadata": {},
   "source": [
    "## 장르 (META_GNR_NM) 컬럼 삭제"
   ]
  },
  {
   "cell_type": "code",
   "execution_count": 336,
   "metadata": {},
   "outputs": [
    {
     "name": "stdout",
     "output_type": "stream",
     "text": [
      "Index(['META_ID', 'META_TITLE', 'SUB_TITLE', 'ENGL_TITLE', 'OPEN_DY',\n",
      "       'DMST_SPCT_CNT', 'BTV_OPEN_DT', 'WAT_LVL_NM', 'MANUFCO_NM',\n",
      "       'DSTBTCO_NM', 'SSTRY_CIN_YN', 'META_MANUF_CTRY_NM_1',\n",
      "       'META_MANUF_CTRY_NM_2', 'META_MANUF_CTRY_NM_3', 'META_MANUF_CTRY_NM_4',\n",
      "       'META_MANUF_CTRY_NM_5', 'META_GNR_NM_1', 'META_GNR_NM_2',\n",
      "       'META_GNR_NM_3', 'META_GNR_NM_4', 'META_GNR_NM_5', 'META_GNR_NM_6'],\n",
      "      dtype='object')\n",
      "        META_ID                 META_TITLE SUB_TITLE       ENGL_TITLE  \\\n",
      "0  MM1000234175                     0.0mhz       NaN           0.0MHz   \n",
      "1  MM1000334701                    1 더하기 3       NaN   Three Husbands   \n",
      "2  MM1000311677  100일동안 100가지로 100퍼센트 행복찾기       NaN       100 Things   \n",
      "3  MM1000337435                        10년       NaN  Ten Years Japan   \n",
      "4  MM1000191569                    12번째 솔저       NaN     The 12th Man   \n",
      "\n",
      "    OPEN_DY  DMST_SPCT_CNT     BTV_OPEN_DT WAT_LVL_NM             MANUFCO_NM  \\\n",
      "0  20190529        59344.0  20190812090000    15세 관람가  (주)제이엠컬쳐스 , (주)몬스터팩토리   \n",
      "1  20191212            NaN  20191212090000    19세 관람가                    NaN   \n",
      "2  20190912          707.0  20190930090000    15세 관람가                    NaN   \n",
      "3  20191212            NaN  20191224090000     전체 관람가                    NaN   \n",
      "4  20190411            NaN  20190418090000    12세 관람가                    NaN   \n",
      "\n",
      "  DSTBTCO_NM  ... META_MANUF_CTRY_NM_2 META_MANUF_CTRY_NM_3  \\\n",
      "0  (주)스마일이엔티  ...                  NaN                  NaN   \n",
      "1        NaN  ...                  NaN                  NaN   \n",
      "2    영화사 진진   ...                  NaN                  NaN   \n",
      "3   (주)디오시네마  ...                  NaN                  NaN   \n",
      "4   (주)엣나인필름  ...                  NaN                  NaN   \n",
      "\n",
      "  META_MANUF_CTRY_NM_4 META_MANUF_CTRY_NM_5 META_GNR_NM_1 META_GNR_NM_2  \\\n",
      "0                  NaN                  NaN           드라마        공포(호러)   \n",
      "1                  NaN                  NaN           드라마        멜로/로맨스   \n",
      "2                  NaN                  NaN           드라마           코미디   \n",
      "3                  NaN                  NaN           드라마            가족   \n",
      "4                  NaN                  NaN           드라마            전쟁   \n",
      "\n",
      "  META_GNR_NM_3 META_GNR_NM_4 META_GNR_NM_5 META_GNR_NM_6  \n",
      "0           NaN           NaN           NaN           NaN  \n",
      "1           NaN           NaN           NaN           NaN  \n",
      "2           NaN           NaN           NaN           NaN  \n",
      "3           NaN           NaN           NaN           NaN  \n",
      "4           NaN           NaN           NaN           NaN  \n",
      "\n",
      "[5 rows x 22 columns]\n"
     ]
    }
   ],
   "source": [
    "movie_list_basedata_v4 =  movie_list_basedata_v3.drop(['META_GNR_NM'], axis= 1)\n",
    "print(movie_list_basedata_v4.columns)\n",
    "print(movie_list_basedata_v4.head())"
   ]
  },
  {
   "cell_type": "markdown",
   "metadata": {},
   "source": [
    "## 제작사(MANUFCO_NM) 병렬 처리"
   ]
  },
  {
   "cell_type": "code",
   "execution_count": 337,
   "metadata": {},
   "outputs": [],
   "source": [
    "i3 = 1\n",
    "for i3 in range(1,100):\n",
    "    movie_list_basedata_v4['MANUFCO_NM_' + str(i3)] = movie_list_basedata_v4.MANUFCO_NM.str.split(\",\").str[i3-1]\n",
    "    if any(pd.notnull(movie_list_basedata_v4['MANUFCO_NM_' + str(i3)]) == True) == False :\n",
    "        movie_list_basedata_v4.drop(['MANUFCO_NM_' + str(i3)], axis= 1, inplace = True)\n",
    "        break\n",
    "    i3 = i3 + 1"
   ]
  },
  {
   "cell_type": "code",
   "execution_count": 338,
   "metadata": {},
   "outputs": [
    {
     "name": "stdout",
     "output_type": "stream",
     "text": [
      "Index(['META_ID', 'META_TITLE', 'SUB_TITLE', 'ENGL_TITLE', 'OPEN_DY',\n",
      "       'DMST_SPCT_CNT', 'BTV_OPEN_DT', 'WAT_LVL_NM', 'MANUFCO_NM',\n",
      "       'DSTBTCO_NM', 'SSTRY_CIN_YN', 'META_MANUF_CTRY_NM_1',\n",
      "       'META_MANUF_CTRY_NM_2', 'META_MANUF_CTRY_NM_3', 'META_MANUF_CTRY_NM_4',\n",
      "       'META_MANUF_CTRY_NM_5', 'META_GNR_NM_1', 'META_GNR_NM_2',\n",
      "       'META_GNR_NM_3', 'META_GNR_NM_4', 'META_GNR_NM_5', 'META_GNR_NM_6',\n",
      "       'MANUFCO_NM_1', 'MANUFCO_NM_2', 'MANUFCO_NM_3'],\n",
      "      dtype='object')\n",
      "        META_ID                 META_TITLE SUB_TITLE       ENGL_TITLE  \\\n",
      "0  MM1000234175                     0.0mhz       NaN           0.0MHz   \n",
      "1  MM1000334701                    1 더하기 3       NaN   Three Husbands   \n",
      "2  MM1000311677  100일동안 100가지로 100퍼센트 행복찾기       NaN       100 Things   \n",
      "3  MM1000337435                        10년       NaN  Ten Years Japan   \n",
      "4  MM1000191569                    12번째 솔저       NaN     The 12th Man   \n",
      "\n",
      "    OPEN_DY  DMST_SPCT_CNT     BTV_OPEN_DT WAT_LVL_NM             MANUFCO_NM  \\\n",
      "0  20190529        59344.0  20190812090000    15세 관람가  (주)제이엠컬쳐스 , (주)몬스터팩토리   \n",
      "1  20191212            NaN  20191212090000    19세 관람가                    NaN   \n",
      "2  20190912          707.0  20190930090000    15세 관람가                    NaN   \n",
      "3  20191212            NaN  20191224090000     전체 관람가                    NaN   \n",
      "4  20190411            NaN  20190418090000    12세 관람가                    NaN   \n",
      "\n",
      "  DSTBTCO_NM  ... META_MANUF_CTRY_NM_5 META_GNR_NM_1 META_GNR_NM_2  \\\n",
      "0  (주)스마일이엔티  ...                  NaN           드라마        공포(호러)   \n",
      "1        NaN  ...                  NaN           드라마        멜로/로맨스   \n",
      "2    영화사 진진   ...                  NaN           드라마           코미디   \n",
      "3   (주)디오시네마  ...                  NaN           드라마            가족   \n",
      "4   (주)엣나인필름  ...                  NaN           드라마            전쟁   \n",
      "\n",
      "  META_GNR_NM_3 META_GNR_NM_4 META_GNR_NM_5 META_GNR_NM_6 MANUFCO_NM_1  \\\n",
      "0           NaN           NaN           NaN           NaN   (주)제이엠컬쳐스    \n",
      "1           NaN           NaN           NaN           NaN          NaN   \n",
      "2           NaN           NaN           NaN           NaN          NaN   \n",
      "3           NaN           NaN           NaN           NaN          NaN   \n",
      "4           NaN           NaN           NaN           NaN          NaN   \n",
      "\n",
      "  MANUFCO_NM_2 MANUFCO_NM_3  \n",
      "0    (주)몬스터팩토리          NaN  \n",
      "1          NaN          NaN  \n",
      "2          NaN          NaN  \n",
      "3          NaN          NaN  \n",
      "4          NaN          NaN  \n",
      "\n",
      "[5 rows x 25 columns]\n"
     ]
    }
   ],
   "source": [
    "print(movie_list_basedata_v4.columns)\n",
    "print(movie_list_basedata_v4.head())"
   ]
  },
  {
   "cell_type": "markdown",
   "metadata": {},
   "source": [
    "## 제작사 (MANUFCO_NM) 컬럼 삭제"
   ]
  },
  {
   "cell_type": "code",
   "execution_count": 339,
   "metadata": {},
   "outputs": [
    {
     "name": "stdout",
     "output_type": "stream",
     "text": [
      "Index(['META_ID', 'META_TITLE', 'SUB_TITLE', 'ENGL_TITLE', 'OPEN_DY',\n",
      "       'DMST_SPCT_CNT', 'BTV_OPEN_DT', 'WAT_LVL_NM', 'DSTBTCO_NM',\n",
      "       'SSTRY_CIN_YN', 'META_MANUF_CTRY_NM_1', 'META_MANUF_CTRY_NM_2',\n",
      "       'META_MANUF_CTRY_NM_3', 'META_MANUF_CTRY_NM_4', 'META_MANUF_CTRY_NM_5',\n",
      "       'META_GNR_NM_1', 'META_GNR_NM_2', 'META_GNR_NM_3', 'META_GNR_NM_4',\n",
      "       'META_GNR_NM_5', 'META_GNR_NM_6', 'MANUFCO_NM_1', 'MANUFCO_NM_2',\n",
      "       'MANUFCO_NM_3'],\n",
      "      dtype='object')\n",
      "        META_ID                 META_TITLE SUB_TITLE       ENGL_TITLE  \\\n",
      "0  MM1000234175                     0.0mhz       NaN           0.0MHz   \n",
      "1  MM1000334701                    1 더하기 3       NaN   Three Husbands   \n",
      "2  MM1000311677  100일동안 100가지로 100퍼센트 행복찾기       NaN       100 Things   \n",
      "3  MM1000337435                        10년       NaN  Ten Years Japan   \n",
      "4  MM1000191569                    12번째 솔저       NaN     The 12th Man   \n",
      "\n",
      "    OPEN_DY  DMST_SPCT_CNT     BTV_OPEN_DT WAT_LVL_NM DSTBTCO_NM SSTRY_CIN_YN  \\\n",
      "0  20190529        59344.0  20190812090000    15세 관람가  (주)스마일이엔티            N   \n",
      "1  20191212            NaN  20191212090000    19세 관람가        NaN            N   \n",
      "2  20190912          707.0  20190930090000    15세 관람가    영화사 진진             N   \n",
      "3  20191212            NaN  20191224090000     전체 관람가   (주)디오시네마            N   \n",
      "4  20190411            NaN  20190418090000    12세 관람가   (주)엣나인필름            N   \n",
      "\n",
      "   ... META_MANUF_CTRY_NM_5 META_GNR_NM_1 META_GNR_NM_2 META_GNR_NM_3  \\\n",
      "0  ...                  NaN           드라마        공포(호러)           NaN   \n",
      "1  ...                  NaN           드라마        멜로/로맨스           NaN   \n",
      "2  ...                  NaN           드라마           코미디           NaN   \n",
      "3  ...                  NaN           드라마            가족           NaN   \n",
      "4  ...                  NaN           드라마            전쟁           NaN   \n",
      "\n",
      "  META_GNR_NM_4 META_GNR_NM_5 META_GNR_NM_6 MANUFCO_NM_1 MANUFCO_NM_2  \\\n",
      "0           NaN           NaN           NaN   (주)제이엠컬쳐스     (주)몬스터팩토리   \n",
      "1           NaN           NaN           NaN          NaN          NaN   \n",
      "2           NaN           NaN           NaN          NaN          NaN   \n",
      "3           NaN           NaN           NaN          NaN          NaN   \n",
      "4           NaN           NaN           NaN          NaN          NaN   \n",
      "\n",
      "  MANUFCO_NM_3  \n",
      "0          NaN  \n",
      "1          NaN  \n",
      "2          NaN  \n",
      "3          NaN  \n",
      "4          NaN  \n",
      "\n",
      "[5 rows x 24 columns]\n"
     ]
    }
   ],
   "source": [
    "movie_list_basedata_v5 =  movie_list_basedata_v4.drop(['MANUFCO_NM'], axis= 1)\n",
    "print(movie_list_basedata_v5.columns)\n",
    "print(movie_list_basedata_v5.head())"
   ]
  },
  {
   "cell_type": "markdown",
   "metadata": {},
   "source": [
    "## 배급사(DSTBTCO_NM) 병렬 처리"
   ]
  },
  {
   "cell_type": "code",
   "execution_count": 340,
   "metadata": {},
   "outputs": [],
   "source": [
    "i4 = 1\n",
    "for i4 in range(1,100):\n",
    "    movie_list_basedata_v5['DSTBTCO_NM_' + str(i4)] = movie_list_basedata_v5.DSTBTCO_NM.str.split(\",\").str[i4-1]\n",
    "    if any(pd.notnull(movie_list_basedata_v5['DSTBTCO_NM_' + str(i4)]) == True) == False :\n",
    "        movie_list_basedata_v5.drop(['DSTBTCO_NM_' + str(i4)], axis= 1, inplace = True)\n",
    "        break\n",
    "    i4 = i4 + 1"
   ]
  },
  {
   "cell_type": "code",
   "execution_count": 341,
   "metadata": {},
   "outputs": [
    {
     "name": "stdout",
     "output_type": "stream",
     "text": [
      "Index(['META_ID', 'META_TITLE', 'SUB_TITLE', 'ENGL_TITLE', 'OPEN_DY',\n",
      "       'DMST_SPCT_CNT', 'BTV_OPEN_DT', 'WAT_LVL_NM', 'DSTBTCO_NM',\n",
      "       'SSTRY_CIN_YN', 'META_MANUF_CTRY_NM_1', 'META_MANUF_CTRY_NM_2',\n",
      "       'META_MANUF_CTRY_NM_3', 'META_MANUF_CTRY_NM_4', 'META_MANUF_CTRY_NM_5',\n",
      "       'META_GNR_NM_1', 'META_GNR_NM_2', 'META_GNR_NM_3', 'META_GNR_NM_4',\n",
      "       'META_GNR_NM_5', 'META_GNR_NM_6', 'MANUFCO_NM_1', 'MANUFCO_NM_2',\n",
      "       'MANUFCO_NM_3', 'DSTBTCO_NM_1', 'DSTBTCO_NM_2', 'DSTBTCO_NM_3'],\n",
      "      dtype='object')\n",
      "        META_ID                 META_TITLE SUB_TITLE       ENGL_TITLE  \\\n",
      "0  MM1000234175                     0.0mhz       NaN           0.0MHz   \n",
      "1  MM1000334701                    1 더하기 3       NaN   Three Husbands   \n",
      "2  MM1000311677  100일동안 100가지로 100퍼센트 행복찾기       NaN       100 Things   \n",
      "3  MM1000337435                        10년       NaN  Ten Years Japan   \n",
      "4  MM1000191569                    12번째 솔저       NaN     The 12th Man   \n",
      "\n",
      "    OPEN_DY  DMST_SPCT_CNT     BTV_OPEN_DT WAT_LVL_NM DSTBTCO_NM SSTRY_CIN_YN  \\\n",
      "0  20190529        59344.0  20190812090000    15세 관람가  (주)스마일이엔티            N   \n",
      "1  20191212            NaN  20191212090000    19세 관람가        NaN            N   \n",
      "2  20190912          707.0  20190930090000    15세 관람가    영화사 진진             N   \n",
      "3  20191212            NaN  20191224090000     전체 관람가   (주)디오시네마            N   \n",
      "4  20190411            NaN  20190418090000    12세 관람가   (주)엣나인필름            N   \n",
      "\n",
      "   ... META_GNR_NM_3 META_GNR_NM_4 META_GNR_NM_5 META_GNR_NM_6 MANUFCO_NM_1  \\\n",
      "0  ...           NaN           NaN           NaN           NaN   (주)제이엠컬쳐스    \n",
      "1  ...           NaN           NaN           NaN           NaN          NaN   \n",
      "2  ...           NaN           NaN           NaN           NaN          NaN   \n",
      "3  ...           NaN           NaN           NaN           NaN          NaN   \n",
      "4  ...           NaN           NaN           NaN           NaN          NaN   \n",
      "\n",
      "  MANUFCO_NM_2 MANUFCO_NM_3 DSTBTCO_NM_1 DSTBTCO_NM_2 DSTBTCO_NM_3  \n",
      "0    (주)몬스터팩토리          NaN    (주)스마일이엔티          NaN          NaN  \n",
      "1          NaN          NaN          NaN          NaN          NaN  \n",
      "2          NaN          NaN      영화사 진진           NaN          NaN  \n",
      "3          NaN          NaN     (주)디오시네마          NaN          NaN  \n",
      "4          NaN          NaN     (주)엣나인필름          NaN          NaN  \n",
      "\n",
      "[5 rows x 27 columns]\n"
     ]
    }
   ],
   "source": [
    "print(movie_list_basedata_v5.columns)\n",
    "print(movie_list_basedata_v5.head())"
   ]
  },
  {
   "cell_type": "markdown",
   "metadata": {},
   "source": [
    "## 배급사(DSTBTCO_NM) 컬럼 삭제"
   ]
  },
  {
   "cell_type": "code",
   "execution_count": 342,
   "metadata": {},
   "outputs": [
    {
     "name": "stdout",
     "output_type": "stream",
     "text": [
      "Index(['META_ID', 'META_TITLE', 'SUB_TITLE', 'ENGL_TITLE', 'OPEN_DY',\n",
      "       'DMST_SPCT_CNT', 'BTV_OPEN_DT', 'WAT_LVL_NM', 'SSTRY_CIN_YN',\n",
      "       'META_MANUF_CTRY_NM_1', 'META_MANUF_CTRY_NM_2', 'META_MANUF_CTRY_NM_3',\n",
      "       'META_MANUF_CTRY_NM_4', 'META_MANUF_CTRY_NM_5', 'META_GNR_NM_1',\n",
      "       'META_GNR_NM_2', 'META_GNR_NM_3', 'META_GNR_NM_4', 'META_GNR_NM_5',\n",
      "       'META_GNR_NM_6', 'MANUFCO_NM_1', 'MANUFCO_NM_2', 'MANUFCO_NM_3',\n",
      "       'DSTBTCO_NM_1', 'DSTBTCO_NM_2', 'DSTBTCO_NM_3'],\n",
      "      dtype='object')\n",
      "        META_ID                 META_TITLE SUB_TITLE       ENGL_TITLE  \\\n",
      "0  MM1000234175                     0.0mhz       NaN           0.0MHz   \n",
      "1  MM1000334701                    1 더하기 3       NaN   Three Husbands   \n",
      "2  MM1000311677  100일동안 100가지로 100퍼센트 행복찾기       NaN       100 Things   \n",
      "3  MM1000337435                        10년       NaN  Ten Years Japan   \n",
      "4  MM1000191569                    12번째 솔저       NaN     The 12th Man   \n",
      "\n",
      "    OPEN_DY  DMST_SPCT_CNT     BTV_OPEN_DT WAT_LVL_NM SSTRY_CIN_YN  \\\n",
      "0  20190529        59344.0  20190812090000    15세 관람가            N   \n",
      "1  20191212            NaN  20191212090000    19세 관람가            N   \n",
      "2  20190912          707.0  20190930090000    15세 관람가            N   \n",
      "3  20191212            NaN  20191224090000     전체 관람가            N   \n",
      "4  20190411            NaN  20190418090000    12세 관람가            N   \n",
      "\n",
      "  META_MANUF_CTRY_NM_1  ... META_GNR_NM_3 META_GNR_NM_4 META_GNR_NM_5  \\\n",
      "0                 대한민국  ...           NaN           NaN           NaN   \n",
      "1                   홍콩  ...           NaN           NaN           NaN   \n",
      "2                   독일  ...           NaN           NaN           NaN   \n",
      "3                   일본  ...           NaN           NaN           NaN   \n",
      "4                 노르웨이  ...           NaN           NaN           NaN   \n",
      "\n",
      "  META_GNR_NM_6 MANUFCO_NM_1 MANUFCO_NM_2 MANUFCO_NM_3 DSTBTCO_NM_1  \\\n",
      "0           NaN   (주)제이엠컬쳐스     (주)몬스터팩토리          NaN    (주)스마일이엔티   \n",
      "1           NaN          NaN          NaN          NaN          NaN   \n",
      "2           NaN          NaN          NaN          NaN      영화사 진진    \n",
      "3           NaN          NaN          NaN          NaN     (주)디오시네마   \n",
      "4           NaN          NaN          NaN          NaN     (주)엣나인필름   \n",
      "\n",
      "  DSTBTCO_NM_2 DSTBTCO_NM_3  \n",
      "0          NaN          NaN  \n",
      "1          NaN          NaN  \n",
      "2          NaN          NaN  \n",
      "3          NaN          NaN  \n",
      "4          NaN          NaN  \n",
      "\n",
      "[5 rows x 26 columns]\n"
     ]
    }
   ],
   "source": [
    "movie_list_basedata_v6 =  movie_list_basedata_v5.drop(['DSTBTCO_NM'], axis= 1)\n",
    "print(movie_list_basedata_v6.columns)\n",
    "print(movie_list_basedata_v6.head())"
   ]
  },
  {
   "cell_type": "markdown",
   "metadata": {},
   "source": [
    "### 최종 전처리 Dataframe -  movie_list_basedata_v6"
   ]
  },
  {
   "cell_type": "code",
   "execution_count": 343,
   "metadata": {},
   "outputs": [],
   "source": [
    "import datetime as dt\n",
    "nowDate = dt.datetime.now()\n",
    "movie_list_basedata_v6.to_csv(\"data/movie_list_basedata_preprocessing_\" + nowDate.strftime(\"%Y%m%d%H%M%S\") + \".csv\", mode='w', header=True, index=False, encoding='UTF-8')"
   ]
  },
  {
   "cell_type": "markdown",
   "metadata": {},
   "source": [
    "## "
   ]
  },
  {
   "cell_type": "markdown",
   "metadata": {},
   "source": [
    "## "
   ]
  },
  {
   "cell_type": "markdown",
   "metadata": {},
   "source": [
    "## 감독 정보 rawdata목록 불러오기 - eh_meta_basedata_200623_v0.1.csv"
   ]
  },
  {
   "cell_type": "code",
   "execution_count": 345,
   "metadata": {},
   "outputs": [
    {
     "name": "stdout",
     "output_type": "stream",
     "text": [
      "Index(['META_ID', 'PRS_ID', 'PRS_NM', 'PRS_ROLE_NM', 'FILMOGRAPHY'], dtype='object')\n",
      "595\n",
      "        META_ID        PRS_ID     PRS_NM PRS_ROLE_NM  \\\n",
      "0  MM1000103011  MP0000052678  크리스티앙 알바트      감독(연출)   \n",
      "1  MM1000109497  MP0000052678  크리스티앙 알바트      감독(연출)   \n",
      "2  MM1000114876  MP1000003556        금패진      감독(연출)   \n",
      "3  MM1000115034  MP0000112474    마크 로테문트      감독(연출)   \n",
      "4  MM1000115408  MP0000005457   파올로 타비아니      감독(연출)   \n",
      "\n",
      "                                         FILMOGRAPHY  \n",
      "0  돈 겟 아웃!|미션 이스탄불 5: 더 파이널|미션 이스탄불 4: 익스트림 데이|미션...  \n",
      "1  돈 겟 아웃!|미션 이스탄불 5: 더 파이널|미션 이스탄불 4: 익스트림 데이|미션...  \n",
      "2                                         완벽한 그녀의 비밀  \n",
      "3                                         디스 크레이지 하트  \n",
      "4                                        레인보우: 나의 사랑  \n"
     ]
    }
   ],
   "source": [
    "movie_list_directordata = pd.read_csv('raw/eh_meta_directordata_200623_v0.1.csv', encoding = 'UTF-8')\n",
    "print(movie_list_directordata.columns)\n",
    "print(movie_list_directordata.shape[0])\n",
    "print(movie_list_directordata.head())"
   ]
  },
  {
   "cell_type": "markdown",
   "metadata": {},
   "source": [
    "## 중복컬럼명 변경"
   ]
  },
  {
   "cell_type": "code",
   "execution_count": 346,
   "metadata": {},
   "outputs": [
    {
     "name": "stdout",
     "output_type": "stream",
     "text": [
      "Index(['META_ID', 'DIR_PRS_ID', 'DIR_PRS_NM', 'DIR_PRS_ROLE_NM',\n",
      "       'FILMOGRAPHY'],\n",
      "      dtype='object')\n"
     ]
    }
   ],
   "source": [
    "movie_list_directordata_v1 = movie_list_directordata\n",
    "\n",
    "movie_list_directordata_v1.rename(columns = {'PRS_ID' : 'DIR_PRS_ID', \n",
    "                                          'PRS_NM' : 'DIR_PRS_NM', \n",
    "                                          'PRS_ROLE_NM' : 'DIR_PRS_ROLE_NM'\n",
    "                                         }, inplace = True)\n",
    "\n",
    "print(movie_list_directordata_v1.columns)"
   ]
  },
  {
   "cell_type": "markdown",
   "metadata": {},
   "source": [
    "## 연출작(FILMOGRAPHY) 병렬 처리"
   ]
  },
  {
   "cell_type": "code",
   "execution_count": 347,
   "metadata": {},
   "outputs": [],
   "source": [
    "d1 = 1\n",
    "for d1 in range(1,100):\n",
    "    movie_list_directordata_v1['DIR_FILMOGRAPHY_' + str(d1)] = movie_list_directordata_v1.FILMOGRAPHY.str.split(\"|\").str[d1-1]\n",
    "    if any(pd.notnull(movie_list_directordata_v1['DIR_FILMOGRAPHY_' + str(d1)]) == True) == False :\n",
    "        movie_list_directordata_v1.drop(['DIR_FILMOGRAPHY_' + str(d1)], axis= 1, inplace = True)\n",
    "        break\n",
    "    d1 = d1 + 1"
   ]
  },
  {
   "cell_type": "markdown",
   "metadata": {},
   "source": [
    "print(movie_list_directordata_v1.columns)\n",
    "print(movie_list_directordata_v1.head())"
   ]
  },
  {
   "cell_type": "markdown",
   "metadata": {},
   "source": [
    "## FILMOGRAPHY 컬럼 삭제"
   ]
  },
  {
   "cell_type": "code",
   "execution_count": 348,
   "metadata": {},
   "outputs": [
    {
     "name": "stdout",
     "output_type": "stream",
     "text": [
      "Index(['META_ID', 'DIR_PRS_ID', 'DIR_PRS_NM', 'DIR_PRS_ROLE_NM',\n",
      "       'DIR_FILMOGRAPHY_1', 'DIR_FILMOGRAPHY_2', 'DIR_FILMOGRAPHY_3',\n",
      "       'DIR_FILMOGRAPHY_4', 'DIR_FILMOGRAPHY_5', 'DIR_FILMOGRAPHY_6'],\n",
      "      dtype='object')\n",
      "        META_ID    DIR_PRS_ID DIR_PRS_NM DIR_PRS_ROLE_NM DIR_FILMOGRAPHY_1  \\\n",
      "0  MM1000103011  MP0000052678  크리스티앙 알바트          감독(연출)           돈 겟 아웃!   \n",
      "1  MM1000109497  MP0000052678  크리스티앙 알바트          감독(연출)           돈 겟 아웃!   \n",
      "2  MM1000114876  MP1000003556        금패진          감독(연출)        완벽한 그녀의 비밀   \n",
      "3  MM1000115034  MP0000112474    마크 로테문트          감독(연출)        디스 크레이지 하트   \n",
      "4  MM1000115408  MP0000005457   파올로 타비아니          감독(연출)       레인보우: 나의 사랑   \n",
      "\n",
      "  DIR_FILMOGRAPHY_2   DIR_FILMOGRAPHY_3 DIR_FILMOGRAPHY_4 DIR_FILMOGRAPHY_5  \\\n",
      "0  미션 이스탄불 5: 더 파이널  미션 이스탄불 4: 익스트림 데이  미션 이스탄불 3: 더 리벤지           미션 이스탄불   \n",
      "1  미션 이스탄불 5: 더 파이널  미션 이스탄불 4: 익스트림 데이  미션 이스탄불 3: 더 리벤지           미션 이스탄불   \n",
      "2               NaN                 NaN               NaN               NaN   \n",
      "3               NaN                 NaN               NaN               NaN   \n",
      "4               NaN                 NaN               NaN               NaN   \n",
      "\n",
      "  DIR_FILMOGRAPHY_6  \n",
      "0               NaN  \n",
      "1               NaN  \n",
      "2               NaN  \n",
      "3               NaN  \n",
      "4               NaN  \n"
     ]
    }
   ],
   "source": [
    "movie_list_directordata_v2 =  movie_list_directordata_v1.drop(['FILMOGRAPHY'], axis= 1)\n",
    "print(movie_list_directordata_v2.columns)\n",
    "print(movie_list_directordata_v2.head())"
   ]
  },
  {
   "cell_type": "markdown",
   "metadata": {},
   "source": [
    "### 최종 전처리 Dataframe - movie_list_directordata_v2"
   ]
  },
  {
   "cell_type": "code",
   "execution_count": 349,
   "metadata": {},
   "outputs": [],
   "source": [
    "import datetime as dt\n",
    "nowDate = dt.datetime.now()\n",
    "movie_list_directordata_v2.to_csv(\"data/movie_list_directordata_preprocessing_\" + nowDate.strftime(\"%Y%m%d%H%M%S\") + \".csv\", mode='w', header=True, index=False, encoding='UTF-8')"
   ]
  },
  {
   "cell_type": "markdown",
   "metadata": {},
   "source": [
    "## "
   ]
  },
  {
   "cell_type": "markdown",
   "metadata": {},
   "source": [
    "## "
   ]
  },
  {
   "cell_type": "markdown",
   "metadata": {},
   "source": [
    "## 출연자 정보 rawdata목록 불러오기 - eh_meta_actordata_200623_v0.1.csv"
   ]
  },
  {
   "cell_type": "code",
   "execution_count": 350,
   "metadata": {},
   "outputs": [
    {
     "name": "stdout",
     "output_type": "stream",
     "text": [
      "Index(['META_ID', 'PRS_ID', 'PRS_NM', 'PRS_ROLE_NM', 'FILMOGRAPHY'], dtype='object')\n",
      "2200\n",
      "        META_ID        PRS_ID    PRS_NM PRS_ROLE_NM  \\\n",
      "0  MM1000103011  MP0000064883  보탄 빌케 모링          주연   \n",
      "1  MM1000103011  MP0000154188     노라 허츠          주연   \n",
      "2  MM1000103011           NaN       NaN         NaN   \n",
      "3  MM1000109497  MP0000001592    틸 슈바이거          주연   \n",
      "4  MM1000109497  MP0000146403   루나 슈바이거          주연   \n",
      "\n",
      "                                         FILMOGRAPHY  \n",
      "0                                            돈 겟 아웃!  \n",
      "1                                            돈 겟 아웃!  \n",
      "2                                                NaN  \n",
      "3  미션 이스탄불 5: 더 파이널|미션 이스탄불 4: 익스트림 데이|미션 이스탄불 3:...  \n",
      "4        미션 이스탄불 5: 더 파이널|미션 이스탄불 4: 익스트림 데이|미션 이스탄불  \n"
     ]
    }
   ],
   "source": [
    "movie_list_actordata = pd.read_csv('raw/eh_meta_actordata_200623_v0.1.csv', encoding = 'UTF-8')\n",
    "print(movie_list_actordata.columns)\n",
    "print(movie_list_actordata.shape[0])\n",
    "print(movie_list_actordata.head())"
   ]
  },
  {
   "cell_type": "markdown",
   "metadata": {},
   "source": [
    "## 중복 컬럼명 변경"
   ]
  },
  {
   "cell_type": "code",
   "execution_count": 352,
   "metadata": {},
   "outputs": [
    {
     "name": "stdout",
     "output_type": "stream",
     "text": [
      "Index(['META_ID', 'ACT_PRS_ID', 'ACT_PRS_NM', 'ACT_PRS_ROLE_NM',\n",
      "       'FILMOGRAPHY'],\n",
      "      dtype='object')\n"
     ]
    }
   ],
   "source": [
    "movie_list_actordata.rename(columns = {'PRS_ID' : 'ACT_PRS_ID', \n",
    "                                       'PRS_NM' : 'ACT_PRS_NM', \n",
    "                                       'PRS_ROLE_NM' : 'ACT_PRS_ROLE_NM'\n",
    "                                         }, inplace = True)\n",
    "\n",
    "print(movie_list_actordata.columns)"
   ]
  },
  {
   "cell_type": "markdown",
   "metadata": {},
   "source": [
    "## PRS_ID가 Null인 row 삭제"
   ]
  },
  {
   "cell_type": "code",
   "execution_count": 353,
   "metadata": {},
   "outputs": [
    {
     "name": "stdout",
     "output_type": "stream",
     "text": [
      "           META_ID    ACT_PRS_ID  ACT_PRS_NM ACT_PRS_ROLE_NM  \\\n",
      "0     MM1000103011  MP0000064883    보탄 빌케 모링              주연   \n",
      "1     MM1000103011  MP0000154188       노라 허츠              주연   \n",
      "3     MM1000109497  MP0000001592      틸 슈바이거              주연   \n",
      "4     MM1000109497  MP0000146403     루나 슈바이거              주연   \n",
      "5     MM1000109497  MP0000158516      파리 야르딤              주연   \n",
      "...            ...           ...         ...             ...   \n",
      "2193  MM1000369291  MP1000009476     다이고 코타로          외국어목소리   \n",
      "2194  MM1000369291  MP1000016762       모리나나           외국어목소리   \n",
      "2196  MM1000372029  MP0000033199      멜라니 로랑              주연   \n",
      "2197  MM1000372029  MP0000051745    랭글리 커크우드              주연   \n",
      "2198  MM1000372029  MP1000017024  다니아 드 빌리어스              주연   \n",
      "\n",
      "                                            FILMOGRAPHY  \n",
      "0                                               돈 겟 아웃!  \n",
      "1                                               돈 겟 아웃!  \n",
      "3     미션 이스탄불 5: 더 파이널|미션 이스탄불 4: 익스트림 데이|미션 이스탄불 3:...  \n",
      "4           미션 이스탄불 5: 더 파이널|미션 이스탄불 4: 익스트림 데이|미션 이스탄불  \n",
      "5     미션 이스탄불 5: 더 파이널|미션 이스탄불 4: 익스트림 데이|미션 이스탄불 3:...  \n",
      "...                                                 ...  \n",
      "2193                                      날씨의 아이|봉오동 전투  \n",
      "2194                                             날씨의 아이  \n",
      "2196         화이트 라이언 찰리|갤버스턴|몽 가르송|다이빙: 그녀에 빠지다|내일|이터너티  \n",
      "2197                                         화이트 라이언 찰리  \n",
      "2198                                         화이트 라이언 찰리  \n",
      "\n",
      "[1606 rows x 5 columns]\n"
     ]
    }
   ],
   "source": [
    "movie_list_actordata_v1 = movie_list_actordata.dropna(subset = ['ACT_PRS_ID'])\n",
    "print(movie_list_actordata_v1)"
   ]
  },
  {
   "cell_type": "code",
   "execution_count": 354,
   "metadata": {},
   "outputs": [
    {
     "name": "stdout",
     "output_type": "stream",
     "text": [
      "           META_ID    ACT_PRS_ID  ACT_PRS_NM ACT_PRS_ROLE_NM  \\\n",
      "0     MM1000103011  MP0000064883    보탄 빌케 모링              주연   \n",
      "1     MM1000103011  MP0000154188       노라 허츠              주연   \n",
      "3     MM1000109497  MP0000001592      틸 슈바이거              주연   \n",
      "4     MM1000109497  MP0000146403     루나 슈바이거              주연   \n",
      "5     MM1000109497  MP0000158516      파리 야르딤              주연   \n",
      "...            ...           ...         ...             ...   \n",
      "2193  MM1000369291  MP1000009476     다이고 코타로          외국어목소리   \n",
      "2194  MM1000369291  MP1000016762       모리나나           외국어목소리   \n",
      "2196  MM1000372029  MP0000033199      멜라니 로랑              주연   \n",
      "2197  MM1000372029  MP0000051745    랭글리 커크우드              주연   \n",
      "2198  MM1000372029  MP1000017024  다니아 드 빌리어스              주연   \n",
      "\n",
      "                                            FILMOGRAPHY  \n",
      "0                                               돈 겟 아웃!  \n",
      "1                                               돈 겟 아웃!  \n",
      "3     미션 이스탄불 5: 더 파이널|미션 이스탄불 4: 익스트림 데이|미션 이스탄불 3:...  \n",
      "4           미션 이스탄불 5: 더 파이널|미션 이스탄불 4: 익스트림 데이|미션 이스탄불  \n",
      "5     미션 이스탄불 5: 더 파이널|미션 이스탄불 4: 익스트림 데이|미션 이스탄불 3:...  \n",
      "...                                                 ...  \n",
      "2193                                      날씨의 아이|봉오동 전투  \n",
      "2194                                             날씨의 아이  \n",
      "2196         화이트 라이언 찰리|갤버스턴|몽 가르송|다이빙: 그녀에 빠지다|내일|이터너티  \n",
      "2197                                         화이트 라이언 찰리  \n",
      "2198                                         화이트 라이언 찰리  \n",
      "\n",
      "[1606 rows x 5 columns]\n"
     ]
    }
   ],
   "source": [
    "print(movie_list_actordata_v1)"
   ]
  },
  {
   "cell_type": "markdown",
   "metadata": {},
   "source": [
    "## 출연작(FILMOGRAPHY) 병렬 처리"
   ]
  },
  {
   "cell_type": "code",
   "execution_count": 355,
   "metadata": {},
   "outputs": [
    {
     "name": "stdout",
     "output_type": "stream",
     "text": [
      "Index(['META_ID', 'ACT_PRS_ID', 'ACT_PRS_NM', 'ACT_PRS_ROLE_NM', 'FILMOGRAPHY',\n",
      "       'ACT_FILMOGRAPHY_1', 'ACT_FILMOGRAPHY_2', 'ACT_FILMOGRAPHY_3',\n",
      "       'ACT_FILMOGRAPHY_4', 'ACT_FILMOGRAPHY_5', 'ACT_FILMOGRAPHY_6',\n",
      "       'ACT_FILMOGRAPHY_7', 'ACT_FILMOGRAPHY_8', 'ACT_FILMOGRAPHY_9',\n",
      "       'ACT_FILMOGRAPHY_10', 'ACT_FILMOGRAPHY_11', 'ACT_FILMOGRAPHY_12',\n",
      "       'ACT_FILMOGRAPHY_13', 'ACT_FILMOGRAPHY_14', 'ACT_FILMOGRAPHY_15',\n",
      "       'ACT_FILMOGRAPHY_16', 'ACT_FILMOGRAPHY_17', 'ACT_FILMOGRAPHY_18',\n",
      "       'ACT_FILMOGRAPHY_19', 'ACT_FILMOGRAPHY_20', 'ACT_FILMOGRAPHY_21'],\n",
      "      dtype='object')\n",
      "        META_ID    ACT_PRS_ID ACT_PRS_NM ACT_PRS_ROLE_NM  \\\n",
      "0  MM1000103011  MP0000064883   보탄 빌케 모링              주연   \n",
      "1  MM1000103011  MP0000154188      노라 허츠              주연   \n",
      "3  MM1000109497  MP0000001592     틸 슈바이거              주연   \n",
      "4  MM1000109497  MP0000146403    루나 슈바이거              주연   \n",
      "5  MM1000109497  MP0000158516     파리 야르딤              주연   \n",
      "\n",
      "                                         FILMOGRAPHY ACT_FILMOGRAPHY_1  \\\n",
      "0                                            돈 겟 아웃!           돈 겟 아웃!   \n",
      "1                                            돈 겟 아웃!           돈 겟 아웃!   \n",
      "3  미션 이스탄불 5: 더 파이널|미션 이스탄불 4: 익스트림 데이|미션 이스탄불 3:...  미션 이스탄불 5: 더 파이널   \n",
      "4        미션 이스탄불 5: 더 파이널|미션 이스탄불 4: 익스트림 데이|미션 이스탄불  미션 이스탄불 5: 더 파이널   \n",
      "5  미션 이스탄불 5: 더 파이널|미션 이스탄불 4: 익스트림 데이|미션 이스탄불 3:...  미션 이스탄불 5: 더 파이널   \n",
      "\n",
      "    ACT_FILMOGRAPHY_2 ACT_FILMOGRAPHY_3 ACT_FILMOGRAPHY_4 ACT_FILMOGRAPHY_5  \\\n",
      "0                 NaN               NaN               NaN               NaN   \n",
      "1                 NaN               NaN               NaN               NaN   \n",
      "3  미션 이스탄불 4: 익스트림 데이  미션 이스탄불 3: 더 리벤지           스페셜 스쿼드           아토믹 블론드   \n",
      "4  미션 이스탄불 4: 익스트림 데이           미션 이스탄불               NaN               NaN   \n",
      "5  미션 이스탄불 4: 익스트림 데이  미션 이스탄불 3: 더 리벤지           미션 이스탄불               NaN   \n",
      "\n",
      "   ... ACT_FILMOGRAPHY_12 ACT_FILMOGRAPHY_13 ACT_FILMOGRAPHY_14  \\\n",
      "0  ...                NaN                NaN                NaN   \n",
      "1  ...                NaN                NaN                NaN   \n",
      "3  ...                NaN                NaN                NaN   \n",
      "4  ...                NaN                NaN                NaN   \n",
      "5  ...                NaN                NaN                NaN   \n",
      "\n",
      "  ACT_FILMOGRAPHY_15 ACT_FILMOGRAPHY_16 ACT_FILMOGRAPHY_17 ACT_FILMOGRAPHY_18  \\\n",
      "0                NaN                NaN                NaN                NaN   \n",
      "1                NaN                NaN                NaN                NaN   \n",
      "3                NaN                NaN                NaN                NaN   \n",
      "4                NaN                NaN                NaN                NaN   \n",
      "5                NaN                NaN                NaN                NaN   \n",
      "\n",
      "  ACT_FILMOGRAPHY_19 ACT_FILMOGRAPHY_20 ACT_FILMOGRAPHY_21  \n",
      "0                NaN                NaN                NaN  \n",
      "1                NaN                NaN                NaN  \n",
      "3                NaN                NaN                NaN  \n",
      "4                NaN                NaN                NaN  \n",
      "5                NaN                NaN                NaN  \n",
      "\n",
      "[5 rows x 26 columns]\n"
     ]
    },
    {
     "name": "stderr",
     "output_type": "stream",
     "text": [
      "/opt/tljh/user/lib/python3.7/site-packages/ipykernel_launcher.py:3: SettingWithCopyWarning: \n",
      "A value is trying to be set on a copy of a slice from a DataFrame.\n",
      "Try using .loc[row_indexer,col_indexer] = value instead\n",
      "\n",
      "See the caveats in the documentation: https://pandas.pydata.org/pandas-docs/stable/user_guide/indexing.html#returning-a-view-versus-a-copy\n",
      "  This is separate from the ipykernel package so we can avoid doing imports until\n",
      "/opt/tljh/user/lib/python3.7/site-packages/pandas/core/frame.py:3997: SettingWithCopyWarning: \n",
      "A value is trying to be set on a copy of a slice from a DataFrame\n",
      "\n",
      "See the caveats in the documentation: https://pandas.pydata.org/pandas-docs/stable/user_guide/indexing.html#returning-a-view-versus-a-copy\n",
      "  errors=errors,\n"
     ]
    }
   ],
   "source": [
    "a1 = 1\n",
    "for a1 in range(1,100):\n",
    "    movie_list_actordata_v1['ACT_FILMOGRAPHY_' + str(a1)] = movie_list_actordata_v1.FILMOGRAPHY.str.split(\"|\").str[a1-1]\n",
    "    if any(pd.notnull(movie_list_actordata_v1['ACT_FILMOGRAPHY_' + str(a1)]) == True) == False :\n",
    "        movie_list_actordata_v1.drop(['ACT_FILMOGRAPHY_' + str(a1)], axis= 1, inplace = True)\n",
    "        break\n",
    "    a1 = a1 + 1\n",
    "    \n",
    "print(movie_list_actordata_v1.columns)\n",
    "print(movie_list_actordata_v1.head())"
   ]
  },
  {
   "cell_type": "markdown",
   "metadata": {},
   "source": [
    "## FILMOGRAPHY 컬럼 삭제"
   ]
  },
  {
   "cell_type": "code",
   "execution_count": 356,
   "metadata": {},
   "outputs": [
    {
     "name": "stdout",
     "output_type": "stream",
     "text": [
      "Index(['META_ID', 'ACT_PRS_ID', 'ACT_PRS_NM', 'ACT_PRS_ROLE_NM',\n",
      "       'ACT_FILMOGRAPHY_1', 'ACT_FILMOGRAPHY_2', 'ACT_FILMOGRAPHY_3',\n",
      "       'ACT_FILMOGRAPHY_4', 'ACT_FILMOGRAPHY_5', 'ACT_FILMOGRAPHY_6',\n",
      "       'ACT_FILMOGRAPHY_7', 'ACT_FILMOGRAPHY_8', 'ACT_FILMOGRAPHY_9',\n",
      "       'ACT_FILMOGRAPHY_10', 'ACT_FILMOGRAPHY_11', 'ACT_FILMOGRAPHY_12',\n",
      "       'ACT_FILMOGRAPHY_13', 'ACT_FILMOGRAPHY_14', 'ACT_FILMOGRAPHY_15',\n",
      "       'ACT_FILMOGRAPHY_16', 'ACT_FILMOGRAPHY_17', 'ACT_FILMOGRAPHY_18',\n",
      "       'ACT_FILMOGRAPHY_19', 'ACT_FILMOGRAPHY_20', 'ACT_FILMOGRAPHY_21'],\n",
      "      dtype='object')\n",
      "        META_ID    ACT_PRS_ID ACT_PRS_NM ACT_PRS_ROLE_NM ACT_FILMOGRAPHY_1  \\\n",
      "0  MM1000103011  MP0000064883   보탄 빌케 모링              주연           돈 겟 아웃!   \n",
      "1  MM1000103011  MP0000154188      노라 허츠              주연           돈 겟 아웃!   \n",
      "3  MM1000109497  MP0000001592     틸 슈바이거              주연  미션 이스탄불 5: 더 파이널   \n",
      "4  MM1000109497  MP0000146403    루나 슈바이거              주연  미션 이스탄불 5: 더 파이널   \n",
      "5  MM1000109497  MP0000158516     파리 야르딤              주연  미션 이스탄불 5: 더 파이널   \n",
      "\n",
      "    ACT_FILMOGRAPHY_2 ACT_FILMOGRAPHY_3 ACT_FILMOGRAPHY_4 ACT_FILMOGRAPHY_5  \\\n",
      "0                 NaN               NaN               NaN               NaN   \n",
      "1                 NaN               NaN               NaN               NaN   \n",
      "3  미션 이스탄불 4: 익스트림 데이  미션 이스탄불 3: 더 리벤지           스페셜 스쿼드           아토믹 블론드   \n",
      "4  미션 이스탄불 4: 익스트림 데이           미션 이스탄불               NaN               NaN   \n",
      "5  미션 이스탄불 4: 익스트림 데이  미션 이스탄불 3: 더 리벤지           미션 이스탄불               NaN   \n",
      "\n",
      "  ACT_FILMOGRAPHY_6  ... ACT_FILMOGRAPHY_12 ACT_FILMOGRAPHY_13  \\\n",
      "0               NaN  ...                NaN                NaN   \n",
      "1               NaN  ...                NaN                NaN   \n",
      "3           미션 이스탄불  ...                NaN                NaN   \n",
      "4               NaN  ...                NaN                NaN   \n",
      "5               NaN  ...                NaN                NaN   \n",
      "\n",
      "  ACT_FILMOGRAPHY_14 ACT_FILMOGRAPHY_15 ACT_FILMOGRAPHY_16 ACT_FILMOGRAPHY_17  \\\n",
      "0                NaN                NaN                NaN                NaN   \n",
      "1                NaN                NaN                NaN                NaN   \n",
      "3                NaN                NaN                NaN                NaN   \n",
      "4                NaN                NaN                NaN                NaN   \n",
      "5                NaN                NaN                NaN                NaN   \n",
      "\n",
      "  ACT_FILMOGRAPHY_18 ACT_FILMOGRAPHY_19 ACT_FILMOGRAPHY_20 ACT_FILMOGRAPHY_21  \n",
      "0                NaN                NaN                NaN                NaN  \n",
      "1                NaN                NaN                NaN                NaN  \n",
      "3                NaN                NaN                NaN                NaN  \n",
      "4                NaN                NaN                NaN                NaN  \n",
      "5                NaN                NaN                NaN                NaN  \n",
      "\n",
      "[5 rows x 25 columns]\n"
     ]
    }
   ],
   "source": [
    "movie_list_actordata_v2 =  movie_list_actordata_v1.drop(['FILMOGRAPHY'], axis= 1)\n",
    "print(movie_list_actordata_v2.columns)\n",
    "print(movie_list_actordata_v2.head())"
   ]
  },
  {
   "cell_type": "markdown",
   "metadata": {},
   "source": [
    "### 최종 전처리 Dataframe - movie_list_actordata_v2"
   ]
  },
  {
   "cell_type": "code",
   "execution_count": 357,
   "metadata": {},
   "outputs": [],
   "source": [
    "import datetime as dt\n",
    "nowDate = dt.datetime.now()\n",
    "movie_list_actordata_v2.to_csv(\"data/movie_list_acctordata_preprocessing_\" + nowDate.strftime(\"%Y%m%d%H%M%S\") + \".csv\", mode='w', header=True, index=False, encoding='UTF-8')"
   ]
  },
  {
   "cell_type": "markdown",
   "metadata": {},
   "source": [
    "## "
   ]
  },
  {
   "cell_type": "markdown",
   "metadata": {},
   "source": [
    "## "
   ]
  },
  {
   "cell_type": "markdown",
   "metadata": {},
   "source": [
    "## 수상내역 rawdata목록 불러오기 - eh_meta_prizedata_200623_v0.1"
   ]
  },
  {
   "cell_type": "code",
   "execution_count": 358,
   "metadata": {},
   "outputs": [
    {
     "name": "stdout",
     "output_type": "stream",
     "text": [
      "Index(['META_ID', 'PRIZE_YN', 'PRIZE_CNT'], dtype='object')\n",
      "595\n",
      "        META_ID PRIZE_YN  PRIZE_CNT\n",
      "0  MM1000340018        Y          3\n",
      "1  MM1000329732        Y          1\n",
      "2  MM1000227591        Y          1\n",
      "3  MM1000167934        Y          4\n",
      "4  MM1000142829        Y          2\n"
     ]
    }
   ],
   "source": [
    "movie_list_prizedata = pd.read_csv('raw/eh_meta_prizedata_200623_v0.1.csv', encoding = 'UTF-8')\n",
    "print(movie_list_prizedata.columns)\n",
    "print(movie_list_prizedata.shape[0])\n",
    "print(movie_list_prizedata.head())"
   ]
  },
  {
   "cell_type": "markdown",
   "metadata": {},
   "source": [
    "### 최종 전처리 Dataframe - movie_list_prizedata"
   ]
  },
  {
   "cell_type": "code",
   "execution_count": 359,
   "metadata": {},
   "outputs": [],
   "source": [
    "import datetime as dt\n",
    "nowDate = dt.datetime.now()\n",
    "movie_list_prizedata.to_csv(\"data/movie_list_prizedata_preprocessing_\" + nowDate.strftime(\"%Y%m%d%H%M%S\") + \".csv\", mode='w', header=True, index=False, encoding='UTF-8')"
   ]
  },
  {
   "cell_type": "markdown",
   "metadata": {},
   "source": [
    "## "
   ]
  },
  {
   "cell_type": "markdown",
   "metadata": {},
   "source": [
    "## "
   ]
  },
  {
   "cell_type": "markdown",
   "metadata": {},
   "source": [
    "## 평점내역 rawdata목록 불러오기 - eh_meta_pointdata_200623_v0.1"
   ]
  },
  {
   "cell_type": "code",
   "execution_count": 360,
   "metadata": {},
   "outputs": [
    {
     "name": "stdout",
     "output_type": "stream",
     "text": [
      "Index(['META_ID', 'BTV_LIKE_NCNT', 'BTV_NGOOD_NCNT', 'BTV_PNT',\n",
      "       'WATCHA_EVAL_NCNT', 'WATCHA_RVW_PNT', 'CINE21_EVAL_NCNT',\n",
      "       'CINE21_NTNZ_PNT', 'CINE21_CRTC_PNT'],\n",
      "      dtype='object')\n",
      "595\n",
      "        META_ID  BTV_LIKE_NCNT  BTV_NGOOD_NCNT  BTV_PNT  WATCHA_EVAL_NCNT  \\\n",
      "0  MM1000131615        34540.0          1025.0      NaN           54616.0   \n",
      "1  MM1000143771            NaN             NaN      NaN            2017.0   \n",
      "2  MM1000160235           20.0             8.0      NaN             433.0   \n",
      "3  MM1000167168        15929.0          2911.0      NaN           78479.0   \n",
      "4  MM1000180060          326.0            64.0      NaN            5850.0   \n",
      "\n",
      "   WATCHA_RVW_PNT  CINE21_EVAL_NCNT  CINE21_NTNZ_PNT  CINE21_CRTC_PNT  \n",
      "0            3.62               4.0             7.33              8.0  \n",
      "1            3.25               2.0             6.00              6.0  \n",
      "2            2.79               1.0              NaN              6.0  \n",
      "3            3.25               9.0             5.75              6.8  \n",
      "4            3.45               6.0             6.50              7.0  \n"
     ]
    }
   ],
   "source": [
    "movie_list_pointdata = pd.read_csv('raw/eh_meta_pointdata_200623_v0.1.csv', encoding = 'UTF-8')\n",
    "print(movie_list_pointdata.columns)\n",
    "print(movie_list_pointdata.shape[0])\n",
    "print(movie_list_pointdata.head())"
   ]
  },
  {
   "cell_type": "markdown",
   "metadata": {},
   "source": [
    "## 불필요한 컬럼 삭제"
   ]
  },
  {
   "cell_type": "code",
   "execution_count": 361,
   "metadata": {},
   "outputs": [
    {
     "name": "stdout",
     "output_type": "stream",
     "text": [
      "Index(['META_ID', 'BTV_LIKE_NCNT', 'BTV_NGOOD_NCNT', 'WATCHA_EVAL_NCNT',\n",
      "       'WATCHA_RVW_PNT', 'CINE21_EVAL_NCNT', 'CINE21_NTNZ_PNT',\n",
      "       'CINE21_CRTC_PNT'],\n",
      "      dtype='object')\n",
      "        META_ID  BTV_LIKE_NCNT  BTV_NGOOD_NCNT  WATCHA_EVAL_NCNT  \\\n",
      "0  MM1000131615        34540.0          1025.0           54616.0   \n",
      "1  MM1000143771            NaN             NaN            2017.0   \n",
      "2  MM1000160235           20.0             8.0             433.0   \n",
      "3  MM1000167168        15929.0          2911.0           78479.0   \n",
      "4  MM1000180060          326.0            64.0            5850.0   \n",
      "\n",
      "   WATCHA_RVW_PNT  CINE21_EVAL_NCNT  CINE21_NTNZ_PNT  CINE21_CRTC_PNT  \n",
      "0            3.62               4.0             7.33              8.0  \n",
      "1            3.25               2.0             6.00              6.0  \n",
      "2            2.79               1.0              NaN              6.0  \n",
      "3            3.25               9.0             5.75              6.8  \n",
      "4            3.45               6.0             6.50              7.0  \n"
     ]
    }
   ],
   "source": [
    "movie_list_pointdata_v1 =  movie_list_pointdata.drop(['BTV_PNT'], axis= 1)\n",
    "print(movie_list_pointdata_v1.columns)\n",
    "print(movie_list_pointdata_v1.head())"
   ]
  },
  {
   "cell_type": "markdown",
   "metadata": {},
   "source": [
    "### 최종 전처리 Dataframe - movie_list_pointdata_v1"
   ]
  },
  {
   "cell_type": "code",
   "execution_count": 362,
   "metadata": {},
   "outputs": [],
   "source": [
    "import datetime as dt\n",
    "nowDate = dt.datetime.now()\n",
    "movie_list_pointdata_v1.to_csv(\"data/movie_list_pointdata_preprocessing_\" + nowDate.strftime(\"%Y%m%d%H%M%S\") + \".csv\", mode='w', header=True, index=False, encoding='UTF-8')"
   ]
  },
  {
   "cell_type": "markdown",
   "metadata": {},
   "source": [
    "## "
   ]
  },
  {
   "cell_type": "markdown",
   "metadata": {},
   "source": [
    "## "
   ]
  },
  {
   "cell_type": "markdown",
   "metadata": {},
   "source": [
    "## 리뷰내역 rawdata목록 불러오기 - eh_meta_rvwdata_200623_v0.1"
   ]
  },
  {
   "cell_type": "code",
   "execution_count": 363,
   "metadata": {},
   "outputs": [
    {
     "name": "stdout",
     "output_type": "stream",
     "text": [
      "Index(['META_ID', 'META_TITLE', 'SUB_TITLE', 'ENGL_TITLE', 'SNSS_CTS',\n",
      "       'CINE21_CTSC_NM', 'CINE21_COMT_CTSC'],\n",
      "      dtype='object')\n",
      "595\n",
      "        META_ID        META_TITLE SUB_TITLE             ENGL_TITLE  \\\n",
      "0  MM1000103011           돈 겟 아웃!       NaN         Don't Get Out!   \n",
      "1  MM1000109497  미션 이스탄불 5: 더 파이널       NaN              Fegefeuer   \n",
      "2  MM1000114876        완벽한 그녀의 비밀       NaN       The Perfect Girl   \n",
      "3  MM1000115034        디스 크레이지 하트       NaN       This Crazy Heart   \n",
      "4  MM1000115408       레인보우: 나의 사랑       NaN  Una questione privata   \n",
      "\n",
      "                                            SNSS_CTS CINE21_CTSC_NM  \\\n",
      "0  폭탄이 설치된 차량, 가족을 구해야 한다.\\r\\n결혼기념일을 맞이하여 집에 돌아온 ...            NaN   \n",
      "1  무장한 테러범들이 방송국을 급습하는 사건이 온 도시를 발칵 뒤집고 피랫의 석방을 요...        김현수|박평식   \n",
      "2  아름다운 여대생 ‘예신’은 멋진 남자친구 ‘미아오’와 연애중이다.\\r\\n어느 날 폭...            NaN   \n",
      "3                         불치병 소년과 바람둥이 청년의 우정을 그린 영화            NaN   \n",
      "4  모든 사람이 꿈꾸어 왔던 소설\\r\\n20세기 이탈리안들이 가슴에 품은 단 하나의 러...            이주현   \n",
      "\n",
      "            CINE21_COMT_CTSC  \n",
      "0                        NaN  \n",
      "1  뭉그적뭉그적 미션|제철 지난 독일판 <테이큰>  \n",
      "2                        NaN  \n",
      "3                        NaN  \n",
      "4    스크린 너머로는 전해지지 않는 사랑의 열병  \n"
     ]
    }
   ],
   "source": [
    "movie_list_rvwdata = pd.read_csv('raw/eh_meta_rvwdata_200623_v0.1.csv', encoding = 'UTF-8')\n",
    "print(movie_list_rvwdata.columns)\n",
    "print(movie_list_rvwdata.shape[0])\n",
    "print(movie_list_rvwdata.head())"
   ]
  },
  {
   "cell_type": "markdown",
   "metadata": {},
   "source": [
    "## 불필요한 컬럼 삭제"
   ]
  },
  {
   "cell_type": "code",
   "execution_count": 364,
   "metadata": {},
   "outputs": [
    {
     "name": "stdout",
     "output_type": "stream",
     "text": [
      "Index(['META_ID', 'SNSS_CTS', 'CINE21_COMT_CTSC'], dtype='object')\n",
      "        META_ID                                           SNSS_CTS  \\\n",
      "0  MM1000103011  폭탄이 설치된 차량, 가족을 구해야 한다.\\r\\n결혼기념일을 맞이하여 집에 돌아온 ...   \n",
      "1  MM1000109497  무장한 테러범들이 방송국을 급습하는 사건이 온 도시를 발칵 뒤집고 피랫의 석방을 요...   \n",
      "2  MM1000114876  아름다운 여대생 ‘예신’은 멋진 남자친구 ‘미아오’와 연애중이다.\\r\\n어느 날 폭...   \n",
      "3  MM1000115034                         불치병 소년과 바람둥이 청년의 우정을 그린 영화   \n",
      "4  MM1000115408  모든 사람이 꿈꾸어 왔던 소설\\r\\n20세기 이탈리안들이 가슴에 품은 단 하나의 러...   \n",
      "\n",
      "            CINE21_COMT_CTSC  \n",
      "0                        NaN  \n",
      "1  뭉그적뭉그적 미션|제철 지난 독일판 <테이큰>  \n",
      "2                        NaN  \n",
      "3                        NaN  \n",
      "4    스크린 너머로는 전해지지 않는 사랑의 열병  \n"
     ]
    }
   ],
   "source": [
    "movie_list_rvwdata_v1 =  movie_list_rvwdata.drop(['META_TITLE','SUB_TITLE','ENGL_TITLE','CINE21_CTSC_NM'], axis= 1)\n",
    "print(movie_list_rvwdata_v1.columns)\n",
    "print(movie_list_rvwdata_v1.head())"
   ]
  },
  {
   "cell_type": "markdown",
   "metadata": {},
   "source": [
    "## 씨네21전문가리뷰 (CINE21_COMT_CTSC) 병렬 처리"
   ]
  },
  {
   "cell_type": "code",
   "execution_count": 366,
   "metadata": {},
   "outputs": [
    {
     "name": "stdout",
     "output_type": "stream",
     "text": [
      "Index(['META_ID', 'SNSS_CTS', 'CINE21_COMT_CTSC', 'CINE21_COMT_CTSC_1',\n",
      "       'CINE21_COMT_CTSC_2', 'CINE21_COMT_CTSC_3', 'CINE21_COMT_CTSC_4',\n",
      "       'CINE21_COMT_CTSC_5', 'CINE21_COMT_CTSC_6', 'CINE21_COMT_CTSC_7',\n",
      "       'CINE21_COMT_CTSC_8', 'CINE21_COMT_CTSC_9', 'CINE21_COMT_CTSC_10',\n",
      "       'CINE21_COMT_CTSC_11'],\n",
      "      dtype='object')\n",
      "        META_ID                                           SNSS_CTS  \\\n",
      "0  MM1000103011  폭탄이 설치된 차량, 가족을 구해야 한다.\\r\\n결혼기념일을 맞이하여 집에 돌아온 ...   \n",
      "1  MM1000109497  무장한 테러범들이 방송국을 급습하는 사건이 온 도시를 발칵 뒤집고 피랫의 석방을 요...   \n",
      "2  MM1000114876  아름다운 여대생 ‘예신’은 멋진 남자친구 ‘미아오’와 연애중이다.\\r\\n어느 날 폭...   \n",
      "3  MM1000115034                         불치병 소년과 바람둥이 청년의 우정을 그린 영화   \n",
      "4  MM1000115408  모든 사람이 꿈꾸어 왔던 소설\\r\\n20세기 이탈리안들이 가슴에 품은 단 하나의 러...   \n",
      "\n",
      "            CINE21_COMT_CTSC       CINE21_COMT_CTSC_1 CINE21_COMT_CTSC_2  \\\n",
      "0                        NaN                      NaN                NaN   \n",
      "1  뭉그적뭉그적 미션|제철 지난 독일판 <테이큰>                뭉그적뭉그적 미션    제철 지난 독일판 <테이큰>   \n",
      "2                        NaN                      NaN                NaN   \n",
      "3                        NaN                      NaN                NaN   \n",
      "4    스크린 너머로는 전해지지 않는 사랑의 열병  스크린 너머로는 전해지지 않는 사랑의 열병                NaN   \n",
      "\n",
      "  CINE21_COMT_CTSC_3 CINE21_COMT_CTSC_4 CINE21_COMT_CTSC_5 CINE21_COMT_CTSC_6  \\\n",
      "0                NaN                NaN                NaN                NaN   \n",
      "1                NaN                NaN                NaN                NaN   \n",
      "2                NaN                NaN                NaN                NaN   \n",
      "3                NaN                NaN                NaN                NaN   \n",
      "4                NaN                NaN                NaN                NaN   \n",
      "\n",
      "  CINE21_COMT_CTSC_7 CINE21_COMT_CTSC_8 CINE21_COMT_CTSC_9  \\\n",
      "0                NaN                NaN                NaN   \n",
      "1                NaN                NaN                NaN   \n",
      "2                NaN                NaN                NaN   \n",
      "3                NaN                NaN                NaN   \n",
      "4                NaN                NaN                NaN   \n",
      "\n",
      "  CINE21_COMT_CTSC_10 CINE21_COMT_CTSC_11  \n",
      "0                 NaN                 NaN  \n",
      "1                 NaN                 NaN  \n",
      "2                 NaN                 NaN  \n",
      "3                 NaN                 NaN  \n",
      "4                 NaN                 NaN  \n"
     ]
    }
   ],
   "source": [
    "r1 = 1\n",
    "for i1 in range(1,100):\n",
    "    movie_list_rvwdata_v1['CINE21_COMT_CTSC_' + str(r1)] = movie_list_rvwdata_v1.CINE21_COMT_CTSC.str.split(\"|\").str[r1-1]\n",
    "    if any(pd.notnull(movie_list_rvwdata_v1['CINE21_COMT_CTSC_' + str(r1)]) == True) == False :\n",
    "        movie_list_rvwdata_v1.drop(['CINE21_COMT_CTSC_' + str(r1)], axis= 1, inplace = True)\n",
    "        break\n",
    "    r1 = r1 + 1\n",
    "    \n",
    "print(movie_list_rvwdata_v1.columns)\n",
    "print(movie_list_rvwdata_v1.head())"
   ]
  },
  {
   "cell_type": "markdown",
   "metadata": {},
   "source": [
    "## 씨네21전문가리뷰 (CINE21_COMT_CTSC) 컬럼 삭제"
   ]
  },
  {
   "cell_type": "code",
   "execution_count": 367,
   "metadata": {},
   "outputs": [
    {
     "name": "stdout",
     "output_type": "stream",
     "text": [
      "Index(['META_ID', 'SNSS_CTS', 'CINE21_COMT_CTSC_1', 'CINE21_COMT_CTSC_2',\n",
      "       'CINE21_COMT_CTSC_3', 'CINE21_COMT_CTSC_4', 'CINE21_COMT_CTSC_5',\n",
      "       'CINE21_COMT_CTSC_6', 'CINE21_COMT_CTSC_7', 'CINE21_COMT_CTSC_8',\n",
      "       'CINE21_COMT_CTSC_9', 'CINE21_COMT_CTSC_10', 'CINE21_COMT_CTSC_11'],\n",
      "      dtype='object')\n"
     ]
    }
   ],
   "source": [
    "movie_list_rvwdata_v2 =  movie_list_rvwdata_v1.drop(['CINE21_COMT_CTSC'], axis= 1)\n",
    "print(movie_list_rvwdata_v2.columns)"
   ]
  },
  {
   "cell_type": "markdown",
   "metadata": {},
   "source": [
    "### 최종 전처리 Dataframe - movie_list_rvwdata_v2"
   ]
  },
  {
   "cell_type": "code",
   "execution_count": 368,
   "metadata": {},
   "outputs": [],
   "source": [
    "import datetime as dt\n",
    "nowDate = dt.datetime.now()\n",
    "movie_list_rvwdata_v2.to_csv(\"data/movie_list_rvwdata_preprocessing_\" + nowDate.strftime(\"%Y%m%d%H%M%S\") + \".csv\", mode='w', header=True, index=False, encoding='UTF-8')"
   ]
  },
  {
   "cell_type": "markdown",
   "metadata": {},
   "source": [
    "## "
   ]
  },
  {
   "cell_type": "markdown",
   "metadata": {},
   "source": [
    "## "
   ]
  },
  {
   "cell_type": "code",
   "execution_count": 296,
   "metadata": {},
   "outputs": [],
   "source": [
    "s1 = 1\n",
    "for s1 in range(1,movie_list_actordata_v2.shape[0]):\n",
    "    globals()['variable{}'.format(s1)] = pd.DataFrame(movie_list_actordata_v2.iloc[s1-1,])\n",
    "    s1 = s1 + 1"
   ]
  },
  {
   "cell_type": "code",
   "execution_count": 299,
   "metadata": {},
   "outputs": [
    {
     "data": {
      "text/html": [
       "<div>\n",
       "<style scoped>\n",
       "    .dataframe tbody tr th:only-of-type {\n",
       "        vertical-align: middle;\n",
       "    }\n",
       "\n",
       "    .dataframe tbody tr th {\n",
       "        vertical-align: top;\n",
       "    }\n",
       "\n",
       "    .dataframe thead th {\n",
       "        text-align: right;\n",
       "    }\n",
       "</style>\n",
       "<table border=\"1\" class=\"dataframe\">\n",
       "  <thead>\n",
       "    <tr style=\"text-align: right;\">\n",
       "      <th></th>\n",
       "      <th>0</th>\n",
       "    </tr>\n",
       "  </thead>\n",
       "  <tbody>\n",
       "    <tr>\n",
       "      <th>META_ID</th>\n",
       "      <td>MM1000103011</td>\n",
       "    </tr>\n",
       "    <tr>\n",
       "      <th>PRS_ID</th>\n",
       "      <td>MP0000064883</td>\n",
       "    </tr>\n",
       "    <tr>\n",
       "      <th>PRS_NM</th>\n",
       "      <td>보탄 빌케 모링</td>\n",
       "    </tr>\n",
       "    <tr>\n",
       "      <th>PRS_ROLE_NM</th>\n",
       "      <td>주연</td>\n",
       "    </tr>\n",
       "    <tr>\n",
       "      <th>FILMOGRAPHY_1</th>\n",
       "      <td>돈 겟 아웃!</td>\n",
       "    </tr>\n",
       "    <tr>\n",
       "      <th>FILMOGRAPHY_2</th>\n",
       "      <td>NaN</td>\n",
       "    </tr>\n",
       "    <tr>\n",
       "      <th>FILMOGRAPHY_3</th>\n",
       "      <td>NaN</td>\n",
       "    </tr>\n",
       "    <tr>\n",
       "      <th>FILMOGRAPHY_4</th>\n",
       "      <td>NaN</td>\n",
       "    </tr>\n",
       "    <tr>\n",
       "      <th>FILMOGRAPHY_5</th>\n",
       "      <td>NaN</td>\n",
       "    </tr>\n",
       "    <tr>\n",
       "      <th>FILMOGRAPHY_6</th>\n",
       "      <td>NaN</td>\n",
       "    </tr>\n",
       "    <tr>\n",
       "      <th>FILMOGRAPHY_7</th>\n",
       "      <td>NaN</td>\n",
       "    </tr>\n",
       "    <tr>\n",
       "      <th>FILMOGRAPHY_8</th>\n",
       "      <td>NaN</td>\n",
       "    </tr>\n",
       "    <tr>\n",
       "      <th>FILMOGRAPHY_9</th>\n",
       "      <td>NaN</td>\n",
       "    </tr>\n",
       "    <tr>\n",
       "      <th>FILMOGRAPHY_10</th>\n",
       "      <td>NaN</td>\n",
       "    </tr>\n",
       "    <tr>\n",
       "      <th>FILMOGRAPHY_11</th>\n",
       "      <td>NaN</td>\n",
       "    </tr>\n",
       "    <tr>\n",
       "      <th>FILMOGRAPHY_12</th>\n",
       "      <td>NaN</td>\n",
       "    </tr>\n",
       "    <tr>\n",
       "      <th>FILMOGRAPHY_13</th>\n",
       "      <td>NaN</td>\n",
       "    </tr>\n",
       "    <tr>\n",
       "      <th>FILMOGRAPHY_14</th>\n",
       "      <td>NaN</td>\n",
       "    </tr>\n",
       "    <tr>\n",
       "      <th>FILMOGRAPHY_15</th>\n",
       "      <td>NaN</td>\n",
       "    </tr>\n",
       "    <tr>\n",
       "      <th>FILMOGRAPHY_16</th>\n",
       "      <td>NaN</td>\n",
       "    </tr>\n",
       "    <tr>\n",
       "      <th>FILMOGRAPHY_17</th>\n",
       "      <td>NaN</td>\n",
       "    </tr>\n",
       "    <tr>\n",
       "      <th>FILMOGRAPHY_18</th>\n",
       "      <td>NaN</td>\n",
       "    </tr>\n",
       "    <tr>\n",
       "      <th>FILMOGRAPHY_19</th>\n",
       "      <td>NaN</td>\n",
       "    </tr>\n",
       "    <tr>\n",
       "      <th>FILMOGRAPHY_20</th>\n",
       "      <td>NaN</td>\n",
       "    </tr>\n",
       "    <tr>\n",
       "      <th>FILMOGRAPHY_21</th>\n",
       "      <td>NaN</td>\n",
       "    </tr>\n",
       "  </tbody>\n",
       "</table>\n",
       "</div>"
      ],
      "text/plain": [
       "                           0\n",
       "META_ID         MM1000103011\n",
       "PRS_ID          MP0000064883\n",
       "PRS_NM              보탄 빌케 모링\n",
       "PRS_ROLE_NM               주연\n",
       "FILMOGRAPHY_1        돈 겟 아웃!\n",
       "FILMOGRAPHY_2            NaN\n",
       "FILMOGRAPHY_3            NaN\n",
       "FILMOGRAPHY_4            NaN\n",
       "FILMOGRAPHY_5            NaN\n",
       "FILMOGRAPHY_6            NaN\n",
       "FILMOGRAPHY_7            NaN\n",
       "FILMOGRAPHY_8            NaN\n",
       "FILMOGRAPHY_9            NaN\n",
       "FILMOGRAPHY_10           NaN\n",
       "FILMOGRAPHY_11           NaN\n",
       "FILMOGRAPHY_12           NaN\n",
       "FILMOGRAPHY_13           NaN\n",
       "FILMOGRAPHY_14           NaN\n",
       "FILMOGRAPHY_15           NaN\n",
       "FILMOGRAPHY_16           NaN\n",
       "FILMOGRAPHY_17           NaN\n",
       "FILMOGRAPHY_18           NaN\n",
       "FILMOGRAPHY_19           NaN\n",
       "FILMOGRAPHY_20           NaN\n",
       "FILMOGRAPHY_21           NaN"
      ]
     },
     "execution_count": 299,
     "metadata": {},
     "output_type": "execute_result"
    }
   ],
   "source": [
    "variable1"
   ]
  },
  {
   "cell_type": "code",
   "execution_count": 317,
   "metadata": {},
   "outputs": [],
   "source": [
    "a = pd.concat([variable1, variable2, variable3], axis=1, join='outer')"
   ]
  },
  {
   "cell_type": "code",
   "execution_count": 318,
   "metadata": {},
   "outputs": [
    {
     "data": {
      "text/html": [
       "<div>\n",
       "<style scoped>\n",
       "    .dataframe tbody tr th:only-of-type {\n",
       "        vertical-align: middle;\n",
       "    }\n",
       "\n",
       "    .dataframe tbody tr th {\n",
       "        vertical-align: top;\n",
       "    }\n",
       "\n",
       "    .dataframe thead th {\n",
       "        text-align: right;\n",
       "    }\n",
       "</style>\n",
       "<table border=\"1\" class=\"dataframe\">\n",
       "  <thead>\n",
       "    <tr style=\"text-align: right;\">\n",
       "      <th></th>\n",
       "      <th>0</th>\n",
       "      <th>1</th>\n",
       "      <th>3</th>\n",
       "    </tr>\n",
       "  </thead>\n",
       "  <tbody>\n",
       "    <tr>\n",
       "      <th>META_ID</th>\n",
       "      <td>MM1000103011</td>\n",
       "      <td>MM1000103011</td>\n",
       "      <td>MM1000109497</td>\n",
       "    </tr>\n",
       "    <tr>\n",
       "      <th>PRS_ID</th>\n",
       "      <td>MP0000064883</td>\n",
       "      <td>MP0000154188</td>\n",
       "      <td>MP0000001592</td>\n",
       "    </tr>\n",
       "    <tr>\n",
       "      <th>PRS_NM</th>\n",
       "      <td>보탄 빌케 모링</td>\n",
       "      <td>노라 허츠</td>\n",
       "      <td>틸 슈바이거</td>\n",
       "    </tr>\n",
       "    <tr>\n",
       "      <th>PRS_ROLE_NM</th>\n",
       "      <td>주연</td>\n",
       "      <td>주연</td>\n",
       "      <td>주연</td>\n",
       "    </tr>\n",
       "    <tr>\n",
       "      <th>FILMOGRAPHY_1</th>\n",
       "      <td>돈 겟 아웃!</td>\n",
       "      <td>돈 겟 아웃!</td>\n",
       "      <td>미션 이스탄불 5: 더 파이널</td>\n",
       "    </tr>\n",
       "    <tr>\n",
       "      <th>FILMOGRAPHY_2</th>\n",
       "      <td>NaN</td>\n",
       "      <td>NaN</td>\n",
       "      <td>미션 이스탄불 4: 익스트림 데이</td>\n",
       "    </tr>\n",
       "    <tr>\n",
       "      <th>FILMOGRAPHY_3</th>\n",
       "      <td>NaN</td>\n",
       "      <td>NaN</td>\n",
       "      <td>미션 이스탄불 3: 더 리벤지</td>\n",
       "    </tr>\n",
       "    <tr>\n",
       "      <th>FILMOGRAPHY_4</th>\n",
       "      <td>NaN</td>\n",
       "      <td>NaN</td>\n",
       "      <td>스페셜 스쿼드</td>\n",
       "    </tr>\n",
       "    <tr>\n",
       "      <th>FILMOGRAPHY_5</th>\n",
       "      <td>NaN</td>\n",
       "      <td>NaN</td>\n",
       "      <td>아토믹 블론드</td>\n",
       "    </tr>\n",
       "    <tr>\n",
       "      <th>FILMOGRAPHY_6</th>\n",
       "      <td>NaN</td>\n",
       "      <td>NaN</td>\n",
       "      <td>미션 이스탄불</td>\n",
       "    </tr>\n",
       "    <tr>\n",
       "      <th>FILMOGRAPHY_7</th>\n",
       "      <td>NaN</td>\n",
       "      <td>NaN</td>\n",
       "      <td>NaN</td>\n",
       "    </tr>\n",
       "    <tr>\n",
       "      <th>FILMOGRAPHY_8</th>\n",
       "      <td>NaN</td>\n",
       "      <td>NaN</td>\n",
       "      <td>NaN</td>\n",
       "    </tr>\n",
       "    <tr>\n",
       "      <th>FILMOGRAPHY_9</th>\n",
       "      <td>NaN</td>\n",
       "      <td>NaN</td>\n",
       "      <td>NaN</td>\n",
       "    </tr>\n",
       "    <tr>\n",
       "      <th>FILMOGRAPHY_10</th>\n",
       "      <td>NaN</td>\n",
       "      <td>NaN</td>\n",
       "      <td>NaN</td>\n",
       "    </tr>\n",
       "    <tr>\n",
       "      <th>FILMOGRAPHY_11</th>\n",
       "      <td>NaN</td>\n",
       "      <td>NaN</td>\n",
       "      <td>NaN</td>\n",
       "    </tr>\n",
       "    <tr>\n",
       "      <th>FILMOGRAPHY_12</th>\n",
       "      <td>NaN</td>\n",
       "      <td>NaN</td>\n",
       "      <td>NaN</td>\n",
       "    </tr>\n",
       "    <tr>\n",
       "      <th>FILMOGRAPHY_13</th>\n",
       "      <td>NaN</td>\n",
       "      <td>NaN</td>\n",
       "      <td>NaN</td>\n",
       "    </tr>\n",
       "    <tr>\n",
       "      <th>FILMOGRAPHY_14</th>\n",
       "      <td>NaN</td>\n",
       "      <td>NaN</td>\n",
       "      <td>NaN</td>\n",
       "    </tr>\n",
       "    <tr>\n",
       "      <th>FILMOGRAPHY_15</th>\n",
       "      <td>NaN</td>\n",
       "      <td>NaN</td>\n",
       "      <td>NaN</td>\n",
       "    </tr>\n",
       "    <tr>\n",
       "      <th>FILMOGRAPHY_16</th>\n",
       "      <td>NaN</td>\n",
       "      <td>NaN</td>\n",
       "      <td>NaN</td>\n",
       "    </tr>\n",
       "    <tr>\n",
       "      <th>FILMOGRAPHY_17</th>\n",
       "      <td>NaN</td>\n",
       "      <td>NaN</td>\n",
       "      <td>NaN</td>\n",
       "    </tr>\n",
       "    <tr>\n",
       "      <th>FILMOGRAPHY_18</th>\n",
       "      <td>NaN</td>\n",
       "      <td>NaN</td>\n",
       "      <td>NaN</td>\n",
       "    </tr>\n",
       "    <tr>\n",
       "      <th>FILMOGRAPHY_19</th>\n",
       "      <td>NaN</td>\n",
       "      <td>NaN</td>\n",
       "      <td>NaN</td>\n",
       "    </tr>\n",
       "    <tr>\n",
       "      <th>FILMOGRAPHY_20</th>\n",
       "      <td>NaN</td>\n",
       "      <td>NaN</td>\n",
       "      <td>NaN</td>\n",
       "    </tr>\n",
       "    <tr>\n",
       "      <th>FILMOGRAPHY_21</th>\n",
       "      <td>NaN</td>\n",
       "      <td>NaN</td>\n",
       "      <td>NaN</td>\n",
       "    </tr>\n",
       "  </tbody>\n",
       "</table>\n",
       "</div>"
      ],
      "text/plain": [
       "                           0             1                   3\n",
       "META_ID         MM1000103011  MM1000103011        MM1000109497\n",
       "PRS_ID          MP0000064883  MP0000154188        MP0000001592\n",
       "PRS_NM              보탄 빌케 모링         노라 허츠              틸 슈바이거\n",
       "PRS_ROLE_NM               주연            주연                  주연\n",
       "FILMOGRAPHY_1        돈 겟 아웃!       돈 겟 아웃!    미션 이스탄불 5: 더 파이널\n",
       "FILMOGRAPHY_2            NaN           NaN  미션 이스탄불 4: 익스트림 데이\n",
       "FILMOGRAPHY_3            NaN           NaN    미션 이스탄불 3: 더 리벤지\n",
       "FILMOGRAPHY_4            NaN           NaN             스페셜 스쿼드\n",
       "FILMOGRAPHY_5            NaN           NaN             아토믹 블론드\n",
       "FILMOGRAPHY_6            NaN           NaN             미션 이스탄불\n",
       "FILMOGRAPHY_7            NaN           NaN                 NaN\n",
       "FILMOGRAPHY_8            NaN           NaN                 NaN\n",
       "FILMOGRAPHY_9            NaN           NaN                 NaN\n",
       "FILMOGRAPHY_10           NaN           NaN                 NaN\n",
       "FILMOGRAPHY_11           NaN           NaN                 NaN\n",
       "FILMOGRAPHY_12           NaN           NaN                 NaN\n",
       "FILMOGRAPHY_13           NaN           NaN                 NaN\n",
       "FILMOGRAPHY_14           NaN           NaN                 NaN\n",
       "FILMOGRAPHY_15           NaN           NaN                 NaN\n",
       "FILMOGRAPHY_16           NaN           NaN                 NaN\n",
       "FILMOGRAPHY_17           NaN           NaN                 NaN\n",
       "FILMOGRAPHY_18           NaN           NaN                 NaN\n",
       "FILMOGRAPHY_19           NaN           NaN                 NaN\n",
       "FILMOGRAPHY_20           NaN           NaN                 NaN\n",
       "FILMOGRAPHY_21           NaN           NaN                 NaN"
      ]
     },
     "execution_count": 318,
     "metadata": {},
     "output_type": "execute_result"
    }
   ],
   "source": [
    "a"
   ]
  },
  {
   "cell_type": "code",
   "execution_count": 263,
   "metadata": {},
   "outputs": [],
   "source": [
    "movie_list_actordata_raw1 = movie_list_actordata_v2.iloc[0,]"
   ]
  },
  {
   "cell_type": "code",
   "execution_count": 264,
   "metadata": {},
   "outputs": [
    {
     "data": {
      "text/plain": [
       "META_ID           MM1000103011\n",
       "PRS_ID            MP0000064883\n",
       "PRS_NM                보탄 빌케 모링\n",
       "PRS_ROLE_NM                 주연\n",
       "FILMOGRAPHY_1          돈 겟 아웃!\n",
       "FILMOGRAPHY_2              NaN\n",
       "FILMOGRAPHY_3              NaN\n",
       "FILMOGRAPHY_4              NaN\n",
       "FILMOGRAPHY_5              NaN\n",
       "FILMOGRAPHY_6              NaN\n",
       "FILMOGRAPHY_7              NaN\n",
       "FILMOGRAPHY_8              NaN\n",
       "FILMOGRAPHY_9              NaN\n",
       "FILMOGRAPHY_10             NaN\n",
       "FILMOGRAPHY_11             NaN\n",
       "FILMOGRAPHY_12             NaN\n",
       "FILMOGRAPHY_13             NaN\n",
       "FILMOGRAPHY_14             NaN\n",
       "FILMOGRAPHY_15             NaN\n",
       "FILMOGRAPHY_16             NaN\n",
       "FILMOGRAPHY_17             NaN\n",
       "FILMOGRAPHY_18             NaN\n",
       "FILMOGRAPHY_19             NaN\n",
       "FILMOGRAPHY_20             NaN\n",
       "FILMOGRAPHY_21             NaN\n",
       "Name: 0, dtype: object"
      ]
     },
     "execution_count": 264,
     "metadata": {},
     "output_type": "execute_result"
    }
   ],
   "source": [
    "movie_list_actordata_raw1"
   ]
  }
 ],
 "metadata": {
  "kernelspec": {
   "display_name": "Python 3.7.3 (Global)",
   "language": "python",
   "name": "python3"
  },
  "language_info": {
   "codemirror_mode": {
    "name": "ipython",
    "version": 3
   },
   "file_extension": ".py",
   "mimetype": "text/x-python",
   "name": "python",
   "nbconvert_exporter": "python",
   "pygments_lexer": "ipython3",
   "version": "3.7.3"
  }
 },
 "nbformat": 4,
 "nbformat_minor": 4
}

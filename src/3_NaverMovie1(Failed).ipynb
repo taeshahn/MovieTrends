{
 "cells": [
  {
   "cell_type": "markdown",
   "metadata": {},
   "source": [
    "# 네이버 영화 크롤링 1"
   ]
  },
  {
   "cell_type": "code",
   "execution_count": 1,
   "metadata": {},
   "outputs": [],
   "source": [
    "from bs4 import BeautifulSoup\n",
    "import requests\n",
    "from selenium import webdriver as wd\n",
    "from selenium.webdriver.common.keys import Keys\n",
    "import time\n",
    "import re\n",
    "import pandas as pd\n",
    "import parser"
   ]
  },
  {
   "cell_type": "code",
   "execution_count": 2,
   "metadata": {},
   "outputs": [],
   "source": [
    "def getPageLinks(pageRange):\n",
    "    links = []\n",
    "    \n",
    "    for pageNo in range(pageRange):\n",
    "        url = \"https://series.naver.com/movie/recentList.nhn?orderType=sale&sortingType=&tagCode=&page=\" + str(pageNo + 1) \n",
    "        req = requests.get(url)\n",
    "        soup = BeautifulSoup(req.text, 'lxml')\n",
    "        movielinks = soup.select('div.lst_thum_wrap ul li a[href]')\n",
    "\n",
    "        for movielink in movielinks:\n",
    "            link = str(movielink.get('href'))\n",
    "            links.append(\"https://series.naver.com\"+link)        \n",
    "    return links"
   ]
  },
  {
   "cell_type": "code",
   "execution_count": 3,
   "metadata": {},
   "outputs": [
    {
     "data": {
      "text/plain": [
       "['https://series.naver.com/movie/detail.nhn?productNo=2909332',\n",
       " 'https://series.naver.com/movie/detail.nhn?productNo=2747742',\n",
       " 'https://series.naver.com/movie/detail.nhn?productNo=4034051',\n",
       " 'https://series.naver.com/movie/detail.nhn?productNo=1405968',\n",
       " 'https://series.naver.com/movie/detail.nhn?productNo=2996569',\n",
       " 'https://series.naver.com/movie/detail.nhn?productNo=4113612',\n",
       " 'https://series.naver.com/movie/detail.nhn?productNo=2273058',\n",
       " 'https://series.naver.com/movie/detail.nhn?productNo=2686058',\n",
       " 'https://series.naver.com/movie/detail.nhn?productNo=3293948',\n",
       " 'https://series.naver.com/movie/detail.nhn?productNo=1781025',\n",
       " 'https://series.naver.com/movie/detail.nhn?productNo=2743970',\n",
       " 'https://series.naver.com/movie/detail.nhn?productNo=1775085',\n",
       " 'https://series.naver.com/movie/detail.nhn?productNo=3237000',\n",
       " 'https://series.naver.com/movie/detail.nhn?productNo=3478480',\n",
       " 'https://series.naver.com/movie/detail.nhn?productNo=3327477',\n",
       " 'https://series.naver.com/movie/detail.nhn?productNo=1402314',\n",
       " 'https://series.naver.com/movie/detail.nhn?productNo=1537164',\n",
       " 'https://series.naver.com/movie/detail.nhn?productNo=387281',\n",
       " 'https://series.naver.com/movie/detail.nhn?productNo=2595217',\n",
       " 'https://series.naver.com/movie/detail.nhn?productNo=2260112',\n",
       " 'https://series.naver.com/movie/detail.nhn?productNo=387330',\n",
       " 'https://series.naver.com/movie/detail.nhn?productNo=1373317',\n",
       " 'https://series.naver.com/movie/detail.nhn?productNo=412868',\n",
       " 'https://series.naver.com/movie/detail.nhn?productNo=585441',\n",
       " 'https://series.naver.com/movie/detail.nhn?productNo=2973662']"
      ]
     },
     "execution_count": 3,
     "metadata": {},
     "output_type": "execute_result"
    }
   ],
   "source": [
    "getPageLinks(1)"
   ]
  },
  {
   "cell_type": "code",
   "execution_count": 4,
   "metadata": {},
   "outputs": [],
   "source": [
    "def getPageLinksWantRange(startPageNo, lastPageNo):\n",
    "    links = []\n",
    "    return_links = []\n",
    "    \n",
    "    for pageNo in range(startPageNo-1, lastPageNo):\n",
    "        url = \"https://series.naver.com/movie/recentList.nhn?orderType=sale&sortingType=&tagCode=&page=\" + str(pageNo + 1) \n",
    "        req = requests.get(url)\n",
    "        soup = BeautifulSoup(req.text, 'lxml')\n",
    "        movielinks = soup.select('div.lst_thum_wrap ul li a[href]')\n",
    "\n",
    "        for movielink in movielinks:\n",
    "            link = str(movielink.get('href'))\n",
    "            links.append(\"https://series.naver.com\"+link)\n",
    "        \n",
    "    return links"
   ]
  },
  {
   "cell_type": "code",
   "execution_count": 8,
   "metadata": {},
   "outputs": [],
   "source": [
    "l = getPageLinksWantRange(1, 2)"
   ]
  },
  {
   "cell_type": "code",
   "execution_count": 5,
   "metadata": {},
   "outputs": [],
   "source": [
    "def getMovieDataFromNaverSeries(links):\n",
    "    title_infos = []\n",
    "    content_infos = []\n",
    "    genre_infos = []\n",
    "    score_infos = []\n",
    "    date_infos = []\n",
    "\n",
    "\n",
    "    url2 = \"https://www.naver.com\"\n",
    "\n",
    "    driver = wd.Chrome(executable_path=\"chromedriver\")\n",
    "    driver.get(url2)\n",
    "    time.sleep(3.0) # 30\n",
    "\n",
    "    driver.find_element_by_css_selector('body').send_keys(Keys.CONTROL + \"t\")\n",
    "    \n",
    "    for link in links:\n",
    "        driver.switch_to.window(driver.window_handles[-1])\n",
    "        time.sleep(0.1)\n",
    "        driver.get(link)\n",
    "        time.sleep(0.1)\n",
    "        driver.switch_to.window(driver.window_handles[0])\n",
    "        time.sleep(0.3)\n",
    "\n",
    "        html_source = driver.page_source\n",
    "\n",
    "        html_soup = BeautifulSoup(html_source, 'lxml')\n",
    "\n",
    "        flag = html_soup.text[0:10]\n",
    "\n",
    "        newflag = \"\".join(flag)\n",
    "        newflag = newflag.replace('\\n', '')\n",
    "\n",
    "        if newflag == '네이버':\n",
    "            time.sleep(1.0)\n",
    "            \n",
    "            \n",
    "            score = driver.find_element_by_css_selector('div.score_area > em ')\n",
    "\n",
    "            score = float(score.text)\n",
    "            score = int(score)\n",
    "            score_infos.append(score)\n",
    "\n",
    "            \n",
    "            genre = driver.find_element_by_css_selector('li.info_lst > ul > li:nth-child(4)').get_attribute('textContent')\n",
    "            genre = genre.replace('장르','')\n",
    "            genre = genre.split('/')\n",
    "            genre_infos.append(genre)\n",
    "\n",
    "            text =  driver.find_element_by_css_selector('span.al_r > a')  #.click()\n",
    "            \n",
    "#             review_url = text.get_attribute('href')\n",
    "#             review_url = review_url.replace('basic', 'pointWriteFormList')\n",
    "            \n",
    "#             review_url = review_url + '&type=after&onlyActualPointYn=N&order=newest&page=1'\n",
    "           \n",
    "            \n",
    "            \n",
    "            \n",
    "            movieInfoUrl = text.get_attribute('href')\n",
    "\n",
    "            movie_req = requests.get(movieInfoUrl)\n",
    "\n",
    "            movie_soup = BeautifulSoup(movie_req.text, 'lxml')\n",
    "\n",
    "            titles = movie_soup.select('div.mv_info > h3.h_movie > a')\n",
    "            \n",
    "            temp_titles = []\n",
    "            \n",
    "            for title in titles:\n",
    "                temp = title.text\n",
    "                temp = temp.replace('상영중', '')\n",
    "                temp = temp.replace('\\n', '')\n",
    "                temp_titles.append(temp)\n",
    "\n",
    "            if '' in temp_titles or ' ' in temp_titles:\n",
    "                temp_titles.remove('')\n",
    "            \n",
    "            temp_titles = set(temp_titles)\n",
    "            temp_titles = list(temp_titles)\n",
    "            temp_titles = [x for x in temp_titles if x is not '']\n",
    "            title_infos.append(list(temp_titles)[0])\n",
    "\n",
    "\n",
    "            contents_texts = movie_soup.select('div.story_area > p.con_tx')\n",
    "    \n",
    "            if len(contents_texts) == 0:\n",
    "                content_infos.append(\"줄거리 오류\")\n",
    "            else:\n",
    "                for contents in contents_texts:\n",
    "                    temp = contents.text\n",
    "                    temp = temp.replace('\\r', '')\n",
    "                    temp = temp.replace('\\xa0', '') \n",
    "                    content_infos.append(temp)\n",
    "\n",
    "\n",
    "        elif newflag == '네이버 :':\n",
    "            adult_movies.append(link)\n",
    "    print(len(score_infos), len(genre_infos), len(content_infos))\n",
    "\n",
    "    driver.close()\n",
    "    \n",
    "    movie_dic = {\"평점\":score_infos,\"장르\":genre_infos, \"줄거리\":content_infos}\n",
    "    \n",
    "    movie_df = pd.DataFrame(movie_dic, index=title_infos)\n",
    "    \n",
    "    movie_df2 = movie_df.drop_duplicates(\"줄거리\", keep='first')\n",
    "    \n",
    "    return movie_df2\n"
   ]
  },
  {
   "cell_type": "code",
   "execution_count": 10,
   "metadata": {},
   "outputs": [
    {
     "ename": "WebDriverException",
     "evalue": "Message: unknown error: Chrome failed to start: crashed.\n  (unknown error: DevToolsActivePort file doesn't exist)\n  (The process started from chrome location /usr/bin/google-chrome is no longer running, so ChromeDriver is assuming that Chrome has crashed.)\n",
     "output_type": "error",
     "traceback": [
      "\u001b[0;31m---------------------------------------------------------------------------\u001b[0m",
      "\u001b[0;31mWebDriverException\u001b[0m                        Traceback (most recent call last)",
      "\u001b[0;32m<ipython-input-10-d82018545ceb>\u001b[0m in \u001b[0;36m<module>\u001b[0;34m\u001b[0m\n\u001b[0;32m----> 1\u001b[0;31m \u001b[0mgetMovieDataFromNaverSeries\u001b[0m\u001b[0;34m(\u001b[0m\u001b[0ml\u001b[0m\u001b[0;34m)\u001b[0m\u001b[0;34m\u001b[0m\u001b[0;34m\u001b[0m\u001b[0m\n\u001b[0m",
      "\u001b[0;32m<ipython-input-5-919eed0da19e>\u001b[0m in \u001b[0;36mgetMovieDataFromNaverSeries\u001b[0;34m(links)\u001b[0m\n\u001b[1;32m      9\u001b[0m     \u001b[0murl2\u001b[0m \u001b[0;34m=\u001b[0m \u001b[0;34m\"https://www.naver.com\"\u001b[0m\u001b[0;34m\u001b[0m\u001b[0;34m\u001b[0m\u001b[0m\n\u001b[1;32m     10\u001b[0m \u001b[0;34m\u001b[0m\u001b[0m\n\u001b[0;32m---> 11\u001b[0;31m     \u001b[0mdriver\u001b[0m \u001b[0;34m=\u001b[0m \u001b[0mwd\u001b[0m\u001b[0;34m.\u001b[0m\u001b[0mChrome\u001b[0m\u001b[0;34m(\u001b[0m\u001b[0mexecutable_path\u001b[0m\u001b[0;34m=\u001b[0m\u001b[0;34m\"chromedriver\"\u001b[0m\u001b[0;34m)\u001b[0m\u001b[0;34m\u001b[0m\u001b[0;34m\u001b[0m\u001b[0m\n\u001b[0m\u001b[1;32m     12\u001b[0m     \u001b[0mdriver\u001b[0m\u001b[0;34m.\u001b[0m\u001b[0mget\u001b[0m\u001b[0;34m(\u001b[0m\u001b[0murl2\u001b[0m\u001b[0;34m)\u001b[0m\u001b[0;34m\u001b[0m\u001b[0;34m\u001b[0m\u001b[0m\n\u001b[1;32m     13\u001b[0m     \u001b[0mtime\u001b[0m\u001b[0;34m.\u001b[0m\u001b[0msleep\u001b[0m\u001b[0;34m(\u001b[0m\u001b[0;36m3.0\u001b[0m\u001b[0;34m)\u001b[0m \u001b[0;31m# 30\u001b[0m\u001b[0;34m\u001b[0m\u001b[0;34m\u001b[0m\u001b[0m\n",
      "\u001b[0;32m~/miniconda3/lib/python3.7/site-packages/selenium/webdriver/chrome/webdriver.py\u001b[0m in \u001b[0;36m__init__\u001b[0;34m(self, executable_path, port, options, service_args, desired_capabilities, service_log_path, chrome_options, keep_alive)\u001b[0m\n\u001b[1;32m     79\u001b[0m                     \u001b[0mremote_server_addr\u001b[0m\u001b[0;34m=\u001b[0m\u001b[0mself\u001b[0m\u001b[0;34m.\u001b[0m\u001b[0mservice\u001b[0m\u001b[0;34m.\u001b[0m\u001b[0mservice_url\u001b[0m\u001b[0;34m,\u001b[0m\u001b[0;34m\u001b[0m\u001b[0;34m\u001b[0m\u001b[0m\n\u001b[1;32m     80\u001b[0m                     keep_alive=keep_alive),\n\u001b[0;32m---> 81\u001b[0;31m                 desired_capabilities=desired_capabilities)\n\u001b[0m\u001b[1;32m     82\u001b[0m         \u001b[0;32mexcept\u001b[0m \u001b[0mException\u001b[0m\u001b[0;34m:\u001b[0m\u001b[0;34m\u001b[0m\u001b[0;34m\u001b[0m\u001b[0m\n\u001b[1;32m     83\u001b[0m             \u001b[0mself\u001b[0m\u001b[0;34m.\u001b[0m\u001b[0mquit\u001b[0m\u001b[0;34m(\u001b[0m\u001b[0;34m)\u001b[0m\u001b[0;34m\u001b[0m\u001b[0;34m\u001b[0m\u001b[0m\n",
      "\u001b[0;32m~/miniconda3/lib/python3.7/site-packages/selenium/webdriver/remote/webdriver.py\u001b[0m in \u001b[0;36m__init__\u001b[0;34m(self, command_executor, desired_capabilities, browser_profile, proxy, keep_alive, file_detector, options)\u001b[0m\n\u001b[1;32m    155\u001b[0m             warnings.warn(\"Please use FirefoxOptions to set browser profile\",\n\u001b[1;32m    156\u001b[0m                           DeprecationWarning, stacklevel=2)\n\u001b[0;32m--> 157\u001b[0;31m         \u001b[0mself\u001b[0m\u001b[0;34m.\u001b[0m\u001b[0mstart_session\u001b[0m\u001b[0;34m(\u001b[0m\u001b[0mcapabilities\u001b[0m\u001b[0;34m,\u001b[0m \u001b[0mbrowser_profile\u001b[0m\u001b[0;34m)\u001b[0m\u001b[0;34m\u001b[0m\u001b[0;34m\u001b[0m\u001b[0m\n\u001b[0m\u001b[1;32m    158\u001b[0m         \u001b[0mself\u001b[0m\u001b[0;34m.\u001b[0m\u001b[0m_switch_to\u001b[0m \u001b[0;34m=\u001b[0m \u001b[0mSwitchTo\u001b[0m\u001b[0;34m(\u001b[0m\u001b[0mself\u001b[0m\u001b[0;34m)\u001b[0m\u001b[0;34m\u001b[0m\u001b[0;34m\u001b[0m\u001b[0m\n\u001b[1;32m    159\u001b[0m         \u001b[0mself\u001b[0m\u001b[0;34m.\u001b[0m\u001b[0m_mobile\u001b[0m \u001b[0;34m=\u001b[0m \u001b[0mMobile\u001b[0m\u001b[0;34m(\u001b[0m\u001b[0mself\u001b[0m\u001b[0;34m)\u001b[0m\u001b[0;34m\u001b[0m\u001b[0;34m\u001b[0m\u001b[0m\n",
      "\u001b[0;32m~/miniconda3/lib/python3.7/site-packages/selenium/webdriver/remote/webdriver.py\u001b[0m in \u001b[0;36mstart_session\u001b[0;34m(self, capabilities, browser_profile)\u001b[0m\n\u001b[1;32m    250\u001b[0m         parameters = {\"capabilities\": w3c_caps,\n\u001b[1;32m    251\u001b[0m                       \"desiredCapabilities\": capabilities}\n\u001b[0;32m--> 252\u001b[0;31m         \u001b[0mresponse\u001b[0m \u001b[0;34m=\u001b[0m \u001b[0mself\u001b[0m\u001b[0;34m.\u001b[0m\u001b[0mexecute\u001b[0m\u001b[0;34m(\u001b[0m\u001b[0mCommand\u001b[0m\u001b[0;34m.\u001b[0m\u001b[0mNEW_SESSION\u001b[0m\u001b[0;34m,\u001b[0m \u001b[0mparameters\u001b[0m\u001b[0;34m)\u001b[0m\u001b[0;34m\u001b[0m\u001b[0;34m\u001b[0m\u001b[0m\n\u001b[0m\u001b[1;32m    253\u001b[0m         \u001b[0;32mif\u001b[0m \u001b[0;34m'sessionId'\u001b[0m \u001b[0;32mnot\u001b[0m \u001b[0;32min\u001b[0m \u001b[0mresponse\u001b[0m\u001b[0;34m:\u001b[0m\u001b[0;34m\u001b[0m\u001b[0;34m\u001b[0m\u001b[0m\n\u001b[1;32m    254\u001b[0m             \u001b[0mresponse\u001b[0m \u001b[0;34m=\u001b[0m \u001b[0mresponse\u001b[0m\u001b[0;34m[\u001b[0m\u001b[0;34m'value'\u001b[0m\u001b[0;34m]\u001b[0m\u001b[0;34m\u001b[0m\u001b[0;34m\u001b[0m\u001b[0m\n",
      "\u001b[0;32m~/miniconda3/lib/python3.7/site-packages/selenium/webdriver/remote/webdriver.py\u001b[0m in \u001b[0;36mexecute\u001b[0;34m(self, driver_command, params)\u001b[0m\n\u001b[1;32m    319\u001b[0m         \u001b[0mresponse\u001b[0m \u001b[0;34m=\u001b[0m \u001b[0mself\u001b[0m\u001b[0;34m.\u001b[0m\u001b[0mcommand_executor\u001b[0m\u001b[0;34m.\u001b[0m\u001b[0mexecute\u001b[0m\u001b[0;34m(\u001b[0m\u001b[0mdriver_command\u001b[0m\u001b[0;34m,\u001b[0m \u001b[0mparams\u001b[0m\u001b[0;34m)\u001b[0m\u001b[0;34m\u001b[0m\u001b[0;34m\u001b[0m\u001b[0m\n\u001b[1;32m    320\u001b[0m         \u001b[0;32mif\u001b[0m \u001b[0mresponse\u001b[0m\u001b[0;34m:\u001b[0m\u001b[0;34m\u001b[0m\u001b[0;34m\u001b[0m\u001b[0m\n\u001b[0;32m--> 321\u001b[0;31m             \u001b[0mself\u001b[0m\u001b[0;34m.\u001b[0m\u001b[0merror_handler\u001b[0m\u001b[0;34m.\u001b[0m\u001b[0mcheck_response\u001b[0m\u001b[0;34m(\u001b[0m\u001b[0mresponse\u001b[0m\u001b[0;34m)\u001b[0m\u001b[0;34m\u001b[0m\u001b[0;34m\u001b[0m\u001b[0m\n\u001b[0m\u001b[1;32m    322\u001b[0m             response['value'] = self._unwrap_value(\n\u001b[1;32m    323\u001b[0m                 response.get('value', None))\n",
      "\u001b[0;32m~/miniconda3/lib/python3.7/site-packages/selenium/webdriver/remote/errorhandler.py\u001b[0m in \u001b[0;36mcheck_response\u001b[0;34m(self, response)\u001b[0m\n\u001b[1;32m    240\u001b[0m                 \u001b[0malert_text\u001b[0m \u001b[0;34m=\u001b[0m \u001b[0mvalue\u001b[0m\u001b[0;34m[\u001b[0m\u001b[0;34m'alert'\u001b[0m\u001b[0;34m]\u001b[0m\u001b[0;34m.\u001b[0m\u001b[0mget\u001b[0m\u001b[0;34m(\u001b[0m\u001b[0;34m'text'\u001b[0m\u001b[0;34m)\u001b[0m\u001b[0;34m\u001b[0m\u001b[0;34m\u001b[0m\u001b[0m\n\u001b[1;32m    241\u001b[0m             \u001b[0;32mraise\u001b[0m \u001b[0mexception_class\u001b[0m\u001b[0;34m(\u001b[0m\u001b[0mmessage\u001b[0m\u001b[0;34m,\u001b[0m \u001b[0mscreen\u001b[0m\u001b[0;34m,\u001b[0m \u001b[0mstacktrace\u001b[0m\u001b[0;34m,\u001b[0m \u001b[0malert_text\u001b[0m\u001b[0;34m)\u001b[0m\u001b[0;34m\u001b[0m\u001b[0;34m\u001b[0m\u001b[0m\n\u001b[0;32m--> 242\u001b[0;31m         \u001b[0;32mraise\u001b[0m \u001b[0mexception_class\u001b[0m\u001b[0;34m(\u001b[0m\u001b[0mmessage\u001b[0m\u001b[0;34m,\u001b[0m \u001b[0mscreen\u001b[0m\u001b[0;34m,\u001b[0m \u001b[0mstacktrace\u001b[0m\u001b[0;34m)\u001b[0m\u001b[0;34m\u001b[0m\u001b[0;34m\u001b[0m\u001b[0m\n\u001b[0m\u001b[1;32m    243\u001b[0m \u001b[0;34m\u001b[0m\u001b[0m\n\u001b[1;32m    244\u001b[0m     \u001b[0;32mdef\u001b[0m \u001b[0m_value_or_default\u001b[0m\u001b[0;34m(\u001b[0m\u001b[0mself\u001b[0m\u001b[0;34m,\u001b[0m \u001b[0mobj\u001b[0m\u001b[0;34m,\u001b[0m \u001b[0mkey\u001b[0m\u001b[0;34m,\u001b[0m \u001b[0mdefault\u001b[0m\u001b[0;34m)\u001b[0m\u001b[0;34m:\u001b[0m\u001b[0;34m\u001b[0m\u001b[0;34m\u001b[0m\u001b[0m\n",
      "\u001b[0;31mWebDriverException\u001b[0m: Message: unknown error: Chrome failed to start: crashed.\n  (unknown error: DevToolsActivePort file doesn't exist)\n  (The process started from chrome location /usr/bin/google-chrome is no longer running, so ChromeDriver is assuming that Chrome has crashed.)\n"
     ]
    }
   ],
   "source": [
    "getMovieDataFromNaverSeries(l)"
   ]
  }
 ],
 "metadata": {
  "kernelspec": {
   "display_name": "Python 3.7.3 (miniconda)",
   "language": "python",
   "name": "python3-mc"
  },
  "language_info": {
   "codemirror_mode": {
    "name": "ipython",
    "version": 3
   },
   "file_extension": ".py",
   "mimetype": "text/x-python",
   "name": "python",
   "nbconvert_exporter": "python",
   "pygments_lexer": "ipython3",
   "version": "3.7.6"
  }
 },
 "nbformat": 4,
 "nbformat_minor": 4
}

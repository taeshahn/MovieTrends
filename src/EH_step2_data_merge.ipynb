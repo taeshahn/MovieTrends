{
 "cells": [
  {
   "cell_type": "code",
   "execution_count": 56,
   "metadata": {},
   "outputs": [],
   "source": [
    "import numpy as np\n",
    "import pandas as pd"
   ]
  },
  {
   "cell_type": "markdown",
   "metadata": {},
   "source": [
    "### 디렉토리 변경"
   ]
  },
  {
   "cell_type": "code",
   "execution_count": 57,
   "metadata": {},
   "outputs": [
    {
     "name": "stdout",
     "output_type": "stream",
     "text": [
      "/home/share\n",
      "/home/jupyter-lehup\n"
     ]
    }
   ],
   "source": [
    "import os\n",
    "print(os.getcwd())\n",
    "os.chdir(\"/home/jupyter-lehup/\")\n",
    "print(os.getcwd())"
   ]
  },
  {
   "cell_type": "code",
   "execution_count": 58,
   "metadata": {},
   "outputs": [
    {
     "name": "stdout",
     "output_type": "stream",
     "text": [
      "Index(['공식명칭', '카페/블로그 키워드', '키워드 1', '키워드 2', '키워드 3', '비고'], dtype='object')\n",
      "641\n",
      "               공식명칭  카페/블로그 키워드          키워드 1      키워드 2 키워드 3        비고\n",
      "0                언니       영화 언니             언니        NaN   NaN       NaN\n",
      "1        데드풀 2: 순한맛       데드풀 2            데드풀       데드풀2   NaN       NaN\n",
      "2       레인보우: 나의 사랑  레인보우 나의 사랑        영화 레인보우  레인보우 나의사랑   NaN       NaN\n",
      "3                레토       영화 레토            NaN        NaN   NaN  사람이름, 상품\n",
      "4  미션 이스탄불 5: 더 파이널   미션 이스탄불 5  미션 이스탄불 더 파이널   미션 이스탄불5   NaN       NaN\n"
     ]
    }
   ],
   "source": [
    "movie_list = pd.read_csv('raw/BaselineData_200618.csv', encoding = 'UTF-8')\n",
    "print(movie_list.columns)\n",
    "print(movie_list.shape[0])\n",
    "print(movie_list.head())"
   ]
  },
  {
   "cell_type": "code",
   "execution_count": 59,
   "metadata": {},
   "outputs": [],
   "source": [
    "movie_list = pd.DataFrame(movie_list)"
   ]
  },
  {
   "cell_type": "code",
   "execution_count": 60,
   "metadata": {},
   "outputs": [
    {
     "name": "stdout",
     "output_type": "stream",
     "text": [
      "Index(['META_TITLE', '카페/블로그 키워드', '키워드 1', '키워드 2', '키워드 3', '비고'], dtype='object')\n"
     ]
    }
   ],
   "source": [
    "movie_list.rename(columns = {'공식명칭' : 'META_TITLE'}, inplace = True)\n",
    "\n",
    "#movie_list.columns[['META_TITLE','카페/블로그 키워드', '키워드 1', '키워드 2', '키워드 3', '비고']]\n",
    "print(movie_list.columns)"
   ]
  },
  {
   "cell_type": "markdown",
   "metadata": {},
   "source": [
    "# 전처리된 RawData불러오기"
   ]
  },
  {
   "cell_type": "code",
   "execution_count": 61,
   "metadata": {},
   "outputs": [
    {
     "name": "stdout",
     "output_type": "stream",
     "text": [
      "Index(['META_ID', 'META_TITLE', 'SUB_TITLE', 'ENGL_TITLE', 'OPEN_DY',\n",
      "       'DMST_SPCT_CNT', 'BTV_OPEN_DT', 'WAT_LVL_NM', 'SSTRY_CIN_YN',\n",
      "       'META_MANUF_CTRY_NM_1', 'META_MANUF_CTRY_NM_2', 'META_MANUF_CTRY_NM_3',\n",
      "       'META_MANUF_CTRY_NM_4', 'META_MANUF_CTRY_NM_5', 'META_GNR_NM_1',\n",
      "       'META_GNR_NM_2', 'META_GNR_NM_3', 'META_GNR_NM_4', 'META_GNR_NM_5',\n",
      "       'META_GNR_NM_6', 'MANUFCO_NM_1', 'MANUFCO_NM_2', 'MANUFCO_NM_3',\n",
      "       'DSTBTCO_NM_1', 'DSTBTCO_NM_2', 'DSTBTCO_NM_3'],\n",
      "      dtype='object')\n",
      "595\n",
      "        META_ID                 META_TITLE SUB_TITLE       ENGL_TITLE  \\\n",
      "0  MM1000234175                     0.0mhz       NaN           0.0MHz   \n",
      "1  MM1000334701                    1 더하기 3       NaN   Three Husbands   \n",
      "2  MM1000311677  100일동안 100가지로 100퍼센트 행복찾기       NaN       100 Things   \n",
      "3  MM1000337435                        10년       NaN  Ten Years Japan   \n",
      "4  MM1000191569                    12번째 솔저       NaN     The 12th Man   \n",
      "\n",
      "    OPEN_DY  DMST_SPCT_CNT     BTV_OPEN_DT WAT_LVL_NM SSTRY_CIN_YN  \\\n",
      "0  20190529        59344.0  20190812090000    15세 관람가            N   \n",
      "1  20191212            NaN  20191212090000    19세 관람가            N   \n",
      "2  20190912          707.0  20190930090000    15세 관람가            N   \n",
      "3  20191212            NaN  20191224090000     전체 관람가            N   \n",
      "4  20190411            NaN  20190418090000    12세 관람가            N   \n",
      "\n",
      "  META_MANUF_CTRY_NM_1  ... META_GNR_NM_3 META_GNR_NM_4 META_GNR_NM_5  \\\n",
      "0                 대한민국  ...           NaN           NaN           NaN   \n",
      "1                   홍콩  ...           NaN           NaN           NaN   \n",
      "2                   독일  ...           NaN           NaN           NaN   \n",
      "3                   일본  ...           NaN           NaN           NaN   \n",
      "4                 노르웨이  ...           NaN           NaN           NaN   \n",
      "\n",
      "  META_GNR_NM_6 MANUFCO_NM_1 MANUFCO_NM_2 MANUFCO_NM_3 DSTBTCO_NM_1  \\\n",
      "0           NaN   (주)제이엠컬쳐스     (주)몬스터팩토리          NaN    (주)스마일이엔티   \n",
      "1           NaN          NaN          NaN          NaN          NaN   \n",
      "2           NaN          NaN          NaN          NaN      영화사 진진    \n",
      "3           NaN          NaN          NaN          NaN     (주)디오시네마   \n",
      "4           NaN          NaN          NaN          NaN     (주)엣나인필름   \n",
      "\n",
      "  DSTBTCO_NM_2 DSTBTCO_NM_3  \n",
      "0          NaN          NaN  \n",
      "1          NaN          NaN  \n",
      "2          NaN          NaN  \n",
      "3          NaN          NaN  \n",
      "4          NaN          NaN  \n",
      "\n",
      "[5 rows x 26 columns]\n"
     ]
    }
   ],
   "source": [
    "movie_list_basedata_preprocessing = pd.read_csv('data/movie_list_basedata_preprocessing_20200629224145.csv', encoding = 'UTF-8')\n",
    "print(movie_list_basedata_preprocessing.columns)\n",
    "print(movie_list_basedata_preprocessing.shape[0])\n",
    "print(movie_list_basedata_preprocessing.head())"
   ]
  },
  {
   "cell_type": "code",
   "execution_count": 62,
   "metadata": {},
   "outputs": [
    {
     "name": "stdout",
     "output_type": "stream",
     "text": [
      "Index(['META_ID', 'DIR_PRS_ID', 'DIR_PRS_NM', 'DIR_PRS_ROLE_NM',\n",
      "       'DIR_FILMOGRAPHY_1', 'DIR_FILMOGRAPHY_2', 'DIR_FILMOGRAPHY_3',\n",
      "       'DIR_FILMOGRAPHY_4', 'DIR_FILMOGRAPHY_5', 'DIR_FILMOGRAPHY_6'],\n",
      "      dtype='object')\n",
      "595\n",
      "        META_ID    DIR_PRS_ID DIR_PRS_NM DIR_PRS_ROLE_NM DIR_FILMOGRAPHY_1  \\\n",
      "0  MM1000103011  MP0000052678  크리스티앙 알바트          감독(연출)           돈 겟 아웃!   \n",
      "1  MM1000109497  MP0000052678  크리스티앙 알바트          감독(연출)           돈 겟 아웃!   \n",
      "2  MM1000114876  MP1000003556        금패진          감독(연출)        완벽한 그녀의 비밀   \n",
      "3  MM1000115034  MP0000112474    마크 로테문트          감독(연출)        디스 크레이지 하트   \n",
      "4  MM1000115408  MP0000005457   파올로 타비아니          감독(연출)       레인보우: 나의 사랑   \n",
      "\n",
      "  DIR_FILMOGRAPHY_2   DIR_FILMOGRAPHY_3 DIR_FILMOGRAPHY_4 DIR_FILMOGRAPHY_5  \\\n",
      "0  미션 이스탄불 5: 더 파이널  미션 이스탄불 4: 익스트림 데이  미션 이스탄불 3: 더 리벤지           미션 이스탄불   \n",
      "1  미션 이스탄불 5: 더 파이널  미션 이스탄불 4: 익스트림 데이  미션 이스탄불 3: 더 리벤지           미션 이스탄불   \n",
      "2               NaN                 NaN               NaN               NaN   \n",
      "3               NaN                 NaN               NaN               NaN   \n",
      "4               NaN                 NaN               NaN               NaN   \n",
      "\n",
      "  DIR_FILMOGRAPHY_6  \n",
      "0               NaN  \n",
      "1               NaN  \n",
      "2               NaN  \n",
      "3               NaN  \n",
      "4               NaN  \n"
     ]
    }
   ],
   "source": [
    "movie_list_directordata_preprocessing = pd.read_csv('data/movie_list_directordata_preprocessing_20200629224309.csv', encoding = 'UTF-8')\n",
    "print(movie_list_directordata_preprocessing.columns)\n",
    "print(movie_list_directordata_preprocessing.shape[0])\n",
    "print(movie_list_directordata_preprocessing.head())"
   ]
  },
  {
   "cell_type": "code",
   "execution_count": 63,
   "metadata": {},
   "outputs": [
    {
     "name": "stdout",
     "output_type": "stream",
     "text": [
      "Index(['META_ID', 'ACT_PRS_ID', 'ACT_PRS_NM', 'ACT_PRS_ROLE_NM',\n",
      "       'ACT_FILMOGRAPHY_1', 'ACT_FILMOGRAPHY_2', 'ACT_FILMOGRAPHY_3',\n",
      "       'ACT_FILMOGRAPHY_4', 'ACT_FILMOGRAPHY_5', 'ACT_FILMOGRAPHY_6',\n",
      "       'ACT_FILMOGRAPHY_7', 'ACT_FILMOGRAPHY_8', 'ACT_FILMOGRAPHY_9',\n",
      "       'ACT_FILMOGRAPHY_10', 'ACT_FILMOGRAPHY_11', 'ACT_FILMOGRAPHY_12',\n",
      "       'ACT_FILMOGRAPHY_13', 'ACT_FILMOGRAPHY_14', 'ACT_FILMOGRAPHY_15',\n",
      "       'ACT_FILMOGRAPHY_16', 'ACT_FILMOGRAPHY_17', 'ACT_FILMOGRAPHY_18',\n",
      "       'ACT_FILMOGRAPHY_19', 'ACT_FILMOGRAPHY_20', 'ACT_FILMOGRAPHY_21'],\n",
      "      dtype='object')\n",
      "1606\n",
      "        META_ID    ACT_PRS_ID ACT_PRS_NM ACT_PRS_ROLE_NM ACT_FILMOGRAPHY_1  \\\n",
      "0  MM1000103011  MP0000064883   보탄 빌케 모링              주연           돈 겟 아웃!   \n",
      "1  MM1000103011  MP0000154188      노라 허츠              주연           돈 겟 아웃!   \n",
      "2  MM1000109497  MP0000001592     틸 슈바이거              주연  미션 이스탄불 5: 더 파이널   \n",
      "3  MM1000109497  MP0000146403    루나 슈바이거              주연  미션 이스탄불 5: 더 파이널   \n",
      "4  MM1000109497  MP0000158516     파리 야르딤              주연  미션 이스탄불 5: 더 파이널   \n",
      "\n",
      "    ACT_FILMOGRAPHY_2 ACT_FILMOGRAPHY_3 ACT_FILMOGRAPHY_4 ACT_FILMOGRAPHY_5  \\\n",
      "0                 NaN               NaN               NaN               NaN   \n",
      "1                 NaN               NaN               NaN               NaN   \n",
      "2  미션 이스탄불 4: 익스트림 데이  미션 이스탄불 3: 더 리벤지           스페셜 스쿼드           아토믹 블론드   \n",
      "3  미션 이스탄불 4: 익스트림 데이           미션 이스탄불               NaN               NaN   \n",
      "4  미션 이스탄불 4: 익스트림 데이  미션 이스탄불 3: 더 리벤지           미션 이스탄불               NaN   \n",
      "\n",
      "  ACT_FILMOGRAPHY_6  ... ACT_FILMOGRAPHY_12 ACT_FILMOGRAPHY_13  \\\n",
      "0               NaN  ...                NaN                NaN   \n",
      "1               NaN  ...                NaN                NaN   \n",
      "2           미션 이스탄불  ...                NaN                NaN   \n",
      "3               NaN  ...                NaN                NaN   \n",
      "4               NaN  ...                NaN                NaN   \n",
      "\n",
      "  ACT_FILMOGRAPHY_14 ACT_FILMOGRAPHY_15 ACT_FILMOGRAPHY_16 ACT_FILMOGRAPHY_17  \\\n",
      "0                NaN                NaN                NaN                NaN   \n",
      "1                NaN                NaN                NaN                NaN   \n",
      "2                NaN                NaN                NaN                NaN   \n",
      "3                NaN                NaN                NaN                NaN   \n",
      "4                NaN                NaN                NaN                NaN   \n",
      "\n",
      "  ACT_FILMOGRAPHY_18 ACT_FILMOGRAPHY_19 ACT_FILMOGRAPHY_20 ACT_FILMOGRAPHY_21  \n",
      "0                NaN                NaN                NaN                NaN  \n",
      "1                NaN                NaN                NaN                NaN  \n",
      "2                NaN                NaN                NaN                NaN  \n",
      "3                NaN                NaN                NaN                NaN  \n",
      "4                NaN                NaN                NaN                NaN  \n",
      "\n",
      "[5 rows x 25 columns]\n"
     ]
    }
   ],
   "source": [
    "movie_list_actordata_preprocessing = pd.read_csv('data/movie_list_acctordata_preprocessing_20200629224401.csv', encoding = 'UTF-8')\n",
    "print(movie_list_actordata_preprocessing.columns)\n",
    "print(movie_list_actordata_preprocessing.shape[0])\n",
    "print(movie_list_actordata_preprocessing.head())"
   ]
  },
  {
   "cell_type": "code",
   "execution_count": 64,
   "metadata": {},
   "outputs": [
    {
     "name": "stdout",
     "output_type": "stream",
     "text": [
      "Index(['META_ID', 'PRIZE_YN', 'PRIZE_CNT'], dtype='object')\n",
      "595\n",
      "        META_ID PRIZE_YN  PRIZE_CNT\n",
      "0  MM1000340018        Y          3\n",
      "1  MM1000329732        Y          1\n",
      "2  MM1000227591        Y          1\n",
      "3  MM1000167934        Y          4\n",
      "4  MM1000142829        Y          2\n"
     ]
    }
   ],
   "source": [
    "movie_list_prizedata_preprocessing = pd.read_csv('data/movie_list_prizedata_preprocessing_20200629224425.csv', encoding = 'UTF-8')\n",
    "print(movie_list_prizedata_preprocessing.columns)\n",
    "print(movie_list_prizedata_preprocessing.shape[0])\n",
    "print(movie_list_prizedata_preprocessing.head())"
   ]
  },
  {
   "cell_type": "code",
   "execution_count": 65,
   "metadata": {},
   "outputs": [
    {
     "name": "stdout",
     "output_type": "stream",
     "text": [
      "Index(['META_ID', 'BTV_LIKE_NCNT', 'BTV_NGOOD_NCNT', 'WATCHA_EVAL_NCNT',\n",
      "       'WATCHA_RVW_PNT', 'CINE21_EVAL_NCNT', 'CINE21_NTNZ_PNT',\n",
      "       'CINE21_CRTC_PNT'],\n",
      "      dtype='object')\n",
      "595\n",
      "        META_ID  BTV_LIKE_NCNT  BTV_NGOOD_NCNT  WATCHA_EVAL_NCNT  \\\n",
      "0  MM1000131615        34540.0          1025.0           54616.0   \n",
      "1  MM1000143771            NaN             NaN            2017.0   \n",
      "2  MM1000160235           20.0             8.0             433.0   \n",
      "3  MM1000167168        15929.0          2911.0           78479.0   \n",
      "4  MM1000180060          326.0            64.0            5850.0   \n",
      "\n",
      "   WATCHA_RVW_PNT  CINE21_EVAL_NCNT  CINE21_NTNZ_PNT  CINE21_CRTC_PNT  \n",
      "0            3.62               4.0             7.33              8.0  \n",
      "1            3.25               2.0             6.00              6.0  \n",
      "2            2.79               1.0              NaN              6.0  \n",
      "3            3.25               9.0             5.75              6.8  \n",
      "4            3.45               6.0             6.50              7.0  \n"
     ]
    }
   ],
   "source": [
    "movie_list_pointdata_preprocessing = pd.read_csv('data/movie_list_pointdata_preprocessing_20200629224509.csv', encoding = 'UTF-8')\n",
    "print(movie_list_pointdata_preprocessing.columns)\n",
    "print(movie_list_pointdata_preprocessing.shape[0])\n",
    "print(movie_list_pointdata_preprocessing.head())"
   ]
  },
  {
   "cell_type": "code",
   "execution_count": 66,
   "metadata": {},
   "outputs": [
    {
     "name": "stdout",
     "output_type": "stream",
     "text": [
      "Index(['META_ID', 'SNSS_CTS', 'CINE21_COMT_CTSC_1', 'CINE21_COMT_CTSC_2',\n",
      "       'CINE21_COMT_CTSC_3', 'CINE21_COMT_CTSC_4', 'CINE21_COMT_CTSC_5',\n",
      "       'CINE21_COMT_CTSC_6', 'CINE21_COMT_CTSC_7', 'CINE21_COMT_CTSC_8',\n",
      "       'CINE21_COMT_CTSC_9', 'CINE21_COMT_CTSC_10', 'CINE21_COMT_CTSC_11'],\n",
      "      dtype='object')\n",
      "595\n",
      "        META_ID                                           SNSS_CTS  \\\n",
      "0  MM1000103011  폭탄이 설치된 차량, 가족을 구해야 한다.\\r\\n결혼기념일을 맞이하여 집에 돌아온 ...   \n",
      "1  MM1000109497  무장한 테러범들이 방송국을 급습하는 사건이 온 도시를 발칵 뒤집고 피랫의 석방을 요...   \n",
      "2  MM1000114876  아름다운 여대생 ‘예신’은 멋진 남자친구 ‘미아오’와 연애중이다.\\r\\n어느 날 폭...   \n",
      "3  MM1000115034                         불치병 소년과 바람둥이 청년의 우정을 그린 영화   \n",
      "4  MM1000115408  모든 사람이 꿈꾸어 왔던 소설\\r\\n20세기 이탈리안들이 가슴에 품은 단 하나의 러...   \n",
      "\n",
      "        CINE21_COMT_CTSC_1 CINE21_COMT_CTSC_2 CINE21_COMT_CTSC_3  \\\n",
      "0                      NaN                NaN                NaN   \n",
      "1                뭉그적뭉그적 미션    제철 지난 독일판 <테이큰>                NaN   \n",
      "2                      NaN                NaN                NaN   \n",
      "3                      NaN                NaN                NaN   \n",
      "4  스크린 너머로는 전해지지 않는 사랑의 열병                NaN                NaN   \n",
      "\n",
      "  CINE21_COMT_CTSC_4 CINE21_COMT_CTSC_5 CINE21_COMT_CTSC_6 CINE21_COMT_CTSC_7  \\\n",
      "0                NaN                NaN                NaN                NaN   \n",
      "1                NaN                NaN                NaN                NaN   \n",
      "2                NaN                NaN                NaN                NaN   \n",
      "3                NaN                NaN                NaN                NaN   \n",
      "4                NaN                NaN                NaN                NaN   \n",
      "\n",
      "  CINE21_COMT_CTSC_8 CINE21_COMT_CTSC_9 CINE21_COMT_CTSC_10  \\\n",
      "0                NaN                NaN                 NaN   \n",
      "1                NaN                NaN                 NaN   \n",
      "2                NaN                NaN                 NaN   \n",
      "3                NaN                NaN                 NaN   \n",
      "4                NaN                NaN                 NaN   \n",
      "\n",
      "  CINE21_COMT_CTSC_11  \n",
      "0                 NaN  \n",
      "1                 NaN  \n",
      "2                 NaN  \n",
      "3                 NaN  \n",
      "4                 NaN  \n"
     ]
    }
   ],
   "source": [
    "movie_list_rvwdata_preprocessing = pd.read_csv('data/movie_list_rvwdata_preprocessing_20200629224634.csv', encoding = 'UTF-8')\n",
    "print(movie_list_rvwdata_preprocessing.columns)\n",
    "print(movie_list_rvwdata_preprocessing.shape[0])\n",
    "print(movie_list_rvwdata_preprocessing.head())"
   ]
  },
  {
   "cell_type": "markdown",
   "metadata": {},
   "source": [
    "# 데이터 Merge"
   ]
  },
  {
   "cell_type": "markdown",
   "metadata": {},
   "source": [
    "## movie_list + movie_list_basedata_preprocessing = movie_list_v1"
   ]
  },
  {
   "cell_type": "code",
   "execution_count": 67,
   "metadata": {},
   "outputs": [],
   "source": [
    "movie_list_v1 = pd.merge(movie_list,movie_list_basedata_preprocessing, on = 'META_TITLE')"
   ]
  },
  {
   "cell_type": "code",
   "execution_count": 68,
   "metadata": {},
   "outputs": [
    {
     "name": "stdout",
     "output_type": "stream",
     "text": [
      "Index(['META_TITLE', '카페/블로그 키워드', '키워드 1', '키워드 2', '키워드 3', '비고', 'META_ID',\n",
      "       'SUB_TITLE', 'ENGL_TITLE', 'OPEN_DY', 'DMST_SPCT_CNT', 'BTV_OPEN_DT',\n",
      "       'WAT_LVL_NM', 'SSTRY_CIN_YN', 'META_MANUF_CTRY_NM_1',\n",
      "       'META_MANUF_CTRY_NM_2', 'META_MANUF_CTRY_NM_3', 'META_MANUF_CTRY_NM_4',\n",
      "       'META_MANUF_CTRY_NM_5', 'META_GNR_NM_1', 'META_GNR_NM_2',\n",
      "       'META_GNR_NM_3', 'META_GNR_NM_4', 'META_GNR_NM_5', 'META_GNR_NM_6',\n",
      "       'MANUFCO_NM_1', 'MANUFCO_NM_2', 'MANUFCO_NM_3', 'DSTBTCO_NM_1',\n",
      "       'DSTBTCO_NM_2', 'DSTBTCO_NM_3'],\n",
      "      dtype='object')\n",
      "588\n",
      "         META_TITLE  카페/블로그 키워드          키워드 1      키워드 2 키워드 3        비고  \\\n",
      "0                언니       영화 언니             언니        NaN   NaN       NaN   \n",
      "1        데드풀 2: 순한맛       데드풀 2            데드풀       데드풀2   NaN       NaN   \n",
      "2       레인보우: 나의 사랑  레인보우 나의 사랑        영화 레인보우  레인보우 나의사랑   NaN       NaN   \n",
      "3                레토       영화 레토            NaN        NaN   NaN  사람이름, 상품   \n",
      "4  미션 이스탄불 5: 더 파이널   미션 이스탄불 5  미션 이스탄불 더 파이널   미션 이스탄불5   NaN       NaN   \n",
      "\n",
      "        META_ID SUB_TITLE             ENGL_TITLE   OPEN_DY  ...  \\\n",
      "0  MM1000117095       NaN               No Mercy  20190101  ...   \n",
      "1  MM1000118454       NaN   ONCE UPON A DEADPOOL  20190103  ...   \n",
      "2  MM1000115408       NaN  Una questione privata  20190103  ...   \n",
      "3  MM1000128263       NaN                 Summer  20190103  ...   \n",
      "4  MM1000109497       NaN              Fegefeuer  20190103  ...   \n",
      "\n",
      "   META_GNR_NM_3  META_GNR_NM_4 META_GNR_NM_5 META_GNR_NM_6 MANUFCO_NM_1  \\\n",
      "0            NaN            NaN           NaN           NaN     필름에이픽쳐스    \n",
      "1           어드벤처             SF           NaN           NaN          NaN   \n",
      "2            NaN            NaN           NaN           NaN          NaN   \n",
      "3            NaN            NaN           NaN           NaN          NaN   \n",
      "4            NaN            NaN           NaN           NaN          NaN   \n",
      "\n",
      "  MANUFCO_NM_2 MANUFCO_NM_3   DSTBTCO_NM_1   DSTBTCO_NM_2 DSTBTCO_NM_3  \n",
      "0          NaN          NaN  (주)제이앤씨미디어그룹    TCO(주)더콘텐츠온           NaN  \n",
      "1          NaN          NaN   이십세기폭스코리아(주)            NaN          NaN  \n",
      "2          NaN          NaN    (주)마노엔터테인먼트            NaN          NaN  \n",
      "3          NaN          NaN       (주)엣나인필름      플레이리스트(주)          NaN  \n",
      "4          NaN          NaN     (주)시네마리퍼블릭            NaN          NaN  \n",
      "\n",
      "[5 rows x 31 columns]\n"
     ]
    }
   ],
   "source": [
    "print(movie_list_v1.columns)\n",
    "print(movie_list_v1.shape[0])\n",
    "print(movie_list_v1.head())"
   ]
  },
  {
   "cell_type": "markdown",
   "metadata": {},
   "source": [
    "## movie_list_v1 + movie_list_directordata_preprocessing = movie_list_v1"
   ]
  },
  {
   "cell_type": "code",
   "execution_count": 69,
   "metadata": {},
   "outputs": [],
   "source": [
    "movie_list_v2 = pd.merge(movie_list_v1,movie_list_directordata_preprocessing, on = 'META_ID')"
   ]
  },
  {
   "cell_type": "code",
   "execution_count": 70,
   "metadata": {},
   "outputs": [
    {
     "name": "stdout",
     "output_type": "stream",
     "text": [
      "Index(['META_TITLE', '카페/블로그 키워드', '키워드 1', '키워드 2', '키워드 3', '비고', 'META_ID',\n",
      "       'SUB_TITLE', 'ENGL_TITLE', 'OPEN_DY', 'DMST_SPCT_CNT', 'BTV_OPEN_DT',\n",
      "       'WAT_LVL_NM', 'SSTRY_CIN_YN', 'META_MANUF_CTRY_NM_1',\n",
      "       'META_MANUF_CTRY_NM_2', 'META_MANUF_CTRY_NM_3', 'META_MANUF_CTRY_NM_4',\n",
      "       'META_MANUF_CTRY_NM_5', 'META_GNR_NM_1', 'META_GNR_NM_2',\n",
      "       'META_GNR_NM_3', 'META_GNR_NM_4', 'META_GNR_NM_5', 'META_GNR_NM_6',\n",
      "       'MANUFCO_NM_1', 'MANUFCO_NM_2', 'MANUFCO_NM_3', 'DSTBTCO_NM_1',\n",
      "       'DSTBTCO_NM_2', 'DSTBTCO_NM_3', 'DIR_PRS_ID', 'DIR_PRS_NM',\n",
      "       'DIR_PRS_ROLE_NM', 'DIR_FILMOGRAPHY_1', 'DIR_FILMOGRAPHY_2',\n",
      "       'DIR_FILMOGRAPHY_3', 'DIR_FILMOGRAPHY_4', 'DIR_FILMOGRAPHY_5',\n",
      "       'DIR_FILMOGRAPHY_6'],\n",
      "      dtype='object')\n",
      "588\n",
      "         META_TITLE  카페/블로그 키워드          키워드 1      키워드 2 키워드 3        비고  \\\n",
      "0                언니       영화 언니             언니        NaN   NaN       NaN   \n",
      "1        데드풀 2: 순한맛       데드풀 2            데드풀       데드풀2   NaN       NaN   \n",
      "2       레인보우: 나의 사랑  레인보우 나의 사랑        영화 레인보우  레인보우 나의사랑   NaN       NaN   \n",
      "3                레토       영화 레토            NaN        NaN   NaN  사람이름, 상품   \n",
      "4  미션 이스탄불 5: 더 파이널   미션 이스탄불 5  미션 이스탄불 더 파이널   미션 이스탄불5   NaN       NaN   \n",
      "\n",
      "        META_ID SUB_TITLE             ENGL_TITLE   OPEN_DY  ...  DSTBTCO_NM_3  \\\n",
      "0  MM1000117095       NaN               No Mercy  20190101  ...           NaN   \n",
      "1  MM1000118454       NaN   ONCE UPON A DEADPOOL  20190103  ...           NaN   \n",
      "2  MM1000115408       NaN  Una questione privata  20190103  ...           NaN   \n",
      "3  MM1000128263       NaN                 Summer  20190103  ...           NaN   \n",
      "4  MM1000109497       NaN              Fegefeuer  20190103  ...           NaN   \n",
      "\n",
      "     DIR_PRS_ID  DIR_PRS_NM DIR_PRS_ROLE_NM DIR_FILMOGRAPHY_1  \\\n",
      "0  MP0000045990         임경택          감독(연출)                언니   \n",
      "1  MP0000147075     데이빗 레이치          감독(연출)      분노의 질주: 홉스&쇼   \n",
      "2  MP0000005457    파올로 타비아니          감독(연출)       레인보우: 나의 사랑   \n",
      "3  MP0000158720  키릴 세레브렌니코프          감독(연출)                레토   \n",
      "4  MP0000052678   크리스티앙 알바트          감독(연출)           돈 겟 아웃!   \n",
      "\n",
      "  DIR_FILMOGRAPHY_2   DIR_FILMOGRAPHY_3 DIR_FILMOGRAPHY_4 DIR_FILMOGRAPHY_5  \\\n",
      "0               NaN                 NaN               NaN               NaN   \n",
      "1        데드풀 2: 순한맛               데드풀 2             데드풀 2           아토믹 블론드   \n",
      "2               NaN                 NaN               NaN               NaN   \n",
      "3               NaN                 NaN               NaN               NaN   \n",
      "4  미션 이스탄불 5: 더 파이널  미션 이스탄불 4: 익스트림 데이  미션 이스탄불 3: 더 리벤지           미션 이스탄불   \n",
      "\n",
      "  DIR_FILMOGRAPHY_6  \n",
      "0               NaN  \n",
      "1               NaN  \n",
      "2               NaN  \n",
      "3               NaN  \n",
      "4               NaN  \n",
      "\n",
      "[5 rows x 40 columns]\n"
     ]
    }
   ],
   "source": [
    "print(movie_list_v2.columns)\n",
    "print(movie_list_v2.shape[0])\n",
    "print(movie_list_v2.head())"
   ]
  },
  {
   "cell_type": "markdown",
   "metadata": {},
   "source": [
    "## movie_list_v2 + movie_list_actordata_preprocessing = movie_list_v2"
   ]
  },
  {
   "cell_type": "code",
   "execution_count": 71,
   "metadata": {},
   "outputs": [],
   "source": [
    "movie_list_v3 = pd.merge(movie_list_v2,movie_list_actordata_preprocessing, on = 'META_ID')"
   ]
  },
  {
   "cell_type": "code",
   "execution_count": 72,
   "metadata": {},
   "outputs": [
    {
     "name": "stdout",
     "output_type": "stream",
     "text": [
      "Index(['META_TITLE', '카페/블로그 키워드', '키워드 1', '키워드 2', '키워드 3', '비고', 'META_ID',\n",
      "       'SUB_TITLE', 'ENGL_TITLE', 'OPEN_DY', 'DMST_SPCT_CNT', 'BTV_OPEN_DT',\n",
      "       'WAT_LVL_NM', 'SSTRY_CIN_YN', 'META_MANUF_CTRY_NM_1',\n",
      "       'META_MANUF_CTRY_NM_2', 'META_MANUF_CTRY_NM_3', 'META_MANUF_CTRY_NM_4',\n",
      "       'META_MANUF_CTRY_NM_5', 'META_GNR_NM_1', 'META_GNR_NM_2',\n",
      "       'META_GNR_NM_3', 'META_GNR_NM_4', 'META_GNR_NM_5', 'META_GNR_NM_6',\n",
      "       'MANUFCO_NM_1', 'MANUFCO_NM_2', 'MANUFCO_NM_3', 'DSTBTCO_NM_1',\n",
      "       'DSTBTCO_NM_2', 'DSTBTCO_NM_3', 'DIR_PRS_ID', 'DIR_PRS_NM',\n",
      "       'DIR_PRS_ROLE_NM', 'DIR_FILMOGRAPHY_1', 'DIR_FILMOGRAPHY_2',\n",
      "       'DIR_FILMOGRAPHY_3', 'DIR_FILMOGRAPHY_4', 'DIR_FILMOGRAPHY_5',\n",
      "       'DIR_FILMOGRAPHY_6', 'ACT_PRS_ID', 'ACT_PRS_NM', 'ACT_PRS_ROLE_NM',\n",
      "       'ACT_FILMOGRAPHY_1', 'ACT_FILMOGRAPHY_2', 'ACT_FILMOGRAPHY_3',\n",
      "       'ACT_FILMOGRAPHY_4', 'ACT_FILMOGRAPHY_5', 'ACT_FILMOGRAPHY_6',\n",
      "       'ACT_FILMOGRAPHY_7', 'ACT_FILMOGRAPHY_8', 'ACT_FILMOGRAPHY_9',\n",
      "       'ACT_FILMOGRAPHY_10', 'ACT_FILMOGRAPHY_11', 'ACT_FILMOGRAPHY_12',\n",
      "       'ACT_FILMOGRAPHY_13', 'ACT_FILMOGRAPHY_14', 'ACT_FILMOGRAPHY_15',\n",
      "       'ACT_FILMOGRAPHY_16', 'ACT_FILMOGRAPHY_17', 'ACT_FILMOGRAPHY_18',\n",
      "       'ACT_FILMOGRAPHY_19', 'ACT_FILMOGRAPHY_20', 'ACT_FILMOGRAPHY_21'],\n",
      "      dtype='object')\n",
      "1583\n",
      "   META_TITLE 카페/블로그 키워드 키워드 1 키워드 2 키워드 3   비고       META_ID SUB_TITLE  \\\n",
      "0          언니      영화 언니    언니   NaN   NaN  NaN  MM1000117095       NaN   \n",
      "1          언니      영화 언니    언니   NaN   NaN  NaN  MM1000117095       NaN   \n",
      "2          언니      영화 언니    언니   NaN   NaN  NaN  MM1000117095       NaN   \n",
      "3  데드풀 2: 순한맛      데드풀 2   데드풀  데드풀2   NaN  NaN  MM1000118454       NaN   \n",
      "4  데드풀 2: 순한맛      데드풀 2   데드풀  데드풀2   NaN  NaN  MM1000118454       NaN   \n",
      "\n",
      "             ENGL_TITLE   OPEN_DY  ...  ACT_FILMOGRAPHY_12  \\\n",
      "0              No Mercy  20190101  ...                 NaN   \n",
      "1              No Mercy  20190101  ...                 NaN   \n",
      "2              No Mercy  20190101  ...                 NaN   \n",
      "3  ONCE UPON A DEADPOOL  20190103  ...                 NaN   \n",
      "4  ONCE UPON A DEADPOOL  20190103  ...                 NaN   \n",
      "\n",
      "   ACT_FILMOGRAPHY_13 ACT_FILMOGRAPHY_14 ACT_FILMOGRAPHY_15  \\\n",
      "0                 NaN                NaN                NaN   \n",
      "1                 NaN                NaN                NaN   \n",
      "2                 NaN                NaN                NaN   \n",
      "3                 NaN                NaN                NaN   \n",
      "4                 NaN                NaN                NaN   \n",
      "\n",
      "  ACT_FILMOGRAPHY_16 ACT_FILMOGRAPHY_17 ACT_FILMOGRAPHY_18 ACT_FILMOGRAPHY_19  \\\n",
      "0                NaN                NaN                NaN                NaN   \n",
      "1                NaN                NaN                NaN                NaN   \n",
      "2                NaN                NaN                NaN                NaN   \n",
      "3                NaN                NaN                NaN                NaN   \n",
      "4                NaN                NaN                NaN                NaN   \n",
      "\n",
      "  ACT_FILMOGRAPHY_20 ACT_FILMOGRAPHY_21  \n",
      "0                NaN                NaN  \n",
      "1                NaN                NaN  \n",
      "2                NaN                NaN  \n",
      "3                NaN                NaN  \n",
      "4                NaN                NaN  \n",
      "\n",
      "[5 rows x 64 columns]\n"
     ]
    }
   ],
   "source": [
    "print(movie_list_v3.columns)\n",
    "print(movie_list_v3.shape[0])\n",
    "print(movie_list_v3.head())"
   ]
  },
  {
   "cell_type": "markdown",
   "metadata": {},
   "source": [
    "## movie_list_v3 + movie_list_prizedata_preprocessing = movie_list_v4"
   ]
  },
  {
   "cell_type": "code",
   "execution_count": 73,
   "metadata": {},
   "outputs": [],
   "source": [
    "movie_list_v4 = pd.merge(movie_list_v3,movie_list_prizedata_preprocessing, on = 'META_ID')"
   ]
  },
  {
   "cell_type": "code",
   "execution_count": 74,
   "metadata": {},
   "outputs": [
    {
     "name": "stdout",
     "output_type": "stream",
     "text": [
      "Index(['META_TITLE', '카페/블로그 키워드', '키워드 1', '키워드 2', '키워드 3', '비고', 'META_ID',\n",
      "       'SUB_TITLE', 'ENGL_TITLE', 'OPEN_DY', 'DMST_SPCT_CNT', 'BTV_OPEN_DT',\n",
      "       'WAT_LVL_NM', 'SSTRY_CIN_YN', 'META_MANUF_CTRY_NM_1',\n",
      "       'META_MANUF_CTRY_NM_2', 'META_MANUF_CTRY_NM_3', 'META_MANUF_CTRY_NM_4',\n",
      "       'META_MANUF_CTRY_NM_5', 'META_GNR_NM_1', 'META_GNR_NM_2',\n",
      "       'META_GNR_NM_3', 'META_GNR_NM_4', 'META_GNR_NM_5', 'META_GNR_NM_6',\n",
      "       'MANUFCO_NM_1', 'MANUFCO_NM_2', 'MANUFCO_NM_3', 'DSTBTCO_NM_1',\n",
      "       'DSTBTCO_NM_2', 'DSTBTCO_NM_3', 'DIR_PRS_ID', 'DIR_PRS_NM',\n",
      "       'DIR_PRS_ROLE_NM', 'DIR_FILMOGRAPHY_1', 'DIR_FILMOGRAPHY_2',\n",
      "       'DIR_FILMOGRAPHY_3', 'DIR_FILMOGRAPHY_4', 'DIR_FILMOGRAPHY_5',\n",
      "       'DIR_FILMOGRAPHY_6', 'ACT_PRS_ID', 'ACT_PRS_NM', 'ACT_PRS_ROLE_NM',\n",
      "       'ACT_FILMOGRAPHY_1', 'ACT_FILMOGRAPHY_2', 'ACT_FILMOGRAPHY_3',\n",
      "       'ACT_FILMOGRAPHY_4', 'ACT_FILMOGRAPHY_5', 'ACT_FILMOGRAPHY_6',\n",
      "       'ACT_FILMOGRAPHY_7', 'ACT_FILMOGRAPHY_8', 'ACT_FILMOGRAPHY_9',\n",
      "       'ACT_FILMOGRAPHY_10', 'ACT_FILMOGRAPHY_11', 'ACT_FILMOGRAPHY_12',\n",
      "       'ACT_FILMOGRAPHY_13', 'ACT_FILMOGRAPHY_14', 'ACT_FILMOGRAPHY_15',\n",
      "       'ACT_FILMOGRAPHY_16', 'ACT_FILMOGRAPHY_17', 'ACT_FILMOGRAPHY_18',\n",
      "       'ACT_FILMOGRAPHY_19', 'ACT_FILMOGRAPHY_20', 'ACT_FILMOGRAPHY_21',\n",
      "       'PRIZE_YN', 'PRIZE_CNT'],\n",
      "      dtype='object')\n",
      "1583\n",
      "   META_TITLE 카페/블로그 키워드 키워드 1 키워드 2 키워드 3   비고       META_ID SUB_TITLE  \\\n",
      "0          언니      영화 언니    언니   NaN   NaN  NaN  MM1000117095       NaN   \n",
      "1          언니      영화 언니    언니   NaN   NaN  NaN  MM1000117095       NaN   \n",
      "2          언니      영화 언니    언니   NaN   NaN  NaN  MM1000117095       NaN   \n",
      "3  데드풀 2: 순한맛      데드풀 2   데드풀  데드풀2   NaN  NaN  MM1000118454       NaN   \n",
      "4  데드풀 2: 순한맛      데드풀 2   데드풀  데드풀2   NaN  NaN  MM1000118454       NaN   \n",
      "\n",
      "             ENGL_TITLE   OPEN_DY  ...  ACT_FILMOGRAPHY_14  \\\n",
      "0              No Mercy  20190101  ...                 NaN   \n",
      "1              No Mercy  20190101  ...                 NaN   \n",
      "2              No Mercy  20190101  ...                 NaN   \n",
      "3  ONCE UPON A DEADPOOL  20190103  ...                 NaN   \n",
      "4  ONCE UPON A DEADPOOL  20190103  ...                 NaN   \n",
      "\n",
      "   ACT_FILMOGRAPHY_15 ACT_FILMOGRAPHY_16 ACT_FILMOGRAPHY_17  \\\n",
      "0                 NaN                NaN                NaN   \n",
      "1                 NaN                NaN                NaN   \n",
      "2                 NaN                NaN                NaN   \n",
      "3                 NaN                NaN                NaN   \n",
      "4                 NaN                NaN                NaN   \n",
      "\n",
      "  ACT_FILMOGRAPHY_18 ACT_FILMOGRAPHY_19 ACT_FILMOGRAPHY_20 ACT_FILMOGRAPHY_21  \\\n",
      "0                NaN                NaN                NaN                NaN   \n",
      "1                NaN                NaN                NaN                NaN   \n",
      "2                NaN                NaN                NaN                NaN   \n",
      "3                NaN                NaN                NaN                NaN   \n",
      "4                NaN                NaN                NaN                NaN   \n",
      "\n",
      "  PRIZE_YN PRIZE_CNT  \n",
      "0        N         0  \n",
      "1        N         0  \n",
      "2        N         0  \n",
      "3        N         0  \n",
      "4        N         0  \n",
      "\n",
      "[5 rows x 66 columns]\n"
     ]
    }
   ],
   "source": [
    "print(movie_list_v4.columns)\n",
    "print(movie_list_v4.shape[0])\n",
    "print(movie_list_v4.head())"
   ]
  },
  {
   "cell_type": "markdown",
   "metadata": {},
   "source": [
    "## movie_list_v4 + movie_list_pointdata_preprocessing = movie_list_v5"
   ]
  },
  {
   "cell_type": "code",
   "execution_count": 75,
   "metadata": {},
   "outputs": [],
   "source": [
    "movie_list_v5 = pd.merge(movie_list_v4,movie_list_pointdata_preprocessing, on = 'META_ID')"
   ]
  },
  {
   "cell_type": "code",
   "execution_count": 76,
   "metadata": {},
   "outputs": [
    {
     "name": "stdout",
     "output_type": "stream",
     "text": [
      "Index(['META_TITLE', '카페/블로그 키워드', '키워드 1', '키워드 2', '키워드 3', '비고', 'META_ID',\n",
      "       'SUB_TITLE', 'ENGL_TITLE', 'OPEN_DY', 'DMST_SPCT_CNT', 'BTV_OPEN_DT',\n",
      "       'WAT_LVL_NM', 'SSTRY_CIN_YN', 'META_MANUF_CTRY_NM_1',\n",
      "       'META_MANUF_CTRY_NM_2', 'META_MANUF_CTRY_NM_3', 'META_MANUF_CTRY_NM_4',\n",
      "       'META_MANUF_CTRY_NM_5', 'META_GNR_NM_1', 'META_GNR_NM_2',\n",
      "       'META_GNR_NM_3', 'META_GNR_NM_4', 'META_GNR_NM_5', 'META_GNR_NM_6',\n",
      "       'MANUFCO_NM_1', 'MANUFCO_NM_2', 'MANUFCO_NM_3', 'DSTBTCO_NM_1',\n",
      "       'DSTBTCO_NM_2', 'DSTBTCO_NM_3', 'DIR_PRS_ID', 'DIR_PRS_NM',\n",
      "       'DIR_PRS_ROLE_NM', 'DIR_FILMOGRAPHY_1', 'DIR_FILMOGRAPHY_2',\n",
      "       'DIR_FILMOGRAPHY_3', 'DIR_FILMOGRAPHY_4', 'DIR_FILMOGRAPHY_5',\n",
      "       'DIR_FILMOGRAPHY_6', 'ACT_PRS_ID', 'ACT_PRS_NM', 'ACT_PRS_ROLE_NM',\n",
      "       'ACT_FILMOGRAPHY_1', 'ACT_FILMOGRAPHY_2', 'ACT_FILMOGRAPHY_3',\n",
      "       'ACT_FILMOGRAPHY_4', 'ACT_FILMOGRAPHY_5', 'ACT_FILMOGRAPHY_6',\n",
      "       'ACT_FILMOGRAPHY_7', 'ACT_FILMOGRAPHY_8', 'ACT_FILMOGRAPHY_9',\n",
      "       'ACT_FILMOGRAPHY_10', 'ACT_FILMOGRAPHY_11', 'ACT_FILMOGRAPHY_12',\n",
      "       'ACT_FILMOGRAPHY_13', 'ACT_FILMOGRAPHY_14', 'ACT_FILMOGRAPHY_15',\n",
      "       'ACT_FILMOGRAPHY_16', 'ACT_FILMOGRAPHY_17', 'ACT_FILMOGRAPHY_18',\n",
      "       'ACT_FILMOGRAPHY_19', 'ACT_FILMOGRAPHY_20', 'ACT_FILMOGRAPHY_21',\n",
      "       'PRIZE_YN', 'PRIZE_CNT', 'BTV_LIKE_NCNT', 'BTV_NGOOD_NCNT',\n",
      "       'WATCHA_EVAL_NCNT', 'WATCHA_RVW_PNT', 'CINE21_EVAL_NCNT',\n",
      "       'CINE21_NTNZ_PNT', 'CINE21_CRTC_PNT'],\n",
      "      dtype='object')\n",
      "1583\n",
      "   META_TITLE 카페/블로그 키워드 키워드 1 키워드 2 키워드 3   비고       META_ID SUB_TITLE  \\\n",
      "0          언니      영화 언니    언니   NaN   NaN  NaN  MM1000117095       NaN   \n",
      "1          언니      영화 언니    언니   NaN   NaN  NaN  MM1000117095       NaN   \n",
      "2          언니      영화 언니    언니   NaN   NaN  NaN  MM1000117095       NaN   \n",
      "3  데드풀 2: 순한맛      데드풀 2   데드풀  데드풀2   NaN  NaN  MM1000118454       NaN   \n",
      "4  데드풀 2: 순한맛      데드풀 2   데드풀  데드풀2   NaN  NaN  MM1000118454       NaN   \n",
      "\n",
      "             ENGL_TITLE   OPEN_DY  ...  ACT_FILMOGRAPHY_21  PRIZE_YN  \\\n",
      "0              No Mercy  20190101  ...                 NaN         N   \n",
      "1              No Mercy  20190101  ...                 NaN         N   \n",
      "2              No Mercy  20190101  ...                 NaN         N   \n",
      "3  ONCE UPON A DEADPOOL  20190103  ...                 NaN         N   \n",
      "4  ONCE UPON A DEADPOOL  20190103  ...                 NaN         N   \n",
      "\n",
      "  PRIZE_CNT BTV_LIKE_NCNT BTV_NGOOD_NCNT WATCHA_EVAL_NCNT WATCHA_RVW_PNT  \\\n",
      "0         0        7809.0         2680.0           7081.0           2.25   \n",
      "1         0        7809.0         2680.0           7081.0           2.25   \n",
      "2         0        7809.0         2680.0           7081.0           2.25   \n",
      "3         0         673.0           24.0         138820.0           3.69   \n",
      "4         0         673.0           24.0         138820.0           3.69   \n",
      "\n",
      "  CINE21_EVAL_NCNT CINE21_NTNZ_PNT CINE21_CRTC_PNT  \n",
      "0              4.0            4.33             3.0  \n",
      "1              4.0            4.33             3.0  \n",
      "2              4.0            4.33             3.0  \n",
      "3              NaN             NaN             NaN  \n",
      "4              NaN             NaN             NaN  \n",
      "\n",
      "[5 rows x 73 columns]\n"
     ]
    }
   ],
   "source": [
    "print(movie_list_v5.columns)\n",
    "print(movie_list_v5.shape[0])\n",
    "print(movie_list_v5.head())"
   ]
  },
  {
   "cell_type": "markdown",
   "metadata": {},
   "source": [
    "## movie_list_v5 + movie_list_rvwdata_preprocessing = movie_list_v6"
   ]
  },
  {
   "cell_type": "code",
   "execution_count": 77,
   "metadata": {},
   "outputs": [],
   "source": [
    "movie_list_v6 = pd.merge(movie_list_v5,movie_list_rvwdata_preprocessing, on = 'META_ID')"
   ]
  },
  {
   "cell_type": "code",
   "execution_count": 78,
   "metadata": {},
   "outputs": [
    {
     "name": "stdout",
     "output_type": "stream",
     "text": [
      "Index(['META_TITLE', '카페/블로그 키워드', '키워드 1', '키워드 2', '키워드 3', '비고', 'META_ID',\n",
      "       'SUB_TITLE', 'ENGL_TITLE', 'OPEN_DY', 'DMST_SPCT_CNT', 'BTV_OPEN_DT',\n",
      "       'WAT_LVL_NM', 'SSTRY_CIN_YN', 'META_MANUF_CTRY_NM_1',\n",
      "       'META_MANUF_CTRY_NM_2', 'META_MANUF_CTRY_NM_3', 'META_MANUF_CTRY_NM_4',\n",
      "       'META_MANUF_CTRY_NM_5', 'META_GNR_NM_1', 'META_GNR_NM_2',\n",
      "       'META_GNR_NM_3', 'META_GNR_NM_4', 'META_GNR_NM_5', 'META_GNR_NM_6',\n",
      "       'MANUFCO_NM_1', 'MANUFCO_NM_2', 'MANUFCO_NM_3', 'DSTBTCO_NM_1',\n",
      "       'DSTBTCO_NM_2', 'DSTBTCO_NM_3', 'DIR_PRS_ID', 'DIR_PRS_NM',\n",
      "       'DIR_PRS_ROLE_NM', 'DIR_FILMOGRAPHY_1', 'DIR_FILMOGRAPHY_2',\n",
      "       'DIR_FILMOGRAPHY_3', 'DIR_FILMOGRAPHY_4', 'DIR_FILMOGRAPHY_5',\n",
      "       'DIR_FILMOGRAPHY_6', 'ACT_PRS_ID', 'ACT_PRS_NM', 'ACT_PRS_ROLE_NM',\n",
      "       'ACT_FILMOGRAPHY_1', 'ACT_FILMOGRAPHY_2', 'ACT_FILMOGRAPHY_3',\n",
      "       'ACT_FILMOGRAPHY_4', 'ACT_FILMOGRAPHY_5', 'ACT_FILMOGRAPHY_6',\n",
      "       'ACT_FILMOGRAPHY_7', 'ACT_FILMOGRAPHY_8', 'ACT_FILMOGRAPHY_9',\n",
      "       'ACT_FILMOGRAPHY_10', 'ACT_FILMOGRAPHY_11', 'ACT_FILMOGRAPHY_12',\n",
      "       'ACT_FILMOGRAPHY_13', 'ACT_FILMOGRAPHY_14', 'ACT_FILMOGRAPHY_15',\n",
      "       'ACT_FILMOGRAPHY_16', 'ACT_FILMOGRAPHY_17', 'ACT_FILMOGRAPHY_18',\n",
      "       'ACT_FILMOGRAPHY_19', 'ACT_FILMOGRAPHY_20', 'ACT_FILMOGRAPHY_21',\n",
      "       'PRIZE_YN', 'PRIZE_CNT', 'BTV_LIKE_NCNT', 'BTV_NGOOD_NCNT',\n",
      "       'WATCHA_EVAL_NCNT', 'WATCHA_RVW_PNT', 'CINE21_EVAL_NCNT',\n",
      "       'CINE21_NTNZ_PNT', 'CINE21_CRTC_PNT', 'SNSS_CTS', 'CINE21_COMT_CTSC_1',\n",
      "       'CINE21_COMT_CTSC_2', 'CINE21_COMT_CTSC_3', 'CINE21_COMT_CTSC_4',\n",
      "       'CINE21_COMT_CTSC_5', 'CINE21_COMT_CTSC_6', 'CINE21_COMT_CTSC_7',\n",
      "       'CINE21_COMT_CTSC_8', 'CINE21_COMT_CTSC_9', 'CINE21_COMT_CTSC_10',\n",
      "       'CINE21_COMT_CTSC_11'],\n",
      "      dtype='object')\n",
      "1583\n",
      "   META_TITLE 카페/블로그 키워드 키워드 1 키워드 2 키워드 3   비고       META_ID SUB_TITLE  \\\n",
      "0          언니      영화 언니    언니   NaN   NaN  NaN  MM1000117095       NaN   \n",
      "1          언니      영화 언니    언니   NaN   NaN  NaN  MM1000117095       NaN   \n",
      "2          언니      영화 언니    언니   NaN   NaN  NaN  MM1000117095       NaN   \n",
      "3  데드풀 2: 순한맛      데드풀 2   데드풀  데드풀2   NaN  NaN  MM1000118454       NaN   \n",
      "4  데드풀 2: 순한맛      데드풀 2   데드풀  데드풀2   NaN  NaN  MM1000118454       NaN   \n",
      "\n",
      "             ENGL_TITLE   OPEN_DY  ...  CINE21_COMT_CTSC_2  \\\n",
      "0              No Mercy  20190101  ...                 NaN   \n",
      "1              No Mercy  20190101  ...                 NaN   \n",
      "2              No Mercy  20190101  ...                 NaN   \n",
      "3  ONCE UPON A DEADPOOL  20190103  ...                 NaN   \n",
      "4  ONCE UPON A DEADPOOL  20190103  ...                 NaN   \n",
      "\n",
      "   CINE21_COMT_CTSC_3 CINE21_COMT_CTSC_4 CINE21_COMT_CTSC_5  \\\n",
      "0                 NaN                NaN                NaN   \n",
      "1                 NaN                NaN                NaN   \n",
      "2                 NaN                NaN                NaN   \n",
      "3                 NaN                NaN                NaN   \n",
      "4                 NaN                NaN                NaN   \n",
      "\n",
      "  CINE21_COMT_CTSC_6 CINE21_COMT_CTSC_7 CINE21_COMT_CTSC_8 CINE21_COMT_CTSC_9  \\\n",
      "0                NaN                NaN                NaN                NaN   \n",
      "1                NaN                NaN                NaN                NaN   \n",
      "2                NaN                NaN                NaN                NaN   \n",
      "3                NaN                NaN                NaN                NaN   \n",
      "4                NaN                NaN                NaN                NaN   \n",
      "\n",
      "  CINE21_COMT_CTSC_10 CINE21_COMT_CTSC_11  \n",
      "0                 NaN                 NaN  \n",
      "1                 NaN                 NaN  \n",
      "2                 NaN                 NaN  \n",
      "3                 NaN                 NaN  \n",
      "4                 NaN                 NaN  \n",
      "\n",
      "[5 rows x 85 columns]\n"
     ]
    }
   ],
   "source": [
    "print(movie_list_v6.columns)\n",
    "print(movie_list_v6.shape[0])\n",
    "print(movie_list_v6.head())"
   ]
  },
  {
   "cell_type": "code",
   "execution_count": 79,
   "metadata": {},
   "outputs": [
    {
     "name": "stdout",
     "output_type": "stream",
     "text": [
      "Index(['META_TITLE', '카페/블로그 키워드', '키워드 1', '키워드 2', '키워드 3', '비고', 'META_ID',\n",
      "       'SUB_TITLE', 'ENGL_TITLE', 'OPEN_DY', 'DMST_SPCT_CNT', 'BTV_OPEN_DT',\n",
      "       'WAT_LVL_NM', 'SSTRY_CIN_YN', 'META_MANUF_CTRY_NM_1',\n",
      "       'META_MANUF_CTRY_NM_2', 'META_MANUF_CTRY_NM_3', 'META_MANUF_CTRY_NM_4',\n",
      "       'META_MANUF_CTRY_NM_5', 'META_GNR_NM_1', 'META_GNR_NM_2',\n",
      "       'META_GNR_NM_3', 'META_GNR_NM_4', 'META_GNR_NM_5', 'META_GNR_NM_6',\n",
      "       'MANUFCO_NM_1', 'MANUFCO_NM_2', 'MANUFCO_NM_3', 'DSTBTCO_NM_1',\n",
      "       'DSTBTCO_NM_2', 'DSTBTCO_NM_3', 'DIR_PRS_ID', 'DIR_PRS_NM',\n",
      "       'DIR_PRS_ROLE_NM', 'DIR_FILMOGRAPHY_1', 'DIR_FILMOGRAPHY_2',\n",
      "       'DIR_FILMOGRAPHY_3', 'DIR_FILMOGRAPHY_4', 'DIR_FILMOGRAPHY_5',\n",
      "       'DIR_FILMOGRAPHY_6', 'ACT_PRS_ID', 'ACT_PRS_NM', 'ACT_PRS_ROLE_NM',\n",
      "       'ACT_FILMOGRAPHY_1', 'ACT_FILMOGRAPHY_2', 'ACT_FILMOGRAPHY_3',\n",
      "       'ACT_FILMOGRAPHY_4', 'ACT_FILMOGRAPHY_5', 'ACT_FILMOGRAPHY_6',\n",
      "       'ACT_FILMOGRAPHY_7', 'ACT_FILMOGRAPHY_8', 'ACT_FILMOGRAPHY_9',\n",
      "       'ACT_FILMOGRAPHY_10', 'ACT_FILMOGRAPHY_11', 'ACT_FILMOGRAPHY_12',\n",
      "       'ACT_FILMOGRAPHY_13', 'ACT_FILMOGRAPHY_14', 'ACT_FILMOGRAPHY_15',\n",
      "       'ACT_FILMOGRAPHY_16', 'ACT_FILMOGRAPHY_17', 'ACT_FILMOGRAPHY_18',\n",
      "       'ACT_FILMOGRAPHY_19', 'ACT_FILMOGRAPHY_20', 'ACT_FILMOGRAPHY_21',\n",
      "       'PRIZE_YN', 'PRIZE_CNT', 'BTV_LIKE_NCNT', 'BTV_NGOOD_NCNT',\n",
      "       'WATCHA_EVAL_NCNT', 'WATCHA_RVW_PNT', 'CINE21_EVAL_NCNT',\n",
      "       'CINE21_NTNZ_PNT', 'CINE21_CRTC_PNT', 'SNSS_CTS', 'CINE21_COMT_CTSC_1',\n",
      "       'CINE21_COMT_CTSC_2', 'CINE21_COMT_CTSC_3', 'CINE21_COMT_CTSC_4',\n",
      "       'CINE21_COMT_CTSC_5', 'CINE21_COMT_CTSC_6', 'CINE21_COMT_CTSC_7',\n",
      "       'CINE21_COMT_CTSC_8', 'CINE21_COMT_CTSC_9', 'CINE21_COMT_CTSC_10',\n",
      "       'CINE21_COMT_CTSC_11'],\n",
      "      dtype='object')\n"
     ]
    }
   ],
   "source": [
    "print(movie_list_v6.columns)"
   ]
  },
  {
   "cell_type": "code",
   "execution_count": null,
   "metadata": {},
   "outputs": [],
   "source": [
    "### 최종 전처리 Data완료"
   ]
  },
  {
   "cell_type": "code",
   "execution_count": 80,
   "metadata": {},
   "outputs": [],
   "source": [
    "import datetime as dt\n",
    "nowDate = dt.datetime.now()\n",
    "movie_list_v6.to_csv(\"data/movie_list_\" + nowDate.strftime(\"%Y%m%d%H%M%S\") + \".csv\", mode='w', header=True, index=False, encoding='UTF-8')"
   ]
  },
  {
   "cell_type": "code",
   "execution_count": 81,
   "metadata": {},
   "outputs": [
    {
     "name": "stdout",
     "output_type": "stream",
     "text": [
      "/home/jupyter-lehup\n",
      "/home/share\n"
     ]
    }
   ],
   "source": [
    "import os\n",
    "print(os.getcwd())\n",
    "os.chdir(\"/home/share/\")\n",
    "print(os.getcwd())"
   ]
  },
  {
   "cell_type": "code",
   "execution_count": 82,
   "metadata": {},
   "outputs": [],
   "source": [
    "import datetime as dt\n",
    "nowDate = dt.datetime.now()\n",
    "movie_list_v6.to_csv(\"/home/share/data/EH_movie_list_\" + nowDate.strftime(\"%Y%m%d%H%M%S\") + \".csv\", mode='w', header=True, index=False, encoding='UTF-8')"
   ]
  }
 ],
 "metadata": {
  "kernelspec": {
   "display_name": "Python 3.7.3 (Global)",
   "language": "python",
   "name": "python3"
  },
  "language_info": {
   "codemirror_mode": {
    "name": "ipython",
    "version": 3
   },
   "file_extension": ".py",
   "mimetype": "text/x-python",
   "name": "python",
   "nbconvert_exporter": "python",
   "pygments_lexer": "ipython3",
   "version": "3.7.3"
  }
 },
 "nbformat": 4,
 "nbformat_minor": 4
}

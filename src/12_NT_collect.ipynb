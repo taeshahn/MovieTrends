{
 "cells": [
  {
   "cell_type": "markdown",
   "metadata": {},
   "source": [
    "# NAVER TRENDS CRAWLING"
   ]
  },
  {
   "cell_type": "code",
   "execution_count": null,
   "metadata": {},
   "outputs": [],
   "source": [
    "%run ./MovieTrends/src/11_NT_define.py"
   ]
  },
  {
   "cell_type": "markdown",
   "metadata": {},
   "source": [
    "### Execution"
   ]
  },
  {
   "cell_type": "code",
   "execution_count": null,
   "metadata": {},
   "outputs": [],
   "source": [
    "api_info = {\n",
    "    \"client_id\": \"fe5kOiBVrMopPhGmaeeh\",\n",
    "    \"client_secret\": \"zauzLV_BPn\",\n",
    "    \"url\": \"https://openapi.naver.com/v1/datalab/search\"\n",
    "}"
   ]
  },
  {
   "cell_type": "code",
   "execution_count": null,
   "metadata": {},
   "outputs": [],
   "source": [
    "api_info = {\n",
    "    \"client_id\": \"6GPEYsepjIil0OCSMnU5\",\n",
    "    \"client_secret\": \"QUd5qt5QU9\",\n",
    "    \"url\": \"https://openapi.naver.com/v1/datalab/search\"\n",
    "}"
   ]
  },
  {
   "cell_type": "code",
   "execution_count": null,
   "metadata": {},
   "outputs": [],
   "source": [
    "mv2019 = pd.read_table(\"~/MovieTrends/data/movie_list_200602.csv\", sep = \",\", encoding = \"EUC-KR\", header=0, names = [\"Title\", \"Subtitle\", \"TitleEn\", \"OpenDate\", \"Count\"])\n",
    "mv2019.OpenDate = pd.Series([pd.Timestamp(datetime.strptime(i, '%Y%m%d')) for i in map(str, mv2019.OpenDate)])\n",
    "mv2019 = mv2019[[\"Title\", \"OpenDate\"]]"
   ]
  },
  {
   "cell_type": "code",
   "execution_count": null,
   "metadata": {},
   "outputs": [],
   "source": [
    "NT = NaverTrend()\n",
    "NT.set_api_info(api_info)\n",
    "NT.load_data(mv2019)"
   ]
  },
  {
   "cell_type": "code",
   "execution_count": null,
   "metadata": {},
   "outputs": [],
   "source": [
    "NT.set_movie(max = True)"
   ]
  },
  {
   "cell_type": "code",
   "execution_count": null,
   "metadata": {},
   "outputs": [],
   "source": [
    "target_subset_list = [[*NT.movie_list_full[idx:idx+4]] for idx in [*range(0, len(NT.movie_list_full), 4)]]\n",
    "result_list = [NT.get_trend(target_subset, True) for target_subset in target_subset_list]"
   ]
  },
  {
   "cell_type": "code",
   "execution_count": null,
   "metadata": {},
   "outputs": [],
   "source": [
    "result_full = pd.concat(result_list)\n",
    "result_full"
   ]
  },
  {
   "cell_type": "code",
   "execution_count": null,
   "metadata": {},
   "outputs": [],
   "source": [
    "result_merged = result_full.merge(NT.movie_data_full, how=\"left\", left_on=\"Keyword\", right_on=\"Title\").drop(\"Title\", 1)\n",
    "result_merged[\"D\"] = result_merged.Time - result_merged.OpenDate\n",
    "result_merged.D = [i.days for i in result_merged.D]\n",
    "result_merged"
   ]
  },
  {
   "cell_type": "code",
   "execution_count": null,
   "metadata": {},
   "outputs": [],
   "source": [
    "result_merged.to_csv(\"~/crawling/data/result_final.csv\")"
   ]
  }
 ],
 "metadata": {
  "kernelspec": {
   "display_name": "Python 3.7.3 (miniconda)",
   "language": "python",
   "name": "python3-mc"
  },
  "language_info": {
   "codemirror_mode": {
    "name": "ipython",
    "version": 3
   },
   "file_extension": ".py",
   "mimetype": "text/x-python",
   "name": "python",
   "nbconvert_exporter": "python",
   "pygments_lexer": "ipython3",
   "version": "3.7.6-final"
  }
 },
 "nbformat": 4,
 "nbformat_minor": 4
}
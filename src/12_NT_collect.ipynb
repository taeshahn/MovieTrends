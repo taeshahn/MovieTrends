{
 "cells": [
  {
   "cell_type": "markdown",
   "metadata": {},
   "source": [
    "# NAVER TRENDS CRAWLING"
   ]
  },
  {
   "cell_type": "code",
   "execution_count": null,
   "metadata": {},
   "outputs": [],
   "source": [
    "%run ~/MovieTrends/src/11_NT_define.ipynb"
   ]
  },
  {
   "cell_type": "markdown",
   "metadata": {},
   "source": [
    "## Execution"
   ]
  },
  {
   "cell_type": "markdown",
   "metadata": {},
   "source": [
    "#### Load Data"
   ]
  },
  {
   "cell_type": "code",
   "execution_count": null,
   "metadata": {},
   "outputs": [],
   "source": [
    "api_info = {\n",
    "    \"client_id\": \"fe5kOiBVrMopPhGmaeeh\",\n",
    "    \"client_secret\": \"zauzLV_BPn\",\n",
    "    \"url\": \"https://openapi.naver.com/v1/datalab/search\"\n",
    "}"
   ]
  },
  {
   "cell_type": "code",
   "execution_count": null,
   "metadata": {},
   "outputs": [],
   "source": [
    "api_info = {\n",
    "    \"client_id\": \"6GPEYsepjIil0OCSMnU5\",\n",
    "    \"client_secret\": \"QUd5qt5QU9\",\n",
    "    \"url\": \"https://openapi.naver.com/v1/datalab/search\"\n",
    "}"
   ]
  },
  {
   "cell_type": "code",
   "execution_count": null,
   "metadata": {},
   "outputs": [],
   "source": [
    "# mv2019 = pd.read_table(\"~/MovieTrends/data/movie_data_200610.csv\", sep = \",\", encoding = \"UTF-8\", header=0, names = [\"Title\", \"kwd1\", \"kwd2\", \"kwd3\", \"OpenDate\"])\n",
    "# mv2019.OpenDate = pd.Series([pd.Timestamp(datetime.strptime(i, '%Y%m%d')) for i in map(str, mv2019.OpenDate)])\n",
    "# mv2019[\"Movie_kwd\"] = [json.dumps([itm for itm in [row.Title, row.kwd1, row.kwd2, row.kwd3] if itm is not np.nan], ensure_ascii = False) for idx, row in mv2019.iterrows()]"
   ]
  },
  {
   "cell_type": "code",
   "execution_count": null,
   "metadata": {},
   "outputs": [],
   "source": [
    "mv_std_info = pd.read_table(\"~/MovieTrends/data/mv_std_info.dat\", sep = \"|\", header=0, encoding = \"UTF-8\", names = ['mv_id', 'title', 'kwd1', 'kwd2', 'kwd3', 'kwdcb', 'open_date'])\n",
    "mv_std_info['open_date'] = pd.Series([pd.Timestamp(datetime.strptime(i, '%Y%m%d')) for i in map(str, mv_std_info.open_date)])\n",
    "mv_std_info['Movie_kwd'] = [json.dumps([itm for itm in [row.title, row.kwd1, row.kwd2, row.kwd3] if itm is not np.nan], ensure_ascii = False) for idx, row in mv_std_info.iterrows()]"
   ]
  },
  {
   "cell_type": "markdown",
   "metadata": {},
   "source": [
    "#### Get Trend Index"
   ]
  },
  {
   "cell_type": "code",
   "execution_count": null,
   "metadata": {},
   "outputs": [],
   "source": [
    "NT = NaverTrend()\n",
    "NT.set_api_info(api_info)\n",
    "NT.load_data(mv_std_info)"
   ]
  },
  {
   "cell_type": "code",
   "execution_count": null,
   "metadata": {},
   "outputs": [],
   "source": [
    "NT.set_movie(max = True)"
   ]
  },
  {
   "cell_type": "code",
   "execution_count": null,
   "metadata": {},
   "outputs": [],
   "source": [
    "target_subset_list = [[*NT.movie_list_full[idx:idx+4]] for idx in [*range(0, len(NT.movie_list_full), 4)]]\n",
    "result_list = [NT.get_trend(target_subset, True) for target_subset in target_subset_list]"
   ]
  },
  {
   "cell_type": "code",
   "execution_count": null,
   "metadata": {},
   "outputs": [],
   "source": [
    "result_full = pd.concat(result_list)\n",
    "result_full"
   ]
  },
  {
   "cell_type": "code",
   "execution_count": null,
   "metadata": {},
   "outputs": [],
   "source": [
    "result_merged = result_full.merge(NT.movie_data_full, how=\"left\", left_on=\"Keyword\", right_on=\"title\").drop(\"title\", 1)\n",
    "result_merged[\"D\"] = result_merged.Time - result_merged.open_date\n",
    "result_merged.D = [i.days for i in result_merged.D]\n",
    "result_merged = result_merged[['mv_id', 'Keyword', 'open_date', 'D', 'Time', 'TrendIndex']]\n",
    "result_merged.columns = ['mv_id', 'movie_nm', 'open_date', 'D', 'date', 'trendindex'] "
   ]
  },
  {
   "cell_type": "code",
   "execution_count": null,
   "metadata": {},
   "outputs": [],
   "source": [
    "result_merged.head(10)"
   ]
  },
  {
   "cell_type": "code",
   "execution_count": null,
   "metadata": {},
   "outputs": [],
   "source": [
    "result_merged.to_csv(\"~/MovieTrends/output/ts_trend_index.dat\", sep=\"|\", index=False)"
   ]
  },
  {
   "cell_type": "markdown",
   "metadata": {},
   "source": [
    "#### Aggregate Time Index"
   ]
  },
  {
   "cell_type": "code",
   "execution_count": null,
   "metadata": {},
   "outputs": [],
   "source": [
    "rng1, rng2, rng3 = [i for i in range(-30, 0)], [i for i in range(0, 30)], [i for i in range(30, 60)]\n",
    "rng = rng1 + rng2 + rng3\n",
    "\n",
    "result_merged['group_tf'] = pd.Series([_ in rng for _ in result_merged.D])\n",
    "result_merged['ogroup'] = pd.Series([1 if _ in rng1 else 2 if _ in rng2 else 3 if _ in rng3 else 0 for _ in result_merged.D])\n",
    "\n",
    "ti_aggr = result_merged[result_merged.group_tf == True].groupby(['mv_id', 'movie_nm', 'ogroup']).agg({'trendindex': ['mean', 'min', 'max']})\n",
    "ti_aggr.columns = ['ti_mean', 'ti_min', 'ti_max']\n",
    "ti_aggr = ti_aggr.reset_index()"
   ]
  },
  {
   "cell_type": "code",
   "execution_count": null,
   "metadata": {},
   "outputs": [],
   "source": [
    "ti_aggr.head(10)"
   ]
  },
  {
   "cell_type": "code",
   "execution_count": null,
   "metadata": {},
   "outputs": [],
   "source": [
    "ti_aggr.to_csv(\"~/MovieTrends/output/ts_trend_index_aggr.dat\", sep=\"|\", index=False)"
   ]
  },
  {
   "cell_type": "markdown",
   "metadata": {},
   "source": [
    "---"
   ]
  },
  {
   "cell_type": "markdown",
   "metadata": {},
   "source": [
    "### TEST"
   ]
  },
  {
   "cell_type": "code",
   "execution_count": null,
   "metadata": {},
   "outputs": [],
   "source": [
    "body = NT._define_body([\"데드풀 2: 순한맛\"])\n",
    "request = urllib.request.Request(\"https://openapi.naver.com/v1/datalab/search\")\n",
    "request.add_header(\"X-Naver-Client-Id\", \"6GPEYsepjIil0OCSMnU5\")\n",
    "request.add_header(\"X-Naver-Client-Secret\", \"QUd5qt5QU9\")\n",
    "request.add_header(\"Content-Type\", \"application/json\")\n",
    "response = urllib.request.urlopen(request, data = body.encode(\"utf-8\"))"
   ]
  },
  {
   "cell_type": "code",
   "execution_count": null,
   "metadata": {},
   "outputs": [],
   "source": [
    "NT._response_to_df(NT._get_response_body(NT._define_body([\"데드풀 2: 순한맛\"])))"
   ]
  },
  {
   "cell_type": "code",
   "execution_count": null,
   "metadata": {},
   "outputs": [],
   "source": [
    "body = NT._define_body([\"데드풀 2: 순한맛\"])"
   ]
  },
  {
   "cell_type": "code",
   "execution_count": null,
   "metadata": {},
   "outputs": [],
   "source": [
    "request = urllib.request.Request(\"https://openapi.naver.com/v1/datalab/search\")\n",
    "request.add_header(\"X-Naver-Client-Id\", \"6GPEYsepjIil0OCSMnU5\")\n",
    "request.add_header(\"X-Naver-Client-Secret\", \"QUd5qt5QU9\")\n",
    "request.add_header(\"Content-Type\", \"application/json\")\n",
    "response = urllib.request.urlopen(request, data = body.encode(\"utf-8\"))"
   ]
  },
  {
   "cell_type": "code",
   "execution_count": null,
   "metadata": {},
   "outputs": [],
   "source": [
    "NT.get_trend([\"데드풀 2: 순한맛\"])"
   ]
  },
  {
   "cell_type": "code",
   "execution_count": null,
   "metadata": {},
   "outputs": [],
   "source": [
    "NT.movie_data_full[NT.movie_list_full == '그때 그들 확장판 1: 욕망의 부활']"
   ]
  },
  {
   "cell_type": "code",
   "execution_count": null,
   "metadata": {},
   "outputs": [],
   "source": [
    "target_list = ['타짜: 원 아이드 잭', '백두산']\n",
    "result = NT.get_trend(target_list)\n",
    "result.iloc[result.TrendIndex.idxmax()]"
   ]
  },
  {
   "cell_type": "code",
   "execution_count": null,
   "metadata": {},
   "outputs": [],
   "source": [
    "NT._define_body(target_list)"
   ]
  },
  {
   "cell_type": "code",
   "execution_count": null,
   "metadata": {},
   "outputs": [],
   "source": [
    "result[result.Time == '2019-04-15']"
   ]
  },
  {
   "cell_type": "code",
   "execution_count": null,
   "metadata": {},
   "outputs": [],
   "source": [
    "movie_list = ['타짜: 원 아이드 잭', '백두산']\n",
    "movie_kwd_list = NT.movie_data_full[NT.movie_list_full.isin(movie_list)][\"Movie_kwd\"]\n",
    "movie_list = NT.movie_data_full[NT.movie_list_full.isin(movie_list)][\"Title\"]\n",
    "keywords_list = [\"{\\\"groupName\\\": \\\"\" + movie + \"\\\", \\\"keywords\\\": \" + str(movie_kwd) + \"}\" for movie, movie_kwd in zip(movie_list, movie_kwd_list)]\n",
    "body =\"{\\\"startDate\\\":\\\"2018-12-01\\\", \\\"endDate\\\":\\\"2020-02-28\\\", \\\"timeUnit\\\":\\\"date\\\", \\\"keywordGroups\\\":\" + \"[\" + \", \".join(keywords_list) + \"]}\""
   ]
  },
  {
   "cell_type": "code",
   "execution_count": null,
   "metadata": {},
   "outputs": [],
   "source": [
    "body"
   ]
  }
 ],
 "metadata": {
  "kernelspec": {
   "display_name": "Python 3.7.3 (Global)",
   "language": "python",
   "name": "python3"
  },
  "language_info": {
   "codemirror_mode": {
    "name": "ipython",
    "version": 3
   },
   "file_extension": ".py",
   "mimetype": "text/x-python",
   "name": "python",
   "nbconvert_exporter": "python",
   "pygments_lexer": "ipython3",
   "version": "3.7.3"
  }
 },
 "nbformat": 4,
 "nbformat_minor": 4
}
